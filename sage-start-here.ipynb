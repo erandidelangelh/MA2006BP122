{
 "cells": [
  {
   "cell_type": "markdown",
   "metadata": {},
   "source": [
    "# SageMath: start here!\n",
    "\n",
    "$ \\def\\NN{\\mathbb{N}} $\n",
    "$ \\def\\ZZ{\\mathbb{Z}} $\n",
    "$ \\def\\QQ{\\mathbb{Q}} $\n",
    "$ \\def\\RR{\\mathbb{R}} $\n",
    "$ \\def\\CC{\\mathbb{C}} $"
   ]
  },
  {
   "cell_type": "markdown",
   "metadata": {},
   "source": [
    "## About SageMath and this document\n",
    "\n",
    "[SageMath](https://www.sagemath.org) (Sage for short) is a general\n",
    "purpose computational mathematics system developed by a worldwide\n",
    "community of hundreds of researchers, teachers and engineers. It’s\n",
    "based on the Python programming language and includes GAP, PARI/GP,\n",
    "Singular, and dozens of other specialized libraries.\n",
    "\n",
    "This live document will guide you through the first steps of using\n",
    "Sage, and provide pointers to explore and learn further.\n",
    "\n",
    "In the following, we will be assuming that you are reading this\n",
    "document as a Jupyter notebook (Jupyter is the primary user interface\n",
    "for Sage). If you are reading it instead as a web page, you can click\n",
    "on Run on mybinder.org to get access to the notebook online. If\n",
    "you have Sage already installed on your machine, you may instead\n",
    "download the notebook.\n",
    "\n",
    "\n",
    "<a id='index-0'></a>"
   ]
  },
  {
   "cell_type": "markdown",
   "metadata": {},
   "source": [
    "## Todo\n",
    "\n",
    "- credits on sources of inspiration  \n",
    "- Make sure the following works: If you just want to try out a few\n",
    "  things, you may also just click the Activate button on the\n",
    "  upper right corner to play with the examples.  "
   ]
  },
  {
   "cell_type": "markdown",
   "metadata": {},
   "source": [
    "## Entering, editing, and evaluating input"
   ]
  },
  {
   "cell_type": "markdown",
   "metadata": {},
   "source": [
    "### A first calculation\n",
    "\n",
    "Sage can be used as a pocket calculator: you type in some expression\n",
    "to be calculated, Sage evaluates it, and prints the result; and\n",
    "repeat. This is called the *Read-Eval-Print-Loop*. In the Jupyter\n",
    "notebook, you type the expression in an **input cell**, or **code\n",
    "cell**. This is the rectangle below this paragraph containing $ 1+1 $\n",
    "(if instead you see sage: 1+1, you are reading this document as a\n",
    "web page and won’t be able to play with the examples). Click on the\n",
    "cell to select it, and press shift-enter to evaluate it. You may\n",
    "instead click the play button\n",
    "..  .. image:: media/RunCellIcon.png\n",
    "in the tool bar, or use the Cell menu:"
   ]
  },
  {
   "cell_type": "code",
   "execution_count": 1,
   "metadata": {},
   "outputs": [
    {
     "data": {
      "text/plain": [
       "2"
      ]
     },
     "execution_count": 1,
     "metadata": {},
     "output_type": "execute_result"
    }
   ],
   "source": [
    "1 + 1"
   ]
  },
  {
   "cell_type": "markdown",
   "metadata": {},
   "source": [
    "Sage prints out its response in an **output cell** just below the\n",
    "input cell (that’s the 2, so Sage confirms that $ 1+1=2 $).\n",
    "Click again in the cell, replace $ 1+1 $ by $ 2+2 $,\n",
    "and evaluate it. Notice how much quicker it is now? That’s because a\n",
    "Sage process had to be started the first time, and then stayed ready.\n",
    "\n",
    "Congratulations, you have done your first calculations with Sage."
   ]
  },
  {
   "cell_type": "markdown",
   "metadata": {},
   "source": [
    "### Using the Jupyter Notebook\n",
    "\n",
    "Now take some time to explore the Help menu. We specifically\n",
    "recommend taking User Interface Tour, and coming back to\n",
    "Keyboard shortcuts every now and then to get fast at Jupyter.\n",
    "The Jupyter developers also maintain a [tutorial notebook](https://nbviewer.jupyter.org/github/ipython/ipython/blob/3.x/examples/Notebook/Index.ipynb)\n",
    "which you may find useful.\n",
    "\n",
    "For now we just review the basics. Use the menu item Insert ->\n",
    "Insert Cell Below to create a new input cell below this paragraph,\n",
    "then calculate any simple expression of your liking.\n",
    "\n",
    "You can move around and edit any cell by clicking in it. Go back and change\n",
    "your $ 2+2 $ above to $ 3+3 $ and re-evaluate it.\n",
    "\n",
    "You can also edit any **text cell** by double clicking on it. Try it\n",
    "now! The text you see is using the\n",
    "[Markdown](https://jupyter-notebook.readthedocs.io/en/latest/examples/Notebook/Working%20With%20Markdown%20Cells.html)\n",
    "markup language. Do some changes to the text, and evaluate it again to\n",
    "rerender it.\n",
    "Markdown supports a fair amount of basic formatting,\n",
    "such as bold, underline, basic lists, and so forth.\n",
    "Thanks to the TeX rendering engine\n",
    "[MathJax](https://www.mathjax.org/), you may\n",
    "embed mathematical formulae such as $sin(x) - y^3$ just like with LaTeX.\n",
    "It can be fun to type in fairly complicated math, like this:\n",
    "\n",
    "$$\n",
    "\\zeta(s)=\\sum_{n=1}^{\\infty}\\frac{1}{n^s}=\\prod_p \\left(\\frac{1}{1-p^{-s}}\\right)\n",
    "$$\n",
    "\n",
    "If you *mess everything up*, you can use the menu Kernel ->\n",
    "Restart to restart Sage. You can also use the menu File -> Save and\n",
    "Checkpoint to save notebook, and File -> Revert to Checkpoint -> ...\n",
    "to reset to any previously saved version."
   ]
  },
  {
   "cell_type": "markdown",
   "metadata": {},
   "source": [
    "### More interactions\n",
    "\n",
    "We are now done with basic interaction with Sage. Much richer\n",
    "interactions are possible thanks to Jupyter’s *interactive widgets*.\n",
    "That will be the topic for a later tutorial; here is just a teaser for\n",
    "now. Try clicking on the sliders to illustrate multiplication below.\n",
    "Also, you can try changing the slider ranges to something different by\n",
    "editing the input cell (make sure to also change xmax, ymax):"
   ]
  },
  {
   "cell_type": "code",
   "execution_count": 2,
   "metadata": {},
   "outputs": [
    {
     "data": {
      "application/vnd.jupyter.widget-view+json": {
       "model_id": "1b53970d74e54377b7c92329b81a1207",
       "version_major": 2,
       "version_minor": 0
      },
      "text/plain": [
       "Interactive function <function f at 0x7fb4d244e8c0> with 2 widgets\n",
       "  n: SelectionSlider(description='n', optio…"
      ]
     },
     "metadata": {},
     "output_type": "display_data"
    }
   ],
   "source": [
    "@interact\n",
    "def f(n=(1 .. 15), m=(1 .. 15)):\n",
    "    print(\"n * m = {} = {}\".format(n * m, factor(n * m)))\n",
    "    P = polygon([(0, 0), (0, n), (m, n), (m, 0)])\n",
    "    P.show(aspect_ratio=1, gridlines='minor', figsize=[3, 3], xmax=14, ymax=14)"
   ]
  },
  {
   "cell_type": "markdown",
   "metadata": {},
   "source": [
    "## A brief tour\n",
    "\n",
    "Here is a very brief tour showcasing the different areas of\n",
    "mathematics covered by Sage:\n",
    "**2D/3D Graphics**, **Categories**, **Basic Rings and Fields**: Integers\n",
    "and Rational Numbers, Real and Complex Numbers, Finite Rings and Fields,\n",
    "Polynomials, Formal Power Series, p-Adic Numbers, Quaternion Algebras,\n",
    "**Linear Algebra**: Matrices and Spaces of Matrices, Vectors and\n",
    "Modules, Tensors on Free Modules of Finite Rank, **Calculus and\n",
    "Analysis**: Symbolic Calculus, Mathematical Constants, Elementary and\n",
    "Special Functions, Asymptotic Expansions, Numerical Optimization,\n",
    "**Probability and Statistics**, Probability , Statistics, Quantitative\n",
    "Finance, **Mathematical Structures**: Sets, Monoids, Groups, Semirings,\n",
    "Rings, Algebras, **Discrete Mathematics** Combinatorics, Graph Theory,\n",
    "Quivers, Matroid Theory, Discrete Dynamics, Coding Theory, Cryptography,\n",
    "Game Theory, Symbolic Logic, SAT solvers, **Geometry and Topology**:\n",
    "Combinatorial and Discrete Geometry, Hyperbolic Geometry, Cell Complexes\n",
    "and their Homology, Differential Forms, Manifolds, Parametrized\n",
    "Surfaces, Knot Theory, **Number Fields and Function Fields**, **Number\n",
    "Theory**: Diophantine approximation, Quadratic Forms, L-Functions,\n",
    "Arithmetic Subgroups of $ SL_2(Z) $, General Hecke Algebras and\n",
    "Hecke Modules, Modular Symbols, Modular Forms, Modular Forms for Hecke\n",
    "Triangle Groups, Modular Abelian Varieties, **Algebraic and Arithmetic\n",
    "Geometry**: Schemes, Plane, Elliptic and Hyperelliptic Curves,\n",
    "**Databases**, **Games**\n",
    "\n",
    "\n",
    "<a id='index-1'></a>"
   ]
  },
  {
   "cell_type": "markdown",
   "metadata": {},
   "source": [
    "## Todo\n",
    "\n",
    "- Insert more striking examples  \n",
    "- Insert Read More links  "
   ]
  },
  {
   "cell_type": "markdown",
   "metadata": {},
   "source": [
    "### Calculus"
   ]
  },
  {
   "cell_type": "code",
   "execution_count": 9,
   "metadata": {},
   "outputs": [
    {
     "data": {
      "text/html": [
       "<html>\\[\\newcommand{\\Bold}[1]{\\mathbf{#1}}+\\infty\\]</html>"
      ],
      "text/latex": [
       "$$\\newcommand{\\Bold}[1]{\\mathbf{#1}}+\\infty$$"
      ],
      "text/plain": [
       "+Infinity"
      ]
     },
     "execution_count": 9,
     "metadata": {},
     "output_type": "execute_result"
    }
   ],
   "source": [
    "%display latex\n",
    "var('x,y')\n",
    "f = (cos(pi/4-x)-tan(x)) / (1-sin(pi/4 + x)); f\n",
    "limit(f, x = pi/4, dir='minus')"
   ]
  },
  {
   "cell_type": "code",
   "execution_count": 6,
   "metadata": {},
   "outputs": [
    {
     "data": {
      "text/html": [
       "<html>\\[\\newcommand{\\Bold}[1]{\\mathbf{#1}}\\left[\\left[x = -\\frac{1}{2} i \\, \\sqrt{3} - \\frac{1}{2}, y = -\\sqrt{-\\frac{1}{2} i \\, \\sqrt{3} + \\frac{3}{2}}\\right], \\left[x = -\\frac{1}{2} i \\, \\sqrt{3} - \\frac{1}{2}, y = \\sqrt{-\\frac{1}{2} i \\, \\sqrt{3} + \\frac{3}{2}}\\right], \\left[x = \\frac{1}{2} i \\, \\sqrt{3} - \\frac{1}{2}, y = -\\sqrt{\\frac{1}{2} i \\, \\sqrt{3} + \\frac{3}{2}}\\right], \\left[x = \\frac{1}{2} i \\, \\sqrt{3} - \\frac{1}{2}, y = \\sqrt{\\frac{1}{2} i \\, \\sqrt{3} + \\frac{3}{2}}\\right], \\left[x = 0, y = \\left(-1\\right)\\right], \\left[x = 0, y = 1\\right]\\right]\\]</html>"
      ],
      "text/latex": [
       "$$\\newcommand{\\Bold}[1]{\\mathbf{#1}}\\left[\\left[x = -\\frac{1}{2} i \\, \\sqrt{3} - \\frac{1}{2}, y = -\\sqrt{-\\frac{1}{2} i \\, \\sqrt{3} + \\frac{3}{2}}\\right], \\left[x = -\\frac{1}{2} i \\, \\sqrt{3} - \\frac{1}{2}, y = \\sqrt{-\\frac{1}{2} i \\, \\sqrt{3} + \\frac{3}{2}}\\right], \\left[x = \\frac{1}{2} i \\, \\sqrt{3} - \\frac{1}{2}, y = -\\sqrt{\\frac{1}{2} i \\, \\sqrt{3} + \\frac{3}{2}}\\right], \\left[x = \\frac{1}{2} i \\, \\sqrt{3} - \\frac{1}{2}, y = \\sqrt{\\frac{1}{2} i \\, \\sqrt{3} + \\frac{3}{2}}\\right], \\left[x = 0, y = \\left(-1\\right)\\right], \\left[x = 0, y = 1\\right]\\right]$$"
      ],
      "text/plain": [
       "[[x == -1/2*I*sqrt(3) - 1/2, y == -sqrt(-1/2*I*sqrt(3) + 3/2)], [x == -1/2*I*sqrt(3) - 1/2, y == sqrt(-1/2*I*sqrt(3) + 3/2)], [x == 1/2*I*sqrt(3) - 1/2, y == -sqrt(1/2*I*sqrt(3) + 3/2)], [x == 1/2*I*sqrt(3) - 1/2, y == sqrt(1/2*I*sqrt(3) + 3/2)], [x == 0, y == -1], [x == 0, y == 1]]"
      ]
     },
     "execution_count": 6,
     "metadata": {},
     "output_type": "execute_result"
    }
   ],
   "source": [
    "solve([x^2+y^2 == 1, y^2 == x^3 + x + 1], x, y)"
   ]
  },
  {
   "cell_type": "code",
   "execution_count": 10,
   "metadata": {},
   "outputs": [
    {
     "data": {
      "text/html": [
       "\n",
       "<iframe srcdoc=\"<!DOCTYPE html>\n",
       "<html>\n",
       "<head>\n",
       "<title></title>\n",
       "<meta charset=&quot;utf-8&quot;>\n",
       "<meta name=viewport content=&quot;width=device-width, user-scalable=no, minimum-scale=1.0, maximum-scale=1.0&quot;>\n",
       "<style>\n",
       "\n",
       "    body { margin: 0px; overflow: hidden; }\n",
       "\n",
       "    #menu-container { position: absolute; bottom: 30px; right: 40px; cursor: default; }\n",
       "\n",
       "    #menu-message { position: absolute; bottom: 0px; right: 0px; white-space: nowrap;\n",
       "                    display: none; background-color: #F5F5F5; padding: 10px; }\n",
       "\n",
       "    #menu-content { position: absolute; bottom: 0px; right: 0px;\n",
       "                    display: none; background-color: #F5F5F5; border-bottom: 1px solid black;\n",
       "                    border-right: 1px solid black; border-left: 1px solid black; }\n",
       "\n",
       "    #menu-content div { border-top: 1px solid black; padding: 10px; white-space: nowrap; }\n",
       "\n",
       "    #menu-content div:hover { background-color: #FEFEFE; }\n",
       "\n",
       "    .dark-theme #menu-container { color: white; }\n",
       "\n",
       "    .dark-theme #menu-message { background-color: #181818; }\n",
       "\n",
       "    .dark-theme #menu-content { background-color: #181818; border-color: white; }\n",
       "\n",
       "    .dark-theme #menu-content div { border-color: white; }\n",
       "\n",
       "    .dark-theme #menu-content div:hover { background-color: #303030; }\n",
       "\n",
       "</style>\n",
       "\n",
       "</head>\n",
       "\n",
       "<body>\n",
       "\n",
       "<script src=&quot;/nbextensions/threejs-sage/r122/three.min.js&quot;></script>\n",
       "<script>\n",
       "  if ( !window.THREE ) document.write(' \\\n",
       "<script src=&quot;https://cdn.jsdelivr.net/gh/sagemath/threejs-sage@r122/build/three.min.js&quot;><\\/script> \\\n",
       "            ');\n",
       "</script>\n",
       "        \n",
       "<script>\n",
       "\n",
       "    var options = {&quot;animate&quot;: false, &quot;animationControls&quot;: true, &quot;aspectRatio&quot;: [1.0, 1.0, 1.0], &quot;autoPlay&quot;: true, &quot;axes&quot;: false, &quot;axesLabels&quot;: [&quot;x&quot;, &quot;y&quot;, &quot;z&quot;], &quot;axesLabelsStyle&quot;: null, &quot;decimals&quot;: 2, &quot;delay&quot;: 20, &quot;frame&quot;: true, &quot;loop&quot;: true, &quot;projection&quot;: &quot;perspective&quot;, &quot;theme&quot;: &quot;light&quot;, &quot;viewpoint&quot;: false};\n",
       "    var animate = options.animate;\n",
       "\n",
       "    if ( options.theme === 'dark' )\n",
       "        document.body.className = 'dark-theme';\n",
       "\n",
       "    var scene = new THREE.Scene();\n",
       "\n",
       "    var renderer = new THREE.WebGLRenderer( { antialias: true, preserveDrawingBuffer: true } );\n",
       "    renderer.setPixelRatio( window.devicePixelRatio );\n",
       "    renderer.setSize( window.innerWidth, window.innerHeight );\n",
       "    renderer.setClearColor( options.theme === 'dark' ? 0 : 0xffffff, 1 );\n",
       "    document.body.appendChild( renderer.domElement );\n",
       "\n",
       "    var b = [{&quot;x&quot;:-5.0, &quot;y&quot;:-5.0, &quot;z&quot;:-0.6817736703067452}, {&quot;x&quot;:5.0, &quot;y&quot;:5.0, &quot;z&quot;:2.9744484840292196}]; // bounds\n",
       "\n",
       "    if ( b[0].x === b[1].x ) {\n",
       "        b[0].x -= 1;\n",
       "        b[1].x += 1;\n",
       "    }\n",
       "    if ( b[0].y === b[1].y ) {\n",
       "        b[0].y -= 1;\n",
       "        b[1].y += 1;\n",
       "    }\n",
       "    if ( b[0].z === b[1].z ) {\n",
       "        b[0].z -= 1;\n",
       "        b[1].z += 1;\n",
       "    }\n",
       "\n",
       "    var rRange = Math.sqrt( Math.pow( b[1].x - b[0].x, 2 )\n",
       "                            + Math.pow( b[1].y - b[0].y, 2 ) );\n",
       "    var xRange = b[1].x - b[0].x;\n",
       "    var yRange = b[1].y - b[0].y;\n",
       "    var zRange = b[1].z - b[0].z;\n",
       "\n",
       "    var ar = options.aspectRatio;\n",
       "    var a = [ ar[0], ar[1], ar[2] ]; // aspect multipliers\n",
       "    var autoAspect = 2.5;\n",
       "    if ( zRange > autoAspect * rRange && a[2] === 1 ) a[2] = autoAspect * rRange / zRange;\n",
       "\n",
       "    // Distance from (xMid,yMid,zMid) to any corner of the bounding box, after applying aspectRatio\n",
       "    var midToCorner = Math.sqrt( a[0]*a[0]*xRange*xRange + a[1]*a[1]*yRange*yRange + a[2]*a[2]*zRange*zRange ) / 2;\n",
       "\n",
       "    var xMid = ( b[0].x + b[1].x ) / 2;\n",
       "    var yMid = ( b[0].y + b[1].y ) / 2;\n",
       "    var zMid = ( b[0].z + b[1].z ) / 2;\n",
       "\n",
       "    var box = new THREE.Geometry();\n",
       "    box.vertices.push( new THREE.Vector3( a[0]*b[0].x, a[1]*b[0].y, a[2]*b[0].z ) );\n",
       "    box.vertices.push( new THREE.Vector3( a[0]*b[1].x, a[1]*b[1].y, a[2]*b[1].z ) );\n",
       "    var boxMesh = new THREE.Line( box );\n",
       "    var boxColor = options.theme === 'dark' ? 'white' : 'black';\n",
       "    if ( options.frame ) scene.add( new THREE.BoxHelper( boxMesh, boxColor ) );\n",
       "\n",
       "    if ( options.axesLabels ) {\n",
       "\n",
       "        var d = options.decimals; // decimals\n",
       "        var offsetRatio = 0.1;\n",
       "        var al = options.axesLabels;\n",
       "        var als = options.axesLabelsStyle || [{}, {}, {}];\n",
       "\n",
       "        var offset = offsetRatio * a[1]*( b[1].y - b[0].y );\n",
       "        var xm = xMid.toFixed(d);\n",
       "        if ( /^-0.?0*$/.test(xm) ) xm = xm.substr(1);\n",
       "        addLabel( al[0] + '=' + xm, a[0]*xMid, a[1]*b[1].y+offset, a[2]*b[0].z, als[0] );\n",
       "        addLabel( ( b[0].x ).toFixed(d), a[0]*b[0].x, a[1]*b[1].y+offset, a[2]*b[0].z, als[0] );\n",
       "        addLabel( ( b[1].x ).toFixed(d), a[0]*b[1].x, a[1]*b[1].y+offset, a[2]*b[0].z, als[0] );\n",
       "\n",
       "        var offset = offsetRatio * a[0]*( b[1].x - b[0].x );\n",
       "        var ym = yMid.toFixed(d);\n",
       "        if ( /^-0.?0*$/.test(ym) ) ym = ym.substr(1);\n",
       "        addLabel( al[1] + '=' + ym, a[0]*b[1].x+offset, a[1]*yMid, a[2]*b[0].z, als[1] );\n",
       "        addLabel( ( b[0].y ).toFixed(d), a[0]*b[1].x+offset, a[1]*b[0].y, a[2]*b[0].z, als[1] );\n",
       "        addLabel( ( b[1].y ).toFixed(d), a[0]*b[1].x+offset, a[1]*b[1].y, a[2]*b[0].z, als[1] );\n",
       "\n",
       "        var offset = offsetRatio * a[1]*( b[1].y - b[0].y );\n",
       "        var zm = zMid.toFixed(d);\n",
       "        if ( /^-0.?0*$/.test(zm) ) zm = zm.substr(1);\n",
       "        addLabel( al[2] + '=' + zm, a[0]*b[1].x, a[1]*b[0].y-offset, a[2]*zMid, als[2] );\n",
       "        addLabel( ( b[0].z ).toFixed(d), a[0]*b[1].x, a[1]*b[0].y-offset, a[2]*b[0].z, als[2] );\n",
       "        addLabel( ( b[1].z ).toFixed(d), a[0]*b[1].x, a[1]*b[0].y-offset, a[2]*b[1].z, als[2] );\n",
       "\n",
       "    }\n",
       "\n",
       "    function addLabel( text, x, y, z, style ) {\n",
       "\n",
       "        var color = style.color || 'black';\n",
       "        var fontSize = style.fontSize || 14;\n",
       "        var fontFamily = style.fontFamily || 'monospace';\n",
       "        var fontStyle = style.fontStyle || 'normal';\n",
       "        var fontWeight = style.fontWeight || 'normal';\n",
       "        var opacity = style.opacity || 1;\n",
       "\n",
       "        if ( options.theme === 'dark' )\n",
       "            if ( color === 'black' || color === '#000000' )\n",
       "                color = 'white';\n",
       "\n",
       "        if ( Array.isArray( fontStyle ) ) {\n",
       "            fontFamily = fontFamily.map( function( f ) {\n",
       "                // Need to put quotes around fonts that have whitespace in their names.\n",
       "                return /\\s/.test( f ) ? '&quot;' + f + '&quot;' : f;\n",
       "            }).join(', ');\n",
       "        }\n",
       "\n",
       "        var canvas = document.createElement( 'canvas' );\n",
       "        var context = canvas.getContext( '2d' );\n",
       "        var pixelRatio = Math.round( window.devicePixelRatio );\n",
       "\n",
       "        // For example: italic bold 20px &quot;Times New Roman&quot;, Georgia, serif\n",
       "        var font = [fontStyle, fontWeight, fontSize + 'px', fontFamily].join(' ');\n",
       "\n",
       "        context.font = font;\n",
       "        var width = context.measureText( text ).width;\n",
       "        var height = fontSize;\n",
       "\n",
       "        // The dimensions of the canvas's underlying image data need to be powers\n",
       "        // of two in order for the resulting texture to support mipmapping.\n",
       "        canvas.width = THREE.MathUtils.ceilPowerOfTwo( width * pixelRatio );\n",
       "        canvas.height = THREE.MathUtils.ceilPowerOfTwo( height * pixelRatio );\n",
       "\n",
       "        // Re-compute the unscaled dimensions after the power of two conversion.\n",
       "        width = canvas.width / pixelRatio;\n",
       "        height = canvas.height / pixelRatio;\n",
       "\n",
       "        canvas.style.width = width + 'px';\n",
       "        canvas.style.height = height + 'px';\n",
       "\n",
       "        context.scale( pixelRatio, pixelRatio );\n",
       "        context.fillStyle = color;\n",
       "        context.font = font; // Must be set again after measureText.\n",
       "        context.textAlign = 'center';\n",
       "        context.textBaseline = 'middle';\n",
       "        context.fillText( text, width/2, height/2 );\n",
       "\n",
       "        var texture = new THREE.Texture( canvas );\n",
       "        texture.needsUpdate = true;\n",
       "\n",
       "        var materialOptions = { map: texture, sizeAttenuation: false, depthWrite: false };\n",
       "        if ( opacity < 1 ) {\n",
       "            // Setting opacity=1 would cause the texture's alpha component to be\n",
       "            // discarded, giving the text a black background instead of the\n",
       "            // background being transparent.\n",
       "            materialOptions.opacity = opacity;\n",
       "        }\n",
       "        var sprite = new THREE.Sprite( new THREE.SpriteMaterial( materialOptions ) );\n",
       "        sprite.position.set( x, y, z );\n",
       "\n",
       "        // Scaling factor, chosen somewhat arbitrarily so that the size of the text\n",
       "        // is consistent with previously generated plots.\n",
       "        var scale = 1/625;\n",
       "        if ( options.projection === 'orthographic' ) {\n",
       "            scale = midToCorner/256; // Needs to scale along with the plot itself.\n",
       "        }\n",
       "        sprite.scale.set( scale * width, scale * height, 1 );\n",
       "\n",
       "        scene.add( sprite );\n",
       "\n",
       "        return sprite;\n",
       "\n",
       "    }\n",
       "\n",
       "    if ( options.axes ) scene.add( new THREE.AxesHelper( Math.min( a[0]*b[1].x, a[1]*b[1].y, a[2]*b[1].z ) ) );\n",
       "\n",
       "    var camera = createCamera();\n",
       "    camera.up.set( 0, 0, 1 );\n",
       "    camera.position.set( a[0]*xMid, a[1]*yMid, a[2]*zMid );\n",
       "\n",
       "    var offset = new THREE.Vector3( a[0]*xRange, a[1]*yRange, a[2]*zRange );\n",
       "\n",
       "    if ( options.viewpoint ) {\n",
       "\n",
       "        var aa = options.viewpoint;\n",
       "        var axis = new THREE.Vector3( aa[0][0], aa[0][1], aa[0][2] ).normalize();\n",
       "        var angle = aa[1] * Math.PI / 180;\n",
       "        var q = new THREE.Quaternion().setFromAxisAngle( axis, angle ).inverse();\n",
       "\n",
       "        offset.set( 0, 0, offset.length() );\n",
       "        offset.applyQuaternion( q );\n",
       "\n",
       "    }\n",
       "\n",
       "    camera.position.add( offset );\n",
       "\n",
       "    function createCamera() {\n",
       "\n",
       "        var aspect = window.innerWidth / window.innerHeight;\n",
       "\n",
       "        // Scale the near and far clipping planes along with the overall plot size.\n",
       "        var nearClip = 0.01 * midToCorner;\n",
       "        var farClip = 100 * midToCorner;\n",
       "\n",
       "        if ( options.projection === 'orthographic' ) {\n",
       "            var camera = new THREE.OrthographicCamera( -1, 1, 1, -1, -farClip, farClip );\n",
       "            updateCameraAspect( camera, aspect );\n",
       "            return camera;\n",
       "        }\n",
       "\n",
       "        return new THREE.PerspectiveCamera( 45, aspect, nearClip, farClip );\n",
       "\n",
       "    }\n",
       "\n",
       "    function updateCameraAspect( camera, aspect ) {\n",
       "\n",
       "        if ( camera.isPerspectiveCamera ) {\n",
       "            camera.aspect = aspect;\n",
       "        } else if ( camera.isOrthographicCamera ) {\n",
       "            // Fit the camera frustum to the bounding box's diagonal so that the entire plot fits\n",
       "            // within at the default zoom level and camera position.\n",
       "            if ( aspect > 1 ) { // Wide window\n",
       "                camera.top = midToCorner;\n",
       "                camera.right = midToCorner * aspect;\n",
       "            } else { // Tall or square window\n",
       "                camera.top = midToCorner / aspect;\n",
       "                camera.right = midToCorner;\n",
       "            }\n",
       "            camera.bottom = -camera.top;\n",
       "            camera.left = -camera.right;\n",
       "        }\n",
       "\n",
       "        camera.updateProjectionMatrix();\n",
       "\n",
       "    }\n",
       "\n",
       "    var lights = [{&quot;x&quot;:-5, &quot;y&quot;:3, &quot;z&quot;:0, &quot;color&quot;:&quot;#7f7f7f&quot;, &quot;parent&quot;:&quot;camera&quot;}];\n",
       "    for ( var i=0 ; i < lights.length ; i++ ) {\n",
       "        var light = new THREE.DirectionalLight( lights[i].color, 1 );\n",
       "        light.position.set( a[0]*lights[i].x, a[1]*lights[i].y, a[2]*lights[i].z );\n",
       "        if ( lights[i].parent === 'camera' ) {\n",
       "            light.target.position.set( a[0]*xMid, a[1]*yMid, a[2]*zMid );\n",
       "            scene.add( light.target );\n",
       "            camera.add( light );\n",
       "        } else scene.add( light );\n",
       "    }\n",
       "    scene.add( camera );\n",
       "\n",
       "    var ambient = {&quot;color&quot;:&quot;#7f7f7f&quot;};\n",
       "    scene.add( new THREE.AmbientLight( ambient.color, 1 ) );\n",
       "\n",
       "    var controls = new THREE.OrbitControls( camera, renderer.domElement );\n",
       "    controls.target.set( a[0]*xMid, a[1]*yMid, a[2]*zMid );\n",
       "    controls.addEventListener( 'change', function() { if ( !animate ) render(); } );\n",
       "\n",
       "    window.addEventListener( 'resize', function() {\n",
       "\n",
       "        renderer.setSize( window.innerWidth, window.innerHeight );\n",
       "        updateCameraAspect( camera, window.innerWidth / window.innerHeight );\n",
       "        if ( window.rescaleFatLines ) rescaleFatLines();\n",
       "        if ( !animate ) render();\n",
       "\n",
       "    } );\n",
       "\n",
       "    var texts = [];\n",
       "    for ( var i=0 ; i < texts.length ; i++ ) addText( texts[i] );\n",
       "\n",
       "    function addText( json ) {\n",
       "        var sprite = addLabel( json.text, a[0]*json.x, a[1]*json.y, a[2]*json.z, json );\n",
       "        sprite.userData = json;\n",
       "    }\n",
       "\n",
       "    var points = [];\n",
       "    for ( var i=0 ; i < points.length ; i++ ) addPoint( points[i] );\n",
       "\n",
       "    function addPoint( json ) {\n",
       "\n",
       "        var geometry = new THREE.Geometry();\n",
       "        var v = json.point;\n",
       "        geometry.vertices.push( new THREE.Vector3( a[0]*v[0], a[1]*v[1], a[2]*v[2] ) );\n",
       "\n",
       "        var canvas = document.createElement( 'canvas' );\n",
       "        canvas.width = 128;\n",
       "        canvas.height = 128;\n",
       "\n",
       "        var context = canvas.getContext( '2d' );\n",
       "        context.arc( 64, 64, 64, 0, 2 * Math.PI );\n",
       "        context.fillStyle = json.color;\n",
       "        context.fill();\n",
       "\n",
       "        var texture = new THREE.Texture( canvas );\n",
       "        texture.needsUpdate = true;\n",
       "\n",
       "        var transparent = json.opacity < 1 ? true : false;\n",
       "        var size = camera.isOrthographicCamera ? json.size : json.size/100;\n",
       "        var material = new THREE.PointsMaterial( { size: size, map: texture,\n",
       "                                                   transparent: transparent, opacity: json.opacity,\n",
       "                                                   alphaTest: .1 } );\n",
       "\n",
       "        var c = new THREE.Vector3();\n",
       "        geometry.computeBoundingBox();\n",
       "        geometry.boundingBox.getCenter( c );\n",
       "        geometry.translate( -c.x, -c.y, -c.z );\n",
       "\n",
       "        var mesh = new THREE.Points( geometry, material );\n",
       "        mesh.position.set( c.x, c.y, c.z );\n",
       "        mesh.userData = json;\n",
       "        scene.add( mesh );\n",
       "\n",
       "    }\n",
       "\n",
       "    var lines = [];\n",
       "    for ( var i=0 ; i < lines.length ; i++ ) addLine( lines[i] );\n",
       "\n",
       "    function addLine( json ) {\n",
       "\n",
       "        var geometry = new THREE.Geometry();\n",
       "        for ( var i=0 ; i < json.points.length ; i++ ) {\n",
       "            var v = json.points[i];\n",
       "            geometry.vertices.push( new THREE.Vector3( a[0]*v[0], a[1]*v[1], a[2]*v[2] ) );\n",
       "        }\n",
       "\n",
       "        var c = new THREE.Vector3();\n",
       "        geometry.computeBoundingBox();\n",
       "        geometry.boundingBox.getCenter( c );\n",
       "        geometry.translate( -c.x, -c.y, -c.z );\n",
       "\n",
       "        var transparent = json.opacity < 1 ? true : false;\n",
       "        var materialOptions = { color: json.color, linewidth: json.linewidth,\n",
       "                                transparent: transparent, opacity: json.opacity };\n",
       "\n",
       "        var mesh;\n",
       "        if ( json.linewidth > 1 && window.createFatLineStrip ) {\n",
       "            mesh = createFatLineStrip( geometry, materialOptions );\n",
       "        } else {\n",
       "            var material = new THREE.LineBasicMaterial( materialOptions );\n",
       "            mesh = new THREE.Line( geometry, material );\n",
       "        }\n",
       "\n",
       "        mesh.position.set( c.x, c.y, c.z );\n",
       "        mesh.userData = json;\n",
       "        scene.add( mesh );\n",
       "\n",
       "    }\n",
       "\n",
       "    var surfaces = [{&quot;vertices&quot;: [{&quot;x&quot;: -5.0, &quot;y&quot;: -5.0, &quot;z&quot;: -0.0313129294284152}, {&quot;x&quot;: -5.0, &quot;y&quot;: -4.743589743589744, &quot;z&quot;: 0.048227962291181654}, {&quot;x&quot;: -4.743589743589744, &quot;y&quot;: -4.743589743589744, &quot;z&quot;: 0.11822884542066826}, {&quot;x&quot;: -4.743589743589744, &quot;y&quot;: -5.0, &quot;z&quot;: 0.048227962291181654}, {&quot;x&quot;: -5.0, &quot;y&quot;: -4.487179487179487, &quot;z&quot;: 0.11521187545903297}, {&quot;x&quot;: -4.743589743589744, &quot;y&quot;: -4.487179487179487, &quot;z&quot;: 0.1524831544527441}, {&quot;x&quot;: -5.0, &quot;y&quot;: -4.230769230769231, &quot;z&quot;: 0.15081521418190952}, {&quot;x&quot;: -4.743589743589744, &quot;y&quot;: -4.230769230769231, &quot;z&quot;: 0.14154019801168846}, {&quot;x&quot;: -5.0, &quot;y&quot;: -3.9743589743589745, &quot;z&quot;: 0.14682584206330213}, {&quot;x&quot;: -4.743589743589744, &quot;y&quot;: -3.9743589743589745, &quot;z&quot;: 0.09018446536478245}, {&quot;x&quot;: -5.0, &quot;y&quot;: -3.717948717948718, &quot;z&quot;: 0.10644610198224208}, {&quot;x&quot;: -4.743589743589744, &quot;y&quot;: -3.717948717948718, &quot;z&quot;: 0.014059422915529975}, {&quot;x&quot;: -5.0, &quot;y&quot;: -3.4615384615384617, &quot;z&quot;: 0.04154590892184195}, {&quot;x&quot;: -4.743589743589744, &quot;y&quot;: -3.4615384615384617, &quot;z&quot;: -0.06650034951626861}, {&quot;x&quot;: -5.0, &quot;y&quot;: -3.2051282051282053, &quot;z&quot;: -0.03202070671104091}, {&quot;x&quot;: -4.743589743589744, &quot;y&quot;: -3.2051282051282053, &quot;z&quot;: -0.1328596087593443}, {&quot;x&quot;: -5.0, &quot;y&quot;: -2.948717948717949, &quot;z&quot;: -0.09917570405967141}, {&quot;x&quot;: -4.743589743589744, &quot;y&quot;: -2.948717948717949, &quot;z&quot;: -0.17263493054486226}, {&quot;x&quot;: -5.0, &quot;y&quot;: -2.6923076923076925, &quot;z&quot;: -0.1490423765968959}, {&quot;x&quot;: -4.743589743589744, &quot;y&quot;: -2.6923076923076925, &quot;z&quot;: -0.181458747260568}, {&quot;x&quot;: -5.0, &quot;y&quot;: -2.435897435897436, &quot;z&quot;: -0.17642014222082292}, {&quot;x&quot;: -4.743589743589744, &quot;y&quot;: -2.435897435897436, &quot;z&quot;: -0.1621512332779497}, {&quot;x&quot;: -5.0, &quot;y&quot;: -2.1794871794871797, &quot;z&quot;: -0.181458747260568}, {&quot;x&quot;: -4.743589743589744, &quot;y&quot;: -2.1794871794871797, &quot;z&quot;: -0.12225553877823543}, {&quot;x&quot;: -5.0, &quot;y&quot;: -1.9230769230769234, &quot;z&quot;: -0.1681651388148705}, {&quot;x&quot;: -4.743589743589744, &quot;y&quot;: -1.9230769230769234, &quot;z&quot;: -0.07110861736368898}, {&quot;x&quot;: -5.0, &quot;y&quot;: -1.666666666666667, &quot;z&quot;: -0.14250583708975548}, {&quot;x&quot;: -4.743589743589744, &quot;y&quot;: -1.666666666666667, &quot;z&quot;: -0.01738852540015784}, {&quot;x&quot;: -5.0, &quot;y&quot;: -1.4102564102564106, &quot;z&quot;: -0.11072072650585248}, {&quot;x&quot;: -4.743589743589744, &quot;y&quot;: -1.4102564102564106, &quot;z&quot;: 0.032372655749033356}, {&quot;x&quot;: -5.0, &quot;y&quot;: -1.1538461538461542, &quot;z&quot;: -0.07818654606831722}, {&quot;x&quot;: -4.743589743589744, &quot;y&quot;: -1.1538461538461542, &quot;z&quot;: 0.07426425040162632}, {&quot;x&quot;: -5.0, &quot;y&quot;: -0.8974358974358978, &quot;z&quot;: -0.0488961793689263}, {&quot;x&quot;: -4.743589743589744, &quot;y&quot;: -0.8974358974358978, &quot;z&quot;: 0.10670645293645792}, {&quot;x&quot;: -5.0, &quot;y&quot;: -0.6410256410256414, &quot;z&quot;: -0.025434298774036877}, {&quot;x&quot;: -4.743589743589744, &quot;y&quot;: -0.6410256410256414, &quot;z&quot;: 0.12974477006536764}, {&quot;x&quot;: -5.0, &quot;y&quot;: -0.384615384615385, &quot;z&quot;: -0.009250285950514308}, {&quot;x&quot;: -4.743589743589744, &quot;y&quot;: -0.384615384615385, &quot;z&quot;: 0.1442431853958254}, {&quot;x&quot;: -5.0, &quot;y&quot;: -0.12820512820512864, &quot;z&quot;: -0.0010322256552946847}, {&quot;x&quot;: -4.743589743589744, &quot;y&quot;: -0.12820512820512864, &quot;z&quot;: 0.1511851284353025}, {&quot;x&quot;: -5.0, &quot;y&quot;: 0.12820512820512775, &quot;z&quot;: -0.0010322256552946847}, {&quot;x&quot;: -4.743589743589744, &quot;y&quot;: 0.12820512820512775, &quot;z&quot;: 0.1511851284353025}, {&quot;x&quot;: -5.0, &quot;y&quot;: 0.38461538461538414, &quot;z&quot;: -0.009250285950514308}, {&quot;x&quot;: -4.743589743589744, &quot;y&quot;: 0.38461538461538414, &quot;z&quot;: 0.1442431853958254}, {&quot;x&quot;: -5.0, &quot;y&quot;: 0.6410256410256405, &quot;z&quot;: -0.025434298774036877}, {&quot;x&quot;: -4.743589743589744, &quot;y&quot;: 0.6410256410256405, &quot;z&quot;: 0.12974477006536764}, {&quot;x&quot;: -5.0, &quot;y&quot;: 0.8974358974358969, &quot;z&quot;: -0.0488961793689263}, {&quot;x&quot;: -4.743589743589744, &quot;y&quot;: 0.8974358974358969, &quot;z&quot;: 0.10670645293645792}, {&quot;x&quot;: -5.0, &quot;y&quot;: 1.1538461538461533, &quot;z&quot;: -0.07818654606831722}, {&quot;x&quot;: -4.743589743589744, &quot;y&quot;: 1.1538461538461533, &quot;z&quot;: 0.07426425040162632}, {&quot;x&quot;: -5.0, &quot;y&quot;: 1.4102564102564097, &quot;z&quot;: -0.11072072650585248}, {&quot;x&quot;: -4.743589743589744, &quot;y&quot;: 1.4102564102564097, &quot;z&quot;: 0.032372655749034064}, {&quot;x&quot;: -5.0, &quot;y&quot;: 1.666666666666666, &quot;z&quot;: -0.14250583708975548}, {&quot;x&quot;: -4.743589743589744, &quot;y&quot;: 1.666666666666666, &quot;z&quot;: -0.01738852540015784}, {&quot;x&quot;: -5.0, &quot;y&quot;: 1.9230769230769225, &quot;z&quot;: -0.16816513881487025}, {&quot;x&quot;: -4.743589743589744, &quot;y&quot;: 1.9230769230769225, &quot;z&quot;: -0.07110861736368898}, {&quot;x&quot;: -5.0, &quot;y&quot;: 2.179487179487179, &quot;z&quot;: -0.181458747260568}, {&quot;x&quot;: -4.743589743589744, &quot;y&quot;: 2.179487179487179, &quot;z&quot;: -0.12225553877823545}, {&quot;x&quot;: -5.0, &quot;y&quot;: 2.4358974358974352, &quot;z&quot;: -0.17642014222082295}, {&quot;x&quot;: -4.743589743589744, &quot;y&quot;: 2.4358974358974352, &quot;z&quot;: -0.16215123327794975}, {&quot;x&quot;: -5.0, &quot;y&quot;: 2.6923076923076916, &quot;z&quot;: -0.14904237659689593}, {&quot;x&quot;: -4.743589743589744, &quot;y&quot;: 2.6923076923076916, &quot;z&quot;: -0.18145874726056793}, {&quot;x&quot;: -5.0, &quot;y&quot;: 2.948717948717948, &quot;z&quot;: -0.09917570405967194}, {&quot;x&quot;: -4.743589743589744, &quot;y&quot;: 2.948717948717948, &quot;z&quot;: -0.17263493054486226}, {&quot;x&quot;: -5.0, &quot;y&quot;: 3.2051282051282044, &quot;z&quot;: -0.032020706711041506}, {&quot;x&quot;: -4.743589743589744, &quot;y&quot;: 3.2051282051282044, &quot;z&quot;: -0.1328596087593443}, {&quot;x&quot;: -5.0, &quot;y&quot;: 3.461538461538461, &quot;z&quot;: 0.04154590892184195}, {&quot;x&quot;: -4.743589743589744, &quot;y&quot;: 3.461538461538461, &quot;z&quot;: -0.06650034951626861}, {&quot;x&quot;: -5.0, &quot;y&quot;: 3.717948717948717, &quot;z&quot;: 0.10644610198224165}, {&quot;x&quot;: -4.743589743589744, &quot;y&quot;: 3.717948717948717, &quot;z&quot;: 0.014059422915529975}, {&quot;x&quot;: -5.0, &quot;y&quot;: 3.9743589743589736, &quot;z&quot;: 0.14682584206330196}, {&quot;x&quot;: -4.743589743589744, &quot;y&quot;: 3.9743589743589736, &quot;z&quot;: 0.09018446536478196}, {&quot;x&quot;: -5.0, &quot;y&quot;: 4.23076923076923, &quot;z&quot;: 0.15081521418190952}, {&quot;x&quot;: -4.743589743589744, &quot;y&quot;: 4.23076923076923, &quot;z&quot;: 0.14154019801168824}, {&quot;x&quot;: -5.0, &quot;y&quot;: 4.487179487179486, &quot;z&quot;: 0.11521187545903333}, {&quot;x&quot;: -4.743589743589744, &quot;y&quot;: 4.487179487179486, &quot;z&quot;: 0.1524831544527441}, {&quot;x&quot;: -5.0, &quot;y&quot;: 4.743589743589743, &quot;z&quot;: 0.048227962291181654}, {&quot;x&quot;: -4.743589743589744, &quot;y&quot;: 4.743589743589743, &quot;z&quot;: 0.11822884542066862}, {&quot;x&quot;: -5.0, &quot;y&quot;: 5.0, &quot;z&quot;: -0.0313129294284152}, {&quot;x&quot;: -4.743589743589744, &quot;y&quot;: 5.0, &quot;z&quot;: 0.048227962291181654}, {&quot;x&quot;: -4.487179487179487, &quot;y&quot;: -4.743589743589744, &quot;z&quot;: 0.1524831544527441}, {&quot;x&quot;: -4.487179487179487, &quot;y&quot;: -5.0, &quot;z&quot;: 0.11521187545903297}, {&quot;x&quot;: -4.487179487179487, &quot;y&quot;: -4.487179487179487, &quot;z&quot;: 0.13945896398071148}, {&quot;x&quot;: -4.487179487179487, &quot;y&quot;: -4.230769230769231, &quot;z&quot;: 0.08130342199845633}, {&quot;x&quot;: -4.487179487179487, &quot;y&quot;: -3.9743589743589745, &quot;z&quot;: -0.0030450962151578765}, {&quot;x&quot;: -4.487179487179487, &quot;y&quot;: -3.717948717948718, &quot;z&quot;: -0.08858400012268328}, {&quot;x&quot;: -4.487179487179487, &quot;y&quot;: -3.4615384615384617, &quot;z&quot;: -0.1526690215534612}, {&quot;x&quot;: -4.487179487179487, &quot;y&quot;: -3.2051282051282053, &quot;z&quot;: -0.18116306412965294}, {&quot;x&quot;: -4.487179487179487, &quot;y&quot;: -2.948717948717949, &quot;z&quot;: -0.17076952332841072}, {&quot;x&quot;: -4.487179487179487, &quot;y&quot;: -2.6923076923076925, &quot;z&quot;: -0.12767883171207908}, {&quot;x&quot;: -4.487179487179487, &quot;y&quot;: -2.435897435897436, &quot;z&quot;: -0.06386100244520297}, {&quot;x&quot;: -4.487179487179487, &quot;y&quot;: -2.1794871794871797, &quot;z&quot;: 0.00725264009597958}, {&quot;x&quot;: -4.487179487179487, &quot;y&quot;: -1.9230769230769234, &quot;z&quot;: 0.07426425040162564}, {&quot;x&quot;: -4.487179487179487, &quot;y&quot;: -1.666666666666667, &quot;z&quot;: 0.12974477006536733}, {&quot;x&quot;: -4.487179487179487, &quot;y&quot;: -1.4102564102564106, &quot;z&quot;: 0.17058680183190766}, {&quot;x&quot;: -4.487179487179487, &quot;y&quot;: -1.1538461538461542, &quot;z&quot;: 0.19722429601204408}, {&quot;x&quot;: -4.487179487179487, &quot;y&quot;: -0.8974358974358978, &quot;z&quot;: 0.21232309865066645}, {&quot;x&quot;: -4.487179487179487, &quot;y&quot;: -0.6410256410256414, &quot;z&quot;: 0.21945165588530713}, {&quot;x&quot;: -4.487179487179487, &quot;y&quot;: -0.384615384615385, &quot;z&quot;: 0.22202850663653775}, {&quot;x&quot;: -4.487179487179487, &quot;y&quot;: -0.12820512820512864, &quot;z&quot;: 0.22263349001904645}, {&quot;x&quot;: -4.487179487179487, &quot;y&quot;: 0.12820512820512775, &quot;z&quot;: 0.22263349001904645}, {&quot;x&quot;: -4.487179487179487, &quot;y&quot;: 0.38461538461538414, &quot;z&quot;: 0.22202850663653775}, {&quot;x&quot;: -4.487179487179487, &quot;y&quot;: 0.6410256410256405, &quot;z&quot;: 0.21945165588530713}, {&quot;x&quot;: -4.487179487179487, &quot;y&quot;: 0.8974358974358969, &quot;z&quot;: 0.21232309865066645}, {&quot;x&quot;: -4.487179487179487, &quot;y&quot;: 1.1538461538461533, &quot;z&quot;: 0.19722429601204408}, {&quot;x&quot;: -4.487179487179487, &quot;y&quot;: 1.4102564102564097, &quot;z&quot;: 0.17058680183190766}, {&quot;x&quot;: -4.487179487179487, &quot;y&quot;: 1.666666666666666, &quot;z&quot;: 0.12974477006536764}, {&quot;x&quot;: -4.487179487179487, &quot;y&quot;: 1.9230769230769225, &quot;z&quot;: 0.07426425040162632}, {&quot;x&quot;: -4.487179487179487, &quot;y&quot;: 2.179487179487179, &quot;z&quot;: 0.007252640095980293}, {&quot;x&quot;: -4.487179487179487, &quot;y&quot;: 2.4358974358974352, &quot;z&quot;: -0.06386100244520297}, {&quot;x&quot;: -4.487179487179487, &quot;y&quot;: 2.6923076923076916, &quot;z&quot;: -0.12767883171207858}, {&quot;x&quot;: -4.487179487179487, &quot;y&quot;: 2.948717948717948, &quot;z&quot;: -0.17076952332841047}, {&quot;x&quot;: -4.487179487179487, &quot;y&quot;: 3.2051282051282044, &quot;z&quot;: -0.18116306412965302}, {&quot;x&quot;: -4.487179487179487, &quot;y&quot;: 3.461538461538461, &quot;z&quot;: -0.1526690215534612}, {&quot;x&quot;: -4.487179487179487, &quot;y&quot;: 3.717948717948717, &quot;z&quot;: -0.08858400012268383}, {&quot;x&quot;: -4.487179487179487, &quot;y&quot;: 3.9743589743589736, &quot;z&quot;: -0.0030450962151578765}, {&quot;x&quot;: -4.487179487179487, &quot;y&quot;: 4.23076923076923, &quot;z&quot;: 0.08130342199845635}, {&quot;x&quot;: -4.487179487179487, &quot;y&quot;: 4.487179487179486, &quot;z&quot;: 0.13945896398071123}, {&quot;x&quot;: -4.487179487179487, &quot;y&quot;: 4.743589743589743, &quot;z&quot;: 0.1524831544527441}, {&quot;x&quot;: -4.487179487179487, &quot;y&quot;: 5.0, &quot;z&quot;: 0.11521187545903297}, {&quot;x&quot;: -4.230769230769231, &quot;y&quot;: -4.743589743589744, &quot;z&quot;: 0.14154019801168846}, {&quot;x&quot;: -4.230769230769231, &quot;y&quot;: -5.0, &quot;z&quot;: 0.15081521418190952}, {&quot;x&quot;: -4.230769230769231, &quot;y&quot;: -4.487179487179487, &quot;z&quot;: 0.08130342199845633}, {&quot;x&quot;: -4.230769230769231, &quot;y&quot;: -4.230769230769231, &quot;z&quot;: -0.00881116142764315}, {&quot;x&quot;: -4.230769230769231, &quot;y&quot;: -3.9743589743589745, &quot;z&quot;: -0.09917570405967141}, {&quot;x&quot;: -4.230769230769231, &quot;y&quot;: -3.717948717948718, &quot;z&quot;: -0.16243685302955652}, {&quot;x&quot;: -4.230769230769231, &quot;y&quot;: -3.4615384615384617, &quot;z&quot;: -0.18191784712162193}, {&quot;x&quot;: -4.230769230769231, &quot;y&quot;: -3.2051282051282053, &quot;z&quot;: -0.1550739432864401}, {&quot;x&quot;: -4.230769230769231, &quot;y&quot;: -2.948717948717949, &quot;z&quot;: -0.09179654096842373}, {&quot;x&quot;: -4.230769230769231, &quot;y&quot;: -2.6923076923076925, &quot;z&quot;: -0.009250285950514308}, {&quot;x&quot;: -4.230769230769231, &quot;y&quot;: -2.435897435897436, &quot;z&quot;: 0.07426425040162632}, {&quot;x&quot;: -4.230769230769231, &quot;y&quot;: -2.1794871794871797, &quot;z&quot;: 0.14424318539582479}, {&quot;x&quot;: -4.230769230769231, &quot;y&quot;: -1.9230769230769234, &quot;z&quot;: 0.19253864247086708}, {&quot;x&quot;: -4.230769230769231, &quot;y&quot;: -1.666666666666667, &quot;z&quot;: 0.21749963044648857}, {&quot;x&quot;: -4.230769230769231, &quot;y&quot;: -1.4102564102564106, &quot;z&quot;: 0.22243257961224736}, {&quot;x&quot;: -4.230769230769231, &quot;y&quot;: -1.1538461538461542, &quot;z&quot;: 0.21338743078659142}, {&quot;x&quot;: -4.230769230769231, &quot;y&quot;: -0.8974358974358978, &quot;z&quot;: 0.19711035355159282}, {&quot;x&quot;: -4.230769230769231, &quot;y&quot;: -0.6410256410256414, &quot;z&quot;: 0.1796237019465825}, {&quot;x&quot;: -4.230769230769231, &quot;y&quot;: -0.384615384615385, &quot;z&quot;: 0.16551234237681514}, {&quot;x&quot;: -4.230769230769231, &quot;y&quot;: -0.12820512820512864, &quot;z&quot;: 0.1577421701184894}, {&quot;x&quot;: -4.230769230769231, &quot;y&quot;: 0.12820512820512775, &quot;z&quot;: 0.1577421701184894}, {&quot;x&quot;: -4.230769230769231, &quot;y&quot;: 0.38461538461538414, &quot;z&quot;: 0.16551234237681514}, {&quot;x&quot;: -4.230769230769231, &quot;y&quot;: 0.6410256410256405, &quot;z&quot;: 0.1796237019465825}, {&quot;x&quot;: -4.230769230769231, &quot;y&quot;: 0.8974358974358969, &quot;z&quot;: 0.19711035355159282}, {&quot;x&quot;: -4.230769230769231, &quot;y&quot;: 1.1538461538461533, &quot;z&quot;: 0.21338743078659142}, {&quot;x&quot;: -4.230769230769231, &quot;y&quot;: 1.4102564102564097, &quot;z&quot;: 0.22243257961224733}, {&quot;x&quot;: -4.230769230769231, &quot;y&quot;: 1.666666666666666, &quot;z&quot;: 0.21749963044648865}, {&quot;x&quot;: -4.230769230769231, &quot;y&quot;: 1.9230769230769225, &quot;z&quot;: 0.19253864247086708}, {&quot;x&quot;: -4.230769230769231, &quot;y&quot;: 2.179487179487179, &quot;z&quot;: 0.1442431853958254}, {&quot;x&quot;: -4.230769230769231, &quot;y&quot;: 2.4358974358974352, &quot;z&quot;: 0.07426425040162632}, {&quot;x&quot;: -4.230769230769231, &quot;y&quot;: 2.6923076923076916, &quot;z&quot;: -0.009250285950514308}, {&quot;x&quot;: -4.230769230769231, &quot;y&quot;: 2.948717948717948, &quot;z&quot;: -0.09179654096842312}, {&quot;x&quot;: -4.230769230769231, &quot;y&quot;: 3.2051282051282044, &quot;z&quot;: -0.15507394328644017}, {&quot;x&quot;: -4.230769230769231, &quot;y&quot;: 3.461538461538461, &quot;z&quot;: -0.1819178471216219}, {&quot;x&quot;: -4.230769230769231, &quot;y&quot;: 3.717948717948717, &quot;z&quot;: -0.16243685302955652}, {&quot;x&quot;: -4.230769230769231, &quot;y&quot;: 3.9743589743589736, &quot;z&quot;: -0.09917570405967194}, {&quot;x&quot;: -4.230769230769231, &quot;y&quot;: 4.23076923076923, &quot;z&quot;: -0.00881116142764315}, {&quot;x&quot;: -4.230769230769231, &quot;y&quot;: 4.487179487179486, &quot;z&quot;: 0.08130342199845635}, {&quot;x&quot;: -4.230769230769231, &quot;y&quot;: 4.743589743589743, &quot;z&quot;: 0.14154019801168824}, {&quot;x&quot;: -4.230769230769231, &quot;y&quot;: 5.0, &quot;z&quot;: 0.15081521418190952}, {&quot;x&quot;: -3.9743589743589745, &quot;y&quot;: -4.743589743589744, &quot;z&quot;: 0.09018446536478245}, {&quot;x&quot;: -3.9743589743589745, &quot;y&quot;: -5.0, &quot;z&quot;: 0.14682584206330213}, {&quot;x&quot;: -3.9743589743589745, &quot;y&quot;: -4.487179487179487, &quot;z&quot;: -0.0030450962151578765}, {&quot;x&quot;: -3.9743589743589745, &quot;y&quot;: -4.230769230769231, &quot;z&quot;: -0.09917570405967141}, {&quot;x&quot;: -3.9743589743589745, &quot;y&quot;: -3.9743589743589745, &quot;z&quot;: -0.165301048297769}, {&quot;x&quot;: -3.9743589743589745, &quot;y&quot;: -3.717948717948718, &quot;z&quot;: -0.18073554583068002}, {&quot;x&quot;: -3.9743589743589745, &quot;y&quot;: -3.4615384615384617, &quot;z&quot;: -0.14250583708975548}, {&quot;x&quot;: -3.9743589743589745, &quot;y&quot;: -3.2051282051282053, &quot;z&quot;: -0.06386100244520364}, {&quot;x&quot;: -3.9743589743589745, &quot;y&quot;: -2.948717948717949, &quot;z&quot;: 0.032372655749033356}, {&quot;x&quot;: -3.9743589743589745, &quot;y&quot;: -2.6923076923076925, &quot;z&quot;: 0.12222104054936181}, {&quot;x&quot;: -3.9743589743589745, &quot;y&quot;: -2.435897435897436, &quot;z&quot;: 0.18751704244724113}, {&quot;x&quot;: -3.9743589743589745, &quot;y&quot;: -2.1794871794871797, &quot;z&quot;: 0.21945165588530713}, {&quot;x&quot;: -3.9743589743589745, &quot;y&quot;: -1.9230769230769234, &quot;z&quot;: 0.21849671405696244}, {&quot;x&quot;: -3.9743589743589745, &quot;y&quot;: -1.666666666666667, &quot;z&quot;: 0.19177960940564062}, {&quot;x&quot;: -3.9743589743589745, &quot;y&quot;: -1.4102564102564106, &quot;z&quot;: 0.14950837516294282}, {&quot;x&quot;: -3.9743589743589745, &quot;y&quot;: -1.1538461538461542, &quot;z&quot;: 0.10182765566147567}, {&quot;x&quot;: -3.9743589743589745, &quot;y&quot;: -0.8974358974358978, &quot;z&quot;: 0.056862409133510455}, {&quot;x&quot;: -3.9743589743589745, &quot;y&quot;: -0.6410256410256414, &quot;z&quot;: 0.02005162258719657}, {&quot;x&quot;: -3.9743589743589745, &quot;y&quot;: -0.384615384615385, &quot;z&quot;: -0.005565270813887195}, {&quot;x&quot;: -3.9743589743589745, &quot;y&quot;: -0.12820512820512864, &quot;z&quot;: -0.018607513033306655}, {&quot;x&quot;: -3.9743589743589745, &quot;y&quot;: 0.12820512820512775, &quot;z&quot;: -0.018607513033307106}, {&quot;x&quot;: -3.9743589743589745, &quot;y&quot;: 0.38461538461538414, &quot;z&quot;: -0.005565270813887195}, {&quot;x&quot;: -3.9743589743589745, &quot;y&quot;: 0.6410256410256405, &quot;z&quot;: 0.02005162258719657}, {&quot;x&quot;: -3.9743589743589745, &quot;y&quot;: 0.8974358974358969, &quot;z&quot;: 0.056862409133510455}, {&quot;x&quot;: -3.9743589743589745, &quot;y&quot;: 1.1538461538461533, &quot;z&quot;: 0.10182765566147567}, {&quot;x&quot;: -3.9743589743589745, &quot;y&quot;: 1.4102564102564097, &quot;z&quot;: 0.1495083751629422}, {&quot;x&quot;: -3.9743589743589745, &quot;y&quot;: 1.666666666666666, &quot;z&quot;: 0.19177960940564043}, {&quot;x&quot;: -3.9743589743589745, &quot;y&quot;: 1.9230769230769225, &quot;z&quot;: 0.21849671405696244}, {&quot;x&quot;: -3.9743589743589745, &quot;y&quot;: 2.179487179487179, &quot;z&quot;: 0.21945165588530713}, {&quot;x&quot;: -3.9743589743589745, &quot;y&quot;: 2.4358974358974352, &quot;z&quot;: 0.18751704244724113}, {&quot;x&quot;: -3.9743589743589745, &quot;y&quot;: 2.6923076923076916, &quot;z&quot;: 0.12222104054936214}, {&quot;x&quot;: -3.9743589743589745, &quot;y&quot;: 2.948717948717948, &quot;z&quot;: 0.032372655749033356}, {&quot;x&quot;: -3.9743589743589745, &quot;y&quot;: 3.2051282051282044, &quot;z&quot;: -0.06386100244520297}, {&quot;x&quot;: -3.9743589743589745, &quot;y&quot;: 3.461538461538461, &quot;z&quot;: -0.14250583708975548}, {&quot;x&quot;: -3.9743589743589745, &quot;y&quot;: 3.717948717948717, &quot;z&quot;: -0.1807355458306799}, {&quot;x&quot;: -3.9743589743589745, &quot;y&quot;: 3.9743589743589736, &quot;z&quot;: -0.165301048297769}, {&quot;x&quot;: -3.9743589743589745, &quot;y&quot;: 4.23076923076923, &quot;z&quot;: -0.09917570405967194}, {&quot;x&quot;: -3.9743589743589745, &quot;y&quot;: 4.487179487179486, &quot;z&quot;: -0.0030450962151578765}, {&quot;x&quot;: -3.9743589743589745, &quot;y&quot;: 4.743589743589743, &quot;z&quot;: 0.09018446536478196}, {&quot;x&quot;: -3.9743589743589745, &quot;y&quot;: 5.0, &quot;z&quot;: 0.14682584206330213}, {&quot;x&quot;: -3.717948717948718, &quot;y&quot;: -4.743589743589744, &quot;z&quot;: 0.014059422915529975}, {&quot;x&quot;: -3.717948717948718, &quot;y&quot;: -5.0, &quot;z&quot;: 0.10644610198224208}, {&quot;x&quot;: -3.717948717948718, &quot;y&quot;: -4.487179487179487, &quot;z&quot;: -0.08858400012268328}, {&quot;x&quot;: -3.717948717948718, &quot;y&quot;: -4.230769230769231, &quot;z&quot;: -0.16243685302955652}, {&quot;x&quot;: -3.717948717948718, &quot;y&quot;: -3.9743589743589745, &quot;z&quot;: -0.18073554583068002}, {&quot;x&quot;: -3.717948717948718, &quot;y&quot;: -3.717948717948718, &quot;z&quot;: -0.1378089409777226}, {&quot;x&quot;: -3.717948717948718, &quot;y&quot;: -3.4615384615384617, &quot;z&quot;: -0.0488961793689263}, {&quot;x&quot;: -3.717948717948718, &quot;y&quot;: -3.2051282051282053, &quot;z&quot;: 0.05759287954635205}, {&quot;x&quot;: -3.717948717948718, &quot;y&quot;: -2.948717948717949, &quot;z&quot;: 0.15118512843530216}, {&quot;x&quot;: -3.717948717948718, &quot;y&quot;: -2.6923076923076925, &quot;z&quot;: 0.20912235190763948}, {&quot;x&quot;: -3.717948717948718, &quot;y&quot;: -2.435897435897436, &quot;z&quot;: 0.22161150667081955}, {&quot;x&quot;: -3.717948717948718, &quot;y&quot;: -2.1794871794871797, &quot;z&quot;: 0.19177960940564062}, {&quot;x&quot;: -3.717948717948718, &quot;y&quot;: -1.9230769230769234, &quot;z&quot;: 0.13169628077917828}, {&quot;x&quot;: -3.717948717948718, &quot;y&quot;: -1.666666666666667, &quot;z&quot;: 0.056862409133510455}, {&quot;x&quot;: -3.717948717948718, &quot;y&quot;: -1.4102564102564106, &quot;z&quot;: -0.018607513033307106}, {&quot;x&quot;: -3.717948717948718, &quot;y&quot;: -1.1538461538461542, &quot;z&quot;: -0.084825533540923}, {&quot;x&quot;: -3.717948717948718, &quot;y&quot;: -0.8974358974358978, &quot;z&quot;: -0.13680209349327188}, {&quot;x&quot;: -3.717948717948718, &quot;y&quot;: -0.6410256410256414, &quot;z&quot;: -0.17352514017266685}, {&quot;x&quot;: -3.717948717948718, &quot;y&quot;: -0.384615384615385, &quot;z&quot;: -0.19629367355494326}, {&quot;x&quot;: -3.717948717948718, &quot;y&quot;: -0.12820512820512864, &quot;z&quot;: -0.20703304952539192}, {&quot;x&quot;: -3.717948717948718, &quot;y&quot;: 0.12820512820512775, &quot;z&quot;: -0.20703304952539192}, {&quot;x&quot;: -3.717948717948718, &quot;y&quot;: 0.38461538461538414, &quot;z&quot;: -0.19629367355494326}, {&quot;x&quot;: -3.717948717948718, &quot;y&quot;: 0.6410256410256405, &quot;z&quot;: -0.17352514017266685}, {&quot;x&quot;: -3.717948717948718, &quot;y&quot;: 0.8974358974358969, &quot;z&quot;: -0.13680209349327188}, {&quot;x&quot;: -3.717948717948718, &quot;y&quot;: 1.1538461538461533, &quot;z&quot;: -0.084825533540923}, {&quot;x&quot;: -3.717948717948718, &quot;y&quot;: 1.4102564102564097, &quot;z&quot;: -0.018607513033307106}, {&quot;x&quot;: -3.717948717948718, &quot;y&quot;: 1.666666666666666, &quot;z&quot;: 0.056862409133510455}, {&quot;x&quot;: -3.717948717948718, &quot;y&quot;: 1.9230769230769225, &quot;z&quot;: 0.13169628077917828}, {&quot;x&quot;: -3.717948717948718, &quot;y&quot;: 2.179487179487179, &quot;z&quot;: 0.19177960940564043}, {&quot;x&quot;: -3.717948717948718, &quot;y&quot;: 2.4358974358974352, &quot;z&quot;: 0.22161150667081944}, {&quot;x&quot;: -3.717948717948718, &quot;y&quot;: 2.6923076923076916, &quot;z&quot;: 0.2091223519076397}, {&quot;x&quot;: -3.717948717948718, &quot;y&quot;: 2.948717948717948, &quot;z&quot;: 0.1511851284353025}, {&quot;x&quot;: -3.717948717948718, &quot;y&quot;: 3.2051282051282044, &quot;z&quot;: 0.057592879546352754}, {&quot;x&quot;: -3.717948717948718, &quot;y&quot;: 3.461538461538461, &quot;z&quot;: -0.048896179368925964}, {&quot;x&quot;: -3.717948717948718, &quot;y&quot;: 3.717948717948717, &quot;z&quot;: -0.13780894097772214}, {&quot;x&quot;: -3.717948717948718, &quot;y&quot;: 3.9743589743589736, &quot;z&quot;: -0.1807355458306799}, {&quot;x&quot;: -3.717948717948718, &quot;y&quot;: 4.23076923076923, &quot;z&quot;: -0.16243685302955652}, {&quot;x&quot;: -3.717948717948718, &quot;y&quot;: 4.487179487179486, &quot;z&quot;: -0.08858400012268436}, {&quot;x&quot;: -3.717948717948718, &quot;y&quot;: 4.743589743589743, &quot;z&quot;: 0.014059422915529975}, {&quot;x&quot;: -3.717948717948718, &quot;y&quot;: 5.0, &quot;z&quot;: 0.10644610198224208}, {&quot;x&quot;: -3.4615384615384617, &quot;y&quot;: -4.743589743589744, &quot;z&quot;: -0.06650034951626861}, {&quot;x&quot;: -3.4615384615384617, &quot;y&quot;: -5.0, &quot;z&quot;: 0.04154590892184195}, {&quot;x&quot;: -3.4615384615384617, &quot;y&quot;: -4.487179487179487, &quot;z&quot;: -0.1526690215534612}, {&quot;x&quot;: -3.4615384615384617, &quot;y&quot;: -4.230769230769231, &quot;z&quot;: -0.18191784712162193}, {&quot;x&quot;: -3.4615384615384617, &quot;y&quot;: -3.9743589743589745, &quot;z&quot;: -0.14250583708975548}, {&quot;x&quot;: -3.4615384615384617, &quot;y&quot;: -3.717948717948718, &quot;z&quot;: -0.0488961793689263}, {&quot;x&quot;: -3.4615384615384617, &quot;y&quot;: -3.4615384615384617, &quot;z&quot;: 0.065952965198231}, {&quot;x&quot;: -3.4615384615384617, &quot;y&quot;: -3.2051282051282053, &quot;z&quot;: 0.16437306451431222}, {&quot;x&quot;: -3.4615384615384617, &quot;y&quot;: -2.948717948717949, &quot;z&quot;: 0.21749963044648857}, {&quot;x&quot;: -3.4615384615384617, &quot;y&quot;: -2.6923076923076925, &quot;z&quot;: 0.21338743078659167}, {&quot;x&quot;: -3.4615384615384617, &quot;y&quot;: -2.435897435897436, &quot;z&quot;: 0.15774217011848968}, {&quot;x&quot;: -3.4615384615384617, &quot;y&quot;: -2.1794871794871797, &quot;z&quot;: 0.06859293033635439}, {&quot;x&quot;: -3.4615384615384617, &quot;y&quot;: -1.9230769230769234, &quot;z&quot;: -0.03176290856153143}, {&quot;x&quot;: -3.4615384615384617, &quot;y&quot;: -1.666666666666667, &quot;z&quot;: -0.12404748116237611}, {&quot;x&quot;: -3.4615384615384617, &quot;y&quot;: -1.4102564102564106, &quot;z&quot;: -0.19629367355494326}, {&quot;x&quot;: -3.4615384615384617, &quot;y&quot;: -1.1538461538461542, &quot;z&quot;: -0.24466721047350626}, {&quot;x&quot;: -3.4615384615384617, &quot;y&quot;: -0.8974358974358978, &quot;z&quot;: -0.2717145043120364}, {&quot;x&quot;: -3.4615384615384617, &quot;y&quot;: -0.6410256410256414, &quot;z&quot;: -0.2834765187178331}, {&quot;x&quot;: -3.4615384615384617, &quot;y&quot;: -0.384615384615385, &quot;z&quot;: -0.28670486470897005}, {&quot;x&quot;: -3.4615384615384617, &quot;y&quot;: -0.12820512820512864, &quot;z&quot;: -0.2868375581433094}, {&quot;x&quot;: -3.4615384615384617, &quot;y&quot;: 0.12820512820512775, &quot;z&quot;: -0.2868375581433094}, {&quot;x&quot;: -3.4615384615384617, &quot;y&quot;: 0.38461538461538414, &quot;z&quot;: -0.28670486470897005}, {&quot;x&quot;: -3.4615384615384617, &quot;y&quot;: 0.6410256410256405, &quot;z&quot;: -0.2834765187178331}, {&quot;x&quot;: -3.4615384615384617, &quot;y&quot;: 0.8974358974358969, &quot;z&quot;: -0.2717145043120364}, {&quot;x&quot;: -3.4615384615384617, &quot;y&quot;: 1.1538461538461533, &quot;z&quot;: -0.24466721047350648}, {&quot;x&quot;: -3.4615384615384617, &quot;y&quot;: 1.4102564102564097, &quot;z&quot;: -0.19629367355494326}, {&quot;x&quot;: -3.4615384615384617, &quot;y&quot;: 1.666666666666666, &quot;z&quot;: -0.12404748116237656}, {&quot;x&quot;: -3.4615384615384617, &quot;y&quot;: 1.9230769230769225, &quot;z&quot;: -0.031762908561531876}, {&quot;x&quot;: -3.4615384615384617, &quot;y&quot;: 2.179487179487179, &quot;z&quot;: 0.06859293033635355}, {&quot;x&quot;: -3.4615384615384617, &quot;y&quot;: 2.4358974358974352, &quot;z&quot;: 0.1577421701184894}, {&quot;x&quot;: -3.4615384615384617, &quot;y&quot;: 2.6923076923076916, &quot;z&quot;: 0.21338743078659142}, {&quot;x&quot;: -3.4615384615384617, &quot;y&quot;: 2.948717948717948, &quot;z&quot;: 0.21749963044648865}, {&quot;x&quot;: -3.4615384615384617, &quot;y&quot;: 3.2051282051282044, &quot;z&quot;: 0.16437306451431274}, {&quot;x&quot;: -3.4615384615384617, &quot;y&quot;: 3.461538461538461, &quot;z&quot;: 0.06595296519823136}, {&quot;x&quot;: -3.4615384615384617, &quot;y&quot;: 3.717948717948717, &quot;z&quot;: -0.0488961793689263}, {&quot;x&quot;: -3.4615384615384617, &quot;y&quot;: 3.9743589743589736, &quot;z&quot;: -0.14250583708975548}, {&quot;x&quot;: -3.4615384615384617, &quot;y&quot;: 4.23076923076923, &quot;z&quot;: -0.1819178471216219}, {&quot;x&quot;: -3.4615384615384617, &quot;y&quot;: 4.487179487179486, &quot;z&quot;: -0.1526690215534612}, {&quot;x&quot;: -3.4615384615384617, &quot;y&quot;: 4.743589743589743, &quot;z&quot;: -0.06650034951626861}, {&quot;x&quot;: -3.4615384615384617, &quot;y&quot;: 5.0, &quot;z&quot;: 0.04154590892184195}, {&quot;x&quot;: -3.2051282051282053, &quot;y&quot;: -4.743589743589744, &quot;z&quot;: -0.1328596087593443}, {&quot;x&quot;: -3.2051282051282053, &quot;y&quot;: -5.0, &quot;z&quot;: -0.03202070671104091}, {&quot;x&quot;: -3.2051282051282053, &quot;y&quot;: -4.487179487179487, &quot;z&quot;: -0.18116306412965294}, {&quot;x&quot;: -3.2051282051282053, &quot;y&quot;: -4.230769230769231, &quot;z&quot;: -0.1550739432864401}, {&quot;x&quot;: -3.2051282051282053, &quot;y&quot;: -3.9743589743589745, &quot;z&quot;: -0.06386100244520364}, {&quot;x&quot;: -3.2051282051282053, &quot;y&quot;: -3.717948717948718, &quot;z&quot;: 0.05759287954635205}, {&quot;x&quot;: -3.2051282051282053, &quot;y&quot;: -3.4615384615384617, &quot;z&quot;: 0.16437306451431222}, {&quot;x&quot;: -3.2051282051282053, &quot;y&quot;: -3.2051282051282053, &quot;z&quot;: 0.21945165588530713}, {&quot;x&quot;: -3.2051282051282053, &quot;y&quot;: -2.948717948717949, &quot;z&quot;: 0.20626059743173433}, {&quot;x&quot;: -3.2051282051282053, &quot;y&quot;: -2.6923076923076925, &quot;z&quot;: 0.13169628077917828}, {&quot;x&quot;: -3.2051282051282053, &quot;y&quot;: -2.435897435897436, &quot;z&quot;: 0.02005162258719657}, {&quot;x&quot;: -3.2051282051282053, &quot;y&quot;: -2.1794871794871797, &quot;z&quot;: -0.09801869890005727}, {&quot;x&quot;: -3.2051282051282053, &quot;y&quot;: -1.9230769230769234, &quot;z&quot;: -0.19629367355494298}, {&quot;x&quot;: -3.2051282051282053, &quot;y&quot;: -1.666666666666667, &quot;z&quot;: -0.259682767971955}, {&quot;x&quot;: -3.2051282051282053, &quot;y&quot;: -1.4102564102564106, &quot;z&quot;: -0.2855743751375799}, {&quot;x&quot;: -3.2051282051282053, &quot;y&quot;: -1.1538461538461542, &quot;z&quot;: -0.28098190137561274}, {&quot;x&quot;: -3.2051282051282053, &quot;y&quot;: -0.8974358974358978, &quot;z&quot;: -0.2578328027491931}, {&quot;x&quot;: -3.2051282051282053, &quot;y&quot;: -0.6410256410256414, &quot;z&quot;: -0.2285992198548628}, {&quot;x&quot;: -3.2051282051282053, &quot;y&quot;: -0.384615384615385, &quot;z&quot;: -0.20348555208197094}, {&quot;x&quot;: -3.2051282051282053, &quot;y&quot;: -0.12820512820512864, &quot;z&quot;: -0.18928253877123413}, {&quot;x&quot;: -3.2051282051282053, &quot;y&quot;: 0.12820512820512775, &quot;z&quot;: -0.18928253877123413}, {&quot;x&quot;: -3.2051282051282053, &quot;y&quot;: 0.38461538461538414, &quot;z&quot;: -0.20348555208197094}, {&quot;x&quot;: -3.2051282051282053, &quot;y&quot;: 0.6410256410256405, &quot;z&quot;: -0.22859921985486248}, {&quot;x&quot;: -3.2051282051282053, &quot;y&quot;: 0.8974358974358969, &quot;z&quot;: -0.2578328027491931}, {&quot;x&quot;: -3.2051282051282053, &quot;y&quot;: 1.1538461538461533, &quot;z&quot;: -0.2809819013756127}, {&quot;x&quot;: -3.2051282051282053, &quot;y&quot;: 1.4102564102564097, &quot;z&quot;: -0.2855743751375799}, {&quot;x&quot;: -3.2051282051282053, &quot;y&quot;: 1.666666666666666, &quot;z&quot;: -0.2596827679719552}, {&quot;x&quot;: -3.2051282051282053, &quot;y&quot;: 1.9230769230769225, &quot;z&quot;: -0.19629367355494326}, {&quot;x&quot;: -3.2051282051282053, &quot;y&quot;: 2.179487179487179, &quot;z&quot;: -0.09801869890005771}, {&quot;x&quot;: -3.2051282051282053, &quot;y&quot;: 2.4358974358974352, &quot;z&quot;: 0.02005162258719657}, {&quot;x&quot;: -3.2051282051282053, &quot;y&quot;: 2.6923076923076916, &quot;z&quot;: 0.13169628077917828}, {&quot;x&quot;: -3.2051282051282053, &quot;y&quot;: 2.948717948717948, &quot;z&quot;: 0.20626059743173403}, {&quot;x&quot;: -3.2051282051282053, &quot;y&quot;: 3.2051282051282044, &quot;z&quot;: 0.21945165588530727}, {&quot;x&quot;: -3.2051282051282053, &quot;y&quot;: 3.461538461538461, &quot;z&quot;: 0.16437306451431274}, {&quot;x&quot;: -3.2051282051282053, &quot;y&quot;: 3.717948717948717, &quot;z&quot;: 0.05759287954635205}, {&quot;x&quot;: -3.2051282051282053, &quot;y&quot;: 3.9743589743589736, &quot;z&quot;: -0.06386100244520297}, {&quot;x&quot;: -3.2051282051282053, &quot;y&quot;: 4.23076923076923, &quot;z&quot;: -0.15507394328644017}, {&quot;x&quot;: -3.2051282051282053, &quot;y&quot;: 4.487179487179486, &quot;z&quot;: -0.18116306412965302}, {&quot;x&quot;: -3.2051282051282053, &quot;y&quot;: 4.743589743589743, &quot;z&quot;: -0.1328596087593443}, {&quot;x&quot;: -3.2051282051282053, &quot;y&quot;: 5.0, &quot;z&quot;: -0.03202070671104091}, {&quot;x&quot;: -2.948717948717949, &quot;y&quot;: -4.743589743589744, &quot;z&quot;: -0.17263493054486226}, {&quot;x&quot;: -2.948717948717949, &quot;y&quot;: -5.0, &quot;z&quot;: -0.09917570405967141}, {&quot;x&quot;: -2.948717948717949, &quot;y&quot;: -4.487179487179487, &quot;z&quot;: -0.17076952332841072}, {&quot;x&quot;: -2.948717948717949, &quot;y&quot;: -4.230769230769231, &quot;z&quot;: -0.09179654096842373}, {&quot;x&quot;: -2.948717948717949, &quot;y&quot;: -3.9743589743589745, &quot;z&quot;: 0.032372655749033356}, {&quot;x&quot;: -2.948717948717949, &quot;y&quot;: -3.717948717948718, &quot;z&quot;: 0.15118512843530216}, {&quot;x&quot;: -2.948717948717949, &quot;y&quot;: -3.4615384615384617, &quot;z&quot;: 0.21749963044648857}, {&quot;x&quot;: -2.948717948717949, &quot;y&quot;: -3.2051282051282053, &quot;z&quot;: 0.20626059743173433}, {&quot;x&quot;: -2.948717948717949, &quot;y&quot;: -2.948717948717949, &quot;z&quot;: 0.12214466427113943}, {&quot;x&quot;: -2.948717948717949, &quot;y&quot;: -2.6923076923076925, &quot;z&quot;: -0.005565270813887195}, {&quot;x&quot;: -2.948717948717949, &quot;y&quot;: -2.435897435897436, &quot;z&quot;: -0.13680209349327188}, {&quot;x&quot;: -2.948717948717949, &quot;y&quot;: -2.1794871794871797, &quot;z&quot;: -0.23614455601492576}, {&quot;x&quot;: -2.948717948717949, &quot;y&quot;: -1.9230769230769234, &quot;z&quot;: -0.2834765187178331}, {&quot;x&quot;: -2.948717948717949, &quot;y&quot;: -1.666666666666667, &quot;z&quot;: -0.27687046867027165}, {&quot;x&quot;: -2.948717948717949, &quot;y&quot;: -1.4102564102564106, &quot;z&quot;: -0.22859921985486248}, {&quot;x&quot;: -2.948717948717949, &quot;y&quot;: -1.1538461538461542, &quot;z&quot;: -0.15770564198367898}, {&quot;x&quot;: -2.948717948717949, &quot;y&quot;: -0.8974358974358978, &quot;z&quot;: -0.08291366426279477}, {&quot;x&quot;: -2.948717948717949, &quot;y&quot;: -0.6410256410256414, &quot;z&quot;: -0.01830385509779292}, {&quot;x&quot;: -2.948717948717949, &quot;y&quot;: -0.384615384615385, &quot;z&quot;: 0.027757766519312485}, {&quot;x&quot;: -2.948717948717949, &quot;y&quot;: -0.12820512820512864, &quot;z&quot;: 0.05142019026962565}, {&quot;x&quot;: -2.948717948717949, &quot;y&quot;: 0.12820512820512775, &quot;z&quot;: 0.05142019026962626}, {&quot;x&quot;: -2.948717948717949, &quot;y&quot;: 0.38461538461538414, &quot;z&quot;: 0.02775776651931309}, {&quot;x&quot;: -2.948717948717949, &quot;y&quot;: 0.6410256410256405, &quot;z&quot;: -0.01830385509779233}, {&quot;x&quot;: -2.948717948717949, &quot;y&quot;: 0.8974358974358969, &quot;z&quot;: -0.08291366426279477}, {&quot;x&quot;: -2.948717948717949, &quot;y&quot;: 1.1538461538461533, &quot;z&quot;: -0.1577056419836785}, {&quot;x&quot;: -2.948717948717949, &quot;y&quot;: 1.4102564102564097, &quot;z&quot;: -0.22859921985486215}, {&quot;x&quot;: -2.948717948717949, &quot;y&quot;: 1.666666666666666, &quot;z&quot;: -0.27687046867027154}, {&quot;x&quot;: -2.948717948717949, &quot;y&quot;: 1.9230769230769225, &quot;z&quot;: -0.2834765187178332}, {&quot;x&quot;: -2.948717948717949, &quot;y&quot;: 2.179487179487179, &quot;z&quot;: -0.23614455601492598}, {&quot;x&quot;: -2.948717948717949, &quot;y&quot;: 2.4358974358974352, &quot;z&quot;: -0.13680209349327227}, {&quot;x&quot;: -2.948717948717949, &quot;y&quot;: 2.6923076923076916, &quot;z&quot;: -0.005565270813887642}, {&quot;x&quot;: -2.948717948717949, &quot;y&quot;: 2.948717948717948, &quot;z&quot;: 0.12214466427113907}, {&quot;x&quot;: -2.948717948717949, &quot;y&quot;: 3.2051282051282044, &quot;z&quot;: 0.20626059743173403}, {&quot;x&quot;: -2.948717948717949, &quot;y&quot;: 3.461538461538461, &quot;z&quot;: 0.21749963044648865}, {&quot;x&quot;: -2.948717948717949, &quot;y&quot;: 3.717948717948717, &quot;z&quot;: 0.1511851284353025}, {&quot;x&quot;: -2.948717948717949, &quot;y&quot;: 3.9743589743589736, &quot;z&quot;: 0.032372655749034064}, {&quot;x&quot;: -2.948717948717949, &quot;y&quot;: 4.23076923076923, &quot;z&quot;: -0.09179654096842312}, {&quot;x&quot;: -2.948717948717949, &quot;y&quot;: 4.487179487179486, &quot;z&quot;: -0.17076952332841047}, {&quot;x&quot;: -2.948717948717949, &quot;y&quot;: 4.743589743589743, &quot;z&quot;: -0.17263493054486245}, {&quot;x&quot;: -2.948717948717949, &quot;y&quot;: 5.0, &quot;z&quot;: -0.09917570405967141}, {&quot;x&quot;: -2.6923076923076925, &quot;y&quot;: -4.743589743589744, &quot;z&quot;: -0.181458747260568}, {&quot;x&quot;: -2.6923076923076925, &quot;y&quot;: -5.0, &quot;z&quot;: -0.1490423765968959}, {&quot;x&quot;: -2.6923076923076925, &quot;y&quot;: -4.487179487179487, &quot;z&quot;: -0.12767883171207908}, {&quot;x&quot;: -2.6923076923076925, &quot;y&quot;: -4.230769230769231, &quot;z&quot;: -0.009250285950514308}, {&quot;x&quot;: -2.6923076923076925, &quot;y&quot;: -3.9743589743589745, &quot;z&quot;: 0.12222104054936181}, {&quot;x&quot;: -2.6923076923076925, &quot;y&quot;: -3.717948717948718, &quot;z&quot;: 0.20912235190763948}, {&quot;x&quot;: -2.6923076923076925, &quot;y&quot;: -3.4615384615384617, &quot;z&quot;: 0.21338743078659167}, {&quot;x&quot;: -2.6923076923076925, &quot;y&quot;: -3.2051282051282053, &quot;z&quot;: 0.13169628077917828}, {&quot;x&quot;: -2.6923076923076925, &quot;y&quot;: -2.948717948717949, &quot;z&quot;: -0.005565270813887195}, {&quot;x&quot;: -2.6923076923076925, &quot;y&quot;: -2.6923076923076925, &quot;z&quot;: -0.14932821393162232}, {&quot;x&quot;: -2.6923076923076925, &quot;y&quot;: -2.435897435897436, &quot;z&quot;: -0.25252736907253187}, {&quot;x&quot;: -2.6923076923076925, &quot;y&quot;: -2.1794871794871797, &quot;z&quot;: -0.2868375581433094}, {&quot;x&quot;: -2.6923076923076925, &quot;y&quot;: -1.9230769230769234, &quot;z&quot;: -0.24922323562680584}, {&quot;x&quot;: -2.6923076923076925, &quot;y&quot;: -1.666666666666667, &quot;z&quot;: -0.15770564198367898}, {&quot;x&quot;: -2.6923076923076925, &quot;y&quot;: -1.4102564102564106, &quot;z&quot;: -0.04051947339047555}, {&quot;x&quot;: -2.6923076923076925, &quot;y&quot;: -1.1538461538461542, &quot;z&quot;: 0.07536961333393281}, {&quot;x&quot;: -2.6923076923076925, &quot;y&quot;: -0.8974358974358978, &quot;z&quot;: 0.1717479510744085}, {&quot;x&quot;: -2.6923076923076925, &quot;y&quot;: -0.6410256410256414, &quot;z&quot;: 0.2410140284630488}, {&quot;x&quot;: -2.6923076923076925, &quot;y&quot;: -0.384615384615385, &quot;z&quot;: 0.2835780881782833}, {&quot;x&quot;: -2.6923076923076925, &quot;y&quot;: -0.12820512820512864, &quot;z&quot;: 0.3032997883859571}, {&quot;x&quot;: -2.6923076923076925, &quot;y&quot;: 0.12820512820512775, &quot;z&quot;: 0.3032997883859571}, {&quot;x&quot;: -2.6923076923076925, &quot;y&quot;: 0.38461538461538414, &quot;z&quot;: 0.2835780881782833}, {&quot;x&quot;: -2.6923076923076925, &quot;y&quot;: 0.6410256410256405, &quot;z&quot;: 0.24101402846304884}, {&quot;x&quot;: -2.6923076923076925, &quot;y&quot;: 0.8974358974358969, &quot;z&quot;: 0.17174795107440904}, {&quot;x&quot;: -2.6923076923076925, &quot;y&quot;: 1.1538461538461533, &quot;z&quot;: 0.07536961333393341}, {&quot;x&quot;: -2.6923076923076925, &quot;y&quot;: 1.4102564102564097, &quot;z&quot;: -0.040519473390474396}, {&quot;x&quot;: -2.6923076923076925, &quot;y&quot;: 1.666666666666666, &quot;z&quot;: -0.1577056419836785}, {&quot;x&quot;: -2.6923076923076925, &quot;y&quot;: 1.9230769230769225, &quot;z&quot;: -0.2492232356268056}, {&quot;x&quot;: -2.6923076923076925, &quot;y&quot;: 2.179487179487179, &quot;z&quot;: -0.2868375581433094}, {&quot;x&quot;: -2.6923076923076925, &quot;y&quot;: 2.4358974358974352, &quot;z&quot;: -0.2525273690725323}, {&quot;x&quot;: -2.6923076923076925, &quot;y&quot;: 2.6923076923076916, &quot;z&quot;: -0.14932821393162313}, {&quot;x&quot;: -2.6923076923076925, &quot;y&quot;: 2.948717948717948, &quot;z&quot;: -0.005565270813887642}, {&quot;x&quot;: -2.6923076923076925, &quot;y&quot;: 3.2051282051282044, &quot;z&quot;: 0.1316962807791776}, {&quot;x&quot;: -2.6923076923076925, &quot;y&quot;: 3.461538461538461, &quot;z&quot;: 0.21338743078659142}, {&quot;x&quot;: -2.6923076923076925, &quot;y&quot;: 3.717948717948717, &quot;z&quot;: 0.2091223519076397}, {&quot;x&quot;: -2.6923076923076925, &quot;y&quot;: 3.9743589743589736, &quot;z&quot;: 0.12222104054936214}, {&quot;x&quot;: -2.6923076923076925, &quot;y&quot;: 4.23076923076923, &quot;z&quot;: -0.009250285950513604}, {&quot;x&quot;: -2.6923076923076925, &quot;y&quot;: 4.487179487179486, &quot;z&quot;: -0.12767883171207858}, {&quot;x&quot;: -2.6923076923076925, &quot;y&quot;: 4.743589743589743, &quot;z&quot;: -0.18145874726056793}, {&quot;x&quot;: -2.6923076923076925, &quot;y&quot;: 5.0, &quot;z&quot;: -0.1490423765968959}, {&quot;x&quot;: -2.435897435897436, &quot;y&quot;: -4.743589743589744, &quot;z&quot;: -0.1621512332779497}, {&quot;x&quot;: -2.435897435897436, &quot;y&quot;: -5.0, &quot;z&quot;: -0.17642014222082292}, {&quot;x&quot;: -2.435897435897436, &quot;y&quot;: -4.487179487179487, &quot;z&quot;: -0.06386100244520297}, {&quot;x&quot;: -2.435897435897436, &quot;y&quot;: -4.230769230769231, &quot;z&quot;: 0.07426425040162632}, {&quot;x&quot;: -2.435897435897436, &quot;y&quot;: -3.9743589743589745, &quot;z&quot;: 0.18751704244724113}, {&quot;x&quot;: -2.435897435897436, &quot;y&quot;: -3.717948717948718, &quot;z&quot;: 0.22161150667081955}, {&quot;x&quot;: -2.435897435897436, &quot;y&quot;: -3.4615384615384617, &quot;z&quot;: 0.15774217011848968}, {&quot;x&quot;: -2.435897435897436, &quot;y&quot;: -3.2051282051282053, &quot;z&quot;: 0.02005162258719657}, {&quot;x&quot;: -2.435897435897436, &quot;y&quot;: -2.948717948717949, &quot;z&quot;: -0.13680209349327188}, {&quot;x&quot;: -2.435897435897436, &quot;y&quot;: -2.6923076923076925, &quot;z&quot;: -0.25252736907253187}, {&quot;x&quot;: -2.435897435897436, &quot;y&quot;: -2.435897435897436, &quot;z&quot;: -0.28594442583519325}, {&quot;x&quot;: -2.435897435897436, &quot;y&quot;: -2.1794871794871797, &quot;z&quot;: -0.22859921985486248}, {&quot;x&quot;: -2.435897435897436, &quot;y&quot;: -1.9230769230769234, &quot;z&quot;: -0.10295020095341274}, {&quot;x&quot;: -2.435897435897436, &quot;y&quot;: -1.666666666666667, &quot;z&quot;: 0.05142019026962565}, {&quot;x&quot;: -2.435897435897436, &quot;y&quot;: -1.4102564102564106, &quot;z&quot;: 0.1953560652597386}, {&quot;x&quot;: -2.435897435897436, &quot;y&quot;: -1.1538461538461542, &quot;z&quot;: 0.303299788385957}, {&quot;x&quot;: -2.435897435897436, &quot;y&quot;: -0.8974358974358978, &quot;z&quot;: 0.36784352552862964}, {&quot;x&quot;: -2.435897435897436, &quot;y&quot;: -0.6410256410256414, &quot;z&quot;: 0.39631500866096975}, {&quot;x&quot;: -2.435897435897436, &quot;y&quot;: -0.384615384615385, &quot;z&quot;: 0.40320180479496565}, {&quot;x&quot;: -2.435897435897436, &quot;y&quot;: -0.12820512820512864, &quot;z&quot;: 0.40251990402331794}, {&quot;x&quot;: -2.435897435897436, &quot;y&quot;: 0.12820512820512775, &quot;z&quot;: 0.40251990402331794}, {&quot;x&quot;: -2.435897435897436, &quot;y&quot;: 0.38461538461538414, &quot;z&quot;: 0.40320180479496565}, {&quot;x&quot;: -2.435897435897436, &quot;y&quot;: 0.6410256410256405, &quot;z&quot;: 0.39631500866096975}, {&quot;x&quot;: -2.435897435897436, &quot;y&quot;: 0.8974358974358969, &quot;z&quot;: 0.36784352552862976}, {&quot;x&quot;: -2.435897435897436, &quot;y&quot;: 1.1538461538461533, &quot;z&quot;: 0.3032997883859571}, {&quot;x&quot;: -2.435897435897436, &quot;y&quot;: 1.4102564102564097, &quot;z&quot;: 0.19535606525973917}, {&quot;x&quot;: -2.435897435897436, &quot;y&quot;: 1.666666666666666, &quot;z&quot;: 0.05142019026962626}, {&quot;x&quot;: -2.435897435897436, &quot;y&quot;: 1.9230769230769225, &quot;z&quot;: -0.10295020095341223}, {&quot;x&quot;: -2.435897435897436, &quot;y&quot;: 2.179487179487179, &quot;z&quot;: -0.22859921985486215}, {&quot;x&quot;: -2.435897435897436, &quot;y&quot;: 2.4358974358974352, &quot;z&quot;: -0.2859444258351932}, {&quot;x&quot;: -2.435897435897436, &quot;y&quot;: 2.6923076923076916, &quot;z&quot;: -0.2525273690725323}, {&quot;x&quot;: -2.435897435897436, &quot;y&quot;: 2.948717948717948, &quot;z&quot;: -0.13680209349327227}, {&quot;x&quot;: -2.435897435897436, &quot;y&quot;: 3.2051282051282044, &quot;z&quot;: 0.020051622587195696}, {&quot;x&quot;: -2.435897435897436, &quot;y&quot;: 3.461538461538461, &quot;z&quot;: 0.1577421701184894}, {&quot;x&quot;: -2.435897435897436, &quot;y&quot;: 3.717948717948717, &quot;z&quot;: 0.22161150667081944}, {&quot;x&quot;: -2.435897435897436, &quot;y&quot;: 3.9743589743589736, &quot;z&quot;: 0.18751704244724113}, {&quot;x&quot;: -2.435897435897436, &quot;y&quot;: 4.23076923076923, &quot;z&quot;: 0.07426425040162701}, {&quot;x&quot;: -2.435897435897436, &quot;y&quot;: 4.487179487179486, &quot;z&quot;: -0.06386100244520297}, {&quot;x&quot;: -2.435897435897436, &quot;y&quot;: 4.743589743589743, &quot;z&quot;: -0.16215123327794975}, {&quot;x&quot;: -2.435897435897436, &quot;y&quot;: 5.0, &quot;z&quot;: -0.17642014222082292}, {&quot;x&quot;: -2.1794871794871797, &quot;y&quot;: -4.743589743589744, &quot;z&quot;: -0.12225553877823543}, {&quot;x&quot;: -2.1794871794871797, &quot;y&quot;: -5.0, &quot;z&quot;: -0.181458747260568}, {&quot;x&quot;: -2.1794871794871797, &quot;y&quot;: -4.487179487179487, &quot;z&quot;: 0.00725264009597958}, {&quot;x&quot;: -2.1794871794871797, &quot;y&quot;: -4.230769230769231, &quot;z&quot;: 0.14424318539582479}, {&quot;x&quot;: -2.1794871794871797, &quot;y&quot;: -3.9743589743589745, &quot;z&quot;: 0.21945165588530713}, {&quot;x&quot;: -2.1794871794871797, &quot;y&quot;: -3.717948717948718, &quot;z&quot;: 0.19177960940564062}, {&quot;x&quot;: -2.1794871794871797, &quot;y&quot;: -3.4615384615384617, &quot;z&quot;: 0.06859293033635439}, {&quot;x&quot;: -2.1794871794871797, &quot;y&quot;: -3.2051282051282053, &quot;z&quot;: -0.09801869890005727}, {&quot;x&quot;: -2.1794871794871797, &quot;y&quot;: -2.948717948717949, &quot;z&quot;: -0.23614455601492576}, {&quot;x&quot;: -2.1794871794871797, &quot;y&quot;: -2.6923076923076925, &quot;z&quot;: -0.2868375581433094}, {&quot;x&quot;: -2.1794871794871797, &quot;y&quot;: -2.435897435897436, &quot;z&quot;: -0.22859921985486248}, {&quot;x&quot;: -2.1794871794871797, &quot;y&quot;: -2.1794871794871797, &quot;z&quot;: -0.08291366426279477}, {&quot;x&quot;: -2.1794871794871797, &quot;y&quot;: -1.9230769230769234, &quot;z&quot;: 0.09949673187583687}, {&quot;x&quot;: -2.1794871794871797, &quot;y&quot;: -1.666666666666667, &quot;z&quot;: 0.2627616487482757}, {&quot;x&quot;: -2.1794871794871797, &quot;y&quot;: -1.4102564102564106, &quot;z&quot;: 0.36784352552862964}, {&quot;x&quot;: -2.1794871794871797, &quot;y&quot;: -1.1538461538461542, &quot;z&quot;: 0.40320180479496565}, {&quot;x&quot;: -2.1794871794871797, &quot;y&quot;: -0.8974358974358978, &quot;z&quot;: 0.38217914697454497}, {&quot;x&quot;: -2.1794871794871797, &quot;y&quot;: -0.6410256410256414, &quot;z&quot;: 0.33182490974641554}, {&quot;x&quot;: -2.1794871794871797, &quot;y&quot;: -0.384615384615385, &quot;z&quot;: 0.2804717729699191}, {&quot;x&quot;: -2.1794871794871797, &quot;y&quot;: -0.12820512820512864, &quot;z&quot;: 0.24936703371622507}, {&quot;x&quot;: -2.1794871794871797, &quot;y&quot;: 0.12820512820512775, &quot;z&quot;: 0.24936703371622507}, {&quot;x&quot;: -2.1794871794871797, &quot;y&quot;: 0.38461538461538414, &quot;z&quot;: 0.2804717729699191}, {&quot;x&quot;: -2.1794871794871797, &quot;y&quot;: 0.6410256410256405, &quot;z&quot;: 0.3318249097464151}, {&quot;x&quot;: -2.1794871794871797, &quot;y&quot;: 0.8974358974358969, &quot;z&quot;: 0.38217914697454475}, {&quot;x&quot;: -2.1794871794871797, &quot;y&quot;: 1.1538461538461533, &quot;z&quot;: 0.40320180479496565}, {&quot;x&quot;: -2.1794871794871797, &quot;y&quot;: 1.4102564102564097, &quot;z&quot;: 0.36784352552862976}, {&quot;x&quot;: -2.1794871794871797, &quot;y&quot;: 1.666666666666666, &quot;z&quot;: 0.2627616487482761}, {&quot;x&quot;: -2.1794871794871797, &quot;y&quot;: 1.9230769230769225, &quot;z&quot;: 0.09949673187583748}, {&quot;x&quot;: -2.1794871794871797, &quot;y&quot;: 2.179487179487179, &quot;z&quot;: -0.08291366426279477}, {&quot;x&quot;: -2.1794871794871797, &quot;y&quot;: 2.4358974358974352, &quot;z&quot;: -0.22859921985486215}, {&quot;x&quot;: -2.1794871794871797, &quot;y&quot;: 2.6923076923076916, &quot;z&quot;: -0.2868375581433094}, {&quot;x&quot;: -2.1794871794871797, &quot;y&quot;: 2.948717948717948, &quot;z&quot;: -0.23614455601492604}, {&quot;x&quot;: -2.1794871794871797, &quot;y&quot;: 3.2051282051282044, &quot;z&quot;: -0.09801869890005771}, {&quot;x&quot;: -2.1794871794871797, &quot;y&quot;: 3.461538461538461, &quot;z&quot;: 0.06859293033635355}, {&quot;x&quot;: -2.1794871794871797, &quot;y&quot;: 3.717948717948717, &quot;z&quot;: 0.19177960940564043}, {&quot;x&quot;: -2.1794871794871797, &quot;y&quot;: 3.9743589743589736, &quot;z&quot;: 0.21945165588530727}, {&quot;x&quot;: -2.1794871794871797, &quot;y&quot;: 4.23076923076923, &quot;z&quot;: 0.1442431853958254}, {&quot;x&quot;: -2.1794871794871797, &quot;y&quot;: 4.487179487179486, &quot;z&quot;: 0.007252640095980293}, {&quot;x&quot;: -2.1794871794871797, &quot;y&quot;: 4.743589743589743, &quot;z&quot;: -0.12225553877823545}, {&quot;x&quot;: -2.1794871794871797, &quot;y&quot;: 5.0, &quot;z&quot;: -0.181458747260568}, {&quot;x&quot;: -1.9230769230769234, &quot;y&quot;: -4.743589743589744, &quot;z&quot;: -0.07110861736368898}, {&quot;x&quot;: -1.9230769230769234, &quot;y&quot;: -5.0, &quot;z&quot;: -0.1681651388148705}, {&quot;x&quot;: -1.9230769230769234, &quot;y&quot;: -4.487179487179487, &quot;z&quot;: 0.07426425040162564}, {&quot;x&quot;: -1.9230769230769234, &quot;y&quot;: -4.230769230769231, &quot;z&quot;: 0.19253864247086708}, {&quot;x&quot;: -1.9230769230769234, &quot;y&quot;: -3.9743589743589745, &quot;z&quot;: 0.21849671405696244}, {&quot;x&quot;: -1.9230769230769234, &quot;y&quot;: -3.717948717948718, &quot;z&quot;: 0.13169628077917828}, {&quot;x&quot;: -1.9230769230769234, &quot;y&quot;: -3.4615384615384617, &quot;z&quot;: -0.03176290856153143}, {&quot;x&quot;: -1.9230769230769234, &quot;y&quot;: -3.2051282051282053, &quot;z&quot;: -0.19629367355494298}, {&quot;x&quot;: -1.9230769230769234, &quot;y&quot;: -2.948717948717949, &quot;z&quot;: -0.2834765187178331}, {&quot;x&quot;: -1.9230769230769234, &quot;y&quot;: -2.6923076923076925, &quot;z&quot;: -0.24922323562680584}, {&quot;x&quot;: -1.9230769230769234, &quot;y&quot;: -2.435897435897436, &quot;z&quot;: -0.10295020095341274}, {&quot;x&quot;: -1.9230769230769234, &quot;y&quot;: -2.1794871794871797, &quot;z&quot;: 0.09949673187583687}, {&quot;x&quot;: -1.9230769230769234, &quot;y&quot;: -1.9230769230769234, &quot;z&quot;: 0.2835780881782833}, {&quot;x&quot;: -1.9230769230769234, &quot;y&quot;: -1.666666666666667, &quot;z&quot;: 0.389072898514482}, {&quot;x&quot;: -1.9230769230769234, &quot;y&quot;: -1.4102564102564106, &quot;z&quot;: 0.39214527958875234}, {&quot;x&quot;: -1.9230769230769234, &quot;y&quot;: -1.1538461538461542, &quot;z&quot;: 0.30795661143730024}, {&quot;x&quot;: -1.9230769230769234, &quot;y&quot;: -0.8974358974358978, &quot;z&quot;: 0.1764520585313724}, {&quot;x&quot;: -1.9230769230769234, &quot;y&quot;: -0.6410256410256414, &quot;z&quot;: 0.04195038936514416}, {&quot;x&quot;: -1.9230769230769234, &quot;y&quot;: -0.384615384615385, &quot;z&quot;: -0.062061535024022604}, {&quot;x&quot;: -1.9230769230769234, &quot;y&quot;: -0.12820512820512864, &quot;z&quot;: -0.11740161711927179}, {&quot;x&quot;: -1.9230769230769234, &quot;y&quot;: 0.12820512820512775, &quot;z&quot;: -0.11740161711927179}, {&quot;x&quot;: -1.9230769230769234, &quot;y&quot;: 0.38461538461538414, &quot;z&quot;: -0.062061535024023055}, {&quot;x&quot;: -1.9230769230769234, &quot;y&quot;: 0.6410256410256405, &quot;z&quot;: 0.04195038936514374}, {&quot;x&quot;: -1.9230769230769234, &quot;y&quot;: 0.8974358974358969, &quot;z&quot;: 0.17645205853137205}, {&quot;x&quot;: -1.9230769230769234, &quot;y&quot;: 1.1538461538461533, &quot;z&quot;: 0.30795661143729963}, {&quot;x&quot;: -1.9230769230769234, &quot;y&quot;: 1.4102564102564097, &quot;z&quot;: 0.39214527958875217}, {&quot;x&quot;: -1.9230769230769234, &quot;y&quot;: 1.666666666666666, &quot;z&quot;: 0.3890728985144823}, {&quot;x&quot;: -1.9230769230769234, &quot;y&quot;: 1.9230769230769225, &quot;z&quot;: 0.2835780881782838}, {&quot;x&quot;: -1.9230769230769234, &quot;y&quot;: 2.179487179487179, &quot;z&quot;: 0.09949673187583807}, {&quot;x&quot;: -1.9230769230769234, &quot;y&quot;: 2.4358974358974352, &quot;z&quot;: -0.10295020095341224}, {&quot;x&quot;: -1.9230769230769234, &quot;y&quot;: 2.6923076923076916, &quot;z&quot;: -0.2492232356268056}, {&quot;x&quot;: -1.9230769230769234, &quot;y&quot;: 2.948717948717948, &quot;z&quot;: -0.2834765187178332}, {&quot;x&quot;: -1.9230769230769234, &quot;y&quot;: 3.2051282051282044, &quot;z&quot;: -0.19629367355494365}, {&quot;x&quot;: -1.9230769230769234, &quot;y&quot;: 3.461538461538461, &quot;z&quot;: -0.031762908561532334}, {&quot;x&quot;: -1.9230769230769234, &quot;y&quot;: 3.717948717948717, &quot;z&quot;: 0.1316962807791776}, {&quot;x&quot;: -1.9230769230769234, &quot;y&quot;: 3.9743589743589736, &quot;z&quot;: 0.21849671405696225}, {&quot;x&quot;: -1.9230769230769234, &quot;y&quot;: 4.23076923076923, &quot;z&quot;: 0.19253864247086708}, {&quot;x&quot;: -1.9230769230769234, &quot;y&quot;: 4.487179487179486, &quot;z&quot;: 0.07426425040162632}, {&quot;x&quot;: -1.9230769230769234, &quot;y&quot;: 4.743589743589743, &quot;z&quot;: -0.07110861736368898}, {&quot;x&quot;: -1.9230769230769234, &quot;y&quot;: 5.0, &quot;z&quot;: -0.1681651388148705}, {&quot;x&quot;: -1.666666666666667, &quot;y&quot;: -4.743589743589744, &quot;z&quot;: -0.01738852540015784}, {&quot;x&quot;: -1.666666666666667, &quot;y&quot;: -5.0, &quot;z&quot;: -0.14250583708975548}, {&quot;x&quot;: -1.666666666666667, &quot;y&quot;: -4.487179487179487, &quot;z&quot;: 0.12974477006536733}, {&quot;x&quot;: -1.666666666666667, &quot;y&quot;: -4.230769230769231, &quot;z&quot;: 0.21749963044648857}, {&quot;x&quot;: -1.666666666666667, &quot;y&quot;: -3.9743589743589745, &quot;z&quot;: 0.19177960940564062}, {&quot;x&quot;: -1.666666666666667, &quot;y&quot;: -3.717948717948718, &quot;z&quot;: 0.056862409133510455}, {&quot;x&quot;: -1.666666666666667, &quot;y&quot;: -3.4615384615384617, &quot;z&quot;: -0.12404748116237611}, {&quot;x&quot;: -1.666666666666667, &quot;y&quot;: -3.2051282051282053, &quot;z&quot;: -0.259682767971955}, {&quot;x&quot;: -1.666666666666667, &quot;y&quot;: -2.948717948717949, &quot;z&quot;: -0.27687046867027165}, {&quot;x&quot;: -1.666666666666667, &quot;y&quot;: -2.6923076923076925, &quot;z&quot;: -0.15770564198367898}, {&quot;x&quot;: -1.666666666666667, &quot;y&quot;: -2.435897435897436, &quot;z&quot;: 0.05142019026962565}, {&quot;x&quot;: -1.666666666666667, &quot;y&quot;: -2.1794871794871797, &quot;z&quot;: 0.2627616487482757}, {&quot;x&quot;: -1.666666666666667, &quot;y&quot;: -1.9230769230769234, &quot;z&quot;: 0.389072898514482}, {&quot;x&quot;: -1.666666666666667, &quot;y&quot;: -1.666666666666667, &quot;z&quot;: 0.38217914697454497}, {&quot;x&quot;: -1.666666666666667, &quot;y&quot;: -1.4102564102564106, &quot;z&quot;: 0.24936703371622507}, {&quot;x&quot;: -1.666666666666667, &quot;y&quot;: -1.1538461538461542, &quot;z&quot;: 0.04195038936514416}, {&quot;x&quot;: -1.666666666666667, &quot;y&quot;: -0.8974358974358978, &quot;z&quot;: -0.17437277928309503}, {&quot;x&quot;: -1.666666666666667, &quot;y&quot;: -0.6410256410256414, &quot;z&quot;: -0.3491911770542299}, {&quot;x&quot;: -1.666666666666667, &quot;y&quot;: -0.384615384615385, &quot;z&quot;: -0.461422742086449}, {&quot;x&quot;: -1.666666666666667, &quot;y&quot;: -0.12820512820512864, &quot;z&quot;: -0.5133961102840859}, {&quot;x&quot;: -1.666666666666667, &quot;y&quot;: 0.12820512820512775, &quot;z&quot;: -0.5133961102840859}, {&quot;x&quot;: -1.666666666666667, &quot;y&quot;: 0.38461538461538414, &quot;z&quot;: -0.461422742086449}, {&quot;x&quot;: -1.666666666666667, &quot;y&quot;: 0.6410256410256405, &quot;z&quot;: -0.34919117705423036}, {&quot;x&quot;: -1.666666666666667, &quot;y&quot;: 0.8974358974358969, &quot;z&quot;: -0.17437277928309503}, {&quot;x&quot;: -1.666666666666667, &quot;y&quot;: 1.1538461538461533, &quot;z&quot;: 0.04195038936514374}, {&quot;x&quot;: -1.666666666666667, &quot;y&quot;: 1.4102564102564097, &quot;z&quot;: 0.24936703371622443}, {&quot;x&quot;: -1.666666666666667, &quot;y&quot;: 1.666666666666666, &quot;z&quot;: 0.38217914697454464}, {&quot;x&quot;: -1.666666666666667, &quot;y&quot;: 1.9230769230769225, &quot;z&quot;: 0.3890728985144823}, {&quot;x&quot;: -1.666666666666667, &quot;y&quot;: 2.179487179487179, &quot;z&quot;: 0.2627616487482761}, {&quot;x&quot;: -1.666666666666667, &quot;y&quot;: 2.4358974358974352, &quot;z&quot;: 0.05142019026962687}, {&quot;x&quot;: -1.666666666666667, &quot;y&quot;: 2.6923076923076916, &quot;z&quot;: -0.1577056419836785}, {&quot;x&quot;: -1.666666666666667, &quot;y&quot;: 2.948717948717948, &quot;z&quot;: -0.2768704686702714}, {&quot;x&quot;: -1.666666666666667, &quot;y&quot;: 3.2051282051282044, &quot;z&quot;: -0.2596827679719554}, {&quot;x&quot;: -1.666666666666667, &quot;y&quot;: 3.461538461538461, &quot;z&quot;: -0.12404748116237656}, {&quot;x&quot;: -1.666666666666667, &quot;y&quot;: 3.717948717948717, &quot;z&quot;: 0.056862409133509616}, {&quot;x&quot;: -1.666666666666667, &quot;y&quot;: 3.9743589743589736, &quot;z&quot;: 0.19177960940564043}, {&quot;x&quot;: -1.666666666666667, &quot;y&quot;: 4.23076923076923, &quot;z&quot;: 0.21749963044648865}, {&quot;x&quot;: -1.666666666666667, &quot;y&quot;: 4.487179487179486, &quot;z&quot;: 0.12974477006536764}, {&quot;x&quot;: -1.666666666666667, &quot;y&quot;: 4.743589743589743, &quot;z&quot;: -0.01738852540015714}, {&quot;x&quot;: -1.666666666666667, &quot;y&quot;: 5.0, &quot;z&quot;: -0.14250583708975548}, {&quot;x&quot;: -1.4102564102564106, &quot;y&quot;: -4.743589743589744, &quot;z&quot;: 0.032372655749033356}, {&quot;x&quot;: -1.4102564102564106, &quot;y&quot;: -5.0, &quot;z&quot;: -0.11072072650585248}, {&quot;x&quot;: -1.4102564102564106, &quot;y&quot;: -4.487179487179487, &quot;z&quot;: 0.17058680183190766}, {&quot;x&quot;: -1.4102564102564106, &quot;y&quot;: -4.230769230769231, &quot;z&quot;: 0.22243257961224736}, {&quot;x&quot;: -1.4102564102564106, &quot;y&quot;: -3.9743589743589745, &quot;z&quot;: 0.14950837516294282}, {&quot;x&quot;: -1.4102564102564106, &quot;y&quot;: -3.717948717948718, &quot;z&quot;: -0.018607513033307106}, {&quot;x&quot;: -1.4102564102564106, &quot;y&quot;: -3.4615384615384617, &quot;z&quot;: -0.19629367355494326}, {&quot;x&quot;: -1.4102564102564106, &quot;y&quot;: -3.2051282051282053, &quot;z&quot;: -0.2855743751375799}, {&quot;x&quot;: -1.4102564102564106, &quot;y&quot;: -2.948717948717949, &quot;z&quot;: -0.22859921985486248}, {&quot;x&quot;: -1.4102564102564106, &quot;y&quot;: -2.6923076923076925, &quot;z&quot;: -0.04051947339047555}, {&quot;x&quot;: -1.4102564102564106, &quot;y&quot;: -2.435897435897436, &quot;z&quot;: 0.1953560652597386}, {&quot;x&quot;: -1.4102564102564106, &quot;y&quot;: -2.1794871794871797, &quot;z&quot;: 0.36784352552862964}, {&quot;x&quot;: -1.4102564102564106, &quot;y&quot;: -1.9230769230769234, &quot;z&quot;: 0.39214527958875234}, {&quot;x&quot;: -1.4102564102564106, &quot;y&quot;: -1.666666666666667, &quot;z&quot;: 0.24936703371622507}, {&quot;x&quot;: -1.4102564102564106, &quot;y&quot;: -1.4102564102564106, &quot;z&quot;: -0.008814793892181807}, {&quot;x&quot;: -1.4102564102564106, &quot;y&quot;: -1.1538461538461542, &quot;z&quot;: -0.2909471751707847}, {&quot;x&quot;: -1.4102564102564106, &quot;y&quot;: -0.8974358974358978, &quot;z&quot;: -0.5133961102840857}, {&quot;x&quot;: -1.4102564102564106, &quot;y&quot;: -0.6410256410256414, &quot;z&quot;: -0.6378653553566377}, {&quot;x&quot;: -1.4102564102564106, &quot;y&quot;: -0.384615384615385, &quot;z&quot;: -0.6791754504995728}, {&quot;x&quot;: -1.4102564102564106, &quot;y&quot;: -0.12820512820512864, &quot;z&quot;: -0.6817736703067452}, {&quot;x&quot;: -1.4102564102564106, &quot;y&quot;: 0.12820512820512775, &quot;z&quot;: -0.6817736703067451}, {&quot;x&quot;: -1.4102564102564106, &quot;y&quot;: 0.38461538461538414, &quot;z&quot;: -0.679175450499573}, {&quot;x&quot;: -1.4102564102564106, &quot;y&quot;: 0.6410256410256405, &quot;z&quot;: -0.6378653553566379}, {&quot;x&quot;: -1.4102564102564106, &quot;y&quot;: 0.8974358974358969, &quot;z&quot;: -0.5133961102840863}, {&quot;x&quot;: -1.4102564102564106, &quot;y&quot;: 1.1538461538461533, &quot;z&quot;: -0.2909471751707856}, {&quot;x&quot;: -1.4102564102564106, &quot;y&quot;: 1.4102564102564097, &quot;z&quot;: -0.008814793892183148}, {&quot;x&quot;: -1.4102564102564106, &quot;y&quot;: 1.666666666666666, &quot;z&quot;: 0.24936703371622443}, {&quot;x&quot;: -1.4102564102564106, &quot;y&quot;: 1.9230769230769225, &quot;z&quot;: 0.39214527958875217}, {&quot;x&quot;: -1.4102564102564106, &quot;y&quot;: 2.179487179487179, &quot;z&quot;: 0.36784352552862976}, {&quot;x&quot;: -1.4102564102564106, &quot;y&quot;: 2.4358974358974352, &quot;z&quot;: 0.1953560652597397}, {&quot;x&quot;: -1.4102564102564106, &quot;y&quot;: 2.6923076923076916, &quot;z&quot;: -0.040519473390474396}, {&quot;x&quot;: -1.4102564102564106, &quot;y&quot;: 2.948717948717948, &quot;z&quot;: -0.2285992198548618}, {&quot;x&quot;: -1.4102564102564106, &quot;y&quot;: 3.2051282051282044, &quot;z&quot;: -0.28557437513757994}, {&quot;x&quot;: -1.4102564102564106, &quot;y&quot;: 3.461538461538461, &quot;z&quot;: -0.19629367355494395}, {&quot;x&quot;: -1.4102564102564106, &quot;y&quot;: 3.717948717948717, &quot;z&quot;: -0.01860751303330755}, {&quot;x&quot;: -1.4102564102564106, &quot;y&quot;: 3.9743589743589736, &quot;z&quot;: 0.1495083751629422}, {&quot;x&quot;: -1.4102564102564106, &quot;y&quot;: 4.23076923076923, &quot;z&quot;: 0.22243257961224733}, {&quot;x&quot;: -1.4102564102564106, &quot;y&quot;: 4.487179487179486, &quot;z&quot;: 0.17058680183190766}, {&quot;x&quot;: -1.4102564102564106, &quot;y&quot;: 4.743589743589743, &quot;z&quot;: 0.032372655749034064}, {&quot;x&quot;: -1.4102564102564106, &quot;y&quot;: 5.0, &quot;z&quot;: -0.11072072650585248}, {&quot;x&quot;: -1.1538461538461542, &quot;y&quot;: -4.743589743589744, &quot;z&quot;: 0.07426425040162632}, {&quot;x&quot;: -1.1538461538461542, &quot;y&quot;: -5.0, &quot;z&quot;: -0.07818654606831722}, {&quot;x&quot;: -1.1538461538461542, &quot;y&quot;: -4.487179487179487, &quot;z&quot;: 0.19722429601204408}, {&quot;x&quot;: -1.1538461538461542, &quot;y&quot;: -4.230769230769231, &quot;z&quot;: 0.21338743078659142}, {&quot;x&quot;: -1.1538461538461542, &quot;y&quot;: -3.9743589743589745, &quot;z&quot;: 0.10182765566147567}, {&quot;x&quot;: -1.1538461538461542, &quot;y&quot;: -3.717948717948718, &quot;z&quot;: -0.084825533540923}, {&quot;x&quot;: -1.1538461538461542, &quot;y&quot;: -3.4615384615384617, &quot;z&quot;: -0.24466721047350626}, {&quot;x&quot;: -1.1538461538461542, &quot;y&quot;: -3.2051282051282053, &quot;z&quot;: -0.28098190137561274}, {&quot;x&quot;: -1.1538461538461542, &quot;y&quot;: -2.948717948717949, &quot;z&quot;: -0.15770564198367898}, {&quot;x&quot;: -1.1538461538461542, &quot;y&quot;: -2.6923076923076925, &quot;z&quot;: 0.07536961333393281}, {&quot;x&quot;: -1.1538461538461542, &quot;y&quot;: -2.435897435897436, &quot;z&quot;: 0.303299788385957}, {&quot;x&quot;: -1.1538461538461542, &quot;y&quot;: -2.1794871794871797, &quot;z&quot;: 0.40320180479496565}, {&quot;x&quot;: -1.1538461538461542, &quot;y&quot;: -1.9230769230769234, &quot;z&quot;: 0.30795661143730024}, {&quot;x&quot;: -1.1538461538461542, &quot;y&quot;: -1.666666666666667, &quot;z&quot;: 0.04195038936514416}, {&quot;x&quot;: -1.1538461538461542, &quot;y&quot;: -1.4102564102564106, &quot;z&quot;: -0.2909471751707847}, {&quot;x&quot;: -1.1538461538461542, &quot;y&quot;: -1.1538461538461542, &quot;z&quot;: -0.5610502140446171}, {&quot;x&quot;: -1.1538461538461542, &quot;y&quot;: -0.8974358974358978, &quot;z&quot;: -0.6791754504995728}, {&quot;x&quot;: -1.1538461538461542, &quot;y&quot;: -0.6410256410256414, &quot;z&quot;: -0.639604866693515}, {&quot;x&quot;: -1.1538461538461542, &quot;y&quot;: -0.384615384615385, &quot;z&quot;: -0.5166068451590108}, {&quot;x&quot;: -1.1538461538461542, &quot;y&quot;: -0.12820512820512864, &quot;z&quot;: -0.41720956339767595}, {&quot;x&quot;: -1.1538461538461542, &quot;y&quot;: 0.12820512820512775, &quot;z&quot;: -0.41720956339767595}, {&quot;x&quot;: -1.1538461538461542, &quot;y&quot;: 0.38461538461538414, &quot;z&quot;: -0.5166068451590102}, {&quot;x&quot;: -1.1538461538461542, &quot;y&quot;: 0.6410256410256405, &quot;z&quot;: -0.6396048666935145}, {&quot;x&quot;: -1.1538461538461542, &quot;y&quot;: 0.8974358974358969, &quot;z&quot;: -0.679175450499573}, {&quot;x&quot;: -1.1538461538461542, &quot;y&quot;: 1.1538461538461533, &quot;z&quot;: -0.5610502140446174}, {&quot;x&quot;: -1.1538461538461542, &quot;y&quot;: 1.4102564102564097, &quot;z&quot;: -0.29094717517078605}, {&quot;x&quot;: -1.1538461538461542, &quot;y&quot;: 1.666666666666666, &quot;z&quot;: 0.04195038936514287}, {&quot;x&quot;: -1.1538461538461542, &quot;y&quot;: 1.9230769230769225, &quot;z&quot;: 0.30795661143729963}, {&quot;x&quot;: -1.1538461538461542, &quot;y&quot;: 2.179487179487179, &quot;z&quot;: 0.40320180479496565}, {&quot;x&quot;: -1.1538461538461542, &quot;y&quot;: 2.4358974358974352, &quot;z&quot;: 0.3032997883859575}, {&quot;x&quot;: -1.1538461538461542, &quot;y&quot;: 2.6923076923076916, &quot;z&quot;: 0.07536961333393402}, {&quot;x&quot;: -1.1538461538461542, &quot;y&quot;: 2.948717948717948, &quot;z&quot;: -0.1577056419836785}, {&quot;x&quot;: -1.1538461538461542, &quot;y&quot;: 3.2051282051282044, &quot;z&quot;: -0.2809819013756126}, {&quot;x&quot;: -1.1538461538461542, &quot;y&quot;: 3.461538461538461, &quot;z&quot;: -0.24466721047350673}, {&quot;x&quot;: -1.1538461538461542, &quot;y&quot;: 3.717948717948717, &quot;z&quot;: -0.08482553354092344}, {&quot;x&quot;: -1.1538461538461542, &quot;y&quot;: 3.9743589743589736, &quot;z&quot;: 0.1018276556614749}, {&quot;x&quot;: -1.1538461538461542, &quot;y&quot;: 4.23076923076923, &quot;z&quot;: 0.21338743078659142}, {&quot;x&quot;: -1.1538461538461542, &quot;y&quot;: 4.487179487179486, &quot;z&quot;: 0.19722429601204441}, {&quot;x&quot;: -1.1538461538461542, &quot;y&quot;: 4.743589743589743, &quot;z&quot;: 0.07426425040162701}, {&quot;x&quot;: -1.1538461538461542, &quot;y&quot;: 5.0, &quot;z&quot;: -0.07818654606831722}, {&quot;x&quot;: -0.8974358974358978, &quot;y&quot;: -4.743589743589744, &quot;z&quot;: 0.10670645293645792}, {&quot;x&quot;: -0.8974358974358978, &quot;y&quot;: -5.0, &quot;z&quot;: -0.0488961793689263}, {&quot;x&quot;: -0.8974358974358978, &quot;y&quot;: -4.487179487179487, &quot;z&quot;: 0.21232309865066645}, {&quot;x&quot;: -0.8974358974358978, &quot;y&quot;: -4.230769230769231, &quot;z&quot;: 0.19711035355159282}, {&quot;x&quot;: -0.8974358974358978, &quot;y&quot;: -3.9743589743589745, &quot;z&quot;: 0.056862409133510455}, {&quot;x&quot;: -0.8974358974358978, &quot;y&quot;: -3.717948717948718, &quot;z&quot;: -0.13680209349327188}, {&quot;x&quot;: -0.8974358974358978, &quot;y&quot;: -3.4615384615384617, &quot;z&quot;: -0.2717145043120364}, {&quot;x&quot;: -0.8974358974358978, &quot;y&quot;: -3.2051282051282053, &quot;z&quot;: -0.2578328027491931}, {&quot;x&quot;: -0.8974358974358978, &quot;y&quot;: -2.948717948717949, &quot;z&quot;: -0.08291366426279477}, {&quot;x&quot;: -0.8974358974358978, &quot;y&quot;: -2.6923076923076925, &quot;z&quot;: 0.1717479510744085}, {&quot;x&quot;: -0.8974358974358978, &quot;y&quot;: -2.435897435897436, &quot;z&quot;: 0.36784352552862964}, {&quot;x&quot;: -0.8974358974358978, &quot;y&quot;: -2.1794871794871797, &quot;z&quot;: 0.38217914697454497}, {&quot;x&quot;: -0.8974358974358978, &quot;y&quot;: -1.9230769230769234, &quot;z&quot;: 0.1764520585313724}, {&quot;x&quot;: -0.8974358974358978, &quot;y&quot;: -1.666666666666667, &quot;z&quot;: -0.17437277928309503}, {&quot;x&quot;: -0.8974358974358978, &quot;y&quot;: -1.4102564102564106, &quot;z&quot;: -0.5133961102840857}, {&quot;x&quot;: -0.8974358974358978, &quot;y&quot;: -1.1538461538461542, &quot;z&quot;: -0.6791754504995728}, {&quot;x&quot;: -0.8974358974358978, &quot;y&quot;: -0.8974358974358978, &quot;z&quot;: -0.5896595304430514}, {&quot;x&quot;: -0.8974358974358978, &quot;y&quot;: -0.6410256410256414, &quot;z&quot;: -0.28793823633948723}, {&quot;x&quot;: -0.8974358974358978, &quot;y&quot;: -0.384615384615385, &quot;z&quot;: 0.07592596381204136}, {&quot;x&quot;: -0.8974358974358978, &quot;y&quot;: -0.12820512820512864, &quot;z&quot;: 0.3192235572385839}, {&quot;x&quot;: -0.8974358974358978, &quot;y&quot;: 0.12820512820512775, &quot;z&quot;: 0.3192235572385845}, {&quot;x&quot;: -0.8974358974358978, &quot;y&quot;: 0.38461538461538414, &quot;z&quot;: 0.07592596381204277}, {&quot;x&quot;: -0.8974358974358978, &quot;y&quot;: 0.6410256410256405, &quot;z&quot;: -0.2879382363394859}, {&quot;x&quot;: -0.8974358974358978, &quot;y&quot;: 0.8974358974358969, &quot;z&quot;: -0.5896595304430509}, {&quot;x&quot;: -0.8974358974358978, &quot;y&quot;: 1.1538461538461533, &quot;z&quot;: -0.679175450499573}, {&quot;x&quot;: -0.8974358974358978, &quot;y&quot;: 1.4102564102564097, &quot;z&quot;: -0.5133961102840866}, {&quot;x&quot;: -0.8974358974358978, &quot;y&quot;: 1.666666666666666, &quot;z&quot;: -0.17437277928309594}, {&quot;x&quot;: -0.8974358974358978, &quot;y&quot;: 1.9230769230769225, &quot;z&quot;: 0.1764520585313713}, {&quot;x&quot;: -0.8974358974358978, &quot;y&quot;: 2.179487179487179, &quot;z&quot;: 0.38217914697454464}, {&quot;x&quot;: -0.8974358974358978, &quot;y&quot;: 2.4358974358974352, &quot;z&quot;: 0.36784352552863003}, {&quot;x&quot;: -0.8974358974358978, &quot;y&quot;: 2.6923076923076916, &quot;z&quot;: 0.17174795107440963}, {&quot;x&quot;: -0.8974358974358978, &quot;y&quot;: 2.948717948717948, &quot;z&quot;: -0.08291366426279421}, {&quot;x&quot;: -0.8974358974358978, &quot;y&quot;: 3.2051282051282044, &quot;z&quot;: -0.2578328027491929}, {&quot;x&quot;: -0.8974358974358978, &quot;y&quot;: 3.461538461538461, &quot;z&quot;: -0.2717145043120366}, {&quot;x&quot;: -0.8974358974358978, &quot;y&quot;: 3.717948717948717, &quot;z&quot;: -0.13680209349327227}, {&quot;x&quot;: -0.8974358974358978, &quot;y&quot;: 3.9743589743589736, &quot;z&quot;: 0.056862409133509616}, {&quot;x&quot;: -0.8974358974358978, &quot;y&quot;: 4.23076923076923, &quot;z&quot;: 0.19711035355159243}, {&quot;x&quot;: -0.8974358974358978, &quot;y&quot;: 4.487179487179486, &quot;z&quot;: 0.21232309865066665}, {&quot;x&quot;: -0.8974358974358978, &quot;y&quot;: 4.743589743589743, &quot;z&quot;: 0.10670645293645857}, {&quot;x&quot;: -0.8974358974358978, &quot;y&quot;: 5.0, &quot;z&quot;: -0.0488961793689263}, {&quot;x&quot;: -0.6410256410256414, &quot;y&quot;: -4.743589743589744, &quot;z&quot;: 0.12974477006536764}, {&quot;x&quot;: -0.6410256410256414, &quot;y&quot;: -5.0, &quot;z&quot;: -0.025434298774036877}, {&quot;x&quot;: -0.6410256410256414, &quot;y&quot;: -4.487179487179487, &quot;z&quot;: 0.21945165588530713}, {&quot;x&quot;: -0.6410256410256414, &quot;y&quot;: -4.230769230769231, &quot;z&quot;: 0.1796237019465825}, {&quot;x&quot;: -0.6410256410256414, &quot;y&quot;: -3.9743589743589745, &quot;z&quot;: 0.02005162258719657}, {&quot;x&quot;: -0.6410256410256414, &quot;y&quot;: -3.717948717948718, &quot;z&quot;: -0.17352514017266685}, {&quot;x&quot;: -0.6410256410256414, &quot;y&quot;: -3.4615384615384617, &quot;z&quot;: -0.2834765187178331}, {&quot;x&quot;: -0.6410256410256414, &quot;y&quot;: -3.2051282051282053, &quot;z&quot;: -0.2285992198548628}, {&quot;x&quot;: -0.6410256410256414, &quot;y&quot;: -2.948717948717949, &quot;z&quot;: -0.01830385509779292}, {&quot;x&quot;: -0.6410256410256414, &quot;y&quot;: -2.6923076923076925, &quot;z&quot;: 0.2410140284630488}, {&quot;x&quot;: -0.6410256410256414, &quot;y&quot;: -2.435897435897436, &quot;z&quot;: 0.39631500866096975}, {&quot;x&quot;: -0.6410256410256414, &quot;y&quot;: -2.1794871794871797, &quot;z&quot;: 0.33182490974641554}, {&quot;x&quot;: -0.6410256410256414, &quot;y&quot;: -1.9230769230769234, &quot;z&quot;: 0.04195038936514416}, {&quot;x&quot;: -0.6410256410256414, &quot;y&quot;: -1.666666666666667, &quot;z&quot;: -0.3491911770542299}, {&quot;x&quot;: -0.6410256410256414, &quot;y&quot;: -1.4102564102564106, &quot;z&quot;: -0.6378653553566377}, {&quot;x&quot;: -0.6410256410256414, &quot;y&quot;: -1.1538461538461542, &quot;z&quot;: -0.639604866693515}, {&quot;x&quot;: -0.6410256410256414, &quot;y&quot;: -0.8974358974358978, &quot;z&quot;: -0.28793823633948723}, {&quot;x&quot;: -0.6410256410256414, &quot;y&quot;: -0.6410256410256414, &quot;z&quot;: 0.3192235572385834}, {&quot;x&quot;: -0.6410256410256414, &quot;y&quot;: -0.384615384615385, &quot;z&quot;: 0.9531178635992634}, {&quot;x&quot;: -0.6410256410256414, &quot;y&quot;: -0.12820512820512864, &quot;z&quot;: 1.3547678969886714}, {&quot;x&quot;: -0.6410256410256414, &quot;y&quot;: 0.12820512820512775, &quot;z&quot;: 1.3547678969886725}, {&quot;x&quot;: -0.6410256410256414, &quot;y&quot;: 0.38461538461538414, &quot;z&quot;: 0.9531178635992653}, {&quot;x&quot;: -0.6410256410256414, &quot;y&quot;: 0.6410256410256405, &quot;z&quot;: 0.31922355723858603}, {&quot;x&quot;: -0.6410256410256414, &quot;y&quot;: 0.8974358974358969, &quot;z&quot;: -0.2879382363394852}, {&quot;x&quot;: -0.6410256410256414, &quot;y&quot;: 1.1538461538461533, &quot;z&quot;: -0.6396048666935144}, {&quot;x&quot;: -0.6410256410256414, &quot;y&quot;: 1.4102564102564097, &quot;z&quot;: -0.6378653553566384}, {&quot;x&quot;: -0.6410256410256414, &quot;y&quot;: 1.666666666666666, &quot;z&quot;: -0.34919117705423086}, {&quot;x&quot;: -0.6410256410256414, &quot;y&quot;: 1.9230769230769225, &quot;z&quot;: 0.04195038936514287}, {&quot;x&quot;: -0.6410256410256414, &quot;y&quot;: 2.179487179487179, &quot;z&quot;: 0.33182490974641493}, {&quot;x&quot;: -0.6410256410256414, &quot;y&quot;: 2.4358974358974352, &quot;z&quot;: 0.39631500866096997}, {&quot;x&quot;: -0.6410256410256414, &quot;y&quot;: 2.6923076923076916, &quot;z&quot;: 0.24101402846304937}, {&quot;x&quot;: -0.6410256410256414, &quot;y&quot;: 2.948717948717948, &quot;z&quot;: -0.018303855097791748}, {&quot;x&quot;: -0.6410256410256414, &quot;y&quot;: 3.2051282051282044, &quot;z&quot;: -0.2285992198548618}, {&quot;x&quot;: -0.6410256410256414, &quot;y&quot;: 3.461538461538461, &quot;z&quot;: -0.28347651871783325}, {&quot;x&quot;: -0.6410256410256414, &quot;y&quot;: 3.717948717948717, &quot;z&quot;: -0.1735251401726672}, {&quot;x&quot;: -0.6410256410256414, &quot;y&quot;: 3.9743589743589736, &quot;z&quot;: 0.020051622587195696}, {&quot;x&quot;: -0.6410256410256414, &quot;y&quot;: 4.23076923076923, &quot;z&quot;: 0.179623701946582}, {&quot;x&quot;: -0.6410256410256414, &quot;y&quot;: 4.487179487179486, &quot;z&quot;: 0.21945165588530727}, {&quot;x&quot;: -0.6410256410256414, &quot;y&quot;: 4.743589743589743, &quot;z&quot;: 0.12974477006536825}, {&quot;x&quot;: -0.6410256410256414, &quot;y&quot;: 5.0, &quot;z&quot;: -0.025434298774036877}, {&quot;x&quot;: -0.384615384615385, &quot;y&quot;: -4.743589743589744, &quot;z&quot;: 0.1442431853958254}, {&quot;x&quot;: -0.384615384615385, &quot;y&quot;: -5.0, &quot;z&quot;: -0.009250285950514308}, {&quot;x&quot;: -0.384615384615385, &quot;y&quot;: -4.487179487179487, &quot;z&quot;: 0.22202850663653775}, {&quot;x&quot;: -0.384615384615385, &quot;y&quot;: -4.230769230769231, &quot;z&quot;: 0.16551234237681514}, {&quot;x&quot;: -0.384615384615385, &quot;y&quot;: -3.9743589743589745, &quot;z&quot;: -0.005565270813887195}, {&quot;x&quot;: -0.384615384615385, &quot;y&quot;: -3.717948717948718, &quot;z&quot;: -0.19629367355494326}, {&quot;x&quot;: -0.384615384615385, &quot;y&quot;: -3.4615384615384617, &quot;z&quot;: -0.28670486470897005}, {&quot;x&quot;: -0.384615384615385, &quot;y&quot;: -3.2051282051282053, &quot;z&quot;: -0.20348555208197094}, {&quot;x&quot;: -0.384615384615385, &quot;y&quot;: -2.948717948717949, &quot;z&quot;: 0.027757766519312485}, {&quot;x&quot;: -0.384615384615385, &quot;y&quot;: -2.6923076923076925, &quot;z&quot;: 0.2835780881782833}, {&quot;x&quot;: -0.384615384615385, &quot;y&quot;: -2.435897435897436, &quot;z&quot;: 0.40320180479496565}, {&quot;x&quot;: -0.384615384615385, &quot;y&quot;: -2.1794871794871797, &quot;z&quot;: 0.2804717729699191}, {&quot;x&quot;: -0.384615384615385, &quot;y&quot;: -1.9230769230769234, &quot;z&quot;: -0.062061535024022604}, {&quot;x&quot;: -0.384615384615385, &quot;y&quot;: -1.666666666666667, &quot;z&quot;: -0.461422742086449}, {&quot;x&quot;: -0.384615384615385, &quot;y&quot;: -1.4102564102564106, &quot;z&quot;: -0.6791754504995728}, {&quot;x&quot;: -0.384615384615385, &quot;y&quot;: -1.1538461538461542, &quot;z&quot;: -0.5166068451590108}, {&quot;x&quot;: -0.384615384615385, &quot;y&quot;: -0.8974358974358978, &quot;z&quot;: 0.07592596381204136}, {&quot;x&quot;: -0.384615384615385, &quot;y&quot;: -0.6410256410256414, &quot;z&quot;: 0.9531178635992634}, {&quot;x&quot;: -0.384615384615385, &quot;y&quot;: -0.384615384615385, &quot;z&quot;: 1.8209981966554878}, {&quot;x&quot;: -0.384615384615385, &quot;y&quot;: -0.12820512820512864, &quot;z&quot;: 2.358492066305395}, {&quot;x&quot;: -0.384615384615385, &quot;y&quot;: 0.12820512820512775, &quot;z&quot;: 2.3584920663053963}, {&quot;x&quot;: -0.384615384615385, &quot;y&quot;: 0.38461538461538414, &quot;z&quot;: 1.8209981966554907}, {&quot;x&quot;: -0.384615384615385, &quot;y&quot;: 0.6410256410256405, &quot;z&quot;: 0.9531178635992664}, {&quot;x&quot;: -0.384615384615385, &quot;y&quot;: 0.8974358974358969, &quot;z&quot;: 0.07592596381204417}, {&quot;x&quot;: -0.384615384615385, &quot;y&quot;: 1.1538461538461533, &quot;z&quot;: -0.5166068451590095}, {&quot;x&quot;: -0.384615384615385, &quot;y&quot;: 1.4102564102564097, &quot;z&quot;: -0.6791754504995731}, {&quot;x&quot;: -0.384615384615385, &quot;y&quot;: 1.666666666666666, &quot;z&quot;: -0.4614227420864501}, {&quot;x&quot;: -0.384615384615385, &quot;y&quot;: 1.9230769230769225, &quot;z&quot;: -0.062061535024023985}, {&quot;x&quot;: -0.384615384615385, &quot;y&quot;: 2.179487179487179, &quot;z&quot;: 0.28047177296991826}, {&quot;x&quot;: -0.384615384615385, &quot;y&quot;: 2.4358974358974352, &quot;z&quot;: 0.40320180479496565}, {&quot;x&quot;: -0.384615384615385, &quot;y&quot;: 2.6923076923076916, &quot;z&quot;: 0.28357808817828384}, {&quot;x&quot;: -0.384615384615385, &quot;y&quot;: 2.948717948717948, &quot;z&quot;: 0.027757766519313685}, {&quot;x&quot;: -0.384615384615385, &quot;y&quot;: 3.2051282051282044, &quot;z&quot;: -0.20348555208197017}, {&quot;x&quot;: -0.384615384615385, &quot;y&quot;: 3.461538461538461, &quot;z&quot;: -0.2867048647089701}, {&quot;x&quot;: -0.384615384615385, &quot;y&quot;: 3.717948717948717, &quot;z&quot;: -0.19629367355494365}, {&quot;x&quot;: -0.384615384615385, &quot;y&quot;: 3.9743589743589736, &quot;z&quot;: -0.005565270813888087}, {&quot;x&quot;: -0.384615384615385, &quot;y&quot;: 4.23076923076923, &quot;z&quot;: 0.16551234237681514}, {&quot;x&quot;: -0.384615384615385, &quot;y&quot;: 4.487179487179486, &quot;z&quot;: 0.2220285066365378}, {&quot;x&quot;: -0.384615384615385, &quot;y&quot;: 4.743589743589743, &quot;z&quot;: 0.1442431853958254}, {&quot;x&quot;: -0.384615384615385, &quot;y&quot;: 5.0, &quot;z&quot;: -0.009250285950514308}, {&quot;x&quot;: -0.12820512820512864, &quot;y&quot;: -4.743589743589744, &quot;z&quot;: 0.1511851284353025}, {&quot;x&quot;: -0.12820512820512864, &quot;y&quot;: -5.0, &quot;z&quot;: -0.0010322256552946847}, {&quot;x&quot;: -0.12820512820512864, &quot;y&quot;: -4.487179487179487, &quot;z&quot;: 0.22263349001904645}, {&quot;x&quot;: -0.12820512820512864, &quot;y&quot;: -4.230769230769231, &quot;z&quot;: 0.1577421701184894}, {&quot;x&quot;: -0.12820512820512864, &quot;y&quot;: -3.9743589743589745, &quot;z&quot;: -0.018607513033306655}, {&quot;x&quot;: -0.12820512820512864, &quot;y&quot;: -3.717948717948718, &quot;z&quot;: -0.20703304952539192}, {&quot;x&quot;: -0.12820512820512864, &quot;y&quot;: -3.4615384615384617, &quot;z&quot;: -0.2868375581433094}, {&quot;x&quot;: -0.12820512820512864, &quot;y&quot;: -3.2051282051282053, &quot;z&quot;: -0.18928253877123413}, {&quot;x&quot;: -0.12820512820512864, &quot;y&quot;: -2.948717948717949, &quot;z&quot;: 0.05142019026962565}, {&quot;x&quot;: -0.12820512820512864, &quot;y&quot;: -2.6923076923076925, &quot;z&quot;: 0.3032997883859571}, {&quot;x&quot;: -0.12820512820512864, &quot;y&quot;: -2.435897435897436, &quot;z&quot;: 0.40251990402331794}, {&quot;x&quot;: -0.12820512820512864, &quot;y&quot;: -2.1794871794871797, &quot;z&quot;: 0.24936703371622507}, {&quot;x&quot;: -0.12820512820512864, &quot;y&quot;: -1.9230769230769234, &quot;z&quot;: -0.11740161711927179}, {&quot;x&quot;: -0.12820512820512864, &quot;y&quot;: -1.666666666666667, &quot;z&quot;: -0.5133961102840859}, {&quot;x&quot;: -0.12820512820512864, &quot;y&quot;: -1.4102564102564106, &quot;z&quot;: -0.6817736703067452}, {&quot;x&quot;: -0.12820512820512864, &quot;y&quot;: -1.1538461538461542, &quot;z&quot;: -0.41720956339767595}, {&quot;x&quot;: -0.12820512820512864, &quot;y&quot;: -0.8974358974358978, &quot;z&quot;: 0.3192235572385839}, {&quot;x&quot;: -0.12820512820512864, &quot;y&quot;: -0.6410256410256414, &quot;z&quot;: 1.3547678969886714}, {&quot;x&quot;: -0.12820512820512864, &quot;y&quot;: -0.384615384615385, &quot;z&quot;: 2.358492066305395}, {&quot;x&quot;: -0.12820512820512864, &quot;y&quot;: -0.12820512820512864, &quot;z&quot;: 2.9744484840292174}, {&quot;x&quot;: -0.12820512820512864, &quot;y&quot;: 0.12820512820512775, &quot;z&quot;: 2.9744484840292187}, {&quot;x&quot;: -0.12820512820512864, &quot;y&quot;: 0.38461538461538414, &quot;z&quot;: 2.3584920663053976}, {&quot;x&quot;: -0.12820512820512864, &quot;y&quot;: 0.6410256410256405, &quot;z&quot;: 1.3547678969886754}, {&quot;x&quot;: -0.12820512820512864, &quot;y&quot;: 0.8974358974358969, &quot;z&quot;: 0.31922355723858703}, {&quot;x&quot;: -0.12820512820512864, &quot;y&quot;: 1.1538461538461533, &quot;z&quot;: -0.41720956339767423}, {&quot;x&quot;: -0.12820512820512864, &quot;y&quot;: 1.4102564102564097, &quot;z&quot;: -0.6817736703067451}, {&quot;x&quot;: -0.12820512820512864, &quot;y&quot;: 1.666666666666666, &quot;z&quot;: -0.513396110284087}, {&quot;x&quot;: -0.12820512820512864, &quot;y&quot;: 1.9230769230769225, &quot;z&quot;: -0.11740161711927322}, {&quot;x&quot;: -0.12820512820512864, &quot;y&quot;: 2.179487179487179, &quot;z&quot;: 0.24936703371622412}, {&quot;x&quot;: -0.12820512820512864, &quot;y&quot;: 2.4358974358974352, &quot;z&quot;: 0.4025199040233179}, {&quot;x&quot;: -0.12820512820512864, &quot;y&quot;: 2.6923076923076916, &quot;z&quot;: 0.3032997883859575}, {&quot;x&quot;: -0.12820512820512864, &quot;y&quot;: 2.948717948717948, &quot;z&quot;: 0.05142019026962687}, {&quot;x&quot;: -0.12820512820512864, &quot;y&quot;: 3.2051282051282044, &quot;z&quot;: -0.18928253877123374}, {&quot;x&quot;: -0.12820512820512864, &quot;y&quot;: 3.461538461538461, &quot;z&quot;: -0.28683755814330936}, {&quot;x&quot;: -0.12820512820512864, &quot;y&quot;: 3.717948717948717, &quot;z&quot;: -0.20703304952539225}, {&quot;x&quot;: -0.12820512820512864, &quot;y&quot;: 3.9743589743589736, &quot;z&quot;: -0.01860751303330755}, {&quot;x&quot;: -0.12820512820512864, &quot;y&quot;: 4.23076923076923, &quot;z&quot;: 0.15774217011848884}, {&quot;x&quot;: -0.12820512820512864, &quot;y&quot;: 4.487179487179486, &quot;z&quot;: 0.22263349001904645}, {&quot;x&quot;: -0.12820512820512864, &quot;y&quot;: 4.743589743589743, &quot;z&quot;: 0.15118512843530302}, {&quot;x&quot;: -0.12820512820512864, &quot;y&quot;: 5.0, &quot;z&quot;: -0.0010322256552946847}, {&quot;x&quot;: 0.12820512820512775, &quot;y&quot;: -4.743589743589744, &quot;z&quot;: 0.1511851284353025}, {&quot;x&quot;: 0.12820512820512775, &quot;y&quot;: -5.0, &quot;z&quot;: -0.0010322256552946847}, {&quot;x&quot;: 0.12820512820512775, &quot;y&quot;: -4.487179487179487, &quot;z&quot;: 0.22263349001904645}, {&quot;x&quot;: 0.12820512820512775, &quot;y&quot;: -4.230769230769231, &quot;z&quot;: 0.1577421701184894}, {&quot;x&quot;: 0.12820512820512775, &quot;y&quot;: -3.9743589743589745, &quot;z&quot;: -0.018607513033307106}, {&quot;x&quot;: 0.12820512820512775, &quot;y&quot;: -3.717948717948718, &quot;z&quot;: -0.20703304952539192}, {&quot;x&quot;: 0.12820512820512775, &quot;y&quot;: -3.4615384615384617, &quot;z&quot;: -0.2868375581433094}, {&quot;x&quot;: 0.12820512820512775, &quot;y&quot;: -3.2051282051282053, &quot;z&quot;: -0.18928253877123413}, {&quot;x&quot;: 0.12820512820512775, &quot;y&quot;: -2.948717948717949, &quot;z&quot;: 0.05142019026962626}, {&quot;x&quot;: 0.12820512820512775, &quot;y&quot;: -2.6923076923076925, &quot;z&quot;: 0.3032997883859571}, {&quot;x&quot;: 0.12820512820512775, &quot;y&quot;: -2.435897435897436, &quot;z&quot;: 0.40251990402331794}, {&quot;x&quot;: 0.12820512820512775, &quot;y&quot;: -2.1794871794871797, &quot;z&quot;: 0.24936703371622507}, {&quot;x&quot;: 0.12820512820512775, &quot;y&quot;: -1.9230769230769234, &quot;z&quot;: -0.11740161711927179}, {&quot;x&quot;: 0.12820512820512775, &quot;y&quot;: -1.666666666666667, &quot;z&quot;: -0.5133961102840859}, {&quot;x&quot;: 0.12820512820512775, &quot;y&quot;: -1.4102564102564106, &quot;z&quot;: -0.6817736703067451}, {&quot;x&quot;: 0.12820512820512775, &quot;y&quot;: -1.1538461538461542, &quot;z&quot;: -0.41720956339767595}, {&quot;x&quot;: 0.12820512820512775, &quot;y&quot;: -0.8974358974358978, &quot;z&quot;: 0.3192235572385845}, {&quot;x&quot;: 0.12820512820512775, &quot;y&quot;: -0.6410256410256414, &quot;z&quot;: 1.3547678969886725}, {&quot;x&quot;: 0.12820512820512775, &quot;y&quot;: -0.384615384615385, &quot;z&quot;: 2.3584920663053963}, {&quot;x&quot;: 0.12820512820512775, &quot;y&quot;: -0.12820512820512864, &quot;z&quot;: 2.9744484840292187}, {&quot;x&quot;: 0.12820512820512775, &quot;y&quot;: 0.12820512820512775, &quot;z&quot;: 2.9744484840292196}, {&quot;x&quot;: 0.12820512820512775, &quot;y&quot;: 0.38461538461538414, &quot;z&quot;: 2.3584920663053985}, {&quot;x&quot;: 0.12820512820512775, &quot;y&quot;: 0.6410256410256405, &quot;z&quot;: 1.3547678969886758}, {&quot;x&quot;: 0.12820512820512775, &quot;y&quot;: 0.8974358974358969, &quot;z&quot;: 0.3192235572385876}, {&quot;x&quot;: 0.12820512820512775, &quot;y&quot;: 1.1538461538461533, &quot;z&quot;: -0.41720956339767423}, {&quot;x&quot;: 0.12820512820512775, &quot;y&quot;: 1.4102564102564097, &quot;z&quot;: -0.6817736703067451}, {&quot;x&quot;: 0.12820512820512775, &quot;y&quot;: 1.666666666666666, &quot;z&quot;: -0.513396110284087}, {&quot;x&quot;: 0.12820512820512775, &quot;y&quot;: 1.9230769230769225, &quot;z&quot;: -0.11740161711927322}, {&quot;x&quot;: 0.12820512820512775, &quot;y&quot;: 2.179487179487179, &quot;z&quot;: 0.24936703371622412}, {&quot;x&quot;: 0.12820512820512775, &quot;y&quot;: 2.4358974358974352, &quot;z&quot;: 0.4025199040233179}, {&quot;x&quot;: 0.12820512820512775, &quot;y&quot;: 2.6923076923076916, &quot;z&quot;: 0.3032997883859575}, {&quot;x&quot;: 0.12820512820512775, &quot;y&quot;: 2.948717948717948, &quot;z&quot;: 0.05142019026962747}, {&quot;x&quot;: 0.12820512820512775, &quot;y&quot;: 3.2051282051282044, &quot;z&quot;: -0.18928253877123333}, {&quot;x&quot;: 0.12820512820512775, &quot;y&quot;: 3.461538461538461, &quot;z&quot;: -0.28683755814330936}, {&quot;x&quot;: 0.12820512820512775, &quot;y&quot;: 3.717948717948717, &quot;z&quot;: -0.20703304952539256}, {&quot;x&quot;: 0.12820512820512775, &quot;y&quot;: 3.9743589743589736, &quot;z&quot;: -0.018607513033308}, {&quot;x&quot;: 0.12820512820512775, &quot;y&quot;: 4.23076923076923, &quot;z&quot;: 0.15774217011848884}, {&quot;x&quot;: 0.12820512820512775, &quot;y&quot;: 4.487179487179486, &quot;z&quot;: 0.22263349001904645}, {&quot;x&quot;: 0.12820512820512775, &quot;y&quot;: 4.743589743589743, &quot;z&quot;: 0.15118512843530302}, {&quot;x&quot;: 0.12820512820512775, &quot;y&quot;: 5.0, &quot;z&quot;: -0.0010322256552946847}, {&quot;x&quot;: 0.38461538461538414, &quot;y&quot;: -4.743589743589744, &quot;z&quot;: 0.1442431853958254}, {&quot;x&quot;: 0.38461538461538414, &quot;y&quot;: -5.0, &quot;z&quot;: -0.009250285950514308}, {&quot;x&quot;: 0.38461538461538414, &quot;y&quot;: -4.487179487179487, &quot;z&quot;: 0.22202850663653775}, {&quot;x&quot;: 0.38461538461538414, &quot;y&quot;: -4.230769230769231, &quot;z&quot;: 0.16551234237681514}, {&quot;x&quot;: 0.38461538461538414, &quot;y&quot;: -3.9743589743589745, &quot;z&quot;: -0.005565270813887195}, {&quot;x&quot;: 0.38461538461538414, &quot;y&quot;: -3.717948717948718, &quot;z&quot;: -0.19629367355494326}, {&quot;x&quot;: 0.38461538461538414, &quot;y&quot;: -3.4615384615384617, &quot;z&quot;: -0.28670486470897005}, {&quot;x&quot;: 0.38461538461538414, &quot;y&quot;: -3.2051282051282053, &quot;z&quot;: -0.20348555208197094}, {&quot;x&quot;: 0.38461538461538414, &quot;y&quot;: -2.948717948717949, &quot;z&quot;: 0.02775776651931309}, {&quot;x&quot;: 0.38461538461538414, &quot;y&quot;: -2.6923076923076925, &quot;z&quot;: 0.2835780881782833}, {&quot;x&quot;: 0.38461538461538414, &quot;y&quot;: -2.435897435897436, &quot;z&quot;: 0.40320180479496565}, {&quot;x&quot;: 0.38461538461538414, &quot;y&quot;: -2.1794871794871797, &quot;z&quot;: 0.2804717729699191}, {&quot;x&quot;: 0.38461538461538414, &quot;y&quot;: -1.9230769230769234, &quot;z&quot;: -0.062061535024023055}, {&quot;x&quot;: 0.38461538461538414, &quot;y&quot;: -1.666666666666667, &quot;z&quot;: -0.461422742086449}, {&quot;x&quot;: 0.38461538461538414, &quot;y&quot;: -1.4102564102564106, &quot;z&quot;: -0.679175450499573}, {&quot;x&quot;: 0.38461538461538414, &quot;y&quot;: -1.1538461538461542, &quot;z&quot;: -0.5166068451590102}, {&quot;x&quot;: 0.38461538461538414, &quot;y&quot;: -0.8974358974358978, &quot;z&quot;: 0.07592596381204277}, {&quot;x&quot;: 0.38461538461538414, &quot;y&quot;: -0.6410256410256414, &quot;z&quot;: 0.9531178635992653}, {&quot;x&quot;: 0.38461538461538414, &quot;y&quot;: -0.384615384615385, &quot;z&quot;: 1.8209981966554907}, {&quot;x&quot;: 0.38461538461538414, &quot;y&quot;: -0.12820512820512864, &quot;z&quot;: 2.3584920663053976}, {&quot;x&quot;: 0.38461538461538414, &quot;y&quot;: 0.12820512820512775, &quot;z&quot;: 2.3584920663053985}, {&quot;x&quot;: 0.38461538461538414, &quot;y&quot;: 0.38461538461538414, &quot;z&quot;: 1.8209981966554933}, {&quot;x&quot;: 0.38461538461538414, &quot;y&quot;: 0.6410256410256405, &quot;z&quot;: 0.9531178635992683}, {&quot;x&quot;: 0.38461538461538414, &quot;y&quot;: 0.8974358974358969, &quot;z&quot;: 0.0759259638120451}, {&quot;x&quot;: 0.38461538461538414, &quot;y&quot;: 1.1538461538461533, &quot;z&quot;: -0.516606845159009}, {&quot;x&quot;: 0.38461538461538414, &quot;y&quot;: 1.4102564102564097, &quot;z&quot;: -0.6791754504995731}, {&quot;x&quot;: 0.38461538461538414, &quot;y&quot;: 1.666666666666666, &quot;z&quot;: -0.4614227420864501}, {&quot;x&quot;: 0.38461538461538414, &quot;y&quot;: 1.9230769230769225, &quot;z&quot;: -0.06206153502402443}, {&quot;x&quot;: 0.38461538461538414, &quot;y&quot;: 2.179487179487179, &quot;z&quot;: 0.28047177296991826}, {&quot;x&quot;: 0.38461538461538414, &quot;y&quot;: 2.4358974358974352, &quot;z&quot;: 0.40320180479496565}, {&quot;x&quot;: 0.38461538461538414, &quot;y&quot;: 2.6923076923076916, &quot;z&quot;: 0.28357808817828384}, {&quot;x&quot;: 0.38461538461538414, &quot;y&quot;: 2.948717948717948, &quot;z&quot;: 0.027757766519314282}, {&quot;x&quot;: 0.38461538461538414, &quot;y&quot;: 3.2051282051282044, &quot;z&quot;: -0.2034855520819698}, {&quot;x&quot;: 0.38461538461538414, &quot;y&quot;: 3.461538461538461, &quot;z&quot;: -0.2867048647089701}, {&quot;x&quot;: 0.38461538461538414, &quot;y&quot;: 3.717948717948717, &quot;z&quot;: -0.19629367355494395}, {&quot;x&quot;: 0.38461538461538414, &quot;y&quot;: 3.9743589743589736, &quot;z&quot;: -0.005565270813888087}, {&quot;x&quot;: 0.38461538461538414, &quot;y&quot;: 4.23076923076923, &quot;z&quot;: 0.16551234237681514}, {&quot;x&quot;: 0.38461538461538414, &quot;y&quot;: 4.487179487179486, &quot;z&quot;: 0.2220285066365378}, {&quot;x&quot;: 0.38461538461538414, &quot;y&quot;: 4.743589743589743, &quot;z&quot;: 0.1442431853958254}, {&quot;x&quot;: 0.38461538461538414, &quot;y&quot;: 5.0, &quot;z&quot;: -0.009250285950514308}, {&quot;x&quot;: 0.6410256410256405, &quot;y&quot;: -4.743589743589744, &quot;z&quot;: 0.12974477006536764}, {&quot;x&quot;: 0.6410256410256405, &quot;y&quot;: -5.0, &quot;z&quot;: -0.025434298774036877}, {&quot;x&quot;: 0.6410256410256405, &quot;y&quot;: -4.487179487179487, &quot;z&quot;: 0.21945165588530713}, {&quot;x&quot;: 0.6410256410256405, &quot;y&quot;: -4.230769230769231, &quot;z&quot;: 0.1796237019465825}, {&quot;x&quot;: 0.6410256410256405, &quot;y&quot;: -3.9743589743589745, &quot;z&quot;: 0.02005162258719657}, {&quot;x&quot;: 0.6410256410256405, &quot;y&quot;: -3.717948717948718, &quot;z&quot;: -0.17352514017266685}, {&quot;x&quot;: 0.6410256410256405, &quot;y&quot;: -3.4615384615384617, &quot;z&quot;: -0.2834765187178331}, {&quot;x&quot;: 0.6410256410256405, &quot;y&quot;: -3.2051282051282053, &quot;z&quot;: -0.22859921985486248}, {&quot;x&quot;: 0.6410256410256405, &quot;y&quot;: -2.948717948717949, &quot;z&quot;: -0.01830385509779233}, {&quot;x&quot;: 0.6410256410256405, &quot;y&quot;: -2.6923076923076925, &quot;z&quot;: 0.24101402846304884}, {&quot;x&quot;: 0.6410256410256405, &quot;y&quot;: -2.435897435897436, &quot;z&quot;: 0.39631500866096975}, {&quot;x&quot;: 0.6410256410256405, &quot;y&quot;: -2.1794871794871797, &quot;z&quot;: 0.3318249097464151}, {&quot;x&quot;: 0.6410256410256405, &quot;y&quot;: -1.9230769230769234, &quot;z&quot;: 0.04195038936514374}, {&quot;x&quot;: 0.6410256410256405, &quot;y&quot;: -1.666666666666667, &quot;z&quot;: -0.34919117705423036}, {&quot;x&quot;: 0.6410256410256405, &quot;y&quot;: -1.4102564102564106, &quot;z&quot;: -0.6378653553566379}, {&quot;x&quot;: 0.6410256410256405, &quot;y&quot;: -1.1538461538461542, &quot;z&quot;: -0.6396048666935145}, {&quot;x&quot;: 0.6410256410256405, &quot;y&quot;: -0.8974358974358978, &quot;z&quot;: -0.2879382363394859}, {&quot;x&quot;: 0.6410256410256405, &quot;y&quot;: -0.6410256410256414, &quot;z&quot;: 0.31922355723858603}, {&quot;x&quot;: 0.6410256410256405, &quot;y&quot;: -0.384615384615385, &quot;z&quot;: 0.9531178635992664}, {&quot;x&quot;: 0.6410256410256405, &quot;y&quot;: -0.12820512820512864, &quot;z&quot;: 1.3547678969886754}, {&quot;x&quot;: 0.6410256410256405, &quot;y&quot;: 0.12820512820512775, &quot;z&quot;: 1.3547678969886758}, {&quot;x&quot;: 0.6410256410256405, &quot;y&quot;: 0.38461538461538414, &quot;z&quot;: 0.9531178635992683}, {&quot;x&quot;: 0.6410256410256405, &quot;y&quot;: 0.6410256410256405, &quot;z&quot;: 0.31922355723858803}, {&quot;x&quot;: 0.6410256410256405, &quot;y&quot;: 0.8974358974358969, &quot;z&quot;: -0.2879382363394841}, {&quot;x&quot;: 0.6410256410256405, &quot;y&quot;: 1.1538461538461533, &quot;z&quot;: -0.6396048666935141}, {&quot;x&quot;: 0.6410256410256405, &quot;y&quot;: 1.4102564102564097, &quot;z&quot;: -0.6378653553566386}, {&quot;x&quot;: 0.6410256410256405, &quot;y&quot;: 1.666666666666666, &quot;z&quot;: -0.34919117705423175}, {&quot;x&quot;: 0.6410256410256405, &quot;y&quot;: 1.9230769230769225, &quot;z&quot;: 0.04195038936514201}, {&quot;x&quot;: 0.6410256410256405, &quot;y&quot;: 2.179487179487179, &quot;z&quot;: 0.33182490974641493}, {&quot;x&quot;: 0.6410256410256405, &quot;y&quot;: 2.4358974358974352, &quot;z&quot;: 0.39631500866096997}, {&quot;x&quot;: 0.6410256410256405, &quot;y&quot;: 2.6923076923076916, &quot;z&quot;: 0.2410140284630499}, {&quot;x&quot;: 0.6410256410256405, &quot;y&quot;: 2.948717948717948, &quot;z&quot;: -0.01830385509779175}, {&quot;x&quot;: 0.6410256410256405, &quot;y&quot;: 3.2051282051282044, &quot;z&quot;: -0.2285992198548618}, {&quot;x&quot;: 0.6410256410256405, &quot;y&quot;: 3.461538461538461, &quot;z&quot;: -0.28347651871783325}, {&quot;x&quot;: 0.6410256410256405, &quot;y&quot;: 3.717948717948717, &quot;z&quot;: -0.17352514017266726}, {&quot;x&quot;: 0.6410256410256405, &quot;y&quot;: 3.9743589743589736, &quot;z&quot;: 0.020051622587195696}, {&quot;x&quot;: 0.6410256410256405, &quot;y&quot;: 4.23076923076923, &quot;z&quot;: 0.179623701946582}, {&quot;x&quot;: 0.6410256410256405, &quot;y&quot;: 4.487179487179486, &quot;z&quot;: 0.21945165588530727}, {&quot;x&quot;: 0.6410256410256405, &quot;y&quot;: 4.743589743589743, &quot;z&quot;: 0.12974477006536825}, {&quot;x&quot;: 0.6410256410256405, &quot;y&quot;: 5.0, &quot;z&quot;: -0.025434298774036877}, {&quot;x&quot;: 0.8974358974358969, &quot;y&quot;: -4.743589743589744, &quot;z&quot;: 0.10670645293645792}, {&quot;x&quot;: 0.8974358974358969, &quot;y&quot;: -5.0, &quot;z&quot;: -0.0488961793689263}, {&quot;x&quot;: 0.8974358974358969, &quot;y&quot;: -4.487179487179487, &quot;z&quot;: 0.21232309865066645}, {&quot;x&quot;: 0.8974358974358969, &quot;y&quot;: -4.230769230769231, &quot;z&quot;: 0.19711035355159282}, {&quot;x&quot;: 0.8974358974358969, &quot;y&quot;: -3.9743589743589745, &quot;z&quot;: 0.056862409133510455}, {&quot;x&quot;: 0.8974358974358969, &quot;y&quot;: -3.717948717948718, &quot;z&quot;: -0.13680209349327188}, {&quot;x&quot;: 0.8974358974358969, &quot;y&quot;: -3.4615384615384617, &quot;z&quot;: -0.2717145043120364}, {&quot;x&quot;: 0.8974358974358969, &quot;y&quot;: -3.2051282051282053, &quot;z&quot;: -0.2578328027491931}, {&quot;x&quot;: 0.8974358974358969, &quot;y&quot;: -2.948717948717949, &quot;z&quot;: -0.08291366426279477}, {&quot;x&quot;: 0.8974358974358969, &quot;y&quot;: -2.6923076923076925, &quot;z&quot;: 0.17174795107440904}, {&quot;x&quot;: 0.8974358974358969, &quot;y&quot;: -2.435897435897436, &quot;z&quot;: 0.36784352552862976}, {&quot;x&quot;: 0.8974358974358969, &quot;y&quot;: -2.1794871794871797, &quot;z&quot;: 0.38217914697454475}, {&quot;x&quot;: 0.8974358974358969, &quot;y&quot;: -1.9230769230769234, &quot;z&quot;: 0.17645205853137205}, {&quot;x&quot;: 0.8974358974358969, &quot;y&quot;: -1.666666666666667, &quot;z&quot;: -0.17437277928309503}, {&quot;x&quot;: 0.8974358974358969, &quot;y&quot;: -1.4102564102564106, &quot;z&quot;: -0.5133961102840863}, {&quot;x&quot;: 0.8974358974358969, &quot;y&quot;: -1.1538461538461542, &quot;z&quot;: -0.679175450499573}, {&quot;x&quot;: 0.8974358974358969, &quot;y&quot;: -0.8974358974358978, &quot;z&quot;: -0.5896595304430509}, {&quot;x&quot;: 0.8974358974358969, &quot;y&quot;: -0.6410256410256414, &quot;z&quot;: -0.2879382363394852}, {&quot;x&quot;: 0.8974358974358969, &quot;y&quot;: -0.384615384615385, &quot;z&quot;: 0.07592596381204417}, {&quot;x&quot;: 0.8974358974358969, &quot;y&quot;: -0.12820512820512864, &quot;z&quot;: 0.31922355723858703}, {&quot;x&quot;: 0.8974358974358969, &quot;y&quot;: 0.12820512820512775, &quot;z&quot;: 0.3192235572385876}, {&quot;x&quot;: 0.8974358974358969, &quot;y&quot;: 0.38461538461538414, &quot;z&quot;: 0.0759259638120451}, {&quot;x&quot;: 0.8974358974358969, &quot;y&quot;: 0.6410256410256405, &quot;z&quot;: -0.2879382363394841}, {&quot;x&quot;: 0.8974358974358969, &quot;y&quot;: 0.8974358974358969, &quot;z&quot;: -0.58965953044305}, {&quot;x&quot;: 0.8974358974358969, &quot;y&quot;: 1.1538461538461533, &quot;z&quot;: -0.6791754504995731}, {&quot;x&quot;: 0.8974358974358969, &quot;y&quot;: 1.4102564102564097, &quot;z&quot;: -0.5133961102840874}, {&quot;x&quot;: 0.8974358974358969, &quot;y&quot;: 1.666666666666666, &quot;z&quot;: -0.17437277928309644}, {&quot;x&quot;: 0.8974358974358969, &quot;y&quot;: 1.9230769230769225, &quot;z&quot;: 0.17645205853137055}, {&quot;x&quot;: 0.8974358974358969, &quot;y&quot;: 2.179487179487179, &quot;z&quot;: 0.3821791469745444}, {&quot;x&quot;: 0.8974358974358969, &quot;y&quot;: 2.4358974358974352, &quot;z&quot;: 0.36784352552863026}, {&quot;x&quot;: 0.8974358974358969, &quot;y&quot;: 2.6923076923076916, &quot;z&quot;: 0.17174795107440963}, {&quot;x&quot;: 0.8974358974358969, &quot;y&quot;: 2.948717948717948, &quot;z&quot;: -0.08291366426279421}, {&quot;x&quot;: 0.8974358974358969, &quot;y&quot;: 3.2051282051282044, &quot;z&quot;: -0.2578328027491927}, {&quot;x&quot;: 0.8974358974358969, &quot;y&quot;: 3.461538461538461, &quot;z&quot;: -0.27171450431203675}, {&quot;x&quot;: 0.8974358974358969, &quot;y&quot;: 3.717948717948717, &quot;z&quot;: -0.1368020934932727}, {&quot;x&quot;: 0.8974358974358969, &quot;y&quot;: 3.9743589743589736, &quot;z&quot;: 0.056862409133509616}, {&quot;x&quot;: 0.8974358974358969, &quot;y&quot;: 4.23076923076923, &quot;z&quot;: 0.19711035355159243}, {&quot;x&quot;: 0.8974358974358969, &quot;y&quot;: 4.487179487179486, &quot;z&quot;: 0.21232309865066665}, {&quot;x&quot;: 0.8974358974358969, &quot;y&quot;: 4.743589743589743, &quot;z&quot;: 0.10670645293645857}, {&quot;x&quot;: 0.8974358974358969, &quot;y&quot;: 5.0, &quot;z&quot;: -0.0488961793689263}, {&quot;x&quot;: 1.1538461538461533, &quot;y&quot;: -4.743589743589744, &quot;z&quot;: 0.07426425040162632}, {&quot;x&quot;: 1.1538461538461533, &quot;y&quot;: -5.0, &quot;z&quot;: -0.07818654606831722}, {&quot;x&quot;: 1.1538461538461533, &quot;y&quot;: -4.487179487179487, &quot;z&quot;: 0.19722429601204408}, {&quot;x&quot;: 1.1538461538461533, &quot;y&quot;: -4.230769230769231, &quot;z&quot;: 0.21338743078659142}, {&quot;x&quot;: 1.1538461538461533, &quot;y&quot;: -3.9743589743589745, &quot;z&quot;: 0.10182765566147567}, {&quot;x&quot;: 1.1538461538461533, &quot;y&quot;: -3.717948717948718, &quot;z&quot;: -0.084825533540923}, {&quot;x&quot;: 1.1538461538461533, &quot;y&quot;: -3.4615384615384617, &quot;z&quot;: -0.24466721047350648}, {&quot;x&quot;: 1.1538461538461533, &quot;y&quot;: -3.2051282051282053, &quot;z&quot;: -0.2809819013756127}, {&quot;x&quot;: 1.1538461538461533, &quot;y&quot;: -2.948717948717949, &quot;z&quot;: -0.1577056419836785}, {&quot;x&quot;: 1.1538461538461533, &quot;y&quot;: -2.6923076923076925, &quot;z&quot;: 0.07536961333393341}, {&quot;x&quot;: 1.1538461538461533, &quot;y&quot;: -2.435897435897436, &quot;z&quot;: 0.3032997883859571}, {&quot;x&quot;: 1.1538461538461533, &quot;y&quot;: -2.1794871794871797, &quot;z&quot;: 0.40320180479496565}, {&quot;x&quot;: 1.1538461538461533, &quot;y&quot;: -1.9230769230769234, &quot;z&quot;: 0.30795661143729963}, {&quot;x&quot;: 1.1538461538461533, &quot;y&quot;: -1.666666666666667, &quot;z&quot;: 0.04195038936514374}, {&quot;x&quot;: 1.1538461538461533, &quot;y&quot;: -1.4102564102564106, &quot;z&quot;: -0.2909471751707856}, {&quot;x&quot;: 1.1538461538461533, &quot;y&quot;: -1.1538461538461542, &quot;z&quot;: -0.5610502140446174}, {&quot;x&quot;: 1.1538461538461533, &quot;y&quot;: -0.8974358974358978, &quot;z&quot;: -0.679175450499573}, {&quot;x&quot;: 1.1538461538461533, &quot;y&quot;: -0.6410256410256414, &quot;z&quot;: -0.6396048666935144}, {&quot;x&quot;: 1.1538461538461533, &quot;y&quot;: -0.384615384615385, &quot;z&quot;: -0.5166068451590095}, {&quot;x&quot;: 1.1538461538461533, &quot;y&quot;: -0.12820512820512864, &quot;z&quot;: -0.41720956339767423}, {&quot;x&quot;: 1.1538461538461533, &quot;y&quot;: 0.12820512820512775, &quot;z&quot;: -0.41720956339767423}, {&quot;x&quot;: 1.1538461538461533, &quot;y&quot;: 0.38461538461538414, &quot;z&quot;: -0.516606845159009}, {&quot;x&quot;: 1.1538461538461533, &quot;y&quot;: 0.6410256410256405, &quot;z&quot;: -0.6396048666935141}, {&quot;x&quot;: 1.1538461538461533, &quot;y&quot;: 0.8974358974358969, &quot;z&quot;: -0.6791754504995731}, {&quot;x&quot;: 1.1538461538461533, &quot;y&quot;: 1.1538461538461533, &quot;z&quot;: -0.5610502140446183}, {&quot;x&quot;: 1.1538461538461533, &quot;y&quot;: 1.4102564102564097, &quot;z&quot;: -0.290947175170787}, {&quot;x&quot;: 1.1538461538461533, &quot;y&quot;: 1.666666666666666, &quot;z&quot;: 0.04195038936514201}, {&quot;x&quot;: 1.1538461538461533, &quot;y&quot;: 1.9230769230769225, &quot;z&quot;: 0.30795661143729947}, {&quot;x&quot;: 1.1538461538461533, &quot;y&quot;: 2.179487179487179, &quot;z&quot;: 0.40320180479496565}, {&quot;x&quot;: 1.1538461538461533, &quot;y&quot;: 2.4358974358974352, &quot;z&quot;: 0.30329978838595795}, {&quot;x&quot;: 1.1538461538461533, &quot;y&quot;: 2.6923076923076916, &quot;z&quot;: 0.07536961333393404}, {&quot;x&quot;: 1.1538461538461533, &quot;y&quot;: 2.948717948717948, &quot;z&quot;: -0.1577056419836781}, {&quot;x&quot;: 1.1538461538461533, &quot;y&quot;: 3.2051282051282044, &quot;z&quot;: -0.2809819013756126}, {&quot;x&quot;: 1.1538461538461533, &quot;y&quot;: 3.461538461538461, &quot;z&quot;: -0.244667210473507}, {&quot;x&quot;: 1.1538461538461533, &quot;y&quot;: 3.717948717948717, &quot;z&quot;: -0.08482553354092388}, {&quot;x&quot;: 1.1538461538461533, &quot;y&quot;: 3.9743589743589736, &quot;z&quot;: 0.1018276556614749}, {&quot;x&quot;: 1.1538461538461533, &quot;y&quot;: 4.23076923076923, &quot;z&quot;: 0.21338743078659142}, {&quot;x&quot;: 1.1538461538461533, &quot;y&quot;: 4.487179487179486, &quot;z&quot;: 0.19722429601204441}, {&quot;x&quot;: 1.1538461538461533, &quot;y&quot;: 4.743589743589743, &quot;z&quot;: 0.07426425040162701}, {&quot;x&quot;: 1.1538461538461533, &quot;y&quot;: 5.0, &quot;z&quot;: -0.07818654606831722}, {&quot;x&quot;: 1.4102564102564097, &quot;y&quot;: -4.743589743589744, &quot;z&quot;: 0.032372655749034064}, {&quot;x&quot;: 1.4102564102564097, &quot;y&quot;: -5.0, &quot;z&quot;: -0.11072072650585248}, {&quot;x&quot;: 1.4102564102564097, &quot;y&quot;: -4.487179487179487, &quot;z&quot;: 0.17058680183190766}, {&quot;x&quot;: 1.4102564102564097, &quot;y&quot;: -4.230769230769231, &quot;z&quot;: 0.22243257961224733}, {&quot;x&quot;: 1.4102564102564097, &quot;y&quot;: -3.9743589743589745, &quot;z&quot;: 0.1495083751629422}, {&quot;x&quot;: 1.4102564102564097, &quot;y&quot;: -3.717948717948718, &quot;z&quot;: -0.018607513033307106}, {&quot;x&quot;: 1.4102564102564097, &quot;y&quot;: -3.4615384615384617, &quot;z&quot;: -0.19629367355494326}, {&quot;x&quot;: 1.4102564102564097, &quot;y&quot;: -3.2051282051282053, &quot;z&quot;: -0.2855743751375799}, {&quot;x&quot;: 1.4102564102564097, &quot;y&quot;: -2.948717948717949, &quot;z&quot;: -0.22859921985486215}, {&quot;x&quot;: 1.4102564102564097, &quot;y&quot;: -2.6923076923076925, &quot;z&quot;: -0.040519473390474396}, {&quot;x&quot;: 1.4102564102564097, &quot;y&quot;: -2.435897435897436, &quot;z&quot;: 0.19535606525973917}, {&quot;x&quot;: 1.4102564102564097, &quot;y&quot;: -2.1794871794871797, &quot;z&quot;: 0.36784352552862976}, {&quot;x&quot;: 1.4102564102564097, &quot;y&quot;: -1.9230769230769234, &quot;z&quot;: 0.39214527958875217}, {&quot;x&quot;: 1.4102564102564097, &quot;y&quot;: -1.666666666666667, &quot;z&quot;: 0.24936703371622443}, {&quot;x&quot;: 1.4102564102564097, &quot;y&quot;: -1.4102564102564106, &quot;z&quot;: -0.008814793892183148}, {&quot;x&quot;: 1.4102564102564097, &quot;y&quot;: -1.1538461538461542, &quot;z&quot;: -0.29094717517078605}, {&quot;x&quot;: 1.4102564102564097, &quot;y&quot;: -0.8974358974358978, &quot;z&quot;: -0.5133961102840866}, {&quot;x&quot;: 1.4102564102564097, &quot;y&quot;: -0.6410256410256414, &quot;z&quot;: -0.6378653553566384}, {&quot;x&quot;: 1.4102564102564097, &quot;y&quot;: -0.384615384615385, &quot;z&quot;: -0.6791754504995731}, {&quot;x&quot;: 1.4102564102564097, &quot;y&quot;: -0.12820512820512864, &quot;z&quot;: -0.6817736703067451}, {&quot;x&quot;: 1.4102564102564097, &quot;y&quot;: 0.12820512820512775, &quot;z&quot;: -0.6817736703067451}, {&quot;x&quot;: 1.4102564102564097, &quot;y&quot;: 0.38461538461538414, &quot;z&quot;: -0.6791754504995731}, {&quot;x&quot;: 1.4102564102564097, &quot;y&quot;: 0.6410256410256405, &quot;z&quot;: -0.6378653553566386}, {&quot;x&quot;: 1.4102564102564097, &quot;y&quot;: 0.8974358974358969, &quot;z&quot;: -0.5133961102840874}, {&quot;x&quot;: 1.4102564102564097, &quot;y&quot;: 1.1538461538461533, &quot;z&quot;: -0.290947175170787}, {&quot;x&quot;: 1.4102564102564097, &quot;y&quot;: 1.4102564102564097, &quot;z&quot;: -0.00881479389218404}, {&quot;x&quot;: 1.4102564102564097, &quot;y&quot;: 1.666666666666666, &quot;z&quot;: 0.24936703371622349}, {&quot;x&quot;: 1.4102564102564097, &quot;y&quot;: 1.9230769230769225, &quot;z&quot;: 0.3921452795887521}, {&quot;x&quot;: 1.4102564102564097, &quot;y&quot;: 2.179487179487179, &quot;z&quot;: 0.36784352552863003}, {&quot;x&quot;: 1.4102564102564097, &quot;y&quot;: 2.4358974358974352, &quot;z&quot;: 0.19535606525974025}, {&quot;x&quot;: 1.4102564102564097, &quot;y&quot;: 2.6923076923076916, &quot;z&quot;: -0.0405194733904744}, {&quot;x&quot;: 1.4102564102564097, &quot;y&quot;: 2.948717948717948, &quot;z&quot;: -0.2285992198548618}, {&quot;x&quot;: 1.4102564102564097, &quot;y&quot;: 3.2051282051282044, &quot;z&quot;: -0.28557437513758}, {&quot;x&quot;: 1.4102564102564097, &quot;y&quot;: 3.461538461538461, &quot;z&quot;: -0.19629367355494434}, {&quot;x&quot;: 1.4102564102564097, &quot;y&quot;: 3.717948717948717, &quot;z&quot;: -0.018607513033308}, {&quot;x&quot;: 1.4102564102564097, &quot;y&quot;: 3.9743589743589736, &quot;z&quot;: 0.1495083751629419}, {&quot;x&quot;: 1.4102564102564097, &quot;y&quot;: 4.23076923076923, &quot;z&quot;: 0.22243257961224733}, {&quot;x&quot;: 1.4102564102564097, &quot;y&quot;: 4.487179487179486, &quot;z&quot;: 0.17058680183190814}, {&quot;x&quot;: 1.4102564102564097, &quot;y&quot;: 4.743589743589743, &quot;z&quot;: 0.03237265574903443}, {&quot;x&quot;: 1.4102564102564097, &quot;y&quot;: 5.0, &quot;z&quot;: -0.11072072650585248}, {&quot;x&quot;: 1.666666666666666, &quot;y&quot;: -4.743589743589744, &quot;z&quot;: -0.01738852540015784}, {&quot;x&quot;: 1.666666666666666, &quot;y&quot;: -5.0, &quot;z&quot;: -0.14250583708975548}, {&quot;x&quot;: 1.666666666666666, &quot;y&quot;: -4.487179487179487, &quot;z&quot;: 0.12974477006536764}, {&quot;x&quot;: 1.666666666666666, &quot;y&quot;: -4.230769230769231, &quot;z&quot;: 0.21749963044648865}, {&quot;x&quot;: 1.666666666666666, &quot;y&quot;: -3.9743589743589745, &quot;z&quot;: 0.19177960940564043}, {&quot;x&quot;: 1.666666666666666, &quot;y&quot;: -3.717948717948718, &quot;z&quot;: 0.056862409133510455}, {&quot;x&quot;: 1.666666666666666, &quot;y&quot;: -3.4615384615384617, &quot;z&quot;: -0.12404748116237656}, {&quot;x&quot;: 1.666666666666666, &quot;y&quot;: -3.2051282051282053, &quot;z&quot;: -0.2596827679719552}, {&quot;x&quot;: 1.666666666666666, &quot;y&quot;: -2.948717948717949, &quot;z&quot;: -0.27687046867027154}, {&quot;x&quot;: 1.666666666666666, &quot;y&quot;: -2.6923076923076925, &quot;z&quot;: -0.1577056419836785}, {&quot;x&quot;: 1.666666666666666, &quot;y&quot;: -2.435897435897436, &quot;z&quot;: 0.05142019026962626}, {&quot;x&quot;: 1.666666666666666, &quot;y&quot;: -2.1794871794871797, &quot;z&quot;: 0.2627616487482761}, {&quot;x&quot;: 1.666666666666666, &quot;y&quot;: -1.9230769230769234, &quot;z&quot;: 0.3890728985144823}, {&quot;x&quot;: 1.666666666666666, &quot;y&quot;: -1.666666666666667, &quot;z&quot;: 0.38217914697454464}, {&quot;x&quot;: 1.666666666666666, &quot;y&quot;: -1.4102564102564106, &quot;z&quot;: 0.24936703371622443}, {&quot;x&quot;: 1.666666666666666, &quot;y&quot;: -1.1538461538461542, &quot;z&quot;: 0.04195038936514287}, {&quot;x&quot;: 1.666666666666666, &quot;y&quot;: -0.8974358974358978, &quot;z&quot;: -0.17437277928309594}, {&quot;x&quot;: 1.666666666666666, &quot;y&quot;: -0.6410256410256414, &quot;z&quot;: -0.34919117705423086}, {&quot;x&quot;: 1.666666666666666, &quot;y&quot;: -0.384615384615385, &quot;z&quot;: -0.4614227420864501}, {&quot;x&quot;: 1.666666666666666, &quot;y&quot;: -0.12820512820512864, &quot;z&quot;: -0.513396110284087}, {&quot;x&quot;: 1.666666666666666, &quot;y&quot;: 0.12820512820512775, &quot;z&quot;: -0.513396110284087}, {&quot;x&quot;: 1.666666666666666, &quot;y&quot;: 0.38461538461538414, &quot;z&quot;: -0.4614227420864501}, {&quot;x&quot;: 1.666666666666666, &quot;y&quot;: 0.6410256410256405, &quot;z&quot;: -0.34919117705423175}, {&quot;x&quot;: 1.666666666666666, &quot;y&quot;: 0.8974358974358969, &quot;z&quot;: -0.17437277928309644}, {&quot;x&quot;: 1.666666666666666, &quot;y&quot;: 1.1538461538461533, &quot;z&quot;: 0.04195038936514201}, {&quot;x&quot;: 1.666666666666666, &quot;y&quot;: 1.4102564102564097, &quot;z&quot;: 0.24936703371622349}, {&quot;x&quot;: 1.666666666666666, &quot;y&quot;: 1.666666666666666, &quot;z&quot;: 0.3821791469745444}, {&quot;x&quot;: 1.666666666666666, &quot;y&quot;: 1.9230769230769225, &quot;z&quot;: 0.3890728985144824}, {&quot;x&quot;: 1.666666666666666, &quot;y&quot;: 2.179487179487179, &quot;z&quot;: 0.2627616487482767}, {&quot;x&quot;: 1.666666666666666, &quot;y&quot;: 2.4358974358974352, &quot;z&quot;: 0.05142019026962747}, {&quot;x&quot;: 1.666666666666666, &quot;y&quot;: 2.6923076923076916, &quot;z&quot;: -0.1577056419836781}, {&quot;x&quot;: 1.666666666666666, &quot;y&quot;: 2.948717948717948, &quot;z&quot;: -0.2768704686702714}, {&quot;x&quot;: 1.666666666666666, &quot;y&quot;: 3.2051282051282044, &quot;z&quot;: -0.2596827679719556}, {&quot;x&quot;: 1.666666666666666, &quot;y&quot;: 3.461538461538461, &quot;z&quot;: -0.12404748116237699}, {&quot;x&quot;: 1.666666666666666, &quot;y&quot;: 3.717948717948717, &quot;z&quot;: 0.056862409133509616}, {&quot;x&quot;: 1.666666666666666, &quot;y&quot;: 3.9743589743589736, &quot;z&quot;: 0.19177960940564}, {&quot;x&quot;: 1.666666666666666, &quot;y&quot;: 4.23076923076923, &quot;z&quot;: 0.21749963044648882}, {&quot;x&quot;: 1.666666666666666, &quot;y&quot;: 4.487179487179486, &quot;z&quot;: 0.12974477006536825}, {&quot;x&quot;: 1.666666666666666, &quot;y&quot;: 4.743589743589743, &quot;z&quot;: -0.01738852540015714}, {&quot;x&quot;: 1.666666666666666, &quot;y&quot;: 5.0, &quot;z&quot;: -0.14250583708975548}, {&quot;x&quot;: 1.9230769230769225, &quot;y&quot;: -4.743589743589744, &quot;z&quot;: -0.07110861736368898}, {&quot;x&quot;: 1.9230769230769225, &quot;y&quot;: -5.0, &quot;z&quot;: -0.16816513881487025}, {&quot;x&quot;: 1.9230769230769225, &quot;y&quot;: -4.487179487179487, &quot;z&quot;: 0.07426425040162632}, {&quot;x&quot;: 1.9230769230769225, &quot;y&quot;: -4.230769230769231, &quot;z&quot;: 0.19253864247086708}, {&quot;x&quot;: 1.9230769230769225, &quot;y&quot;: -3.9743589743589745, &quot;z&quot;: 0.21849671405696244}, {&quot;x&quot;: 1.9230769230769225, &quot;y&quot;: -3.717948717948718, &quot;z&quot;: 0.13169628077917828}, {&quot;x&quot;: 1.9230769230769225, &quot;y&quot;: -3.4615384615384617, &quot;z&quot;: -0.031762908561531876}, {&quot;x&quot;: 1.9230769230769225, &quot;y&quot;: -3.2051282051282053, &quot;z&quot;: -0.19629367355494326}, {&quot;x&quot;: 1.9230769230769225, &quot;y&quot;: -2.948717948717949, &quot;z&quot;: -0.2834765187178332}, {&quot;x&quot;: 1.9230769230769225, &quot;y&quot;: -2.6923076923076925, &quot;z&quot;: -0.2492232356268056}, {&quot;x&quot;: 1.9230769230769225, &quot;y&quot;: -2.435897435897436, &quot;z&quot;: -0.10295020095341223}, {&quot;x&quot;: 1.9230769230769225, &quot;y&quot;: -2.1794871794871797, &quot;z&quot;: 0.09949673187583748}, {&quot;x&quot;: 1.9230769230769225, &quot;y&quot;: -1.9230769230769234, &quot;z&quot;: 0.2835780881782838}, {&quot;x&quot;: 1.9230769230769225, &quot;y&quot;: -1.666666666666667, &quot;z&quot;: 0.3890728985144823}, {&quot;x&quot;: 1.9230769230769225, &quot;y&quot;: -1.4102564102564106, &quot;z&quot;: 0.39214527958875217}, {&quot;x&quot;: 1.9230769230769225, &quot;y&quot;: -1.1538461538461542, &quot;z&quot;: 0.30795661143729963}, {&quot;x&quot;: 1.9230769230769225, &quot;y&quot;: -0.8974358974358978, &quot;z&quot;: 0.1764520585313713}, {&quot;x&quot;: 1.9230769230769225, &quot;y&quot;: -0.6410256410256414, &quot;z&quot;: 0.04195038936514287}, {&quot;x&quot;: 1.9230769230769225, &quot;y&quot;: -0.384615384615385, &quot;z&quot;: -0.062061535024023985}, {&quot;x&quot;: 1.9230769230769225, &quot;y&quot;: -0.12820512820512864, &quot;z&quot;: -0.11740161711927322}, {&quot;x&quot;: 1.9230769230769225, &quot;y&quot;: 0.12820512820512775, &quot;z&quot;: -0.11740161711927322}, {&quot;x&quot;: 1.9230769230769225, &quot;y&quot;: 0.38461538461538414, &quot;z&quot;: -0.06206153502402443}, {&quot;x&quot;: 1.9230769230769225, &quot;y&quot;: 0.6410256410256405, &quot;z&quot;: 0.04195038936514201}, {&quot;x&quot;: 1.9230769230769225, &quot;y&quot;: 0.8974358974358969, &quot;z&quot;: 0.17645205853137055}, {&quot;x&quot;: 1.9230769230769225, &quot;y&quot;: 1.1538461538461533, &quot;z&quot;: 0.30795661143729947}, {&quot;x&quot;: 1.9230769230769225, &quot;y&quot;: 1.4102564102564097, &quot;z&quot;: 0.3921452795887521}, {&quot;x&quot;: 1.9230769230769225, &quot;y&quot;: 1.666666666666666, &quot;z&quot;: 0.3890728985144824}, {&quot;x&quot;: 1.9230769230769225, &quot;y&quot;: 1.9230769230769225, &quot;z&quot;: 0.28357808817828384}, {&quot;x&quot;: 1.9230769230769225, &quot;y&quot;: 2.179487179487179, &quot;z&quot;: 0.0994967318758381}, {&quot;x&quot;: 1.9230769230769225, &quot;y&quot;: 2.4358974358974352, &quot;z&quot;: -0.1029502009534117}, {&quot;x&quot;: 1.9230769230769225, &quot;y&quot;: 2.6923076923076916, &quot;z&quot;: -0.24922323562680504}, {&quot;x&quot;: 1.9230769230769225, &quot;y&quot;: 2.948717948717948, &quot;z&quot;: -0.28347651871783325}, {&quot;x&quot;: 1.9230769230769225, &quot;y&quot;: 3.2051282051282044, &quot;z&quot;: -0.19629367355494434}, {&quot;x&quot;: 1.9230769230769225, &quot;y&quot;: 3.461538461538461, &quot;z&quot;: -0.03176290856153277}, {&quot;x&quot;: 1.9230769230769225, &quot;y&quot;: 3.717948717948717, &quot;z&quot;: 0.1316962807791776}, {&quot;x&quot;: 1.9230769230769225, &quot;y&quot;: 3.9743589743589736, &quot;z&quot;: 0.21849671405696225}, {&quot;x&quot;: 1.9230769230769225, &quot;y&quot;: 4.23076923076923, &quot;z&quot;: 0.19253864247086747}, {&quot;x&quot;: 1.9230769230769225, &quot;y&quot;: 4.487179487179486, &quot;z&quot;: 0.07426425040162701}, {&quot;x&quot;: 1.9230769230769225, &quot;y&quot;: 4.743589743589743, &quot;z&quot;: -0.07110861736368836}, {&quot;x&quot;: 1.9230769230769225, &quot;y&quot;: 5.0, &quot;z&quot;: -0.16816513881487025}, {&quot;x&quot;: 2.179487179487179, &quot;y&quot;: -4.743589743589744, &quot;z&quot;: -0.12225553877823545}, {&quot;x&quot;: 2.179487179487179, &quot;y&quot;: -5.0, &quot;z&quot;: -0.181458747260568}, {&quot;x&quot;: 2.179487179487179, &quot;y&quot;: -4.487179487179487, &quot;z&quot;: 0.007252640095980293}, {&quot;x&quot;: 2.179487179487179, &quot;y&quot;: -4.230769230769231, &quot;z&quot;: 0.1442431853958254}, {&quot;x&quot;: 2.179487179487179, &quot;y&quot;: -3.9743589743589745, &quot;z&quot;: 0.21945165588530713}, {&quot;x&quot;: 2.179487179487179, &quot;y&quot;: -3.717948717948718, &quot;z&quot;: 0.19177960940564043}, {&quot;x&quot;: 2.179487179487179, &quot;y&quot;: -3.4615384615384617, &quot;z&quot;: 0.06859293033635355}, {&quot;x&quot;: 2.179487179487179, &quot;y&quot;: -3.2051282051282053, &quot;z&quot;: -0.09801869890005771}, {&quot;x&quot;: 2.179487179487179, &quot;y&quot;: -2.948717948717949, &quot;z&quot;: -0.23614455601492598}, {&quot;x&quot;: 2.179487179487179, &quot;y&quot;: -2.6923076923076925, &quot;z&quot;: -0.2868375581433094}, {&quot;x&quot;: 2.179487179487179, &quot;y&quot;: -2.435897435897436, &quot;z&quot;: -0.22859921985486215}, {&quot;x&quot;: 2.179487179487179, &quot;y&quot;: -2.1794871794871797, &quot;z&quot;: -0.08291366426279477}, {&quot;x&quot;: 2.179487179487179, &quot;y&quot;: -1.9230769230769234, &quot;z&quot;: 0.09949673187583807}, {&quot;x&quot;: 2.179487179487179, &quot;y&quot;: -1.666666666666667, &quot;z&quot;: 0.2627616487482761}, {&quot;x&quot;: 2.179487179487179, &quot;y&quot;: -1.4102564102564106, &quot;z&quot;: 0.36784352552862976}, {&quot;x&quot;: 2.179487179487179, &quot;y&quot;: -1.1538461538461542, &quot;z&quot;: 0.40320180479496565}, {&quot;x&quot;: 2.179487179487179, &quot;y&quot;: -0.8974358974358978, &quot;z&quot;: 0.38217914697454464}, {&quot;x&quot;: 2.179487179487179, &quot;y&quot;: -0.6410256410256414, &quot;z&quot;: 0.33182490974641493}, {&quot;x&quot;: 2.179487179487179, &quot;y&quot;: -0.384615384615385, &quot;z&quot;: 0.28047177296991826}, {&quot;x&quot;: 2.179487179487179, &quot;y&quot;: -0.12820512820512864, &quot;z&quot;: 0.24936703371622412}, {&quot;x&quot;: 2.179487179487179, &quot;y&quot;: 0.12820512820512775, &quot;z&quot;: 0.24936703371622412}, {&quot;x&quot;: 2.179487179487179, &quot;y&quot;: 0.38461538461538414, &quot;z&quot;: 0.28047177296991826}, {&quot;x&quot;: 2.179487179487179, &quot;y&quot;: 0.6410256410256405, &quot;z&quot;: 0.33182490974641493}, {&quot;x&quot;: 2.179487179487179, &quot;y&quot;: 0.8974358974358969, &quot;z&quot;: 0.3821791469745444}, {&quot;x&quot;: 2.179487179487179, &quot;y&quot;: 1.1538461538461533, &quot;z&quot;: 0.40320180479496565}, {&quot;x&quot;: 2.179487179487179, &quot;y&quot;: 1.4102564102564097, &quot;z&quot;: 0.36784352552863003}, {&quot;x&quot;: 2.179487179487179, &quot;y&quot;: 1.666666666666666, &quot;z&quot;: 0.2627616487482767}, {&quot;x&quot;: 2.179487179487179, &quot;y&quot;: 1.9230769230769225, &quot;z&quot;: 0.0994967318758381}, {&quot;x&quot;: 2.179487179487179, &quot;y&quot;: 2.179487179487179, &quot;z&quot;: -0.08291366426279421}, {&quot;x&quot;: 2.179487179487179, &quot;y&quot;: 2.4358974358974352, &quot;z&quot;: -0.2285992198548618}, {&quot;x&quot;: 2.179487179487179, &quot;y&quot;: 2.6923076923076916, &quot;z&quot;: -0.28683755814330936}, {&quot;x&quot;: 2.179487179487179, &quot;y&quot;: 2.948717948717948, &quot;z&quot;: -0.2361445560149263}, {&quot;x&quot;: 2.179487179487179, &quot;y&quot;: 3.2051282051282044, &quot;z&quot;: -0.09801869890005815}, {&quot;x&quot;: 2.179487179487179, &quot;y&quot;: 3.461538461538461, &quot;z&quot;: 0.06859293033635315}, {&quot;x&quot;: 2.179487179487179, &quot;y&quot;: 3.717948717948717, &quot;z&quot;: 0.19177960940564}, {&quot;x&quot;: 2.179487179487179, &quot;y&quot;: 3.9743589743589736, &quot;z&quot;: 0.21945165588530727}, {&quot;x&quot;: 2.179487179487179, &quot;y&quot;: 4.23076923076923, &quot;z&quot;: 0.1442431853958254}, {&quot;x&quot;: 2.179487179487179, &quot;y&quot;: 4.487179487179486, &quot;z&quot;: 0.007252640095981005}, {&quot;x&quot;: 2.179487179487179, &quot;y&quot;: 4.743589743589743, &quot;z&quot;: -0.12225553877823493}, {&quot;x&quot;: 2.179487179487179, &quot;y&quot;: 5.0, &quot;z&quot;: -0.181458747260568}, {&quot;x&quot;: 2.4358974358974352, &quot;y&quot;: -4.743589743589744, &quot;z&quot;: -0.16215123327794975}, {&quot;x&quot;: 2.4358974358974352, &quot;y&quot;: -5.0, &quot;z&quot;: -0.17642014222082295}, {&quot;x&quot;: 2.4358974358974352, &quot;y&quot;: -4.487179487179487, &quot;z&quot;: -0.06386100244520297}, {&quot;x&quot;: 2.4358974358974352, &quot;y&quot;: -4.230769230769231, &quot;z&quot;: 0.07426425040162632}, {&quot;x&quot;: 2.4358974358974352, &quot;y&quot;: -3.9743589743589745, &quot;z&quot;: 0.18751704244724113}, {&quot;x&quot;: 2.4358974358974352, &quot;y&quot;: -3.717948717948718, &quot;z&quot;: 0.22161150667081944}, {&quot;x&quot;: 2.4358974358974352, &quot;y&quot;: -3.4615384615384617, &quot;z&quot;: 0.1577421701184894}, {&quot;x&quot;: 2.4358974358974352, &quot;y&quot;: -3.2051282051282053, &quot;z&quot;: 0.02005162258719657}, {&quot;x&quot;: 2.4358974358974352, &quot;y&quot;: -2.948717948717949, &quot;z&quot;: -0.13680209349327227}, {&quot;x&quot;: 2.4358974358974352, &quot;y&quot;: -2.6923076923076925, &quot;z&quot;: -0.2525273690725323}, {&quot;x&quot;: 2.4358974358974352, &quot;y&quot;: -2.435897435897436, &quot;z&quot;: -0.2859444258351932}, {&quot;x&quot;: 2.4358974358974352, &quot;y&quot;: -2.1794871794871797, &quot;z&quot;: -0.22859921985486215}, {&quot;x&quot;: 2.4358974358974352, &quot;y&quot;: -1.9230769230769234, &quot;z&quot;: -0.10295020095341224}, {&quot;x&quot;: 2.4358974358974352, &quot;y&quot;: -1.666666666666667, &quot;z&quot;: 0.05142019026962687}, {&quot;x&quot;: 2.4358974358974352, &quot;y&quot;: -1.4102564102564106, &quot;z&quot;: 0.1953560652597397}, {&quot;x&quot;: 2.4358974358974352, &quot;y&quot;: -1.1538461538461542, &quot;z&quot;: 0.3032997883859575}, {&quot;x&quot;: 2.4358974358974352, &quot;y&quot;: -0.8974358974358978, &quot;z&quot;: 0.36784352552863003}, {&quot;x&quot;: 2.4358974358974352, &quot;y&quot;: -0.6410256410256414, &quot;z&quot;: 0.39631500866096997}, {&quot;x&quot;: 2.4358974358974352, &quot;y&quot;: -0.384615384615385, &quot;z&quot;: 0.40320180479496565}, {&quot;x&quot;: 2.4358974358974352, &quot;y&quot;: -0.12820512820512864, &quot;z&quot;: 0.4025199040233179}, {&quot;x&quot;: 2.4358974358974352, &quot;y&quot;: 0.12820512820512775, &quot;z&quot;: 0.4025199040233179}, {&quot;x&quot;: 2.4358974358974352, &quot;y&quot;: 0.38461538461538414, &quot;z&quot;: 0.40320180479496565}, {&quot;x&quot;: 2.4358974358974352, &quot;y&quot;: 0.6410256410256405, &quot;z&quot;: 0.39631500866096997}, {&quot;x&quot;: 2.4358974358974352, &quot;y&quot;: 0.8974358974358969, &quot;z&quot;: 0.36784352552863026}, {&quot;x&quot;: 2.4358974358974352, &quot;y&quot;: 1.1538461538461533, &quot;z&quot;: 0.30329978838595795}, {&quot;x&quot;: 2.4358974358974352, &quot;y&quot;: 1.4102564102564097, &quot;z&quot;: 0.19535606525974025}, {&quot;x&quot;: 2.4358974358974352, &quot;y&quot;: 1.666666666666666, &quot;z&quot;: 0.05142019026962747}, {&quot;x&quot;: 2.4358974358974352, &quot;y&quot;: 1.9230769230769225, &quot;z&quot;: -0.1029502009534117}, {&quot;x&quot;: 2.4358974358974352, &quot;y&quot;: 2.179487179487179, &quot;z&quot;: -0.2285992198548618}, {&quot;x&quot;: 2.4358974358974352, &quot;y&quot;: 2.4358974358974352, &quot;z&quot;: -0.2859444258351931}, {&quot;x&quot;: 2.4358974358974352, &quot;y&quot;: 2.6923076923076916, &quot;z&quot;: -0.2525273690725326}, {&quot;x&quot;: 2.4358974358974352, &quot;y&quot;: 2.948717948717948, &quot;z&quot;: -0.1368020934932727}, {&quot;x&quot;: 2.4358974358974352, &quot;y&quot;: 3.2051282051282044, &quot;z&quot;: 0.020051622587195696}, {&quot;x&quot;: 2.4358974358974352, &quot;y&quot;: 3.461538461538461, &quot;z&quot;: 0.15774217011848884}, {&quot;x&quot;: 2.4358974358974352, &quot;y&quot;: 3.717948717948717, &quot;z&quot;: 0.22161150667081936}, {&quot;x&quot;: 2.4358974358974352, &quot;y&quot;: 3.9743589743589736, &quot;z&quot;: 0.18751704244724154}, {&quot;x&quot;: 2.4358974358974352, &quot;y&quot;: 4.23076923076923, &quot;z&quot;: 0.07426425040162701}, {&quot;x&quot;: 2.4358974358974352, &quot;y&quot;: 4.487179487179486, &quot;z&quot;: -0.06386100244520233}, {&quot;x&quot;: 2.4358974358974352, &quot;y&quot;: 4.743589743589743, &quot;z&quot;: -0.16215123327794945}, {&quot;x&quot;: 2.4358974358974352, &quot;y&quot;: 5.0, &quot;z&quot;: -0.17642014222082295}, {&quot;x&quot;: 2.6923076923076916, &quot;y&quot;: -4.743589743589744, &quot;z&quot;: -0.18145874726056793}, {&quot;x&quot;: 2.6923076923076916, &quot;y&quot;: -5.0, &quot;z&quot;: -0.14904237659689593}, {&quot;x&quot;: 2.6923076923076916, &quot;y&quot;: -4.487179487179487, &quot;z&quot;: -0.12767883171207858}, {&quot;x&quot;: 2.6923076923076916, &quot;y&quot;: -4.230769230769231, &quot;z&quot;: -0.009250285950514308}, {&quot;x&quot;: 2.6923076923076916, &quot;y&quot;: -3.9743589743589745, &quot;z&quot;: 0.12222104054936214}, {&quot;x&quot;: 2.6923076923076916, &quot;y&quot;: -3.717948717948718, &quot;z&quot;: 0.2091223519076397}, {&quot;x&quot;: 2.6923076923076916, &quot;y&quot;: -3.4615384615384617, &quot;z&quot;: 0.21338743078659142}, {&quot;x&quot;: 2.6923076923076916, &quot;y&quot;: -3.2051282051282053, &quot;z&quot;: 0.13169628077917828}, {&quot;x&quot;: 2.6923076923076916, &quot;y&quot;: -2.948717948717949, &quot;z&quot;: -0.005565270813887642}, {&quot;x&quot;: 2.6923076923076916, &quot;y&quot;: -2.6923076923076925, &quot;z&quot;: -0.14932821393162313}, {&quot;x&quot;: 2.6923076923076916, &quot;y&quot;: -2.435897435897436, &quot;z&quot;: -0.2525273690725323}, {&quot;x&quot;: 2.6923076923076916, &quot;y&quot;: -2.1794871794871797, &quot;z&quot;: -0.2868375581433094}, {&quot;x&quot;: 2.6923076923076916, &quot;y&quot;: -1.9230769230769234, &quot;z&quot;: -0.2492232356268056}, {&quot;x&quot;: 2.6923076923076916, &quot;y&quot;: -1.666666666666667, &quot;z&quot;: -0.1577056419836785}, {&quot;x&quot;: 2.6923076923076916, &quot;y&quot;: -1.4102564102564106, &quot;z&quot;: -0.040519473390474396}, {&quot;x&quot;: 2.6923076923076916, &quot;y&quot;: -1.1538461538461542, &quot;z&quot;: 0.07536961333393402}, {&quot;x&quot;: 2.6923076923076916, &quot;y&quot;: -0.8974358974358978, &quot;z&quot;: 0.17174795107440963}, {&quot;x&quot;: 2.6923076923076916, &quot;y&quot;: -0.6410256410256414, &quot;z&quot;: 0.24101402846304937}, {&quot;x&quot;: 2.6923076923076916, &quot;y&quot;: -0.384615384615385, &quot;z&quot;: 0.28357808817828384}, {&quot;x&quot;: 2.6923076923076916, &quot;y&quot;: -0.12820512820512864, &quot;z&quot;: 0.3032997883859575}, {&quot;x&quot;: 2.6923076923076916, &quot;y&quot;: 0.12820512820512775, &quot;z&quot;: 0.3032997883859575}, {&quot;x&quot;: 2.6923076923076916, &quot;y&quot;: 0.38461538461538414, &quot;z&quot;: 0.28357808817828384}, {&quot;x&quot;: 2.6923076923076916, &quot;y&quot;: 0.6410256410256405, &quot;z&quot;: 0.2410140284630499}, {&quot;x&quot;: 2.6923076923076916, &quot;y&quot;: 0.8974358974358969, &quot;z&quot;: 0.17174795107440963}, {&quot;x&quot;: 2.6923076923076916, &quot;y&quot;: 1.1538461538461533, &quot;z&quot;: 0.07536961333393404}, {&quot;x&quot;: 2.6923076923076916, &quot;y&quot;: 1.4102564102564097, &quot;z&quot;: -0.0405194733904744}, {&quot;x&quot;: 2.6923076923076916, &quot;y&quot;: 1.666666666666666, &quot;z&quot;: -0.1577056419836781}, {&quot;x&quot;: 2.6923076923076916, &quot;y&quot;: 1.9230769230769225, &quot;z&quot;: -0.24922323562680504}, {&quot;x&quot;: 2.6923076923076916, &quot;y&quot;: 2.179487179487179, &quot;z&quot;: -0.28683755814330936}, {&quot;x&quot;: 2.6923076923076916, &quot;y&quot;: 2.4358974358974352, &quot;z&quot;: -0.2525273690725326}, {&quot;x&quot;: 2.6923076923076916, &quot;y&quot;: 2.6923076923076916, &quot;z&quot;: -0.14932821393162352}, {&quot;x&quot;: 2.6923076923076916, &quot;y&quot;: 2.948717948717948, &quot;z&quot;: -0.005565270813888088}, {&quot;x&quot;: 2.6923076923076916, &quot;y&quot;: 3.2051282051282044, &quot;z&quot;: 0.1316962807791776}, {&quot;x&quot;: 2.6923076923076916, &quot;y&quot;: 3.461538461538461, &quot;z&quot;: 0.2133874307865913}, {&quot;x&quot;: 2.6923076923076916, &quot;y&quot;: 3.717948717948717, &quot;z&quot;: 0.20912235190763995}, {&quot;x&quot;: 2.6923076923076916, &quot;y&quot;: 3.9743589743589736, &quot;z&quot;: 0.12222104054936277}, {&quot;x&quot;: 2.6923076923076916, &quot;y&quot;: 4.23076923076923, &quot;z&quot;: -0.009250285950513604}, {&quot;x&quot;: 2.6923076923076916, &quot;y&quot;: 4.487179487179486, &quot;z&quot;: -0.12767883171207858}, {&quot;x&quot;: 2.6923076923076916, &quot;y&quot;: 4.743589743589743, &quot;z&quot;: -0.18145874726056788}, {&quot;x&quot;: 2.6923076923076916, &quot;y&quot;: 5.0, &quot;z&quot;: -0.14904237659689593}, {&quot;x&quot;: 2.948717948717948, &quot;y&quot;: -4.743589743589744, &quot;z&quot;: -0.17263493054486226}, {&quot;x&quot;: 2.948717948717948, &quot;y&quot;: -5.0, &quot;z&quot;: -0.09917570405967194}, {&quot;x&quot;: 2.948717948717948, &quot;y&quot;: -4.487179487179487, &quot;z&quot;: -0.17076952332841047}, {&quot;x&quot;: 2.948717948717948, &quot;y&quot;: -4.230769230769231, &quot;z&quot;: -0.09179654096842312}, {&quot;x&quot;: 2.948717948717948, &quot;y&quot;: -3.9743589743589745, &quot;z&quot;: 0.032372655749033356}, {&quot;x&quot;: 2.948717948717948, &quot;y&quot;: -3.717948717948718, &quot;z&quot;: 0.1511851284353025}, {&quot;x&quot;: 2.948717948717948, &quot;y&quot;: -3.4615384615384617, &quot;z&quot;: 0.21749963044648865}, {&quot;x&quot;: 2.948717948717948, &quot;y&quot;: -3.2051282051282053, &quot;z&quot;: 0.20626059743173403}, {&quot;x&quot;: 2.948717948717948, &quot;y&quot;: -2.948717948717949, &quot;z&quot;: 0.12214466427113907}, {&quot;x&quot;: 2.948717948717948, &quot;y&quot;: -2.6923076923076925, &quot;z&quot;: -0.005565270813887642}, {&quot;x&quot;: 2.948717948717948, &quot;y&quot;: -2.435897435897436, &quot;z&quot;: -0.13680209349327227}, {&quot;x&quot;: 2.948717948717948, &quot;y&quot;: -2.1794871794871797, &quot;z&quot;: -0.23614455601492604}, {&quot;x&quot;: 2.948717948717948, &quot;y&quot;: -1.9230769230769234, &quot;z&quot;: -0.2834765187178332}, {&quot;x&quot;: 2.948717948717948, &quot;y&quot;: -1.666666666666667, &quot;z&quot;: -0.2768704686702714}, {&quot;x&quot;: 2.948717948717948, &quot;y&quot;: -1.4102564102564106, &quot;z&quot;: -0.2285992198548618}, {&quot;x&quot;: 2.948717948717948, &quot;y&quot;: -1.1538461538461542, &quot;z&quot;: -0.1577056419836785}, {&quot;x&quot;: 2.948717948717948, &quot;y&quot;: -0.8974358974358978, &quot;z&quot;: -0.08291366426279421}, {&quot;x&quot;: 2.948717948717948, &quot;y&quot;: -0.6410256410256414, &quot;z&quot;: -0.018303855097791748}, {&quot;x&quot;: 2.948717948717948, &quot;y&quot;: -0.384615384615385, &quot;z&quot;: 0.027757766519313685}, {&quot;x&quot;: 2.948717948717948, &quot;y&quot;: -0.12820512820512864, &quot;z&quot;: 0.05142019026962687}, {&quot;x&quot;: 2.948717948717948, &quot;y&quot;: 0.12820512820512775, &quot;z&quot;: 0.05142019026962747}, {&quot;x&quot;: 2.948717948717948, &quot;y&quot;: 0.38461538461538414, &quot;z&quot;: 0.027757766519314282}, {&quot;x&quot;: 2.948717948717948, &quot;y&quot;: 0.6410256410256405, &quot;z&quot;: -0.01830385509779175}, {&quot;x&quot;: 2.948717948717948, &quot;y&quot;: 0.8974358974358969, &quot;z&quot;: -0.08291366426279421}, {&quot;x&quot;: 2.948717948717948, &quot;y&quot;: 1.1538461538461533, &quot;z&quot;: -0.1577056419836781}, {&quot;x&quot;: 2.948717948717948, &quot;y&quot;: 1.4102564102564097, &quot;z&quot;: -0.2285992198548618}, {&quot;x&quot;: 2.948717948717948, &quot;y&quot;: 1.666666666666666, &quot;z&quot;: -0.2768704686702714}, {&quot;x&quot;: 2.948717948717948, &quot;y&quot;: 1.9230769230769225, &quot;z&quot;: -0.28347651871783325}, {&quot;x&quot;: 2.948717948717948, &quot;y&quot;: 2.179487179487179, &quot;z&quot;: -0.2361445560149263}, {&quot;x&quot;: 2.948717948717948, &quot;y&quot;: 2.4358974358974352, &quot;z&quot;: -0.1368020934932727}, {&quot;x&quot;: 2.948717948717948, &quot;y&quot;: 2.6923076923076916, &quot;z&quot;: -0.005565270813888088}, {&quot;x&quot;: 2.948717948717948, &quot;y&quot;: 2.948717948717948, &quot;z&quot;: 0.12214466427113907}, {&quot;x&quot;: 2.948717948717948, &quot;y&quot;: 3.2051282051282044, &quot;z&quot;: 0.20626059743173392}, {&quot;x&quot;: 2.948717948717948, &quot;y&quot;: 3.461538461538461, &quot;z&quot;: 0.21749963044648882}, {&quot;x&quot;: 2.948717948717948, &quot;y&quot;: 3.717948717948717, &quot;z&quot;: 0.15118512843530302}, {&quot;x&quot;: 2.948717948717948, &quot;y&quot;: 3.9743589743589736, &quot;z&quot;: 0.032372655749034064}, {&quot;x&quot;: 2.948717948717948, &quot;y&quot;: 4.23076923076923, &quot;z&quot;: -0.09179654096842253}, {&quot;x&quot;: 2.948717948717948, &quot;y&quot;: 4.487179487179486, &quot;z&quot;: -0.17076952332841047}, {&quot;x&quot;: 2.948717948717948, &quot;y&quot;: 4.743589743589743, &quot;z&quot;: -0.17263493054486245}, {&quot;x&quot;: 2.948717948717948, &quot;y&quot;: 5.0, &quot;z&quot;: -0.09917570405967194}, {&quot;x&quot;: 3.2051282051282044, &quot;y&quot;: -4.743589743589744, &quot;z&quot;: -0.1328596087593443}, {&quot;x&quot;: 3.2051282051282044, &quot;y&quot;: -5.0, &quot;z&quot;: -0.032020706711041506}, {&quot;x&quot;: 3.2051282051282044, &quot;y&quot;: -4.487179487179487, &quot;z&quot;: -0.18116306412965302}, {&quot;x&quot;: 3.2051282051282044, &quot;y&quot;: -4.230769230769231, &quot;z&quot;: -0.15507394328644017}, {&quot;x&quot;: 3.2051282051282044, &quot;y&quot;: -3.9743589743589745, &quot;z&quot;: -0.06386100244520297}, {&quot;x&quot;: 3.2051282051282044, &quot;y&quot;: -3.717948717948718, &quot;z&quot;: 0.057592879546352754}, {&quot;x&quot;: 3.2051282051282044, &quot;y&quot;: -3.4615384615384617, &quot;z&quot;: 0.16437306451431274}, {&quot;x&quot;: 3.2051282051282044, &quot;y&quot;: -3.2051282051282053, &quot;z&quot;: 0.21945165588530727}, {&quot;x&quot;: 3.2051282051282044, &quot;y&quot;: -2.948717948717949, &quot;z&quot;: 0.20626059743173403}, {&quot;x&quot;: 3.2051282051282044, &quot;y&quot;: -2.6923076923076925, &quot;z&quot;: 0.1316962807791776}, {&quot;x&quot;: 3.2051282051282044, &quot;y&quot;: -2.435897435897436, &quot;z&quot;: 0.020051622587195696}, {&quot;x&quot;: 3.2051282051282044, &quot;y&quot;: -2.1794871794871797, &quot;z&quot;: -0.09801869890005771}, {&quot;x&quot;: 3.2051282051282044, &quot;y&quot;: -1.9230769230769234, &quot;z&quot;: -0.19629367355494365}, {&quot;x&quot;: 3.2051282051282044, &quot;y&quot;: -1.666666666666667, &quot;z&quot;: -0.2596827679719554}, {&quot;x&quot;: 3.2051282051282044, &quot;y&quot;: -1.4102564102564106, &quot;z&quot;: -0.28557437513757994}, {&quot;x&quot;: 3.2051282051282044, &quot;y&quot;: -1.1538461538461542, &quot;z&quot;: -0.2809819013756126}, {&quot;x&quot;: 3.2051282051282044, &quot;y&quot;: -0.8974358974358978, &quot;z&quot;: -0.2578328027491929}, {&quot;x&quot;: 3.2051282051282044, &quot;y&quot;: -0.6410256410256414, &quot;z&quot;: -0.2285992198548618}, {&quot;x&quot;: 3.2051282051282044, &quot;y&quot;: -0.384615384615385, &quot;z&quot;: -0.20348555208197017}, {&quot;x&quot;: 3.2051282051282044, &quot;y&quot;: -0.12820512820512864, &quot;z&quot;: -0.18928253877123374}, {&quot;x&quot;: 3.2051282051282044, &quot;y&quot;: 0.12820512820512775, &quot;z&quot;: -0.18928253877123333}, {&quot;x&quot;: 3.2051282051282044, &quot;y&quot;: 0.38461538461538414, &quot;z&quot;: -0.2034855520819698}, {&quot;x&quot;: 3.2051282051282044, &quot;y&quot;: 0.6410256410256405, &quot;z&quot;: -0.2285992198548618}, {&quot;x&quot;: 3.2051282051282044, &quot;y&quot;: 0.8974358974358969, &quot;z&quot;: -0.2578328027491927}, {&quot;x&quot;: 3.2051282051282044, &quot;y&quot;: 1.1538461538461533, &quot;z&quot;: -0.2809819013756126}, {&quot;x&quot;: 3.2051282051282044, &quot;y&quot;: 1.4102564102564097, &quot;z&quot;: -0.28557437513758}, {&quot;x&quot;: 3.2051282051282044, &quot;y&quot;: 1.666666666666666, &quot;z&quot;: -0.2596827679719556}, {&quot;x&quot;: 3.2051282051282044, &quot;y&quot;: 1.9230769230769225, &quot;z&quot;: -0.19629367355494434}, {&quot;x&quot;: 3.2051282051282044, &quot;y&quot;: 2.179487179487179, &quot;z&quot;: -0.09801869890005815}, {&quot;x&quot;: 3.2051282051282044, &quot;y&quot;: 2.4358974358974352, &quot;z&quot;: 0.020051622587195696}, {&quot;x&quot;: 3.2051282051282044, &quot;y&quot;: 2.6923076923076916, &quot;z&quot;: 0.1316962807791776}, {&quot;x&quot;: 3.2051282051282044, &quot;y&quot;: 2.948717948717948, &quot;z&quot;: 0.20626059743173392}, {&quot;x&quot;: 3.2051282051282044, &quot;y&quot;: 3.2051282051282044, &quot;z&quot;: 0.21945165588530735}, {&quot;x&quot;: 3.2051282051282044, &quot;y&quot;: 3.461538461538461, &quot;z&quot;: 0.16437306451431324}, {&quot;x&quot;: 3.2051282051282044, &quot;y&quot;: 3.717948717948717, &quot;z&quot;: 0.057592879546352754}, {&quot;x&quot;: 3.2051282051282044, &quot;y&quot;: 3.9743589743589736, &quot;z&quot;: -0.06386100244520233}, {&quot;x&quot;: 3.2051282051282044, &quot;y&quot;: 4.23076923076923, &quot;z&quot;: -0.15507394328644017}, {&quot;x&quot;: 3.2051282051282044, &quot;y&quot;: 4.487179487179486, &quot;z&quot;: -0.18116306412965302}, {&quot;x&quot;: 3.2051282051282044, &quot;y&quot;: 4.743589743589743, &quot;z&quot;: -0.13285960875934513}, {&quot;x&quot;: 3.2051282051282044, &quot;y&quot;: 5.0, &quot;z&quot;: -0.032020706711041506}, {&quot;x&quot;: 3.461538461538461, &quot;y&quot;: -4.743589743589744, &quot;z&quot;: -0.06650034951626861}, {&quot;x&quot;: 3.461538461538461, &quot;y&quot;: -5.0, &quot;z&quot;: 0.04154590892184195}, {&quot;x&quot;: 3.461538461538461, &quot;y&quot;: -4.487179487179487, &quot;z&quot;: -0.1526690215534612}, {&quot;x&quot;: 3.461538461538461, &quot;y&quot;: -4.230769230769231, &quot;z&quot;: -0.1819178471216219}, {&quot;x&quot;: 3.461538461538461, &quot;y&quot;: -3.9743589743589745, &quot;z&quot;: -0.14250583708975548}, {&quot;x&quot;: 3.461538461538461, &quot;y&quot;: -3.717948717948718, &quot;z&quot;: -0.048896179368925964}, {&quot;x&quot;: 3.461538461538461, &quot;y&quot;: -3.4615384615384617, &quot;z&quot;: 0.06595296519823136}, {&quot;x&quot;: 3.461538461538461, &quot;y&quot;: -3.2051282051282053, &quot;z&quot;: 0.16437306451431274}, {&quot;x&quot;: 3.461538461538461, &quot;y&quot;: -2.948717948717949, &quot;z&quot;: 0.21749963044648865}, {&quot;x&quot;: 3.461538461538461, &quot;y&quot;: -2.6923076923076925, &quot;z&quot;: 0.21338743078659142}, {&quot;x&quot;: 3.461538461538461, &quot;y&quot;: -2.435897435897436, &quot;z&quot;: 0.1577421701184894}, {&quot;x&quot;: 3.461538461538461, &quot;y&quot;: -2.1794871794871797, &quot;z&quot;: 0.06859293033635355}, {&quot;x&quot;: 3.461538461538461, &quot;y&quot;: -1.9230769230769234, &quot;z&quot;: -0.031762908561532334}, {&quot;x&quot;: 3.461538461538461, &quot;y&quot;: -1.666666666666667, &quot;z&quot;: -0.12404748116237656}, {&quot;x&quot;: 3.461538461538461, &quot;y&quot;: -1.4102564102564106, &quot;z&quot;: -0.19629367355494395}, {&quot;x&quot;: 3.461538461538461, &quot;y&quot;: -1.1538461538461542, &quot;z&quot;: -0.24466721047350673}, {&quot;x&quot;: 3.461538461538461, &quot;y&quot;: -0.8974358974358978, &quot;z&quot;: -0.2717145043120366}, {&quot;x&quot;: 3.461538461538461, &quot;y&quot;: -0.6410256410256414, &quot;z&quot;: -0.28347651871783325}, {&quot;x&quot;: 3.461538461538461, &quot;y&quot;: -0.384615384615385, &quot;z&quot;: -0.2867048647089701}, {&quot;x&quot;: 3.461538461538461, &quot;y&quot;: -0.12820512820512864, &quot;z&quot;: -0.28683755814330936}, {&quot;x&quot;: 3.461538461538461, &quot;y&quot;: 0.12820512820512775, &quot;z&quot;: -0.28683755814330936}, {&quot;x&quot;: 3.461538461538461, &quot;y&quot;: 0.38461538461538414, &quot;z&quot;: -0.2867048647089701}, {&quot;x&quot;: 3.461538461538461, &quot;y&quot;: 0.6410256410256405, &quot;z&quot;: -0.28347651871783325}, {&quot;x&quot;: 3.461538461538461, &quot;y&quot;: 0.8974358974358969, &quot;z&quot;: -0.27171450431203675}, {&quot;x&quot;: 3.461538461538461, &quot;y&quot;: 1.1538461538461533, &quot;z&quot;: -0.244667210473507}, {&quot;x&quot;: 3.461538461538461, &quot;y&quot;: 1.4102564102564097, &quot;z&quot;: -0.19629367355494434}, {&quot;x&quot;: 3.461538461538461, &quot;y&quot;: 1.666666666666666, &quot;z&quot;: -0.12404748116237699}, {&quot;x&quot;: 3.461538461538461, &quot;y&quot;: 1.9230769230769225, &quot;z&quot;: -0.03176290856153277}, {&quot;x&quot;: 3.461538461538461, &quot;y&quot;: 2.179487179487179, &quot;z&quot;: 0.06859293033635315}, {&quot;x&quot;: 3.461538461538461, &quot;y&quot;: 2.4358974358974352, &quot;z&quot;: 0.15774217011848884}, {&quot;x&quot;: 3.461538461538461, &quot;y&quot;: 2.6923076923076916, &quot;z&quot;: 0.2133874307865913}, {&quot;x&quot;: 3.461538461538461, &quot;y&quot;: 2.948717948717948, &quot;z&quot;: 0.21749963044648882}, {&quot;x&quot;: 3.461538461538461, &quot;y&quot;: 3.2051282051282044, &quot;z&quot;: 0.16437306451431324}, {&quot;x&quot;: 3.461538461538461, &quot;y&quot;: 3.461538461538461, &quot;z&quot;: 0.06595296519823136}, {&quot;x&quot;: 3.461538461538461, &quot;y&quot;: 3.717948717948717, &quot;z&quot;: -0.048896179368925964}, {&quot;x&quot;: 3.461538461538461, &quot;y&quot;: 3.9743589743589736, &quot;z&quot;: -0.14250583708975548}, {&quot;x&quot;: 3.461538461538461, &quot;y&quot;: 4.23076923076923, &quot;z&quot;: -0.18191784712162187}, {&quot;x&quot;: 3.461538461538461, &quot;y&quot;: 4.487179487179486, &quot;z&quot;: -0.15266902155346154}, {&quot;x&quot;: 3.461538461538461, &quot;y&quot;: 4.743589743589743, &quot;z&quot;: -0.06650034951626863}, {&quot;x&quot;: 3.461538461538461, &quot;y&quot;: 5.0, &quot;z&quot;: 0.04154590892184195}, {&quot;x&quot;: 3.717948717948717, &quot;y&quot;: -4.743589743589744, &quot;z&quot;: 0.014059422915529975}, {&quot;x&quot;: 3.717948717948717, &quot;y&quot;: -5.0, &quot;z&quot;: 0.10644610198224165}, {&quot;x&quot;: 3.717948717948717, &quot;y&quot;: -4.487179487179487, &quot;z&quot;: -0.08858400012268383}, {&quot;x&quot;: 3.717948717948717, &quot;y&quot;: -4.230769230769231, &quot;z&quot;: -0.16243685302955652}, {&quot;x&quot;: 3.717948717948717, &quot;y&quot;: -3.9743589743589745, &quot;z&quot;: -0.1807355458306799}, {&quot;x&quot;: 3.717948717948717, &quot;y&quot;: -3.717948717948718, &quot;z&quot;: -0.13780894097772214}, {&quot;x&quot;: 3.717948717948717, &quot;y&quot;: -3.4615384615384617, &quot;z&quot;: -0.0488961793689263}, {&quot;x&quot;: 3.717948717948717, &quot;y&quot;: -3.2051282051282053, &quot;z&quot;: 0.05759287954635205}, {&quot;x&quot;: 3.717948717948717, &quot;y&quot;: -2.948717948717949, &quot;z&quot;: 0.1511851284353025}, {&quot;x&quot;: 3.717948717948717, &quot;y&quot;: -2.6923076923076925, &quot;z&quot;: 0.2091223519076397}, {&quot;x&quot;: 3.717948717948717, &quot;y&quot;: -2.435897435897436, &quot;z&quot;: 0.22161150667081944}, {&quot;x&quot;: 3.717948717948717, &quot;y&quot;: -2.1794871794871797, &quot;z&quot;: 0.19177960940564043}, {&quot;x&quot;: 3.717948717948717, &quot;y&quot;: -1.9230769230769234, &quot;z&quot;: 0.1316962807791776}, {&quot;x&quot;: 3.717948717948717, &quot;y&quot;: -1.666666666666667, &quot;z&quot;: 0.056862409133509616}, {&quot;x&quot;: 3.717948717948717, &quot;y&quot;: -1.4102564102564106, &quot;z&quot;: -0.01860751303330755}, {&quot;x&quot;: 3.717948717948717, &quot;y&quot;: -1.1538461538461542, &quot;z&quot;: -0.08482553354092344}, {&quot;x&quot;: 3.717948717948717, &quot;y&quot;: -0.8974358974358978, &quot;z&quot;: -0.13680209349327227}, {&quot;x&quot;: 3.717948717948717, &quot;y&quot;: -0.6410256410256414, &quot;z&quot;: -0.1735251401726672}, {&quot;x&quot;: 3.717948717948717, &quot;y&quot;: -0.384615384615385, &quot;z&quot;: -0.19629367355494365}, {&quot;x&quot;: 3.717948717948717, &quot;y&quot;: -0.12820512820512864, &quot;z&quot;: -0.20703304952539225}, {&quot;x&quot;: 3.717948717948717, &quot;y&quot;: 0.12820512820512775, &quot;z&quot;: -0.20703304952539256}, {&quot;x&quot;: 3.717948717948717, &quot;y&quot;: 0.38461538461538414, &quot;z&quot;: -0.19629367355494395}, {&quot;x&quot;: 3.717948717948717, &quot;y&quot;: 0.6410256410256405, &quot;z&quot;: -0.17352514017266726}, {&quot;x&quot;: 3.717948717948717, &quot;y&quot;: 0.8974358974358969, &quot;z&quot;: -0.1368020934932727}, {&quot;x&quot;: 3.717948717948717, &quot;y&quot;: 1.1538461538461533, &quot;z&quot;: -0.08482553354092388}, {&quot;x&quot;: 3.717948717948717, &quot;y&quot;: 1.4102564102564097, &quot;z&quot;: -0.018607513033308}, {&quot;x&quot;: 3.717948717948717, &quot;y&quot;: 1.666666666666666, &quot;z&quot;: 0.056862409133509616}, {&quot;x&quot;: 3.717948717948717, &quot;y&quot;: 1.9230769230769225, &quot;z&quot;: 0.1316962807791776}, {&quot;x&quot;: 3.717948717948717, &quot;y&quot;: 2.179487179487179, &quot;z&quot;: 0.19177960940564}, {&quot;x&quot;: 3.717948717948717, &quot;y&quot;: 2.4358974358974352, &quot;z&quot;: 0.22161150667081936}, {&quot;x&quot;: 3.717948717948717, &quot;y&quot;: 2.6923076923076916, &quot;z&quot;: 0.20912235190763995}, {&quot;x&quot;: 3.717948717948717, &quot;y&quot;: 2.948717948717948, &quot;z&quot;: 0.15118512843530302}, {&quot;x&quot;: 3.717948717948717, &quot;y&quot;: 3.2051282051282044, &quot;z&quot;: 0.057592879546352754}, {&quot;x&quot;: 3.717948717948717, &quot;y&quot;: 3.461538461538461, &quot;z&quot;: -0.048896179368925964}, {&quot;x&quot;: 3.717948717948717, &quot;y&quot;: 3.717948717948717, &quot;z&quot;: -0.1378089409777217}, {&quot;x&quot;: 3.717948717948717, &quot;y&quot;: 3.9743589743589736, &quot;z&quot;: -0.18073554583067983}, {&quot;x&quot;: 3.717948717948717, &quot;y&quot;: 4.23076923076923, &quot;z&quot;: -0.1624368530295568}, {&quot;x&quot;: 3.717948717948717, &quot;y&quot;: 4.487179487179486, &quot;z&quot;: -0.08858400012268436}, {&quot;x&quot;: 3.717948717948717, &quot;y&quot;: 4.743589743589743, &quot;z&quot;: 0.014059422915529387}, {&quot;x&quot;: 3.717948717948717, &quot;y&quot;: 5.0, &quot;z&quot;: 0.10644610198224165}, {&quot;x&quot;: 3.9743589743589736, &quot;y&quot;: -4.743589743589744, &quot;z&quot;: 0.09018446536478196}, {&quot;x&quot;: 3.9743589743589736, &quot;y&quot;: -5.0, &quot;z&quot;: 0.14682584206330196}, {&quot;x&quot;: 3.9743589743589736, &quot;y&quot;: -4.487179487179487, &quot;z&quot;: -0.0030450962151578765}, {&quot;x&quot;: 3.9743589743589736, &quot;y&quot;: -4.230769230769231, &quot;z&quot;: -0.09917570405967194}, {&quot;x&quot;: 3.9743589743589736, &quot;y&quot;: -3.9743589743589745, &quot;z&quot;: -0.165301048297769}, {&quot;x&quot;: 3.9743589743589736, &quot;y&quot;: -3.717948717948718, &quot;z&quot;: -0.1807355458306799}, {&quot;x&quot;: 3.9743589743589736, &quot;y&quot;: -3.4615384615384617, &quot;z&quot;: -0.14250583708975548}, {&quot;x&quot;: 3.9743589743589736, &quot;y&quot;: -3.2051282051282053, &quot;z&quot;: -0.06386100244520297}, {&quot;x&quot;: 3.9743589743589736, &quot;y&quot;: -2.948717948717949, &quot;z&quot;: 0.032372655749034064}, {&quot;x&quot;: 3.9743589743589736, &quot;y&quot;: -2.6923076923076925, &quot;z&quot;: 0.12222104054936214}, {&quot;x&quot;: 3.9743589743589736, &quot;y&quot;: -2.435897435897436, &quot;z&quot;: 0.18751704244724113}, {&quot;x&quot;: 3.9743589743589736, &quot;y&quot;: -2.1794871794871797, &quot;z&quot;: 0.21945165588530727}, {&quot;x&quot;: 3.9743589743589736, &quot;y&quot;: -1.9230769230769234, &quot;z&quot;: 0.21849671405696225}, {&quot;x&quot;: 3.9743589743589736, &quot;y&quot;: -1.666666666666667, &quot;z&quot;: 0.19177960940564043}, {&quot;x&quot;: 3.9743589743589736, &quot;y&quot;: -1.4102564102564106, &quot;z&quot;: 0.1495083751629422}, {&quot;x&quot;: 3.9743589743589736, &quot;y&quot;: -1.1538461538461542, &quot;z&quot;: 0.1018276556614749}, {&quot;x&quot;: 3.9743589743589736, &quot;y&quot;: -0.8974358974358978, &quot;z&quot;: 0.056862409133509616}, {&quot;x&quot;: 3.9743589743589736, &quot;y&quot;: -0.6410256410256414, &quot;z&quot;: 0.020051622587195696}, {&quot;x&quot;: 3.9743589743589736, &quot;y&quot;: -0.384615384615385, &quot;z&quot;: -0.005565270813888087}, {&quot;x&quot;: 3.9743589743589736, &quot;y&quot;: -0.12820512820512864, &quot;z&quot;: -0.01860751303330755}, {&quot;x&quot;: 3.9743589743589736, &quot;y&quot;: 0.12820512820512775, &quot;z&quot;: -0.018607513033308}, {&quot;x&quot;: 3.9743589743589736, &quot;y&quot;: 0.38461538461538414, &quot;z&quot;: -0.005565270813888087}, {&quot;x&quot;: 3.9743589743589736, &quot;y&quot;: 0.6410256410256405, &quot;z&quot;: 0.020051622587195696}, {&quot;x&quot;: 3.9743589743589736, &quot;y&quot;: 0.8974358974358969, &quot;z&quot;: 0.056862409133509616}, {&quot;x&quot;: 3.9743589743589736, &quot;y&quot;: 1.1538461538461533, &quot;z&quot;: 0.1018276556614749}, {&quot;x&quot;: 3.9743589743589736, &quot;y&quot;: 1.4102564102564097, &quot;z&quot;: 0.1495083751629419}, {&quot;x&quot;: 3.9743589743589736, &quot;y&quot;: 1.666666666666666, &quot;z&quot;: 0.19177960940564}, {&quot;x&quot;: 3.9743589743589736, &quot;y&quot;: 1.9230769230769225, &quot;z&quot;: 0.21849671405696225}, {&quot;x&quot;: 3.9743589743589736, &quot;y&quot;: 2.179487179487179, &quot;z&quot;: 0.21945165588530727}, {&quot;x&quot;: 3.9743589743589736, &quot;y&quot;: 2.4358974358974352, &quot;z&quot;: 0.18751704244724154}, {&quot;x&quot;: 3.9743589743589736, &quot;y&quot;: 2.6923076923076916, &quot;z&quot;: 0.12222104054936277}, {&quot;x&quot;: 3.9743589743589736, &quot;y&quot;: 2.948717948717948, &quot;z&quot;: 0.032372655749034064}, {&quot;x&quot;: 3.9743589743589736, &quot;y&quot;: 3.2051282051282044, &quot;z&quot;: -0.06386100244520233}, {&quot;x&quot;: 3.9743589743589736, &quot;y&quot;: 3.461538461538461, &quot;z&quot;: -0.14250583708975548}, {&quot;x&quot;: 3.9743589743589736, &quot;y&quot;: 3.717948717948717, &quot;z&quot;: -0.18073554583067983}, {&quot;x&quot;: 3.9743589743589736, &quot;y&quot;: 3.9743589743589736, &quot;z&quot;: -0.1653010482977693}, {&quot;x&quot;: 3.9743589743589736, &quot;y&quot;: 4.23076923076923, &quot;z&quot;: -0.09917570405967194}, {&quot;x&quot;: 3.9743589743589736, &quot;y&quot;: 4.487179487179486, &quot;z&quot;: -0.0030450962151578774}, {&quot;x&quot;: 3.9743589743589736, &quot;y&quot;: 4.743589743589743, &quot;z&quot;: 0.09018446536478149}, {&quot;x&quot;: 3.9743589743589736, &quot;y&quot;: 5.0, &quot;z&quot;: 0.14682584206330196}, {&quot;x&quot;: 4.23076923076923, &quot;y&quot;: -4.743589743589744, &quot;z&quot;: 0.14154019801168824}, {&quot;x&quot;: 4.23076923076923, &quot;y&quot;: -5.0, &quot;z&quot;: 0.15081521418190952}, {&quot;x&quot;: 4.23076923076923, &quot;y&quot;: -4.487179487179487, &quot;z&quot;: 0.08130342199845635}, {&quot;x&quot;: 4.23076923076923, &quot;y&quot;: -4.230769230769231, &quot;z&quot;: -0.00881116142764315}, {&quot;x&quot;: 4.23076923076923, &quot;y&quot;: -3.9743589743589745, &quot;z&quot;: -0.09917570405967194}, {&quot;x&quot;: 4.23076923076923, &quot;y&quot;: -3.717948717948718, &quot;z&quot;: -0.16243685302955652}, {&quot;x&quot;: 4.23076923076923, &quot;y&quot;: -3.4615384615384617, &quot;z&quot;: -0.1819178471216219}, {&quot;x&quot;: 4.23076923076923, &quot;y&quot;: -3.2051282051282053, &quot;z&quot;: -0.15507394328644017}, {&quot;x&quot;: 4.23076923076923, &quot;y&quot;: -2.948717948717949, &quot;z&quot;: -0.09179654096842312}, {&quot;x&quot;: 4.23076923076923, &quot;y&quot;: -2.6923076923076925, &quot;z&quot;: -0.009250285950513604}, {&quot;x&quot;: 4.23076923076923, &quot;y&quot;: -2.435897435897436, &quot;z&quot;: 0.07426425040162701}, {&quot;x&quot;: 4.23076923076923, &quot;y&quot;: -2.1794871794871797, &quot;z&quot;: 0.1442431853958254}, {&quot;x&quot;: 4.23076923076923, &quot;y&quot;: -1.9230769230769234, &quot;z&quot;: 0.19253864247086708}, {&quot;x&quot;: 4.23076923076923, &quot;y&quot;: -1.666666666666667, &quot;z&quot;: 0.21749963044648865}, {&quot;x&quot;: 4.23076923076923, &quot;y&quot;: -1.4102564102564106, &quot;z&quot;: 0.22243257961224733}, {&quot;x&quot;: 4.23076923076923, &quot;y&quot;: -1.1538461538461542, &quot;z&quot;: 0.21338743078659142}, {&quot;x&quot;: 4.23076923076923, &quot;y&quot;: -0.8974358974358978, &quot;z&quot;: 0.19711035355159243}, {&quot;x&quot;: 4.23076923076923, &quot;y&quot;: -0.6410256410256414, &quot;z&quot;: 0.179623701946582}, {&quot;x&quot;: 4.23076923076923, &quot;y&quot;: -0.384615384615385, &quot;z&quot;: 0.16551234237681514}, {&quot;x&quot;: 4.23076923076923, &quot;y&quot;: -0.12820512820512864, &quot;z&quot;: 0.15774217011848884}, {&quot;x&quot;: 4.23076923076923, &quot;y&quot;: 0.12820512820512775, &quot;z&quot;: 0.15774217011848884}, {&quot;x&quot;: 4.23076923076923, &quot;y&quot;: 0.38461538461538414, &quot;z&quot;: 0.16551234237681514}, {&quot;x&quot;: 4.23076923076923, &quot;y&quot;: 0.6410256410256405, &quot;z&quot;: 0.179623701946582}, {&quot;x&quot;: 4.23076923076923, &quot;y&quot;: 0.8974358974358969, &quot;z&quot;: 0.19711035355159243}, {&quot;x&quot;: 4.23076923076923, &quot;y&quot;: 1.1538461538461533, &quot;z&quot;: 0.21338743078659142}, {&quot;x&quot;: 4.23076923076923, &quot;y&quot;: 1.4102564102564097, &quot;z&quot;: 0.22243257961224733}, {&quot;x&quot;: 4.23076923076923, &quot;y&quot;: 1.666666666666666, &quot;z&quot;: 0.21749963044648882}, {&quot;x&quot;: 4.23076923076923, &quot;y&quot;: 1.9230769230769225, &quot;z&quot;: 0.19253864247086747}, {&quot;x&quot;: 4.23076923076923, &quot;y&quot;: 2.179487179487179, &quot;z&quot;: 0.1442431853958254}, {&quot;x&quot;: 4.23076923076923, &quot;y&quot;: 2.4358974358974352, &quot;z&quot;: 0.07426425040162701}, {&quot;x&quot;: 4.23076923076923, &quot;y&quot;: 2.6923076923076916, &quot;z&quot;: -0.009250285950513604}, {&quot;x&quot;: 4.23076923076923, &quot;y&quot;: 2.948717948717948, &quot;z&quot;: -0.09179654096842253}, {&quot;x&quot;: 4.23076923076923, &quot;y&quot;: 3.2051282051282044, &quot;z&quot;: -0.15507394328644017}, {&quot;x&quot;: 4.23076923076923, &quot;y&quot;: 3.461538461538461, &quot;z&quot;: -0.18191784712162187}, {&quot;x&quot;: 4.23076923076923, &quot;y&quot;: 3.717948717948717, &quot;z&quot;: -0.1624368530295568}, {&quot;x&quot;: 4.23076923076923, &quot;y&quot;: 3.9743589743589736, &quot;z&quot;: -0.09917570405967194}, {&quot;x&quot;: 4.23076923076923, &quot;y&quot;: 4.23076923076923, &quot;z&quot;: -0.008811161427643745}, {&quot;x&quot;: 4.23076923076923, &quot;y&quot;: 4.487179487179486, &quot;z&quot;: 0.08130342199845635}, {&quot;x&quot;: 4.23076923076923, &quot;y&quot;: 4.743589743589743, &quot;z&quot;: 0.14154019801168824}, {&quot;x&quot;: 4.23076923076923, &quot;y&quot;: 5.0, &quot;z&quot;: 0.15081521418190952}, {&quot;x&quot;: 4.487179487179486, &quot;y&quot;: -4.743589743589744, &quot;z&quot;: 0.1524831544527441}, {&quot;x&quot;: 4.487179487179486, &quot;y&quot;: -5.0, &quot;z&quot;: 0.11521187545903333}, {&quot;x&quot;: 4.487179487179486, &quot;y&quot;: -4.487179487179487, &quot;z&quot;: 0.13945896398071123}, {&quot;x&quot;: 4.487179487179486, &quot;y&quot;: -4.230769230769231, &quot;z&quot;: 0.08130342199845635}, {&quot;x&quot;: 4.487179487179486, &quot;y&quot;: -3.9743589743589745, &quot;z&quot;: -0.0030450962151578765}, {&quot;x&quot;: 4.487179487179486, &quot;y&quot;: -3.717948717948718, &quot;z&quot;: -0.08858400012268436}, {&quot;x&quot;: 4.487179487179486, &quot;y&quot;: -3.4615384615384617, &quot;z&quot;: -0.1526690215534612}, {&quot;x&quot;: 4.487179487179486, &quot;y&quot;: -3.2051282051282053, &quot;z&quot;: -0.18116306412965302}, {&quot;x&quot;: 4.487179487179486, &quot;y&quot;: -2.948717948717949, &quot;z&quot;: -0.17076952332841047}, {&quot;x&quot;: 4.487179487179486, &quot;y&quot;: -2.6923076923076925, &quot;z&quot;: -0.12767883171207858}, {&quot;x&quot;: 4.487179487179486, &quot;y&quot;: -2.435897435897436, &quot;z&quot;: -0.06386100244520297}, {&quot;x&quot;: 4.487179487179486, &quot;y&quot;: -2.1794871794871797, &quot;z&quot;: 0.007252640095980293}, {&quot;x&quot;: 4.487179487179486, &quot;y&quot;: -1.9230769230769234, &quot;z&quot;: 0.07426425040162632}, {&quot;x&quot;: 4.487179487179486, &quot;y&quot;: -1.666666666666667, &quot;z&quot;: 0.12974477006536764}, {&quot;x&quot;: 4.487179487179486, &quot;y&quot;: -1.4102564102564106, &quot;z&quot;: 0.17058680183190766}, {&quot;x&quot;: 4.487179487179486, &quot;y&quot;: -1.1538461538461542, &quot;z&quot;: 0.19722429601204441}, {&quot;x&quot;: 4.487179487179486, &quot;y&quot;: -0.8974358974358978, &quot;z&quot;: 0.21232309865066665}, {&quot;x&quot;: 4.487179487179486, &quot;y&quot;: -0.6410256410256414, &quot;z&quot;: 0.21945165588530727}, {&quot;x&quot;: 4.487179487179486, &quot;y&quot;: -0.384615384615385, &quot;z&quot;: 0.2220285066365378}, {&quot;x&quot;: 4.487179487179486, &quot;y&quot;: -0.12820512820512864, &quot;z&quot;: 0.22263349001904645}, {&quot;x&quot;: 4.487179487179486, &quot;y&quot;: 0.12820512820512775, &quot;z&quot;: 0.22263349001904645}, {&quot;x&quot;: 4.487179487179486, &quot;y&quot;: 0.38461538461538414, &quot;z&quot;: 0.2220285066365378}, {&quot;x&quot;: 4.487179487179486, &quot;y&quot;: 0.6410256410256405, &quot;z&quot;: 0.21945165588530727}, {&quot;x&quot;: 4.487179487179486, &quot;y&quot;: 0.8974358974358969, &quot;z&quot;: 0.21232309865066665}, {&quot;x&quot;: 4.487179487179486, &quot;y&quot;: 1.1538461538461533, &quot;z&quot;: 0.19722429601204441}, {&quot;x&quot;: 4.487179487179486, &quot;y&quot;: 1.4102564102564097, &quot;z&quot;: 0.17058680183190814}, {&quot;x&quot;: 4.487179487179486, &quot;y&quot;: 1.666666666666666, &quot;z&quot;: 0.12974477006536825}, {&quot;x&quot;: 4.487179487179486, &quot;y&quot;: 1.9230769230769225, &quot;z&quot;: 0.07426425040162701}, {&quot;x&quot;: 4.487179487179486, &quot;y&quot;: 2.179487179487179, &quot;z&quot;: 0.007252640095981005}, {&quot;x&quot;: 4.487179487179486, &quot;y&quot;: 2.4358974358974352, &quot;z&quot;: -0.06386100244520233}, {&quot;x&quot;: 4.487179487179486, &quot;y&quot;: 2.6923076923076916, &quot;z&quot;: -0.12767883171207858}, {&quot;x&quot;: 4.487179487179486, &quot;y&quot;: 2.948717948717948, &quot;z&quot;: -0.17076952332841047}, {&quot;x&quot;: 4.487179487179486, &quot;y&quot;: 3.2051282051282044, &quot;z&quot;: -0.18116306412965302}, {&quot;x&quot;: 4.487179487179486, &quot;y&quot;: 3.461538461538461, &quot;z&quot;: -0.15266902155346154}, {&quot;x&quot;: 4.487179487179486, &quot;y&quot;: 3.717948717948717, &quot;z&quot;: -0.08858400012268436}, {&quot;x&quot;: 4.487179487179486, &quot;y&quot;: 3.9743589743589736, &quot;z&quot;: -0.0030450962151578774}, {&quot;x&quot;: 4.487179487179486, &quot;y&quot;: 4.23076923076923, &quot;z&quot;: 0.08130342199845635}, {&quot;x&quot;: 4.487179487179486, &quot;y&quot;: 4.487179487179486, &quot;z&quot;: 0.13945896398071123}, {&quot;x&quot;: 4.487179487179486, &quot;y&quot;: 4.743589743589743, &quot;z&quot;: 0.15248315445274416}, {&quot;x&quot;: 4.487179487179486, &quot;y&quot;: 5.0, &quot;z&quot;: 0.11521187545903333}, {&quot;x&quot;: 4.743589743589743, &quot;y&quot;: -4.743589743589744, &quot;z&quot;: 0.11822884542066862}, {&quot;x&quot;: 4.743589743589743, &quot;y&quot;: -5.0, &quot;z&quot;: 0.048227962291181654}, {&quot;x&quot;: 4.743589743589743, &quot;y&quot;: -4.487179487179487, &quot;z&quot;: 0.1524831544527441}, {&quot;x&quot;: 4.743589743589743, &quot;y&quot;: -4.230769230769231, &quot;z&quot;: 0.14154019801168824}, {&quot;x&quot;: 4.743589743589743, &quot;y&quot;: -3.9743589743589745, &quot;z&quot;: 0.09018446536478196}, {&quot;x&quot;: 4.743589743589743, &quot;y&quot;: -3.717948717948718, &quot;z&quot;: 0.014059422915529975}, {&quot;x&quot;: 4.743589743589743, &quot;y&quot;: -3.4615384615384617, &quot;z&quot;: -0.06650034951626861}, {&quot;x&quot;: 4.743589743589743, &quot;y&quot;: -3.2051282051282053, &quot;z&quot;: -0.1328596087593443}, {&quot;x&quot;: 4.743589743589743, &quot;y&quot;: -2.948717948717949, &quot;z&quot;: -0.17263493054486245}, {&quot;x&quot;: 4.743589743589743, &quot;y&quot;: -2.6923076923076925, &quot;z&quot;: -0.18145874726056793}, {&quot;x&quot;: 4.743589743589743, &quot;y&quot;: -2.435897435897436, &quot;z&quot;: -0.16215123327794975}, {&quot;x&quot;: 4.743589743589743, &quot;y&quot;: -2.1794871794871797, &quot;z&quot;: -0.12225553877823545}, {&quot;x&quot;: 4.743589743589743, &quot;y&quot;: -1.9230769230769234, &quot;z&quot;: -0.07110861736368898}, {&quot;x&quot;: 4.743589743589743, &quot;y&quot;: -1.666666666666667, &quot;z&quot;: -0.01738852540015714}, {&quot;x&quot;: 4.743589743589743, &quot;y&quot;: -1.4102564102564106, &quot;z&quot;: 0.032372655749034064}, {&quot;x&quot;: 4.743589743589743, &quot;y&quot;: -1.1538461538461542, &quot;z&quot;: 0.07426425040162701}, {&quot;x&quot;: 4.743589743589743, &quot;y&quot;: -0.8974358974358978, &quot;z&quot;: 0.10670645293645857}, {&quot;x&quot;: 4.743589743589743, &quot;y&quot;: -0.6410256410256414, &quot;z&quot;: 0.12974477006536825}, {&quot;x&quot;: 4.743589743589743, &quot;y&quot;: -0.384615384615385, &quot;z&quot;: 0.1442431853958254}, {&quot;x&quot;: 4.743589743589743, &quot;y&quot;: -0.12820512820512864, &quot;z&quot;: 0.15118512843530302}, {&quot;x&quot;: 4.743589743589743, &quot;y&quot;: 0.12820512820512775, &quot;z&quot;: 0.15118512843530302}, {&quot;x&quot;: 4.743589743589743, &quot;y&quot;: 0.38461538461538414, &quot;z&quot;: 0.1442431853958254}, {&quot;x&quot;: 4.743589743589743, &quot;y&quot;: 0.6410256410256405, &quot;z&quot;: 0.12974477006536825}, {&quot;x&quot;: 4.743589743589743, &quot;y&quot;: 0.8974358974358969, &quot;z&quot;: 0.10670645293645857}, {&quot;x&quot;: 4.743589743589743, &quot;y&quot;: 1.1538461538461533, &quot;z&quot;: 0.07426425040162701}, {&quot;x&quot;: 4.743589743589743, &quot;y&quot;: 1.4102564102564097, &quot;z&quot;: 0.03237265574903443}, {&quot;x&quot;: 4.743589743589743, &quot;y&quot;: 1.666666666666666, &quot;z&quot;: -0.01738852540015714}, {&quot;x&quot;: 4.743589743589743, &quot;y&quot;: 1.9230769230769225, &quot;z&quot;: -0.07110861736368836}, {&quot;x&quot;: 4.743589743589743, &quot;y&quot;: 2.179487179487179, &quot;z&quot;: -0.12225553877823493}, {&quot;x&quot;: 4.743589743589743, &quot;y&quot;: 2.4358974358974352, &quot;z&quot;: -0.16215123327794945}, {&quot;x&quot;: 4.743589743589743, &quot;y&quot;: 2.6923076923076916, &quot;z&quot;: -0.18145874726056788}, {&quot;x&quot;: 4.743589743589743, &quot;y&quot;: 2.948717948717948, &quot;z&quot;: -0.17263493054486245}, {&quot;x&quot;: 4.743589743589743, &quot;y&quot;: 3.2051282051282044, &quot;z&quot;: -0.13285960875934513}, {&quot;x&quot;: 4.743589743589743, &quot;y&quot;: 3.461538461538461, &quot;z&quot;: -0.06650034951626863}, {&quot;x&quot;: 4.743589743589743, &quot;y&quot;: 3.717948717948717, &quot;z&quot;: 0.014059422915529387}, {&quot;x&quot;: 4.743589743589743, &quot;y&quot;: 3.9743589743589736, &quot;z&quot;: 0.09018446536478149}, {&quot;x&quot;: 4.743589743589743, &quot;y&quot;: 4.23076923076923, &quot;z&quot;: 0.14154019801168824}, {&quot;x&quot;: 4.743589743589743, &quot;y&quot;: 4.487179487179486, &quot;z&quot;: 0.15248315445274416}, {&quot;x&quot;: 4.743589743589743, &quot;y&quot;: 4.743589743589743, &quot;z&quot;: 0.11822884542066862}, {&quot;x&quot;: 4.743589743589743, &quot;y&quot;: 5.0, &quot;z&quot;: 0.048227962291181654}, {&quot;x&quot;: 5.0, &quot;y&quot;: -4.743589743589744, &quot;z&quot;: 0.048227962291181654}, {&quot;x&quot;: 5.0, &quot;y&quot;: -5.0, &quot;z&quot;: -0.0313129294284152}, {&quot;x&quot;: 5.0, &quot;y&quot;: -4.487179487179487, &quot;z&quot;: 0.11521187545903297}, {&quot;x&quot;: 5.0, &quot;y&quot;: -4.230769230769231, &quot;z&quot;: 0.15081521418190952}, {&quot;x&quot;: 5.0, &quot;y&quot;: -3.9743589743589745, &quot;z&quot;: 0.14682584206330213}, {&quot;x&quot;: 5.0, &quot;y&quot;: -3.717948717948718, &quot;z&quot;: 0.10644610198224208}, {&quot;x&quot;: 5.0, &quot;y&quot;: -3.4615384615384617, &quot;z&quot;: 0.04154590892184195}, {&quot;x&quot;: 5.0, &quot;y&quot;: -3.2051282051282053, &quot;z&quot;: -0.03202070671104091}, {&quot;x&quot;: 5.0, &quot;y&quot;: -2.948717948717949, &quot;z&quot;: -0.09917570405967141}, {&quot;x&quot;: 5.0, &quot;y&quot;: -2.6923076923076925, &quot;z&quot;: -0.1490423765968959}, {&quot;x&quot;: 5.0, &quot;y&quot;: -2.435897435897436, &quot;z&quot;: -0.17642014222082292}, {&quot;x&quot;: 5.0, &quot;y&quot;: -2.1794871794871797, &quot;z&quot;: -0.181458747260568}, {&quot;x&quot;: 5.0, &quot;y&quot;: -1.9230769230769234, &quot;z&quot;: -0.1681651388148705}, {&quot;x&quot;: 5.0, &quot;y&quot;: -1.666666666666667, &quot;z&quot;: -0.14250583708975548}, {&quot;x&quot;: 5.0, &quot;y&quot;: -1.4102564102564106, &quot;z&quot;: -0.11072072650585248}, {&quot;x&quot;: 5.0, &quot;y&quot;: -1.1538461538461542, &quot;z&quot;: -0.07818654606831722}, {&quot;x&quot;: 5.0, &quot;y&quot;: -0.8974358974358978, &quot;z&quot;: -0.0488961793689263}, {&quot;x&quot;: 5.0, &quot;y&quot;: -0.6410256410256414, &quot;z&quot;: -0.025434298774036877}, {&quot;x&quot;: 5.0, &quot;y&quot;: -0.384615384615385, &quot;z&quot;: -0.009250285950514308}, {&quot;x&quot;: 5.0, &quot;y&quot;: -0.12820512820512864, &quot;z&quot;: -0.0010322256552946847}, {&quot;x&quot;: 5.0, &quot;y&quot;: 0.12820512820512775, &quot;z&quot;: -0.0010322256552946847}, {&quot;x&quot;: 5.0, &quot;y&quot;: 0.38461538461538414, &quot;z&quot;: -0.009250285950514308}, {&quot;x&quot;: 5.0, &quot;y&quot;: 0.6410256410256405, &quot;z&quot;: -0.025434298774036877}, {&quot;x&quot;: 5.0, &quot;y&quot;: 0.8974358974358969, &quot;z&quot;: -0.0488961793689263}, {&quot;x&quot;: 5.0, &quot;y&quot;: 1.1538461538461533, &quot;z&quot;: -0.07818654606831722}, {&quot;x&quot;: 5.0, &quot;y&quot;: 1.4102564102564097, &quot;z&quot;: -0.11072072650585248}, {&quot;x&quot;: 5.0, &quot;y&quot;: 1.666666666666666, &quot;z&quot;: -0.14250583708975548}, {&quot;x&quot;: 5.0, &quot;y&quot;: 1.9230769230769225, &quot;z&quot;: -0.16816513881487025}, {&quot;x&quot;: 5.0, &quot;y&quot;: 2.179487179487179, &quot;z&quot;: -0.181458747260568}, {&quot;x&quot;: 5.0, &quot;y&quot;: 2.4358974358974352, &quot;z&quot;: -0.17642014222082295}, {&quot;x&quot;: 5.0, &quot;y&quot;: 2.6923076923076916, &quot;z&quot;: -0.14904237659689593}, {&quot;x&quot;: 5.0, &quot;y&quot;: 2.948717948717948, &quot;z&quot;: -0.09917570405967194}, {&quot;x&quot;: 5.0, &quot;y&quot;: 3.2051282051282044, &quot;z&quot;: -0.032020706711041506}, {&quot;x&quot;: 5.0, &quot;y&quot;: 3.461538461538461, &quot;z&quot;: 0.04154590892184195}, {&quot;x&quot;: 5.0, &quot;y&quot;: 3.717948717948717, &quot;z&quot;: 0.10644610198224165}, {&quot;x&quot;: 5.0, &quot;y&quot;: 3.9743589743589736, &quot;z&quot;: 0.14682584206330196}, {&quot;x&quot;: 5.0, &quot;y&quot;: 4.23076923076923, &quot;z&quot;: 0.15081521418190952}, {&quot;x&quot;: 5.0, &quot;y&quot;: 4.487179487179486, &quot;z&quot;: 0.11521187545903333}, {&quot;x&quot;: 5.0, &quot;y&quot;: 4.743589743589743, &quot;z&quot;: 0.048227962291181654}, {&quot;x&quot;: 5.0, &quot;y&quot;: 5.0, &quot;z&quot;: -0.0313129294284152}], &quot;faces&quot;: [[0, 1, 2, 3], [1, 4, 5, 2], [4, 6, 7, 5], [6, 8, 9, 7], [8, 10, 11, 9], [10, 12, 13, 11], [12, 14, 15, 13], [14, 16, 17, 15], [16, 18, 19, 17], [18, 20, 21, 19], [20, 22, 23, 21], [22, 24, 25, 23], [24, 26, 27, 25], [26, 28, 29, 27], [28, 30, 31, 29], [30, 32, 33, 31], [32, 34, 35, 33], [34, 36, 37, 35], [36, 38, 39, 37], [38, 40, 41, 39], [40, 42, 43, 41], [42, 44, 45, 43], [44, 46, 47, 45], [46, 48, 49, 47], [48, 50, 51, 49], [50, 52, 53, 51], [52, 54, 55, 53], [54, 56, 57, 55], [56, 58, 59, 57], [58, 60, 61, 59], [60, 62, 63, 61], [62, 64, 65, 63], [64, 66, 67, 65], [66, 68, 69, 67], [68, 70, 71, 69], [70, 72, 73, 71], [72, 74, 75, 73], [74, 76, 77, 75], [76, 78, 79, 77], [3, 2, 80, 81], [2, 5, 82, 80], [5, 7, 83, 82], [7, 9, 84, 83], [9, 11, 85, 84], [11, 13, 86, 85], [13, 15, 87, 86], [15, 17, 88, 87], [17, 19, 89, 88], [19, 21, 90, 89], [21, 23, 91, 90], [23, 25, 92, 91], [25, 27, 93, 92], [27, 29, 94, 93], [29, 31, 95, 94], [31, 33, 96, 95], [33, 35, 97, 96], [35, 37, 98, 97], [37, 39, 99, 98], [39, 41, 100, 99], [41, 43, 101, 100], [43, 45, 102, 101], [45, 47, 103, 102], [47, 49, 104, 103], [49, 51, 105, 104], [51, 53, 106, 105], [53, 55, 107, 106], [55, 57, 108, 107], [57, 59, 109, 108], [59, 61, 110, 109], [61, 63, 111, 110], [63, 65, 112, 111], [65, 67, 113, 112], [67, 69, 114, 113], [69, 71, 115, 114], [71, 73, 116, 115], [73, 75, 117, 116], [75, 77, 118, 117], [77, 79, 119, 118], [81, 80, 120, 121], [80, 82, 122, 120], [82, 83, 123, 122], [83, 84, 124, 123], [84, 85, 125, 124], [85, 86, 126, 125], [86, 87, 127, 126], [87, 88, 128, 127], [88, 89, 129, 128], [89, 90, 130, 129], [90, 91, 131, 130], [91, 92, 132, 131], [92, 93, 133, 132], [93, 94, 134, 133], [94, 95, 135, 134], [95, 96, 136, 135], [96, 97, 137, 136], [97, 98, 138, 137], [98, 99, 139, 138], [99, 100, 140, 139], [100, 101, 141, 140], [101, 102, 142, 141], [102, 103, 143, 142], [103, 104, 144, 143], [104, 105, 145, 144], [105, 106, 146, 145], [106, 107, 147, 146], [107, 108, 148, 147], [108, 109, 149, 148], [109, 110, 150, 149], [110, 111, 151, 150], [111, 112, 152, 151], [112, 113, 153, 152], [113, 114, 154, 153], [114, 115, 155, 154], [115, 116, 156, 155], [116, 117, 157, 156], [117, 118, 158, 157], [118, 119, 159, 158], [121, 120, 160, 161], [120, 122, 162, 160], [122, 123, 163, 162], [123, 124, 164, 163], [124, 125, 165, 164], [125, 126, 166, 165], [126, 127, 167, 166], [127, 128, 168, 167], [128, 129, 169, 168], [129, 130, 170, 169], [130, 131, 171, 170], [131, 132, 172, 171], [132, 133, 173, 172], [133, 134, 174, 173], [134, 135, 175, 174], [135, 136, 176, 175], [136, 137, 177, 176], [137, 138, 178, 177], [138, 139, 179, 178], [139, 140, 180, 179], [140, 141, 181, 180], [141, 142, 182, 181], [142, 143, 183, 182], [143, 144, 184, 183], [144, 145, 185, 184], [145, 146, 186, 185], [146, 147, 187, 186], [147, 148, 188, 187], [148, 149, 189, 188], [149, 150, 190, 189], [150, 151, 191, 190], [151, 152, 192, 191], [152, 153, 193, 192], [153, 154, 194, 193], [154, 155, 195, 194], [155, 156, 196, 195], [156, 157, 197, 196], [157, 158, 198, 197], [158, 159, 199, 198], [161, 160, 200, 201], [160, 162, 202, 200], [162, 163, 203, 202], [163, 164, 204, 203], [164, 165, 205, 204], [165, 166, 206, 205], [166, 167, 207, 206], [167, 168, 208, 207], [168, 169, 209, 208], [169, 170, 210, 209], [170, 171, 211, 210], [171, 172, 212, 211], [172, 173, 213, 212], [173, 174, 214, 213], [174, 175, 215, 214], [175, 176, 216, 215], [176, 177, 217, 216], [177, 178, 218, 217], [178, 179, 219, 218], [179, 180, 220, 219], [180, 181, 221, 220], [181, 182, 222, 221], [182, 183, 223, 222], [183, 184, 224, 223], [184, 185, 225, 224], [185, 186, 226, 225], [186, 187, 227, 226], [187, 188, 228, 227], [188, 189, 229, 228], [189, 190, 230, 229], [190, 191, 231, 230], [191, 192, 232, 231], [192, 193, 233, 232], [193, 194, 234, 233], [194, 195, 235, 234], [195, 196, 236, 235], [196, 197, 237, 236], [197, 198, 238, 237], [198, 199, 239, 238], [201, 200, 240, 241], [200, 202, 242, 240], [202, 203, 243, 242], [203, 204, 244, 243], [204, 205, 245, 244], [205, 206, 246, 245], [206, 207, 247, 246], [207, 208, 248, 247], [208, 209, 249, 248], [209, 210, 250, 249], [210, 211, 251, 250], [211, 212, 252, 251], [212, 213, 253, 252], [213, 214, 254, 253], [214, 215, 255, 254], [215, 216, 256, 255], [216, 217, 257, 256], [217, 218, 258, 257], [218, 219, 259, 258], [219, 220, 260, 259], [220, 221, 261, 260], [221, 222, 262, 261], [222, 223, 263, 262], [223, 224, 264, 263], [224, 225, 265, 264], [225, 226, 266, 265], [226, 227, 267, 266], [227, 228, 268, 267], [228, 229, 269, 268], [229, 230, 270, 269], [230, 231, 271, 270], [231, 232, 272, 271], [232, 233, 273, 272], [233, 234, 274, 273], [234, 235, 275, 274], [235, 236, 276, 275], [236, 237, 277, 276], [237, 238, 278, 277], [238, 239, 279, 278], [241, 240, 280, 281], [240, 242, 282, 280], [242, 243, 283, 282], [243, 244, 284, 283], [244, 245, 285, 284], [245, 246, 286, 285], [246, 247, 287, 286], [247, 248, 288, 287], [248, 249, 289, 288], [249, 250, 290, 289], [250, 251, 291, 290], [251, 252, 292, 291], [252, 253, 293, 292], [253, 254, 294, 293], [254, 255, 295, 294], [255, 256, 296, 295], [256, 257, 297, 296], [257, 258, 298, 297], [258, 259, 299, 298], [259, 260, 300, 299], [260, 261, 301, 300], [261, 262, 302, 301], [262, 263, 303, 302], [263, 264, 304, 303], [264, 265, 305, 304], [265, 266, 306, 305], [266, 267, 307, 306], [267, 268, 308, 307], [268, 269, 309, 308], [269, 270, 310, 309], [270, 271, 311, 310], [271, 272, 312, 311], [272, 273, 313, 312], [273, 274, 314, 313], [274, 275, 315, 314], [275, 276, 316, 315], [276, 277, 317, 316], [277, 278, 318, 317], [278, 279, 319, 318], [281, 280, 320, 321], [280, 282, 322, 320], [282, 283, 323, 322], [283, 284, 324, 323], [284, 285, 325, 324], [285, 286, 326, 325], [286, 287, 327, 326], [287, 288, 328, 327], [288, 289, 329, 328], [289, 290, 330, 329], [290, 291, 331, 330], [291, 292, 332, 331], [292, 293, 333, 332], [293, 294, 334, 333], [294, 295, 335, 334], [295, 296, 336, 335], [296, 297, 337, 336], [297, 298, 338, 337], [298, 299, 339, 338], [299, 300, 340, 339], [300, 301, 341, 340], [301, 302, 342, 341], [302, 303, 343, 342], [303, 304, 344, 343], [304, 305, 345, 344], [305, 306, 346, 345], [306, 307, 347, 346], [307, 308, 348, 347], [308, 309, 349, 348], [309, 310, 350, 349], [310, 311, 351, 350], [311, 312, 352, 351], [312, 313, 353, 352], [313, 314, 354, 353], [314, 315, 355, 354], [315, 316, 356, 355], [316, 317, 357, 356], [317, 318, 358, 357], [318, 319, 359, 358], [321, 320, 360, 361], [320, 322, 362, 360], [322, 323, 363, 362], [323, 324, 364, 363], [324, 325, 365, 364], [325, 326, 366, 365], [326, 327, 367, 366], [327, 328, 368, 367], [328, 329, 369, 368], [329, 330, 370, 369], [330, 331, 371, 370], [331, 332, 372, 371], [332, 333, 373, 372], [333, 334, 374, 373], [334, 335, 375, 374], [335, 336, 376, 375], [336, 337, 377, 376], [337, 338, 378, 377], [338, 339, 379, 378], [339, 340, 380, 379], [340, 341, 381, 380], [341, 342, 382, 381], [342, 343, 383, 382], [343, 344, 384, 383], [344, 345, 385, 384], [345, 346, 386, 385], [346, 347, 387, 386], [347, 348, 388, 387], [348, 349, 389, 388], [349, 350, 390, 389], [350, 351, 391, 390], [351, 352, 392, 391], [352, 353, 393, 392], [353, 354, 394, 393], [354, 355, 395, 394], [355, 356, 396, 395], [356, 357, 397, 396], [357, 358, 398, 397], [358, 359, 399, 398], [361, 360, 400, 401], [360, 362, 402, 400], [362, 363, 403, 402], [363, 364, 404, 403], [364, 365, 405, 404], [365, 366, 406, 405], [366, 367, 407, 406], [367, 368, 408, 407], [368, 369, 409, 408], [369, 370, 410, 409], [370, 371, 411, 410], [371, 372, 412, 411], [372, 373, 413, 412], [373, 374, 414, 413], [374, 375, 415, 414], [375, 376, 416, 415], [376, 377, 417, 416], [377, 378, 418, 417], [378, 379, 419, 418], [379, 380, 420, 419], [380, 381, 421, 420], [381, 382, 422, 421], [382, 383, 423, 422], [383, 384, 424, 423], [384, 385, 425, 424], [385, 386, 426, 425], [386, 387, 427, 426], [387, 388, 428, 427], [388, 389, 429, 428], [389, 390, 430, 429], [390, 391, 431, 430], [391, 392, 432, 431], [392, 393, 433, 432], [393, 394, 434, 433], [394, 395, 435, 434], [395, 396, 436, 435], [396, 397, 437, 436], [397, 398, 438, 437], [398, 399, 439, 438], [401, 400, 440, 441], [400, 402, 442, 440], [402, 403, 443, 442], [403, 404, 444, 443], [404, 405, 445, 444], [405, 406, 446, 445], [406, 407, 447, 446], [407, 408, 448, 447], [408, 409, 449, 448], [409, 410, 450, 449], [410, 411, 451, 450], [411, 412, 452, 451], [412, 413, 453, 452], [413, 414, 454, 453], [414, 415, 455, 454], [415, 416, 456, 455], [416, 417, 457, 456], [417, 418, 458, 457], [418, 419, 459, 458], [419, 420, 460, 459], [420, 421, 461, 460], [421, 422, 462, 461], [422, 423, 463, 462], [423, 424, 464, 463], [424, 425, 465, 464], [425, 426, 466, 465], [426, 427, 467, 466], [427, 428, 468, 467], [428, 429, 469, 468], [429, 430, 470, 469], [430, 431, 471, 470], [431, 432, 472, 471], [432, 433, 473, 472], [433, 434, 474, 473], [434, 435, 475, 474], [435, 436, 476, 475], [436, 437, 477, 476], [437, 438, 478, 477], [438, 439, 479, 478], [441, 440, 480, 481], [440, 442, 482, 480], [442, 443, 483, 482], [443, 444, 484, 483], [444, 445, 485, 484], [445, 446, 486, 485], [446, 447, 487, 486], [447, 448, 488, 487], [448, 449, 489, 488], [449, 450, 490, 489], [450, 451, 491, 490], [451, 452, 492, 491], [452, 453, 493, 492], [453, 454, 494, 493], [454, 455, 495, 494], [455, 456, 496, 495], [456, 457, 497, 496], [457, 458, 498, 497], [458, 459, 499, 498], [459, 460, 500, 499], [460, 461, 501, 500], [461, 462, 502, 501], [462, 463, 503, 502], [463, 464, 504, 503], [464, 465, 505, 504], [465, 466, 506, 505], [466, 467, 507, 506], [467, 468, 508, 507], [468, 469, 509, 508], [469, 470, 510, 509], [470, 471, 511, 510], [471, 472, 512, 511], [472, 473, 513, 512], [473, 474, 514, 513], [474, 475, 515, 514], [475, 476, 516, 515], [476, 477, 517, 516], [477, 478, 518, 517], [478, 479, 519, 518], [481, 480, 520, 521], [480, 482, 522, 520], [482, 483, 523, 522], [483, 484, 524, 523], [484, 485, 525, 524], [485, 486, 526, 525], [486, 487, 527, 526], [487, 488, 528, 527], [488, 489, 529, 528], [489, 490, 530, 529], [490, 491, 531, 530], [491, 492, 532, 531], [492, 493, 533, 532], [493, 494, 534, 533], [494, 495, 535, 534], [495, 496, 536, 535], [496, 497, 537, 536], [497, 498, 538, 537], [498, 499, 539, 538], [499, 500, 540, 539], [500, 501, 541, 540], [501, 502, 542, 541], [502, 503, 543, 542], [503, 504, 544, 543], [504, 505, 545, 544], [505, 506, 546, 545], [506, 507, 547, 546], [507, 508, 548, 547], [508, 509, 549, 548], [509, 510, 550, 549], [510, 511, 551, 550], [511, 512, 552, 551], [512, 513, 553, 552], [513, 514, 554, 553], [514, 515, 555, 554], [515, 516, 556, 555], [516, 517, 557, 556], [517, 518, 558, 557], [518, 519, 559, 558], [521, 520, 560, 561], [520, 522, 562, 560], [522, 523, 563, 562], [523, 524, 564, 563], [524, 525, 565, 564], [525, 526, 566, 565], [526, 527, 567, 566], [527, 528, 568, 567], [528, 529, 569, 568], [529, 530, 570, 569], [530, 531, 571, 570], [531, 532, 572, 571], [532, 533, 573, 572], [533, 534, 574, 573], [534, 535, 575, 574], [535, 536, 576, 575], [536, 537, 577, 576], [537, 538, 578, 577], [538, 539, 579, 578], [539, 540, 580, 579], [540, 541, 581, 580], [541, 542, 582, 581], [542, 543, 583, 582], [543, 544, 584, 583], [544, 545, 585, 584], [545, 546, 586, 585], [546, 547, 587, 586], [547, 548, 588, 587], [548, 549, 589, 588], [549, 550, 590, 589], [550, 551, 591, 590], [551, 552, 592, 591], [552, 553, 593, 592], [553, 554, 594, 593], [554, 555, 595, 594], [555, 556, 596, 595], [556, 557, 597, 596], [557, 558, 598, 597], [558, 559, 599, 598], [561, 560, 600, 601], [560, 562, 602, 600], [562, 563, 603, 602], [563, 564, 604, 603], [564, 565, 605, 604], [565, 566, 606, 605], [566, 567, 607, 606], [567, 568, 608, 607], [568, 569, 609, 608], [569, 570, 610, 609], [570, 571, 611, 610], [571, 572, 612, 611], [572, 573, 613, 612], [573, 574, 614, 613], [574, 575, 615, 614], [575, 576, 616, 615], [576, 577, 617, 616], [577, 578, 618, 617], [578, 579, 619, 618], [579, 580, 620, 619], [580, 581, 621, 620], [581, 582, 622, 621], [582, 583, 623, 622], [583, 584, 624, 623], [584, 585, 625, 624], [585, 586, 626, 625], [586, 587, 627, 626], [587, 588, 628, 627], [588, 589, 629, 628], [589, 590, 630, 629], [590, 591, 631, 630], [591, 592, 632, 631], [592, 593, 633, 632], [593, 594, 634, 633], [594, 595, 635, 634], [595, 596, 636, 635], [596, 597, 637, 636], [597, 598, 638, 637], [598, 599, 639, 638], [601, 600, 640, 641], [600, 602, 642, 640], [602, 603, 643, 642], [603, 604, 644, 643], [604, 605, 645, 644], [605, 606, 646, 645], [606, 607, 647, 646], [607, 608, 648, 647], [608, 609, 649, 648], [609, 610, 650, 649], [610, 611, 651, 650], [611, 612, 652, 651], [612, 613, 653, 652], [613, 614, 654, 653], [614, 615, 655, 654], [615, 616, 656, 655], [616, 617, 657, 656], [617, 618, 658, 657], [618, 619, 659, 658], [619, 620, 660, 659], [620, 621, 661, 660], [621, 622, 662, 661], [622, 623, 663, 662], [623, 624, 664, 663], [624, 625, 665, 664], [625, 626, 666, 665], [626, 627, 667, 666], [627, 628, 668, 667], [628, 629, 669, 668], [629, 630, 670, 669], [630, 631, 671, 670], [631, 632, 672, 671], [632, 633, 673, 672], [633, 634, 674, 673], [634, 635, 675, 674], [635, 636, 676, 675], [636, 637, 677, 676], [637, 638, 678, 677], [638, 639, 679, 678], [641, 640, 680, 681], [640, 642, 682, 680], [642, 643, 683, 682], [643, 644, 684, 683], [644, 645, 685, 684], [645, 646, 686, 685], [646, 647, 687, 686], [647, 648, 688, 687], [648, 649, 689, 688], [649, 650, 690, 689], [650, 651, 691, 690], [651, 652, 692, 691], [652, 653, 693, 692], [653, 654, 694, 693], [654, 655, 695, 694], [655, 656, 696, 695], [656, 657, 697, 696], [657, 658, 698, 697], [658, 659, 699, 698], [659, 660, 700, 699], [660, 661, 701, 700], [661, 662, 702, 701], [662, 663, 703, 702], [663, 664, 704, 703], [664, 665, 705, 704], [665, 666, 706, 705], [666, 667, 707, 706], [667, 668, 708, 707], [668, 669, 709, 708], [669, 670, 710, 709], [670, 671, 711, 710], [671, 672, 712, 711], [672, 673, 713, 712], [673, 674, 714, 713], [674, 675, 715, 714], [675, 676, 716, 715], [676, 677, 717, 716], [677, 678, 718, 717], [678, 679, 719, 718], [681, 680, 720, 721], [680, 682, 722, 720], [682, 683, 723, 722], [683, 684, 724, 723], [684, 685, 725, 724], [685, 686, 726, 725], [686, 687, 727, 726], [687, 688, 728, 727], [688, 689, 729, 728], [689, 690, 730, 729], [690, 691, 731, 730], [691, 692, 732, 731], [692, 693, 733, 732], [693, 694, 734, 733], [694, 695, 735, 734], [695, 696, 736, 735], [696, 697, 737, 736], [697, 698, 738, 737], [698, 699, 739, 738], [699, 700, 740, 739], [700, 701, 741, 740], [701, 702, 742, 741], [702, 703, 743, 742], [703, 704, 744, 743], [704, 705, 745, 744], [705, 706, 746, 745], [706, 707, 747, 746], [707, 708, 748, 747], [708, 709, 749, 748], [709, 710, 750, 749], [710, 711, 751, 750], [711, 712, 752, 751], [712, 713, 753, 752], [713, 714, 754, 753], [714, 715, 755, 754], [715, 716, 756, 755], [716, 717, 757, 756], [717, 718, 758, 757], [718, 719, 759, 758], [721, 720, 760, 761], [720, 722, 762, 760], [722, 723, 763, 762], [723, 724, 764, 763], [724, 725, 765, 764], [725, 726, 766, 765], [726, 727, 767, 766], [727, 728, 768, 767], [728, 729, 769, 768], [729, 730, 770, 769], [730, 731, 771, 770], [731, 732, 772, 771], [732, 733, 773, 772], [733, 734, 774, 773], [734, 735, 775, 774], [735, 736, 776, 775], [736, 737, 777, 776], [737, 738, 778, 777], [738, 739, 779, 778], [739, 740, 780, 779], [740, 741, 781, 780], [741, 742, 782, 781], [742, 743, 783, 782], [743, 744, 784, 783], [744, 745, 785, 784], [745, 746, 786, 785], [746, 747, 787, 786], [747, 748, 788, 787], [748, 749, 789, 788], [749, 750, 790, 789], [750, 751, 791, 790], [751, 752, 792, 791], [752, 753, 793, 792], [753, 754, 794, 793], [754, 755, 795, 794], [755, 756, 796, 795], [756, 757, 797, 796], [757, 758, 798, 797], [758, 759, 799, 798], [761, 760, 800, 801], [760, 762, 802, 800], [762, 763, 803, 802], [763, 764, 804, 803], [764, 765, 805, 804], [765, 766, 806, 805], [766, 767, 807, 806], [767, 768, 808, 807], [768, 769, 809, 808], [769, 770, 810, 809], [770, 771, 811, 810], [771, 772, 812, 811], [772, 773, 813, 812], [773, 774, 814, 813], [774, 775, 815, 814], [775, 776, 816, 815], [776, 777, 817, 816], [777, 778, 818, 817], [778, 779, 819, 818], [779, 780, 820, 819], [780, 781, 821, 820], [781, 782, 822, 821], [782, 783, 823, 822], [783, 784, 824, 823], [784, 785, 825, 824], [785, 786, 826, 825], [786, 787, 827, 826], [787, 788, 828, 827], [788, 789, 829, 828], [789, 790, 830, 829], [790, 791, 831, 830], [791, 792, 832, 831], [792, 793, 833, 832], [793, 794, 834, 833], [794, 795, 835, 834], [795, 796, 836, 835], [796, 797, 837, 836], [797, 798, 838, 837], [798, 799, 839, 838], [801, 800, 840, 841], [800, 802, 842, 840], [802, 803, 843, 842], [803, 804, 844, 843], [804, 805, 845, 844], [805, 806, 846, 845], [806, 807, 847, 846], [807, 808, 848, 847], [808, 809, 849, 848], [809, 810, 850, 849], [810, 811, 851, 850], [811, 812, 852, 851], [812, 813, 853, 852], [813, 814, 854, 853], [814, 815, 855, 854], [815, 816, 856, 855], [816, 817, 857, 856], [817, 818, 858, 857], [818, 819, 859, 858], [819, 820, 860, 859], [820, 821, 861, 860], [821, 822, 862, 861], [822, 823, 863, 862], [823, 824, 864, 863], [824, 825, 865, 864], [825, 826, 866, 865], [826, 827, 867, 866], [827, 828, 868, 867], [828, 829, 869, 868], [829, 830, 870, 869], [830, 831, 871, 870], [831, 832, 872, 871], [832, 833, 873, 872], [833, 834, 874, 873], [834, 835, 875, 874], [835, 836, 876, 875], [836, 837, 877, 876], [837, 838, 878, 877], [838, 839, 879, 878], [841, 840, 880, 881], [840, 842, 882, 880], [842, 843, 883, 882], [843, 844, 884, 883], [844, 845, 885, 884], [845, 846, 886, 885], [846, 847, 887, 886], [847, 848, 888, 887], [848, 849, 889, 888], [849, 850, 890, 889], [850, 851, 891, 890], [851, 852, 892, 891], [852, 853, 893, 892], [853, 854, 894, 893], [854, 855, 895, 894], [855, 856, 896, 895], [856, 857, 897, 896], [857, 858, 898, 897], [858, 859, 899, 898], [859, 860, 900, 899], [860, 861, 901, 900], [861, 862, 902, 901], [862, 863, 903, 902], [863, 864, 904, 903], [864, 865, 905, 904], [865, 866, 906, 905], [866, 867, 907, 906], [867, 868, 908, 907], [868, 869, 909, 908], [869, 870, 910, 909], [870, 871, 911, 910], [871, 872, 912, 911], [872, 873, 913, 912], [873, 874, 914, 913], [874, 875, 915, 914], [875, 876, 916, 915], [876, 877, 917, 916], [877, 878, 918, 917], [878, 879, 919, 918], [881, 880, 920, 921], [880, 882, 922, 920], [882, 883, 923, 922], [883, 884, 924, 923], [884, 885, 925, 924], [885, 886, 926, 925], [886, 887, 927, 926], [887, 888, 928, 927], [888, 889, 929, 928], [889, 890, 930, 929], [890, 891, 931, 930], [891, 892, 932, 931], [892, 893, 933, 932], [893, 894, 934, 933], [894, 895, 935, 934], [895, 896, 936, 935], [896, 897, 937, 936], [897, 898, 938, 937], [898, 899, 939, 938], [899, 900, 940, 939], [900, 901, 941, 940], [901, 902, 942, 941], [902, 903, 943, 942], [903, 904, 944, 943], [904, 905, 945, 944], [905, 906, 946, 945], [906, 907, 947, 946], [907, 908, 948, 947], [908, 909, 949, 948], [909, 910, 950, 949], [910, 911, 951, 950], [911, 912, 952, 951], [912, 913, 953, 952], [913, 914, 954, 953], [914, 915, 955, 954], [915, 916, 956, 955], [916, 917, 957, 956], [917, 918, 958, 957], [918, 919, 959, 958], [921, 920, 960, 961], [920, 922, 962, 960], [922, 923, 963, 962], [923, 924, 964, 963], [924, 925, 965, 964], [925, 926, 966, 965], [926, 927, 967, 966], [927, 928, 968, 967], [928, 929, 969, 968], [929, 930, 970, 969], [930, 931, 971, 970], [931, 932, 972, 971], [932, 933, 973, 972], [933, 934, 974, 973], [934, 935, 975, 974], [935, 936, 976, 975], [936, 937, 977, 976], [937, 938, 978, 977], [938, 939, 979, 978], [939, 940, 980, 979], [940, 941, 981, 980], [941, 942, 982, 981], [942, 943, 983, 982], [943, 944, 984, 983], [944, 945, 985, 984], [945, 946, 986, 985], [946, 947, 987, 986], [947, 948, 988, 987], [948, 949, 989, 988], [949, 950, 990, 989], [950, 951, 991, 990], [951, 952, 992, 991], [952, 953, 993, 992], [953, 954, 994, 993], [954, 955, 995, 994], [955, 956, 996, 995], [956, 957, 997, 996], [957, 958, 998, 997], [958, 959, 999, 998], [961, 960, 1000, 1001], [960, 962, 1002, 1000], [962, 963, 1003, 1002], [963, 964, 1004, 1003], [964, 965, 1005, 1004], [965, 966, 1006, 1005], [966, 967, 1007, 1006], [967, 968, 1008, 1007], [968, 969, 1009, 1008], [969, 970, 1010, 1009], [970, 971, 1011, 1010], [971, 972, 1012, 1011], [972, 973, 1013, 1012], [973, 974, 1014, 1013], [974, 975, 1015, 1014], [975, 976, 1016, 1015], [976, 977, 1017, 1016], [977, 978, 1018, 1017], [978, 979, 1019, 1018], [979, 980, 1020, 1019], [980, 981, 1021, 1020], [981, 982, 1022, 1021], [982, 983, 1023, 1022], [983, 984, 1024, 1023], [984, 985, 1025, 1024], [985, 986, 1026, 1025], [986, 987, 1027, 1026], [987, 988, 1028, 1027], [988, 989, 1029, 1028], [989, 990, 1030, 1029], [990, 991, 1031, 1030], [991, 992, 1032, 1031], [992, 993, 1033, 1032], [993, 994, 1034, 1033], [994, 995, 1035, 1034], [995, 996, 1036, 1035], [996, 997, 1037, 1036], [997, 998, 1038, 1037], [998, 999, 1039, 1038], [1001, 1000, 1040, 1041], [1000, 1002, 1042, 1040], [1002, 1003, 1043, 1042], [1003, 1004, 1044, 1043], [1004, 1005, 1045, 1044], [1005, 1006, 1046, 1045], [1006, 1007, 1047, 1046], [1007, 1008, 1048, 1047], [1008, 1009, 1049, 1048], [1009, 1010, 1050, 1049], [1010, 1011, 1051, 1050], [1011, 1012, 1052, 1051], [1012, 1013, 1053, 1052], [1013, 1014, 1054, 1053], [1014, 1015, 1055, 1054], [1015, 1016, 1056, 1055], [1016, 1017, 1057, 1056], [1017, 1018, 1058, 1057], [1018, 1019, 1059, 1058], [1019, 1020, 1060, 1059], [1020, 1021, 1061, 1060], [1021, 1022, 1062, 1061], [1022, 1023, 1063, 1062], [1023, 1024, 1064, 1063], [1024, 1025, 1065, 1064], [1025, 1026, 1066, 1065], [1026, 1027, 1067, 1066], [1027, 1028, 1068, 1067], [1028, 1029, 1069, 1068], [1029, 1030, 1070, 1069], [1030, 1031, 1071, 1070], [1031, 1032, 1072, 1071], [1032, 1033, 1073, 1072], [1033, 1034, 1074, 1073], [1034, 1035, 1075, 1074], [1035, 1036, 1076, 1075], [1036, 1037, 1077, 1076], [1037, 1038, 1078, 1077], [1038, 1039, 1079, 1078], [1041, 1040, 1080, 1081], [1040, 1042, 1082, 1080], [1042, 1043, 1083, 1082], [1043, 1044, 1084, 1083], [1044, 1045, 1085, 1084], [1045, 1046, 1086, 1085], [1046, 1047, 1087, 1086], [1047, 1048, 1088, 1087], [1048, 1049, 1089, 1088], [1049, 1050, 1090, 1089], [1050, 1051, 1091, 1090], [1051, 1052, 1092, 1091], [1052, 1053, 1093, 1092], [1053, 1054, 1094, 1093], [1054, 1055, 1095, 1094], [1055, 1056, 1096, 1095], [1056, 1057, 1097, 1096], [1057, 1058, 1098, 1097], [1058, 1059, 1099, 1098], [1059, 1060, 1100, 1099], [1060, 1061, 1101, 1100], [1061, 1062, 1102, 1101], [1062, 1063, 1103, 1102], [1063, 1064, 1104, 1103], [1064, 1065, 1105, 1104], [1065, 1066, 1106, 1105], [1066, 1067, 1107, 1106], [1067, 1068, 1108, 1107], [1068, 1069, 1109, 1108], [1069, 1070, 1110, 1109], [1070, 1071, 1111, 1110], [1071, 1072, 1112, 1111], [1072, 1073, 1113, 1112], [1073, 1074, 1114, 1113], [1074, 1075, 1115, 1114], [1075, 1076, 1116, 1115], [1076, 1077, 1117, 1116], [1077, 1078, 1118, 1117], [1078, 1079, 1119, 1118], [1081, 1080, 1120, 1121], [1080, 1082, 1122, 1120], [1082, 1083, 1123, 1122], [1083, 1084, 1124, 1123], [1084, 1085, 1125, 1124], [1085, 1086, 1126, 1125], [1086, 1087, 1127, 1126], [1087, 1088, 1128, 1127], [1088, 1089, 1129, 1128], [1089, 1090, 1130, 1129], [1090, 1091, 1131, 1130], [1091, 1092, 1132, 1131], [1092, 1093, 1133, 1132], [1093, 1094, 1134, 1133], [1094, 1095, 1135, 1134], [1095, 1096, 1136, 1135], [1096, 1097, 1137, 1136], [1097, 1098, 1138, 1137], [1098, 1099, 1139, 1138], [1099, 1100, 1140, 1139], [1100, 1101, 1141, 1140], [1101, 1102, 1142, 1141], [1102, 1103, 1143, 1142], [1103, 1104, 1144, 1143], [1104, 1105, 1145, 1144], [1105, 1106, 1146, 1145], [1106, 1107, 1147, 1146], [1107, 1108, 1148, 1147], [1108, 1109, 1149, 1148], [1109, 1110, 1150, 1149], [1110, 1111, 1151, 1150], [1111, 1112, 1152, 1151], [1112, 1113, 1153, 1152], [1113, 1114, 1154, 1153], [1114, 1115, 1155, 1154], [1115, 1116, 1156, 1155], [1116, 1117, 1157, 1156], [1117, 1118, 1158, 1157], [1118, 1119, 1159, 1158], [1121, 1120, 1160, 1161], [1120, 1122, 1162, 1160], [1122, 1123, 1163, 1162], [1123, 1124, 1164, 1163], [1124, 1125, 1165, 1164], [1125, 1126, 1166, 1165], [1126, 1127, 1167, 1166], [1127, 1128, 1168, 1167], [1128, 1129, 1169, 1168], [1129, 1130, 1170, 1169], [1130, 1131, 1171, 1170], [1131, 1132, 1172, 1171], [1132, 1133, 1173, 1172], [1133, 1134, 1174, 1173], [1134, 1135, 1175, 1174], [1135, 1136, 1176, 1175], [1136, 1137, 1177, 1176], [1137, 1138, 1178, 1177], [1138, 1139, 1179, 1178], [1139, 1140, 1180, 1179], [1140, 1141, 1181, 1180], [1141, 1142, 1182, 1181], [1142, 1143, 1183, 1182], [1143, 1144, 1184, 1183], [1144, 1145, 1185, 1184], [1145, 1146, 1186, 1185], [1146, 1147, 1187, 1186], [1147, 1148, 1188, 1187], [1148, 1149, 1189, 1188], [1149, 1150, 1190, 1189], [1150, 1151, 1191, 1190], [1151, 1152, 1192, 1191], [1152, 1153, 1193, 1192], [1153, 1154, 1194, 1193], [1154, 1155, 1195, 1194], [1155, 1156, 1196, 1195], [1156, 1157, 1197, 1196], [1157, 1158, 1198, 1197], [1158, 1159, 1199, 1198], [1161, 1160, 1200, 1201], [1160, 1162, 1202, 1200], [1162, 1163, 1203, 1202], [1163, 1164, 1204, 1203], [1164, 1165, 1205, 1204], [1165, 1166, 1206, 1205], [1166, 1167, 1207, 1206], [1167, 1168, 1208, 1207], [1168, 1169, 1209, 1208], [1169, 1170, 1210, 1209], [1170, 1171, 1211, 1210], [1171, 1172, 1212, 1211], [1172, 1173, 1213, 1212], [1173, 1174, 1214, 1213], [1174, 1175, 1215, 1214], [1175, 1176, 1216, 1215], [1176, 1177, 1217, 1216], [1177, 1178, 1218, 1217], [1178, 1179, 1219, 1218], [1179, 1180, 1220, 1219], [1180, 1181, 1221, 1220], [1181, 1182, 1222, 1221], [1182, 1183, 1223, 1222], [1183, 1184, 1224, 1223], [1184, 1185, 1225, 1224], [1185, 1186, 1226, 1225], [1186, 1187, 1227, 1226], [1187, 1188, 1228, 1227], [1188, 1189, 1229, 1228], [1189, 1190, 1230, 1229], [1190, 1191, 1231, 1230], [1191, 1192, 1232, 1231], [1192, 1193, 1233, 1232], [1193, 1194, 1234, 1233], [1194, 1195, 1235, 1234], [1195, 1196, 1236, 1235], [1196, 1197, 1237, 1236], [1197, 1198, 1238, 1237], [1198, 1199, 1239, 1238], [1201, 1200, 1240, 1241], [1200, 1202, 1242, 1240], [1202, 1203, 1243, 1242], [1203, 1204, 1244, 1243], [1204, 1205, 1245, 1244], [1205, 1206, 1246, 1245], [1206, 1207, 1247, 1246], [1207, 1208, 1248, 1247], [1208, 1209, 1249, 1248], [1209, 1210, 1250, 1249], [1210, 1211, 1251, 1250], [1211, 1212, 1252, 1251], [1212, 1213, 1253, 1252], [1213, 1214, 1254, 1253], [1214, 1215, 1255, 1254], [1215, 1216, 1256, 1255], [1216, 1217, 1257, 1256], [1217, 1218, 1258, 1257], [1218, 1219, 1259, 1258], [1219, 1220, 1260, 1259], [1220, 1221, 1261, 1260], [1221, 1222, 1262, 1261], [1222, 1223, 1263, 1262], [1223, 1224, 1264, 1263], [1224, 1225, 1265, 1264], [1225, 1226, 1266, 1265], [1226, 1227, 1267, 1266], [1227, 1228, 1268, 1267], [1228, 1229, 1269, 1268], [1229, 1230, 1270, 1269], [1230, 1231, 1271, 1270], [1231, 1232, 1272, 1271], [1232, 1233, 1273, 1272], [1233, 1234, 1274, 1273], [1234, 1235, 1275, 1274], [1235, 1236, 1276, 1275], [1236, 1237, 1277, 1276], [1237, 1238, 1278, 1277], [1238, 1239, 1279, 1278], [1241, 1240, 1280, 1281], [1240, 1242, 1282, 1280], [1242, 1243, 1283, 1282], [1243, 1244, 1284, 1283], [1244, 1245, 1285, 1284], [1245, 1246, 1286, 1285], [1246, 1247, 1287, 1286], [1247, 1248, 1288, 1287], [1248, 1249, 1289, 1288], [1249, 1250, 1290, 1289], [1250, 1251, 1291, 1290], [1251, 1252, 1292, 1291], [1252, 1253, 1293, 1292], [1253, 1254, 1294, 1293], [1254, 1255, 1295, 1294], [1255, 1256, 1296, 1295], [1256, 1257, 1297, 1296], [1257, 1258, 1298, 1297], [1258, 1259, 1299, 1298], [1259, 1260, 1300, 1299], [1260, 1261, 1301, 1300], [1261, 1262, 1302, 1301], [1262, 1263, 1303, 1302], [1263, 1264, 1304, 1303], [1264, 1265, 1305, 1304], [1265, 1266, 1306, 1305], [1266, 1267, 1307, 1306], [1267, 1268, 1308, 1307], [1268, 1269, 1309, 1308], [1269, 1270, 1310, 1309], [1270, 1271, 1311, 1310], [1271, 1272, 1312, 1311], [1272, 1273, 1313, 1312], [1273, 1274, 1314, 1313], [1274, 1275, 1315, 1314], [1275, 1276, 1316, 1315], [1276, 1277, 1317, 1316], [1277, 1278, 1318, 1317], [1278, 1279, 1319, 1318], [1281, 1280, 1320, 1321], [1280, 1282, 1322, 1320], [1282, 1283, 1323, 1322], [1283, 1284, 1324, 1323], [1284, 1285, 1325, 1324], [1285, 1286, 1326, 1325], [1286, 1287, 1327, 1326], [1287, 1288, 1328, 1327], [1288, 1289, 1329, 1328], [1289, 1290, 1330, 1329], [1290, 1291, 1331, 1330], [1291, 1292, 1332, 1331], [1292, 1293, 1333, 1332], [1293, 1294, 1334, 1333], [1294, 1295, 1335, 1334], [1295, 1296, 1336, 1335], [1296, 1297, 1337, 1336], [1297, 1298, 1338, 1337], [1298, 1299, 1339, 1338], [1299, 1300, 1340, 1339], [1300, 1301, 1341, 1340], [1301, 1302, 1342, 1341], [1302, 1303, 1343, 1342], [1303, 1304, 1344, 1343], [1304, 1305, 1345, 1344], [1305, 1306, 1346, 1345], [1306, 1307, 1347, 1346], [1307, 1308, 1348, 1347], [1308, 1309, 1349, 1348], [1309, 1310, 1350, 1349], [1310, 1311, 1351, 1350], [1311, 1312, 1352, 1351], [1312, 1313, 1353, 1352], [1313, 1314, 1354, 1353], [1314, 1315, 1355, 1354], [1315, 1316, 1356, 1355], [1316, 1317, 1357, 1356], [1317, 1318, 1358, 1357], [1318, 1319, 1359, 1358], [1321, 1320, 1360, 1361], [1320, 1322, 1362, 1360], [1322, 1323, 1363, 1362], [1323, 1324, 1364, 1363], [1324, 1325, 1365, 1364], [1325, 1326, 1366, 1365], [1326, 1327, 1367, 1366], [1327, 1328, 1368, 1367], [1328, 1329, 1369, 1368], [1329, 1330, 1370, 1369], [1330, 1331, 1371, 1370], [1331, 1332, 1372, 1371], [1332, 1333, 1373, 1372], [1333, 1334, 1374, 1373], [1334, 1335, 1375, 1374], [1335, 1336, 1376, 1375], [1336, 1337, 1377, 1376], [1337, 1338, 1378, 1377], [1338, 1339, 1379, 1378], [1339, 1340, 1380, 1379], [1340, 1341, 1381, 1380], [1341, 1342, 1382, 1381], [1342, 1343, 1383, 1382], [1343, 1344, 1384, 1383], [1344, 1345, 1385, 1384], [1345, 1346, 1386, 1385], [1346, 1347, 1387, 1386], [1347, 1348, 1388, 1387], [1348, 1349, 1389, 1388], [1349, 1350, 1390, 1389], [1350, 1351, 1391, 1390], [1351, 1352, 1392, 1391], [1352, 1353, 1393, 1392], [1353, 1354, 1394, 1393], [1354, 1355, 1395, 1394], [1355, 1356, 1396, 1395], [1356, 1357, 1397, 1396], [1357, 1358, 1398, 1397], [1358, 1359, 1399, 1398], [1361, 1360, 1400, 1401], [1360, 1362, 1402, 1400], [1362, 1363, 1403, 1402], [1363, 1364, 1404, 1403], [1364, 1365, 1405, 1404], [1365, 1366, 1406, 1405], [1366, 1367, 1407, 1406], [1367, 1368, 1408, 1407], [1368, 1369, 1409, 1408], [1369, 1370, 1410, 1409], [1370, 1371, 1411, 1410], [1371, 1372, 1412, 1411], [1372, 1373, 1413, 1412], [1373, 1374, 1414, 1413], [1374, 1375, 1415, 1414], [1375, 1376, 1416, 1415], [1376, 1377, 1417, 1416], [1377, 1378, 1418, 1417], [1378, 1379, 1419, 1418], [1379, 1380, 1420, 1419], [1380, 1381, 1421, 1420], [1381, 1382, 1422, 1421], [1382, 1383, 1423, 1422], [1383, 1384, 1424, 1423], [1384, 1385, 1425, 1424], [1385, 1386, 1426, 1425], [1386, 1387, 1427, 1426], [1387, 1388, 1428, 1427], [1388, 1389, 1429, 1428], [1389, 1390, 1430, 1429], [1390, 1391, 1431, 1430], [1391, 1392, 1432, 1431], [1392, 1393, 1433, 1432], [1393, 1394, 1434, 1433], [1394, 1395, 1435, 1434], [1395, 1396, 1436, 1435], [1396, 1397, 1437, 1436], [1397, 1398, 1438, 1437], [1398, 1399, 1439, 1438], [1401, 1400, 1440, 1441], [1400, 1402, 1442, 1440], [1402, 1403, 1443, 1442], [1403, 1404, 1444, 1443], [1404, 1405, 1445, 1444], [1405, 1406, 1446, 1445], [1406, 1407, 1447, 1446], [1407, 1408, 1448, 1447], [1408, 1409, 1449, 1448], [1409, 1410, 1450, 1449], [1410, 1411, 1451, 1450], [1411, 1412, 1452, 1451], [1412, 1413, 1453, 1452], [1413, 1414, 1454, 1453], [1414, 1415, 1455, 1454], [1415, 1416, 1456, 1455], [1416, 1417, 1457, 1456], [1417, 1418, 1458, 1457], [1418, 1419, 1459, 1458], [1419, 1420, 1460, 1459], [1420, 1421, 1461, 1460], [1421, 1422, 1462, 1461], [1422, 1423, 1463, 1462], [1423, 1424, 1464, 1463], [1424, 1425, 1465, 1464], [1425, 1426, 1466, 1465], [1426, 1427, 1467, 1466], [1427, 1428, 1468, 1467], [1428, 1429, 1469, 1468], [1429, 1430, 1470, 1469], [1430, 1431, 1471, 1470], [1431, 1432, 1472, 1471], [1432, 1433, 1473, 1472], [1433, 1434, 1474, 1473], [1434, 1435, 1475, 1474], [1435, 1436, 1476, 1475], [1436, 1437, 1477, 1476], [1437, 1438, 1478, 1477], [1438, 1439, 1479, 1478], [1441, 1440, 1480, 1481], [1440, 1442, 1482, 1480], [1442, 1443, 1483, 1482], [1443, 1444, 1484, 1483], [1444, 1445, 1485, 1484], [1445, 1446, 1486, 1485], [1446, 1447, 1487, 1486], [1447, 1448, 1488, 1487], [1448, 1449, 1489, 1488], [1449, 1450, 1490, 1489], [1450, 1451, 1491, 1490], [1451, 1452, 1492, 1491], [1452, 1453, 1493, 1492], [1453, 1454, 1494, 1493], [1454, 1455, 1495, 1494], [1455, 1456, 1496, 1495], [1456, 1457, 1497, 1496], [1457, 1458, 1498, 1497], [1458, 1459, 1499, 1498], [1459, 1460, 1500, 1499], [1460, 1461, 1501, 1500], [1461, 1462, 1502, 1501], [1462, 1463, 1503, 1502], [1463, 1464, 1504, 1503], [1464, 1465, 1505, 1504], [1465, 1466, 1506, 1505], [1466, 1467, 1507, 1506], [1467, 1468, 1508, 1507], [1468, 1469, 1509, 1508], [1469, 1470, 1510, 1509], [1470, 1471, 1511, 1510], [1471, 1472, 1512, 1511], [1472, 1473, 1513, 1512], [1473, 1474, 1514, 1513], [1474, 1475, 1515, 1514], [1475, 1476, 1516, 1515], [1476, 1477, 1517, 1516], [1477, 1478, 1518, 1517], [1478, 1479, 1519, 1518], [1481, 1480, 1520, 1521], [1480, 1482, 1522, 1520], [1482, 1483, 1523, 1522], [1483, 1484, 1524, 1523], [1484, 1485, 1525, 1524], [1485, 1486, 1526, 1525], [1486, 1487, 1527, 1526], [1487, 1488, 1528, 1527], [1488, 1489, 1529, 1528], [1489, 1490, 1530, 1529], [1490, 1491, 1531, 1530], [1491, 1492, 1532, 1531], [1492, 1493, 1533, 1532], [1493, 1494, 1534, 1533], [1494, 1495, 1535, 1534], [1495, 1496, 1536, 1535], [1496, 1497, 1537, 1536], [1497, 1498, 1538, 1537], [1498, 1499, 1539, 1538], [1499, 1500, 1540, 1539], [1500, 1501, 1541, 1540], [1501, 1502, 1542, 1541], [1502, 1503, 1543, 1542], [1503, 1504, 1544, 1543], [1504, 1505, 1545, 1544], [1505, 1506, 1546, 1545], [1506, 1507, 1547, 1546], [1507, 1508, 1548, 1547], [1508, 1509, 1549, 1548], [1509, 1510, 1550, 1549], [1510, 1511, 1551, 1550], [1511, 1512, 1552, 1551], [1512, 1513, 1553, 1552], [1513, 1514, 1554, 1553], [1514, 1515, 1555, 1554], [1515, 1516, 1556, 1555], [1516, 1517, 1557, 1556], [1517, 1518, 1558, 1557], [1518, 1519, 1559, 1558], [1521, 1520, 1560, 1561], [1520, 1522, 1562, 1560], [1522, 1523, 1563, 1562], [1523, 1524, 1564, 1563], [1524, 1525, 1565, 1564], [1525, 1526, 1566, 1565], [1526, 1527, 1567, 1566], [1527, 1528, 1568, 1567], [1528, 1529, 1569, 1568], [1529, 1530, 1570, 1569], [1530, 1531, 1571, 1570], [1531, 1532, 1572, 1571], [1532, 1533, 1573, 1572], [1533, 1534, 1574, 1573], [1534, 1535, 1575, 1574], [1535, 1536, 1576, 1575], [1536, 1537, 1577, 1576], [1537, 1538, 1578, 1577], [1538, 1539, 1579, 1578], [1539, 1540, 1580, 1579], [1540, 1541, 1581, 1580], [1541, 1542, 1582, 1581], [1542, 1543, 1583, 1582], [1543, 1544, 1584, 1583], [1544, 1545, 1585, 1584], [1545, 1546, 1586, 1585], [1546, 1547, 1587, 1586], [1547, 1548, 1588, 1587], [1548, 1549, 1589, 1588], [1549, 1550, 1590, 1589], [1550, 1551, 1591, 1590], [1551, 1552, 1592, 1591], [1552, 1553, 1593, 1592], [1553, 1554, 1594, 1593], [1554, 1555, 1595, 1594], [1555, 1556, 1596, 1595], [1556, 1557, 1597, 1596], [1557, 1558, 1598, 1597], [1558, 1559, 1599, 1598]], &quot;color&quot;: &quot;#6666ff&quot;, &quot;opacity&quot;: 1.0}];\n",
       "    for ( var i=0 ; i < surfaces.length ; i++ ) addSurface( surfaces[i] );\n",
       "\n",
       "    function addSurface( json ) {\n",
       "\n",
       "        var useFaceColors = 'faceColors' in json ? true : false;\n",
       "\n",
       "        var geometry = new THREE.Geometry();\n",
       "        for ( var i=0 ; i < json.vertices.length ; i++ ) {\n",
       "            var v = json.vertices[i];\n",
       "            geometry.vertices.push( new THREE.Vector3( a[0]*v.x, a[1]*v.y, a[2]*v.z ) );\n",
       "        }\n",
       "        for ( var i=0 ; i < json.faces.length ; i++ ) {\n",
       "            var f = json.faces[i];\n",
       "            for ( var j=0 ; j < f.length - 2 ; j++ ) {\n",
       "                var face = new THREE.Face3( f[0], f[j+1], f[j+2] );\n",
       "                if ( useFaceColors ) face.color.set( json.faceColors[i] );\n",
       "                geometry.faces.push( face );\n",
       "            }\n",
       "        }\n",
       "        geometry.computeVertexNormals();\n",
       "\n",
       "        var side = json.singleSide ? THREE.FrontSide : THREE.DoubleSide;\n",
       "        var transparent = json.opacity < 1 ? true : false;\n",
       "        var depthWrite = 'depthWrite' in json ? json.depthWrite : !transparent;\n",
       "        var flatShading = json.useFlatShading ? json.useFlatShading : false;\n",
       "\n",
       "        var material = new THREE.MeshPhongMaterial( { side: side,\n",
       "                                     color: useFaceColors ? 'white' : json.color,\n",
       "                                     vertexColors: useFaceColors ? THREE.FaceColors : THREE.NoColors,\n",
       "                                     transparent: transparent, opacity: json.opacity,\n",
       "                                     shininess: 20, flatShading: flatShading,\n",
       "                                     depthWrite: depthWrite } );\n",
       "\n",
       "        var c = new THREE.Vector3();\n",
       "        geometry.computeBoundingBox();\n",
       "        geometry.boundingBox.getCenter( c );\n",
       "        geometry.translate( -c.x, -c.y, -c.z );\n",
       "\n",
       "        var mesh = new THREE.Mesh( geometry, material );\n",
       "        mesh.position.set( c.x, c.y, c.z );\n",
       "        if ( transparent && json.renderOrder ) mesh.renderOrder = json.renderOrder;\n",
       "        mesh.userData = json;\n",
       "        scene.add( mesh );\n",
       "\n",
       "        if ( json.showMeshGrid ) addSurfaceMeshGrid( json );\n",
       "\n",
       "    }\n",
       "\n",
       "    function addSurfaceMeshGrid( json ) {\n",
       "\n",
       "        var geometry = new THREE.Geometry();\n",
       "\n",
       "        for ( var i=0 ; i < json.faces.length ; i++ ) {\n",
       "            var f = json.faces[i];\n",
       "            for ( var j=0 ; j < f.length ; j++ ) {\n",
       "                var k = j === f.length-1 ? 0 : j+1;\n",
       "                var v1 = json.vertices[f[j]];\n",
       "                var v2 = json.vertices[f[k]];\n",
       "                // vertices in opposite directions on neighboring faces\n",
       "                var nudge = f[j] < f[k] ? .0005*zRange : -.0005*zRange;\n",
       "                geometry.vertices.push( new THREE.Vector3( a[0]*v1.x, a[1]*v1.y, a[2]*(v1.z+nudge) ) );\n",
       "                geometry.vertices.push( new THREE.Vector3( a[0]*v2.x, a[1]*v2.y, a[2]*(v2.z+nudge) ) );\n",
       "            }\n",
       "        }\n",
       "\n",
       "        var c = new THREE.Vector3();\n",
       "        geometry.computeBoundingBox();\n",
       "        geometry.boundingBox.getCenter( c );\n",
       "        geometry.translate( -c.x, -c.y, -c.z );\n",
       "\n",
       "        var gridColor = options.theme === 'dark' ? 'white' : 'black';\n",
       "        var linewidth = json.linewidth || 1;\n",
       "        var materialOptions = { color: gridColor, linewidth: linewidth };\n",
       "\n",
       "        var mesh;\n",
       "        if ( linewidth > 1 && window.createFatLineSegments ) {\n",
       "            mesh = createFatLineSegments( geometry, materialOptions );\n",
       "        } else {\n",
       "            var material = new THREE.LineBasicMaterial( materialOptions );\n",
       "            mesh = new THREE.LineSegments( geometry, material );\n",
       "        }\n",
       "\n",
       "        mesh.position.set( c.x, c.y, c.z );\n",
       "        mesh.userData = json;\n",
       "        scene.add( mesh );\n",
       "\n",
       "    }\n",
       "\n",
       "    function render() {\n",
       "\n",
       "        if ( window.updateAnimation ) animate = updateAnimation();\n",
       "        if ( animate ) requestAnimationFrame( render );\n",
       "\n",
       "        renderer.render( scene, camera );\n",
       "\n",
       "    }\n",
       "\n",
       "    render();\n",
       "    controls.update();\n",
       "    if ( !animate ) render();\n",
       "\n",
       "\n",
       "    // menu functions\n",
       "\n",
       "    function toggleMenu() {\n",
       "\n",
       "        var m = document.getElementById( 'menu-content' );\n",
       "        if ( m.style.display === 'block' ) m.style.display = 'none'\n",
       "        else m.style.display = 'block';\n",
       "\n",
       "    }\n",
       "\n",
       "\n",
       "    function saveAsPNG() {\n",
       "\n",
       "        var a = document.body.appendChild( document.createElement( 'a' ) );\n",
       "        a.href = renderer.domElement.toDataURL( 'image/png' );\n",
       "        a.download = 'screenshot';\n",
       "        a.click();\n",
       "\n",
       "    }\n",
       "\n",
       "    function saveAsHTML() {\n",
       "\n",
       "        toggleMenu(); // otherwise visible in output\n",
       "        event.stopPropagation();\n",
       "\n",
       "        var blob = new Blob( [ '<!DOCTYPE html>\\n' + document.documentElement.outerHTML ] );\n",
       "        var a = document.body.appendChild( document.createElement( 'a' ) );\n",
       "        a.href = window.URL.createObjectURL( blob );\n",
       "        a.download = suggestFilename();\n",
       "        a.click();\n",
       "\n",
       "        function suggestFilename() {\n",
       "            if ( !document.title ) {\n",
       "                return 'graphic.html';\n",
       "            } else if ( /\\.html?$/i.test( document.title ) ) {\n",
       "                return document.title; // already ends in .htm or .html\n",
       "            } else {\n",
       "                return document.title + '.html';\n",
       "            }\n",
       "        }\n",
       "\n",
       "    }\n",
       "\n",
       "    function getViewpoint() {\n",
       "\n",
       "        function roundTo( x, n ) { return +x.toFixed(n); }\n",
       "\n",
       "        var v = camera.quaternion.inverse();\n",
       "        var r = Math.sqrt( v.x*v.x + v.y*v.y + v.z*v.z );\n",
       "        var axis = [ roundTo( v.x / r, 4 ), roundTo( v.y / r, 4 ), roundTo( v.z / r, 4 ) ];\n",
       "        var angle = roundTo( 2 * Math.atan2( r, v.w ) * 180 / Math.PI, 2 );\n",
       "\n",
       "        var textArea = document.createElement( 'textarea' );\n",
       "        textArea.textContent = JSON.stringify( axis ) + ',' + angle;\n",
       "        textArea.style.csstext = 'position: absolute; top: -100%';\n",
       "        document.body.append( textArea );\n",
       "        textArea.select();\n",
       "        document.execCommand( 'copy' );\n",
       "\n",
       "        var m = document.getElementById( 'menu-message' );\n",
       "        m.innerHTML = 'Viewpoint copied to clipboard';\n",
       "        m.style.display = 'block';\n",
       "        setTimeout( function() { m.style.display = 'none'; }, 2000 );\n",
       "\n",
       "    }\n",
       "\n",
       "    function getCamera() {\n",
       "\n",
       "        function roundTo( x, n ) { return +x.toFixed(n); }\n",
       "\n",
       "        var pos = camera.position;\n",
       "        var pos_r = [ roundTo( pos.x, 4 ), roundTo( pos.y, 4 ), roundTo( pos.z, 4 ) ];\n",
       "   //     var up = camera.up; // up is always (0,0,1)\n",
       "        var textArea = document.createElement('textarea');\n",
       "        var cam_position = JSON.stringify(pos_r);\n",
       "        textArea.textContent = ',camera_position=' + cam_position;\n",
       "        textArea.style.csstext = 'position: absolute; top: -100%';\n",
       "        document.body.append( textArea );\n",
       "        textArea.select();\n",
       "        document.execCommand( 'copy' );\n",
       "\n",
       "        var m = document.getElementById( 'menu-message' );\n",
       "        m.innerHTML = 'Camera position '+ cam_position+' copied to clipboard';\n",
       "        m.style.display = 'block';\n",
       "        setTimeout( function() { m.style.display = 'none'; }, 2000 );\n",
       "\n",
       "    }\n",
       "                                       \n",
       "</script>\n",
       "\n",
       "<div id=&quot;menu-container&quot; onclick=&quot;toggleMenu()&quot;>&#x24d8;\n",
       "<div id=&quot;menu-message&quot;></div>\n",
       "<div id=&quot;menu-content&quot;>\n",
       "<div onclick=&quot;saveAsPNG()&quot;>Save as PNG</div>\n",
       "<div onclick=&quot;saveAsHTML()&quot;>Save as HTML</div>\n",
       "<div onclick=&quot;getCamera()&quot;>Get camera</div>\n",
       "<div onclick=&quot;getViewpoint()&quot;>Get viewpoint</div>\n",
       "<div>Close Menu</div>\n",
       "</div></div>\n",
       "\n",
       "\n",
       "</body>\n",
       "</html>\n",
       "\"\n",
       "        width=\"100%\"\n",
       "        height=\"400\"\n",
       "        style=\"border: 0;\">\n",
       "</iframe>\n"
      ],
      "text/plain": [
       "Graphics3d Object"
      ]
     },
     "execution_count": 10,
     "metadata": {},
     "output_type": "execute_result"
    }
   ],
   "source": [
    "plot3d(sin(pi*sqrt(x^2+y^2)) / sqrt(x^2+y^2), (x,-5,5), (y,-5,5), viewer=\"threejs\")"
   ]
  },
  {
   "cell_type": "code",
   "execution_count": 11,
   "metadata": {},
   "outputs": [
    {
     "data": {
      "image/png": "[encoded data removed]",
      "text/plain": [
       "Graphics object consisting of 1 graphics primitive"
      ]
     },
     "execution_count": 11,
     "metadata": {},
     "output_type": "execute_result"
    }
   ],
   "source": [
    "contour_plot(y^2 + 1 - x^3 - x, (x,-pi,pi), (y,-pi,pi),\n",
    "             contours=[-8,-4,0,4,8], colorbar=True)"
   ]
  },
  {
   "cell_type": "markdown",
   "metadata": {},
   "source": [
    "### Algebra"
   ]
  },
  {
   "cell_type": "code",
   "execution_count": 12,
   "metadata": {},
   "outputs": [
    {
     "data": {
      "text/html": [
       "<html>\\[\\newcommand{\\Bold}[1]{\\mathbf{#1}}{\\left(x^{40} - x^{30} + x^{20} - x^{10} + 1\\right)} {\\left(x^{20} + x^{15} + x^{10} + x^{5} + 1\\right)} {\\left(x^{20} - x^{15} + x^{10} - x^{5} + 1\\right)} {\\left(x^{8} - x^{6} + x^{4} - x^{2} + 1\\right)} {\\left(x^{4} + x^{3} + x^{2} + x + 1\\right)} {\\left(x^{4} - x^{3} + x^{2} - x + 1\\right)} {\\left(x^{2} + 1\\right)} {\\left(x + 1\\right)} {\\left(x - 1\\right)}\\]</html>"
      ],
      "text/latex": [
       "$$\\newcommand{\\Bold}[1]{\\mathbf{#1}}{\\left(x^{40} - x^{30} + x^{20} - x^{10} + 1\\right)} {\\left(x^{20} + x^{15} + x^{10} + x^{5} + 1\\right)} {\\left(x^{20} - x^{15} + x^{10} - x^{5} + 1\\right)} {\\left(x^{8} - x^{6} + x^{4} - x^{2} + 1\\right)} {\\left(x^{4} + x^{3} + x^{2} + x + 1\\right)} {\\left(x^{4} - x^{3} + x^{2} - x + 1\\right)} {\\left(x^{2} + 1\\right)} {\\left(x + 1\\right)} {\\left(x - 1\\right)}$$"
      ],
      "text/plain": [
       "(x^40 - x^30 + x^20 - x^10 + 1)*(x^20 + x^15 + x^10 + x^5 + 1)*(x^20 - x^15 + x^10 - x^5 + 1)*(x^8 - x^6 + x^4 - x^2 + 1)*(x^4 + x^3 + x^2 + x + 1)*(x^4 - x^3 + x^2 - x + 1)*(x^2 + 1)*(x + 1)*(x - 1)"
      ]
     },
     "execution_count": 12,
     "metadata": {},
     "output_type": "execute_result"
    }
   ],
   "source": [
    "factor(x^100 - 1)"
   ]
  },
  {
   "cell_type": "code",
   "execution_count": 13,
   "metadata": {},
   "outputs": [
    {
     "data": {
      "text/html": [
       "<html>\\[\\newcommand{\\Bold}[1]{\\mathbf{#1}}6 \\, {\\left(x^{2} - 2\\right)} {\\left(3 \\, x + 1\\right)}^{2}\\]</html>"
      ],
      "text/latex": [
       "$$\\newcommand{\\Bold}[1]{\\mathbf{#1}}6 \\, {\\left(x^{2} - 2\\right)} {\\left(3 \\, x + 1\\right)}^{2}$$"
      ],
      "text/plain": [
       "6*(x^2 - 2)*(3*x + 1)^2"
      ]
     },
     "execution_count": 13,
     "metadata": {},
     "output_type": "execute_result"
    }
   ],
   "source": [
    "p = 54*x^4+36*x^3-102*x^2-72*x-12\n",
    "p.factor()"
   ]
  },
  {
   "cell_type": "code",
   "execution_count": 14,
   "metadata": {},
   "outputs": [
    {
     "name": "stdout",
     "output_type": "stream",
     "text": [
      "Integer Ring :\n",
      "2 * 3 * (3*x + 1)^2 * (x^2 - 2)\n",
      "Rational Field :\n",
      "(54) * (x + 1/3)^2 * (x^2 - 2)\n",
      "Complex Field with 16 bits of precision :\n",
      "(54.00) * (x - 1.414) * (x + 0.3333)^2 * (x + 1.414)\n",
      "Number Field in sqrt2 with defining polynomial x^2 - 2 with sqrt2 = 1.414213562373095? :\n",
      "(54) * (x - sqrt2) * (x + sqrt2) * (x + 1/3)^2\n",
      "Finite Field of size 5 :\n",
      "(4) * (x + 2)^2 * (x^2 + 3)\n"
     ]
    }
   ],
   "source": [
    "for K in [ZZ, QQ, ComplexField(16), QQ[sqrt(2)], GF(5)]:\n",
    "    print(K, \":\"); print(K['x'](p).factor())"
   ]
  },
  {
   "cell_type": "code",
   "execution_count": 15,
   "metadata": {},
   "outputs": [
    {
     "data": {
      "text/html": [
       "<html>\\[\\newcommand{\\Bold}[1]{\\mathbf{#1}}\\mathbf{JoinCategory}\\]</html>"
      ],
      "text/latex": [
       "$$\\newcommand{\\Bold}[1]{\\mathbf{#1}}\\mathbf{JoinCategory}$$"
      ],
      "text/plain": [
       "Join of Category of euclidean domains and Category of infinite enumerated sets and Category of metric spaces"
      ]
     },
     "execution_count": 15,
     "metadata": {},
     "output_type": "execute_result"
    }
   ],
   "source": [
    "ZZ.category()"
   ]
  },
  {
   "cell_type": "code",
   "execution_count": 16,
   "metadata": {},
   "outputs": [
    {
     "data": {
      "text/html": [
       "<html>\\[\\newcommand{\\Bold}[1]{\\mathbf{#1}}\\left[\\verb|AdditiveAssociative|, \\verb|AdditiveCommutative|, \\verb|AdditiveInverse|, \\verb|AdditiveUnital|, \\verb|Associative|, \\verb|Commutative|, \\verb|Distributive|, \\verb|Enumerated|, \\verb|Infinite|, \\verb|NoZeroDivisors|, \\verb|Unital|\\right]\\]</html>"
      ],
      "text/latex": [
       "$$\\newcommand{\\Bold}[1]{\\mathbf{#1}}\\left[\\verb|AdditiveAssociative|, \\verb|AdditiveCommutative|, \\verb|AdditiveInverse|, \\verb|AdditiveUnital|, \\verb|Associative|, \\verb|Commutative|, \\verb|Distributive|, \\verb|Enumerated|, \\verb|Infinite|, \\verb|NoZeroDivisors|, \\verb|Unital|\\right]$$"
      ],
      "text/plain": [
       "['AdditiveAssociative',\n",
       " 'AdditiveCommutative',\n",
       " 'AdditiveInverse',\n",
       " 'AdditiveUnital',\n",
       " 'Associative',\n",
       " 'Commutative',\n",
       " 'Distributive',\n",
       " 'Enumerated',\n",
       " 'Infinite',\n",
       " 'NoZeroDivisors',\n",
       " 'Unital']"
      ]
     },
     "execution_count": 16,
     "metadata": {},
     "output_type": "execute_result"
    }
   ],
   "source": [
    "sorted( ZZ.category().axioms() )"
   ]
  },
  {
   "cell_type": "markdown",
   "metadata": {},
   "source": [
    "### Linear algebra"
   ]
  },
  {
   "cell_type": "code",
   "execution_count": 17,
   "metadata": {},
   "outputs": [
    {
     "data": {
      "text/html": [
       "<html>\\[\\newcommand{\\Bold}[1]{\\mathbf{#1}}\\left(\\begin{array}{rrrr}\n",
       "5 & 5 & 4 & 3 \\\\\n",
       "0 & 3 & 3 & 4 \\\\\n",
       "0 & 1 & 5 & 4 \\\\\n",
       "6 & 0 & 6 & 3\n",
       "\\end{array}\\right)\\]</html>"
      ],
      "text/latex": [
       "$$\\newcommand{\\Bold}[1]{\\mathbf{#1}}\\left(\\begin{array}{rrrr}\n",
       "5 & 5 & 4 & 3 \\\\\n",
       "0 & 3 & 3 & 4 \\\\\n",
       "0 & 1 & 5 & 4 \\\\\n",
       "6 & 0 & 6 & 3\n",
       "\\end{array}\\right)$$"
      ],
      "text/plain": [
       "[5 5 4 3]\n",
       "[0 3 3 4]\n",
       "[0 1 5 4]\n",
       "[6 0 6 3]"
      ]
     },
     "execution_count": 17,
     "metadata": {},
     "output_type": "execute_result"
    }
   ],
   "source": [
    "A = matrix(GF(7), 4, [5,5,4,3,0,3,3,4,0,1,5,4,6,0,6,3]); A"
   ]
  },
  {
   "cell_type": "code",
   "execution_count": 18,
   "metadata": {},
   "outputs": [
    {
     "data": {
      "text/html": [
       "<html>\\[\\newcommand{\\Bold}[1]{\\mathbf{#1}}x^{4} + 5 x^{3} + 6 x + 2\\]</html>"
      ],
      "text/latex": [
       "$$\\newcommand{\\Bold}[1]{\\mathbf{#1}}x^{4} + 5 x^{3} + 6 x + 2$$"
      ],
      "text/plain": [
       "x^4 + 5*x^3 + 6*x + 2"
      ]
     },
     "execution_count": 18,
     "metadata": {},
     "output_type": "execute_result"
    }
   ],
   "source": [
    "P = A.characteristic_polynomial(); P"
   ]
  },
  {
   "cell_type": "code",
   "execution_count": 19,
   "metadata": {},
   "outputs": [
    {
     "data": {
      "text/html": [
       "<html>\\[\\newcommand{\\Bold}[1]{\\mathbf{#1}}\\left(\\begin{array}{rrrr}\n",
       "0 & 0 & 0 & 0 \\\\\n",
       "0 & 0 & 0 & 0 \\\\\n",
       "0 & 0 & 0 & 0 \\\\\n",
       "0 & 0 & 0 & 0\n",
       "\\end{array}\\right)\\]</html>"
      ],
      "text/latex": [
       "$$\\newcommand{\\Bold}[1]{\\mathbf{#1}}\\left(\\begin{array}{rrrr}\n",
       "0 & 0 & 0 & 0 \\\\\n",
       "0 & 0 & 0 & 0 \\\\\n",
       "0 & 0 & 0 & 0 \\\\\n",
       "0 & 0 & 0 & 0\n",
       "\\end{array}\\right)$$"
      ],
      "text/plain": [
       "[0 0 0 0]\n",
       "[0 0 0 0]\n",
       "[0 0 0 0]\n",
       "[0 0 0 0]"
      ]
     },
     "execution_count": 19,
     "metadata": {},
     "output_type": "execute_result"
    }
   ],
   "source": [
    "P(A)"
   ]
  },
  {
   "cell_type": "code",
   "execution_count": 20,
   "metadata": {},
   "outputs": [
    {
     "data": {
      "text/html": [
       "<html>\\[\\newcommand{\\Bold}[1]{\\mathbf{#1}}\\left[\\left(4, \\mathrm{RowSpan}_{\\Bold{F}_{7}}\\left(\\begin{array}{rrrr}\n",
       "1 & 4 & 6 & 1\n",
       "\\end{array}\\right)\\right), \\left(1, \\mathrm{RowSpan}_{\\Bold{F}_{7}}\\left(\\begin{array}{rrrr}\n",
       "1 & 3 & 3 & 4\n",
       "\\end{array}\\right)\\right), \\left(2, \\mathrm{RowSpan}_{\\Bold{F}_{7}}\\left(\\begin{array}{rrrr}\n",
       "1 & 0 & 2 & 3 \\\\\n",
       "0 & 1 & 6 & 0\n",
       "\\end{array}\\right)\\right)\\right]\\]</html>"
      ],
      "text/latex": [
       "$$\\newcommand{\\Bold}[1]{\\mathbf{#1}}\\left[\\left(4, \\mathrm{RowSpan}_{\\Bold{F}_{7}}\\left(\\begin{array}{rrrr}\n",
       "1 & 4 & 6 & 1\n",
       "\\end{array}\\right)\\right), \\left(1, \\mathrm{RowSpan}_{\\Bold{F}_{7}}\\left(\\begin{array}{rrrr}\n",
       "1 & 3 & 3 & 4\n",
       "\\end{array}\\right)\\right), \\left(2, \\mathrm{RowSpan}_{\\Bold{F}_{7}}\\left(\\begin{array}{rrrr}\n",
       "1 & 0 & 2 & 3 \\\\\n",
       "0 & 1 & 6 & 0\n",
       "\\end{array}\\right)\\right)\\right]$$"
      ],
      "text/plain": [
       "[\n",
       "(4, Vector space of degree 4 and dimension 1 over Finite Field of size 7\n",
       "User basis matrix:\n",
       "[1 4 6 1]),\n",
       "(1, Vector space of degree 4 and dimension 1 over Finite Field of size 7\n",
       "User basis matrix:\n",
       "[1 3 3 4]),\n",
       "(2, Vector space of degree 4 and dimension 2 over Finite Field of size 7\n",
       "User basis matrix:\n",
       "[1 0 2 3]\n",
       "[0 1 6 0])\n",
       "]"
      ]
     },
     "execution_count": 20,
     "metadata": {},
     "output_type": "execute_result"
    }
   ],
   "source": [
    "A.eigenspaces_left()"
   ]
  },
  {
   "cell_type": "markdown",
   "metadata": {},
   "source": [
    "Computing the rank of a large sparse matrix:"
   ]
  },
  {
   "cell_type": "code",
   "execution_count": 21,
   "metadata": {},
   "outputs": [
    {
     "data": {
      "text/html": [
       "<html>\\[\\newcommand{\\Bold}[1]{\\mathbf{#1}}9233\\]</html>"
      ],
      "text/latex": [
       "$$\\newcommand{\\Bold}[1]{\\mathbf{#1}}9233$$"
      ],
      "text/plain": [
       "9233"
      ]
     },
     "execution_count": 21,
     "metadata": {},
     "output_type": "execute_result"
    }
   ],
   "source": [
    "M = random_matrix(GF(7), 10000, sparse=True, density=3/10000)\n",
    "M.rank()"
   ]
  },
  {
   "cell_type": "markdown",
   "metadata": {},
   "source": [
    "### Geometry"
   ]
  },
  {
   "cell_type": "code",
   "execution_count": 22,
   "metadata": {},
   "outputs": [
    {
     "data": {
      "text/html": [
       "\n",
       "<iframe srcdoc=\"<!DOCTYPE html>\n",
       "<html>\n",
       "<head>\n",
       "<title></title>\n",
       "<meta charset=&quot;utf-8&quot;>\n",
       "<meta name=viewport content=&quot;width=device-width, user-scalable=no, minimum-scale=1.0, maximum-scale=1.0&quot;>\n",
       "<style>\n",
       "\n",
       "    body { margin: 0px; overflow: hidden; }\n",
       "\n",
       "    #menu-container { position: absolute; bottom: 30px; right: 40px; cursor: default; }\n",
       "\n",
       "    #menu-message { position: absolute; bottom: 0px; right: 0px; white-space: nowrap;\n",
       "                    display: none; background-color: #F5F5F5; padding: 10px; }\n",
       "\n",
       "    #menu-content { position: absolute; bottom: 0px; right: 0px;\n",
       "                    display: none; background-color: #F5F5F5; border-bottom: 1px solid black;\n",
       "                    border-right: 1px solid black; border-left: 1px solid black; }\n",
       "\n",
       "    #menu-content div { border-top: 1px solid black; padding: 10px; white-space: nowrap; }\n",
       "\n",
       "    #menu-content div:hover { background-color: #FEFEFE; }\n",
       "\n",
       "    .dark-theme #menu-container { color: white; }\n",
       "\n",
       "    .dark-theme #menu-message { background-color: #181818; }\n",
       "\n",
       "    .dark-theme #menu-content { background-color: #181818; border-color: white; }\n",
       "\n",
       "    .dark-theme #menu-content div { border-color: white; }\n",
       "\n",
       "    .dark-theme #menu-content div:hover { background-color: #303030; }\n",
       "\n",
       "</style>\n",
       "\n",
       "</head>\n",
       "\n",
       "<body>\n",
       "\n",
       "<script src=&quot;/nbextensions/threejs-sage/r122/three.min.js&quot;></script>\n",
       "<script>\n",
       "  if ( !window.THREE ) document.write(' \\\n",
       "<script src=&quot;https://cdn.jsdelivr.net/gh/sagemath/threejs-sage@r122/build/three.min.js&quot;><\\/script> \\\n",
       "            ');\n",
       "</script>\n",
       "        \n",
       "<script>\n",
       "\n",
       "    var options = {&quot;animate&quot;: false, &quot;animationControls&quot;: true, &quot;aspectRatio&quot;: [1.0, 1.0, 1.0], &quot;autoPlay&quot;: true, &quot;axes&quot;: false, &quot;axesLabels&quot;: [&quot;x&quot;, &quot;y&quot;, &quot;z&quot;], &quot;axesLabelsStyle&quot;: null, &quot;decimals&quot;: 2, &quot;delay&quot;: 20, &quot;frame&quot;: true, &quot;loop&quot;: true, &quot;projection&quot;: &quot;perspective&quot;, &quot;theme&quot;: &quot;light&quot;, &quot;viewpoint&quot;: false};\n",
       "    var animate = options.animate;\n",
       "\n",
       "    if ( options.theme === 'dark' )\n",
       "        document.body.className = 'dark-theme';\n",
       "\n",
       "    var scene = new THREE.Scene();\n",
       "\n",
       "    var renderer = new THREE.WebGLRenderer( { antialias: true, preserveDrawingBuffer: true } );\n",
       "    renderer.setPixelRatio( window.devicePixelRatio );\n",
       "    renderer.setSize( window.innerWidth, window.innerHeight );\n",
       "    renderer.setClearColor( options.theme === 'dark' ? 0 : 0xffffff, 1 );\n",
       "    document.body.appendChild( renderer.domElement );\n",
       "\n",
       "    var b = [{&quot;x&quot;:-4.618033988749895, &quot;y&quot;:-4.618033988749895, &quot;z&quot;:-4.618033988749895}, {&quot;x&quot;:4.618033988749895, &quot;y&quot;:4.618033988749895, &quot;z&quot;:4.618033988749895}]; // bounds\n",
       "\n",
       "    if ( b[0].x === b[1].x ) {\n",
       "        b[0].x -= 1;\n",
       "        b[1].x += 1;\n",
       "    }\n",
       "    if ( b[0].y === b[1].y ) {\n",
       "        b[0].y -= 1;\n",
       "        b[1].y += 1;\n",
       "    }\n",
       "    if ( b[0].z === b[1].z ) {\n",
       "        b[0].z -= 1;\n",
       "        b[1].z += 1;\n",
       "    }\n",
       "\n",
       "    var rRange = Math.sqrt( Math.pow( b[1].x - b[0].x, 2 )\n",
       "                            + Math.pow( b[1].y - b[0].y, 2 ) );\n",
       "    var xRange = b[1].x - b[0].x;\n",
       "    var yRange = b[1].y - b[0].y;\n",
       "    var zRange = b[1].z - b[0].z;\n",
       "\n",
       "    var ar = options.aspectRatio;\n",
       "    var a = [ ar[0], ar[1], ar[2] ]; // aspect multipliers\n",
       "    var autoAspect = 2.5;\n",
       "    if ( zRange > autoAspect * rRange && a[2] === 1 ) a[2] = autoAspect * rRange / zRange;\n",
       "\n",
       "    // Distance from (xMid,yMid,zMid) to any corner of the bounding box, after applying aspectRatio\n",
       "    var midToCorner = Math.sqrt( a[0]*a[0]*xRange*xRange + a[1]*a[1]*yRange*yRange + a[2]*a[2]*zRange*zRange ) / 2;\n",
       "\n",
       "    var xMid = ( b[0].x + b[1].x ) / 2;\n",
       "    var yMid = ( b[0].y + b[1].y ) / 2;\n",
       "    var zMid = ( b[0].z + b[1].z ) / 2;\n",
       "\n",
       "    var box = new THREE.Geometry();\n",
       "    box.vertices.push( new THREE.Vector3( a[0]*b[0].x, a[1]*b[0].y, a[2]*b[0].z ) );\n",
       "    box.vertices.push( new THREE.Vector3( a[0]*b[1].x, a[1]*b[1].y, a[2]*b[1].z ) );\n",
       "    var boxMesh = new THREE.Line( box );\n",
       "    var boxColor = options.theme === 'dark' ? 'white' : 'black';\n",
       "    if ( options.frame ) scene.add( new THREE.BoxHelper( boxMesh, boxColor ) );\n",
       "\n",
       "    if ( options.axesLabels ) {\n",
       "\n",
       "        var d = options.decimals; // decimals\n",
       "        var offsetRatio = 0.1;\n",
       "        var al = options.axesLabels;\n",
       "        var als = options.axesLabelsStyle || [{}, {}, {}];\n",
       "\n",
       "        var offset = offsetRatio * a[1]*( b[1].y - b[0].y );\n",
       "        var xm = xMid.toFixed(d);\n",
       "        if ( /^-0.?0*$/.test(xm) ) xm = xm.substr(1);\n",
       "        addLabel( al[0] + '=' + xm, a[0]*xMid, a[1]*b[1].y+offset, a[2]*b[0].z, als[0] );\n",
       "        addLabel( ( b[0].x ).toFixed(d), a[0]*b[0].x, a[1]*b[1].y+offset, a[2]*b[0].z, als[0] );\n",
       "        addLabel( ( b[1].x ).toFixed(d), a[0]*b[1].x, a[1]*b[1].y+offset, a[2]*b[0].z, als[0] );\n",
       "\n",
       "        var offset = offsetRatio * a[0]*( b[1].x - b[0].x );\n",
       "        var ym = yMid.toFixed(d);\n",
       "        if ( /^-0.?0*$/.test(ym) ) ym = ym.substr(1);\n",
       "        addLabel( al[1] + '=' + ym, a[0]*b[1].x+offset, a[1]*yMid, a[2]*b[0].z, als[1] );\n",
       "        addLabel( ( b[0].y ).toFixed(d), a[0]*b[1].x+offset, a[1]*b[0].y, a[2]*b[0].z, als[1] );\n",
       "        addLabel( ( b[1].y ).toFixed(d), a[0]*b[1].x+offset, a[1]*b[1].y, a[2]*b[0].z, als[1] );\n",
       "\n",
       "        var offset = offsetRatio * a[1]*( b[1].y - b[0].y );\n",
       "        var zm = zMid.toFixed(d);\n",
       "        if ( /^-0.?0*$/.test(zm) ) zm = zm.substr(1);\n",
       "        addLabel( al[2] + '=' + zm, a[0]*b[1].x, a[1]*b[0].y-offset, a[2]*zMid, als[2] );\n",
       "        addLabel( ( b[0].z ).toFixed(d), a[0]*b[1].x, a[1]*b[0].y-offset, a[2]*b[0].z, als[2] );\n",
       "        addLabel( ( b[1].z ).toFixed(d), a[0]*b[1].x, a[1]*b[0].y-offset, a[2]*b[1].z, als[2] );\n",
       "\n",
       "    }\n",
       "\n",
       "    function addLabel( text, x, y, z, style ) {\n",
       "\n",
       "        var color = style.color || 'black';\n",
       "        var fontSize = style.fontSize || 14;\n",
       "        var fontFamily = style.fontFamily || 'monospace';\n",
       "        var fontStyle = style.fontStyle || 'normal';\n",
       "        var fontWeight = style.fontWeight || 'normal';\n",
       "        var opacity = style.opacity || 1;\n",
       "\n",
       "        if ( options.theme === 'dark' )\n",
       "            if ( color === 'black' || color === '#000000' )\n",
       "                color = 'white';\n",
       "\n",
       "        if ( Array.isArray( fontStyle ) ) {\n",
       "            fontFamily = fontFamily.map( function( f ) {\n",
       "                // Need to put quotes around fonts that have whitespace in their names.\n",
       "                return /\\s/.test( f ) ? '&quot;' + f + '&quot;' : f;\n",
       "            }).join(', ');\n",
       "        }\n",
       "\n",
       "        var canvas = document.createElement( 'canvas' );\n",
       "        var context = canvas.getContext( '2d' );\n",
       "        var pixelRatio = Math.round( window.devicePixelRatio );\n",
       "\n",
       "        // For example: italic bold 20px &quot;Times New Roman&quot;, Georgia, serif\n",
       "        var font = [fontStyle, fontWeight, fontSize + 'px', fontFamily].join(' ');\n",
       "\n",
       "        context.font = font;\n",
       "        var width = context.measureText( text ).width;\n",
       "        var height = fontSize;\n",
       "\n",
       "        // The dimensions of the canvas's underlying image data need to be powers\n",
       "        // of two in order for the resulting texture to support mipmapping.\n",
       "        canvas.width = THREE.MathUtils.ceilPowerOfTwo( width * pixelRatio );\n",
       "        canvas.height = THREE.MathUtils.ceilPowerOfTwo( height * pixelRatio );\n",
       "\n",
       "        // Re-compute the unscaled dimensions after the power of two conversion.\n",
       "        width = canvas.width / pixelRatio;\n",
       "        height = canvas.height / pixelRatio;\n",
       "\n",
       "        canvas.style.width = width + 'px';\n",
       "        canvas.style.height = height + 'px';\n",
       "\n",
       "        context.scale( pixelRatio, pixelRatio );\n",
       "        context.fillStyle = color;\n",
       "        context.font = font; // Must be set again after measureText.\n",
       "        context.textAlign = 'center';\n",
       "        context.textBaseline = 'middle';\n",
       "        context.fillText( text, width/2, height/2 );\n",
       "\n",
       "        var texture = new THREE.Texture( canvas );\n",
       "        texture.needsUpdate = true;\n",
       "\n",
       "        var materialOptions = { map: texture, sizeAttenuation: false, depthWrite: false };\n",
       "        if ( opacity < 1 ) {\n",
       "            // Setting opacity=1 would cause the texture's alpha component to be\n",
       "            // discarded, giving the text a black background instead of the\n",
       "            // background being transparent.\n",
       "            materialOptions.opacity = opacity;\n",
       "        }\n",
       "        var sprite = new THREE.Sprite( new THREE.SpriteMaterial( materialOptions ) );\n",
       "        sprite.position.set( x, y, z );\n",
       "\n",
       "        // Scaling factor, chosen somewhat arbitrarily so that the size of the text\n",
       "        // is consistent with previously generated plots.\n",
       "        var scale = 1/625;\n",
       "        if ( options.projection === 'orthographic' ) {\n",
       "            scale = midToCorner/256; // Needs to scale along with the plot itself.\n",
       "        }\n",
       "        sprite.scale.set( scale * width, scale * height, 1 );\n",
       "\n",
       "        scene.add( sprite );\n",
       "\n",
       "        return sprite;\n",
       "\n",
       "    }\n",
       "\n",
       "    if ( options.axes ) scene.add( new THREE.AxesHelper( Math.min( a[0]*b[1].x, a[1]*b[1].y, a[2]*b[1].z ) ) );\n",
       "\n",
       "    var camera = createCamera();\n",
       "    camera.up.set( 0, 0, 1 );\n",
       "    camera.position.set( a[0]*xMid, a[1]*yMid, a[2]*zMid );\n",
       "\n",
       "    var offset = new THREE.Vector3( a[0]*xRange, a[1]*yRange, a[2]*zRange );\n",
       "\n",
       "    if ( options.viewpoint ) {\n",
       "\n",
       "        var aa = options.viewpoint;\n",
       "        var axis = new THREE.Vector3( aa[0][0], aa[0][1], aa[0][2] ).normalize();\n",
       "        var angle = aa[1] * Math.PI / 180;\n",
       "        var q = new THREE.Quaternion().setFromAxisAngle( axis, angle ).inverse();\n",
       "\n",
       "        offset.set( 0, 0, offset.length() );\n",
       "        offset.applyQuaternion( q );\n",
       "\n",
       "    }\n",
       "\n",
       "    camera.position.add( offset );\n",
       "\n",
       "    function createCamera() {\n",
       "\n",
       "        var aspect = window.innerWidth / window.innerHeight;\n",
       "\n",
       "        // Scale the near and far clipping planes along with the overall plot size.\n",
       "        var nearClip = 0.01 * midToCorner;\n",
       "        var farClip = 100 * midToCorner;\n",
       "\n",
       "        if ( options.projection === 'orthographic' ) {\n",
       "            var camera = new THREE.OrthographicCamera( -1, 1, 1, -1, -farClip, farClip );\n",
       "            updateCameraAspect( camera, aspect );\n",
       "            return camera;\n",
       "        }\n",
       "\n",
       "        return new THREE.PerspectiveCamera( 45, aspect, nearClip, farClip );\n",
       "\n",
       "    }\n",
       "\n",
       "    function updateCameraAspect( camera, aspect ) {\n",
       "\n",
       "        if ( camera.isPerspectiveCamera ) {\n",
       "            camera.aspect = aspect;\n",
       "        } else if ( camera.isOrthographicCamera ) {\n",
       "            // Fit the camera frustum to the bounding box's diagonal so that the entire plot fits\n",
       "            // within at the default zoom level and camera position.\n",
       "            if ( aspect > 1 ) { // Wide window\n",
       "                camera.top = midToCorner;\n",
       "                camera.right = midToCorner * aspect;\n",
       "            } else { // Tall or square window\n",
       "                camera.top = midToCorner / aspect;\n",
       "                camera.right = midToCorner;\n",
       "            }\n",
       "            camera.bottom = -camera.top;\n",
       "            camera.left = -camera.right;\n",
       "        }\n",
       "\n",
       "        camera.updateProjectionMatrix();\n",
       "\n",
       "    }\n",
       "\n",
       "    var lights = [{&quot;x&quot;:-5, &quot;y&quot;:3, &quot;z&quot;:0, &quot;color&quot;:&quot;#7f7f7f&quot;, &quot;parent&quot;:&quot;camera&quot;}];\n",
       "    for ( var i=0 ; i < lights.length ; i++ ) {\n",
       "        var light = new THREE.DirectionalLight( lights[i].color, 1 );\n",
       "        light.position.set( a[0]*lights[i].x, a[1]*lights[i].y, a[2]*lights[i].z );\n",
       "        if ( lights[i].parent === 'camera' ) {\n",
       "            light.target.position.set( a[0]*xMid, a[1]*yMid, a[2]*zMid );\n",
       "            scene.add( light.target );\n",
       "            camera.add( light );\n",
       "        } else scene.add( light );\n",
       "    }\n",
       "    scene.add( camera );\n",
       "\n",
       "    var ambient = {&quot;color&quot;:&quot;#7f7f7f&quot;};\n",
       "    scene.add( new THREE.AmbientLight( ambient.color, 1 ) );\n",
       "\n",
       "    var controls = new THREE.OrbitControls( camera, renderer.domElement );\n",
       "    controls.target.set( a[0]*xMid, a[1]*yMid, a[2]*zMid );\n",
       "    controls.addEventListener( 'change', function() { if ( !animate ) render(); } );\n",
       "\n",
       "    window.addEventListener( 'resize', function() {\n",
       "\n",
       "        renderer.setSize( window.innerWidth, window.innerHeight );\n",
       "        updateCameraAspect( camera, window.innerWidth / window.innerHeight );\n",
       "        if ( window.rescaleFatLines ) rescaleFatLines();\n",
       "        if ( !animate ) render();\n",
       "\n",
       "    } );\n",
       "\n",
       "    var texts = [];\n",
       "    for ( var i=0 ; i < texts.length ; i++ ) addText( texts[i] );\n",
       "\n",
       "    function addText( json ) {\n",
       "        var sprite = addLabel( json.text, a[0]*json.x, a[1]*json.y, a[2]*json.z, json );\n",
       "        sprite.userData = json;\n",
       "    }\n",
       "\n",
       "    var points = [{&quot;point&quot;: [0.6180339887498949, 2.618033988749895, 3.8541019662496847], &quot;size&quot;: 5.0, &quot;color&quot;: &quot;#0000ff&quot;, &quot;opacity&quot;: 1.0}, {&quot;point&quot;: [-0.6180339887498949, 2.618033988749895, 3.8541019662496847], &quot;size&quot;: 5.0, &quot;color&quot;: &quot;#0000ff&quot;, &quot;opacity&quot;: 1.0}, {&quot;point&quot;: [0.6180339887498949, 4.618033988749895, 0.6180339887498949], &quot;size&quot;: 5.0, &quot;color&quot;: &quot;#0000ff&quot;, &quot;opacity&quot;: 1.0}, {&quot;point&quot;: [-0.6180339887498949, 4.618033988749895, 0.6180339887498949], &quot;size&quot;: 5.0, &quot;color&quot;: &quot;#0000ff&quot;, &quot;opacity&quot;: 1.0}, {&quot;point&quot;: [0.6180339887498949, -2.618033988749895, 3.8541019662496847], &quot;size&quot;: 5.0, &quot;color&quot;: &quot;#0000ff&quot;, &quot;opacity&quot;: 1.0}, {&quot;point&quot;: [-0.6180339887498949, -2.618033988749895, 3.8541019662496847], &quot;size&quot;: 5.0, &quot;color&quot;: &quot;#0000ff&quot;, &quot;opacity&quot;: 1.0}, {&quot;point&quot;: [0.6180339887498949, -4.618033988749895, 0.6180339887498949], &quot;size&quot;: 5.0, &quot;color&quot;: &quot;#0000ff&quot;, &quot;opacity&quot;: 1.0}, {&quot;point&quot;: [-0.6180339887498949, -4.618033988749895, 0.6180339887498949], &quot;size&quot;: 5.0, &quot;color&quot;: &quot;#0000ff&quot;, &quot;opacity&quot;: 1.0}, {&quot;point&quot;: [0.6180339887498949, 2.618033988749895, -3.8541019662496847], &quot;size&quot;: 5.0, &quot;color&quot;: &quot;#0000ff&quot;, &quot;opacity&quot;: 1.0}, {&quot;point&quot;: [-0.6180339887498949, 2.618033988749895, -3.8541019662496847], &quot;size&quot;: 5.0, &quot;color&quot;: &quot;#0000ff&quot;, &quot;opacity&quot;: 1.0}, {&quot;point&quot;: [0.6180339887498949, 4.618033988749895, -0.6180339887498949], &quot;size&quot;: 5.0, &quot;color&quot;: &quot;#0000ff&quot;, &quot;opacity&quot;: 1.0}, {&quot;point&quot;: [-0.6180339887498949, 4.618033988749895, -0.6180339887498949], &quot;size&quot;: 5.0, &quot;color&quot;: &quot;#0000ff&quot;, &quot;opacity&quot;: 1.0}, {&quot;point&quot;: [0.6180339887498949, -2.618033988749895, -3.8541019662496847], &quot;size&quot;: 5.0, &quot;color&quot;: &quot;#0000ff&quot;, &quot;opacity&quot;: 1.0}, {&quot;point&quot;: [-0.6180339887498949, -2.618033988749895, -3.8541019662496847], &quot;size&quot;: 5.0, &quot;color&quot;: &quot;#0000ff&quot;, &quot;opacity&quot;: 1.0}, {&quot;point&quot;: [0.6180339887498949, -4.618033988749895, -0.6180339887498949], &quot;size&quot;: 5.0, &quot;color&quot;: &quot;#0000ff&quot;, &quot;opacity&quot;: 1.0}, {&quot;point&quot;: [-0.6180339887498949, -4.618033988749895, -0.6180339887498949], &quot;size&quot;: 5.0, &quot;color&quot;: &quot;#0000ff&quot;, &quot;opacity&quot;: 1.0}, {&quot;point&quot;: [1.618033988749895, 4.23606797749979, 1.2360679774997898], &quot;size&quot;: 5.0, &quot;color&quot;: &quot;#0000ff&quot;, &quot;opacity&quot;: 1.0}, {&quot;point&quot;: [1.618033988749895, -4.23606797749979, 1.2360679774997898], &quot;size&quot;: 5.0, &quot;color&quot;: &quot;#0000ff&quot;, &quot;opacity&quot;: 1.0}, {&quot;point&quot;: [-1.618033988749895, 4.23606797749979, 1.2360679774997898], &quot;size&quot;: 5.0, &quot;color&quot;: &quot;#0000ff&quot;, &quot;opacity&quot;: 1.0}, {&quot;point&quot;: [-1.618033988749895, -4.23606797749979, 1.2360679774997898], &quot;size&quot;: 5.0, &quot;color&quot;: &quot;#0000ff&quot;, &quot;opacity&quot;: 1.0}, {&quot;point&quot;: [1.618033988749895, 4.23606797749979, -1.2360679774997898], &quot;size&quot;: 5.0, &quot;color&quot;: &quot;#0000ff&quot;, &quot;opacity&quot;: 1.0}, {&quot;point&quot;: [1.618033988749895, -4.23606797749979, -1.2360679774997898], &quot;size&quot;: 5.0, &quot;color&quot;: &quot;#0000ff&quot;, &quot;opacity&quot;: 1.0}, {&quot;point&quot;: [-1.618033988749895, 4.23606797749979, -1.2360679774997898], &quot;size&quot;: 5.0, &quot;color&quot;: &quot;#0000ff&quot;, &quot;opacity&quot;: 1.0}, {&quot;point&quot;: [-1.618033988749895, -4.23606797749979, -1.2360679774997898], &quot;size&quot;: 5.0, &quot;color&quot;: &quot;#0000ff&quot;, &quot;opacity&quot;: 1.0}, {&quot;point&quot;: [2.618033988749895, 3.8541019662496847, 0.6180339887498949], &quot;size&quot;: 5.0, &quot;color&quot;: &quot;#0000ff&quot;, &quot;opacity&quot;: 1.0}, {&quot;point&quot;: [2.618033988749895, 3.8541019662496847, -0.6180339887498949], &quot;size&quot;: 5.0, &quot;color&quot;: &quot;#0000ff&quot;, &quot;opacity&quot;: 1.0}, {&quot;point&quot;: [4.618033988749895, 0.6180339887498949, 0.6180339887498949], &quot;size&quot;: 5.0, &quot;color&quot;: &quot;#0000ff&quot;, &quot;opacity&quot;: 1.0}, {&quot;point&quot;: [4.618033988749895, 0.6180339887498949, -0.6180339887498949], &quot;size&quot;: 5.0, &quot;color&quot;: &quot;#0000ff&quot;, &quot;opacity&quot;: 1.0}, {&quot;point&quot;: [-2.618033988749895, 3.8541019662496847, 0.6180339887498949], &quot;size&quot;: 5.0, &quot;color&quot;: &quot;#0000ff&quot;, &quot;opacity&quot;: 1.0}, {&quot;point&quot;: [-2.618033988749895, 3.8541019662496847, -0.6180339887498949], &quot;size&quot;: 5.0, &quot;color&quot;: &quot;#0000ff&quot;, &quot;opacity&quot;: 1.0}, {&quot;point&quot;: [-4.618033988749895, 0.6180339887498949, 0.6180339887498949], &quot;size&quot;: 5.0, &quot;color&quot;: &quot;#0000ff&quot;, &quot;opacity&quot;: 1.0}, {&quot;point&quot;: [-4.618033988749895, 0.6180339887498949, -0.6180339887498949], &quot;size&quot;: 5.0, &quot;color&quot;: &quot;#0000ff&quot;, &quot;opacity&quot;: 1.0}, {&quot;point&quot;: [2.618033988749895, -3.8541019662496847, 0.6180339887498949], &quot;size&quot;: 5.0, &quot;color&quot;: &quot;#0000ff&quot;, &quot;opacity&quot;: 1.0}, {&quot;point&quot;: [2.618033988749895, -3.8541019662496847, -0.6180339887498949], &quot;size&quot;: 5.0, &quot;color&quot;: &quot;#0000ff&quot;, &quot;opacity&quot;: 1.0}, {&quot;point&quot;: [4.618033988749895, -0.6180339887498949, 0.6180339887498949], &quot;size&quot;: 5.0, &quot;color&quot;: &quot;#0000ff&quot;, &quot;opacity&quot;: 1.0}, {&quot;point&quot;: [4.618033988749895, -0.6180339887498949, -0.6180339887498949], &quot;size&quot;: 5.0, &quot;color&quot;: &quot;#0000ff&quot;, &quot;opacity&quot;: 1.0}, {&quot;point&quot;: [-2.618033988749895, -3.8541019662496847, 0.6180339887498949], &quot;size&quot;: 5.0, &quot;color&quot;: &quot;#0000ff&quot;, &quot;opacity&quot;: 1.0}, {&quot;point&quot;: [-2.618033988749895, -3.8541019662496847, -0.6180339887498949], &quot;size&quot;: 5.0, &quot;color&quot;: &quot;#0000ff&quot;, &quot;opacity&quot;: 1.0}, {&quot;point&quot;: [-4.618033988749895, -0.6180339887498949, 0.6180339887498949], &quot;size&quot;: 5.0, &quot;color&quot;: &quot;#0000ff&quot;, &quot;opacity&quot;: 1.0}, {&quot;point&quot;: [-4.618033988749895, -0.6180339887498949, -0.6180339887498949], &quot;size&quot;: 5.0, &quot;color&quot;: &quot;#0000ff&quot;, &quot;opacity&quot;: 1.0}, {&quot;point&quot;: [1.618033988749895, 3.0, 3.23606797749979], &quot;size&quot;: 5.0, &quot;color&quot;: &quot;#0000ff&quot;, &quot;opacity&quot;: 1.0}, {&quot;point&quot;: [2.0, 3.618033988749895, 2.23606797749979], &quot;size&quot;: 5.0, &quot;color&quot;: &quot;#0000ff&quot;, &quot;opacity&quot;: 1.0}, {&quot;point&quot;: [3.0, 3.23606797749979, 1.618033988749895], &quot;size&quot;: 5.0, &quot;color&quot;: &quot;#0000ff&quot;, &quot;opacity&quot;: 1.0}, {&quot;point&quot;: [4.23606797749979, 1.2360679774997898, 1.618033988749895], &quot;size&quot;: 5.0, &quot;color&quot;: &quot;#0000ff&quot;, &quot;opacity&quot;: 1.0}, {&quot;point&quot;: [3.618033988749895, 2.23606797749979, 2.0], &quot;size&quot;: 5.0, &quot;color&quot;: &quot;#0000ff&quot;, &quot;opacity&quot;: 1.0}, {&quot;point&quot;: [-1.618033988749895, 3.0, 3.23606797749979], &quot;size&quot;: 5.0, &quot;color&quot;: &quot;#0000ff&quot;, &quot;opacity&quot;: 1.0}, {&quot;point&quot;: [-2.0, 3.618033988749895, 2.23606797749979], &quot;size&quot;: 5.0, &quot;color&quot;: &quot;#0000ff&quot;, &quot;opacity&quot;: 1.0}, {&quot;point&quot;: [-3.0, 3.23606797749979, 1.618033988749895], &quot;size&quot;: 5.0, &quot;color&quot;: &quot;#0000ff&quot;, &quot;opacity&quot;: 1.0}, {&quot;point&quot;: [-4.23606797749979, 1.2360679774997898, 1.618033988749895], &quot;size&quot;: 5.0, &quot;color&quot;: &quot;#0000ff&quot;, &quot;opacity&quot;: 1.0}, {&quot;point&quot;: [-3.618033988749895, 2.23606797749979, 2.0], &quot;size&quot;: 5.0, &quot;color&quot;: &quot;#0000ff&quot;, &quot;opacity&quot;: 1.0}, {&quot;point&quot;: [1.618033988749895, 3.0, -3.23606797749979], &quot;size&quot;: 5.0, &quot;color&quot;: &quot;#0000ff&quot;, &quot;opacity&quot;: 1.0}, {&quot;point&quot;: [2.0, 3.618033988749895, -2.23606797749979], &quot;size&quot;: 5.0, &quot;color&quot;: &quot;#0000ff&quot;, &quot;opacity&quot;: 1.0}, {&quot;point&quot;: [3.0, 3.23606797749979, -1.618033988749895], &quot;size&quot;: 5.0, &quot;color&quot;: &quot;#0000ff&quot;, &quot;opacity&quot;: 1.0}, {&quot;point&quot;: [4.23606797749979, 1.2360679774997898, -1.618033988749895], &quot;size&quot;: 5.0, &quot;color&quot;: &quot;#0000ff&quot;, &quot;opacity&quot;: 1.0}, {&quot;point&quot;: [3.618033988749895, 2.23606797749979, -2.0], &quot;size&quot;: 5.0, &quot;color&quot;: &quot;#0000ff&quot;, &quot;opacity&quot;: 1.0}, {&quot;point&quot;: [-1.618033988749895, 3.0, -3.23606797749979], &quot;size&quot;: 5.0, &quot;color&quot;: &quot;#0000ff&quot;, &quot;opacity&quot;: 1.0}, {&quot;point&quot;: [-2.0, 3.618033988749895, -2.23606797749979], &quot;size&quot;: 5.0, &quot;color&quot;: &quot;#0000ff&quot;, &quot;opacity&quot;: 1.0}, {&quot;point&quot;: [-3.0, 3.23606797749979, -1.618033988749895], &quot;size&quot;: 5.0, &quot;color&quot;: &quot;#0000ff&quot;, &quot;opacity&quot;: 1.0}, {&quot;point&quot;: [-4.23606797749979, 1.2360679774997898, -1.618033988749895], &quot;size&quot;: 5.0, &quot;color&quot;: &quot;#0000ff&quot;, &quot;opacity&quot;: 1.0}, {&quot;point&quot;: [-3.618033988749895, 2.23606797749979, -2.0], &quot;size&quot;: 5.0, &quot;color&quot;: &quot;#0000ff&quot;, &quot;opacity&quot;: 1.0}, {&quot;point&quot;: [1.618033988749895, -3.0, 3.23606797749979], &quot;size&quot;: 5.0, &quot;color&quot;: &quot;#0000ff&quot;, &quot;opacity&quot;: 1.0}, {&quot;point&quot;: [2.0, -3.618033988749895, 2.23606797749979], &quot;size&quot;: 5.0, &quot;color&quot;: &quot;#0000ff&quot;, &quot;opacity&quot;: 1.0}, {&quot;point&quot;: [3.0, -3.23606797749979, 1.618033988749895], &quot;size&quot;: 5.0, &quot;color&quot;: &quot;#0000ff&quot;, &quot;opacity&quot;: 1.0}, {&quot;point&quot;: [4.23606797749979, -1.2360679774997898, 1.618033988749895], &quot;size&quot;: 5.0, &quot;color&quot;: &quot;#0000ff&quot;, &quot;opacity&quot;: 1.0}, {&quot;point&quot;: [3.618033988749895, -2.23606797749979, 2.0], &quot;size&quot;: 5.0, &quot;color&quot;: &quot;#0000ff&quot;, &quot;opacity&quot;: 1.0}, {&quot;point&quot;: [0.6180339887498949, 0.6180339887498949, 4.618033988749895], &quot;size&quot;: 5.0, &quot;color&quot;: &quot;#0000ff&quot;, &quot;opacity&quot;: 1.0}, {&quot;point&quot;: [0.6180339887498949, -0.6180339887498949, 4.618033988749895], &quot;size&quot;: 5.0, &quot;color&quot;: &quot;#0000ff&quot;, &quot;opacity&quot;: 1.0}, {&quot;point&quot;: [1.2360679774997898, 1.618033988749895, 4.23606797749979], &quot;size&quot;: 5.0, &quot;color&quot;: &quot;#0000ff&quot;, &quot;opacity&quot;: 1.0}, {&quot;point&quot;: [1.2360679774997898, -1.618033988749895, 4.23606797749979], &quot;size&quot;: 5.0, &quot;color&quot;: &quot;#0000ff&quot;, &quot;opacity&quot;: 1.0}, {&quot;point&quot;: [2.23606797749979, 2.0, 3.618033988749895], &quot;size&quot;: 5.0, &quot;color&quot;: &quot;#0000ff&quot;, &quot;opacity&quot;: 1.0}, {&quot;point&quot;: [3.8541019662496847, 0.6180339887498949, 2.618033988749895], &quot;size&quot;: 5.0, &quot;color&quot;: &quot;#0000ff&quot;, &quot;opacity&quot;: 1.0}, {&quot;point&quot;: [3.23606797749979, 1.618033988749895, 3.0], &quot;size&quot;: 5.0, &quot;color&quot;: &quot;#0000ff&quot;, &quot;opacity&quot;: 1.0}, {&quot;point&quot;: [2.23606797749979, -2.0, 3.618033988749895], &quot;size&quot;: 5.0, &quot;color&quot;: &quot;#0000ff&quot;, &quot;opacity&quot;: 1.0}, {&quot;point&quot;: [3.8541019662496847, -0.6180339887498949, 2.618033988749895], &quot;size&quot;: 5.0, &quot;color&quot;: &quot;#0000ff&quot;, &quot;opacity&quot;: 1.0}, {&quot;point&quot;: [3.23606797749979, -1.618033988749895, 3.0], &quot;size&quot;: 5.0, &quot;color&quot;: &quot;#0000ff&quot;, &quot;opacity&quot;: 1.0}, {&quot;point&quot;: [-1.618033988749895, -3.0, 3.23606797749979], &quot;size&quot;: 5.0, &quot;color&quot;: &quot;#0000ff&quot;, &quot;opacity&quot;: 1.0}, {&quot;point&quot;: [-2.0, -3.618033988749895, 2.23606797749979], &quot;size&quot;: 5.0, &quot;color&quot;: &quot;#0000ff&quot;, &quot;opacity&quot;: 1.0}, {&quot;point&quot;: [-3.0, -3.23606797749979, 1.618033988749895], &quot;size&quot;: 5.0, &quot;color&quot;: &quot;#0000ff&quot;, &quot;opacity&quot;: 1.0}, {&quot;point&quot;: [-4.23606797749979, -1.2360679774997898, 1.618033988749895], &quot;size&quot;: 5.0, &quot;color&quot;: &quot;#0000ff&quot;, &quot;opacity&quot;: 1.0}, {&quot;point&quot;: [-3.618033988749895, -2.23606797749979, 2.0], &quot;size&quot;: 5.0, &quot;color&quot;: &quot;#0000ff&quot;, &quot;opacity&quot;: 1.0}, {&quot;point&quot;: [-1.2360679774997898, 1.618033988749895, 4.23606797749979], &quot;size&quot;: 5.0, &quot;color&quot;: &quot;#0000ff&quot;, &quot;opacity&quot;: 1.0}, {&quot;point&quot;: [-1.2360679774997898, -1.618033988749895, 4.23606797749979], &quot;size&quot;: 5.0, &quot;color&quot;: &quot;#0000ff&quot;, &quot;opacity&quot;: 1.0}, {&quot;point&quot;: [-2.23606797749979, 2.0, 3.618033988749895], &quot;size&quot;: 5.0, &quot;color&quot;: &quot;#0000ff&quot;, &quot;opacity&quot;: 1.0}, {&quot;point&quot;: [-3.8541019662496847, 0.6180339887498949, 2.618033988749895], &quot;size&quot;: 5.0, &quot;color&quot;: &quot;#0000ff&quot;, &quot;opacity&quot;: 1.0}, {&quot;point&quot;: [-3.23606797749979, 1.618033988749895, 3.0], &quot;size&quot;: 5.0, &quot;color&quot;: &quot;#0000ff&quot;, &quot;opacity&quot;: 1.0}, {&quot;point&quot;: [-0.6180339887498949, 0.6180339887498949, 4.618033988749895], &quot;size&quot;: 5.0, &quot;color&quot;: &quot;#0000ff&quot;, &quot;opacity&quot;: 1.0}, {&quot;point&quot;: [-0.6180339887498949, -0.6180339887498949, 4.618033988749895], &quot;size&quot;: 5.0, &quot;color&quot;: &quot;#0000ff&quot;, &quot;opacity&quot;: 1.0}, {&quot;point&quot;: [-2.23606797749979, -2.0, 3.618033988749895], &quot;size&quot;: 5.0, &quot;color&quot;: &quot;#0000ff&quot;, &quot;opacity&quot;: 1.0}, {&quot;point&quot;: [-3.8541019662496847, -0.6180339887498949, 2.618033988749895], &quot;size&quot;: 5.0, &quot;color&quot;: &quot;#0000ff&quot;, &quot;opacity&quot;: 1.0}, {&quot;point&quot;: [-3.23606797749979, -1.618033988749895, 3.0], &quot;size&quot;: 5.0, &quot;color&quot;: &quot;#0000ff&quot;, &quot;opacity&quot;: 1.0}, {&quot;point&quot;: [1.618033988749895, -3.0, -3.23606797749979], &quot;size&quot;: 5.0, &quot;color&quot;: &quot;#0000ff&quot;, &quot;opacity&quot;: 1.0}, {&quot;point&quot;: [2.0, -3.618033988749895, -2.23606797749979], &quot;size&quot;: 5.0, &quot;color&quot;: &quot;#0000ff&quot;, &quot;opacity&quot;: 1.0}, {&quot;point&quot;: [3.0, -3.23606797749979, -1.618033988749895], &quot;size&quot;: 5.0, &quot;color&quot;: &quot;#0000ff&quot;, &quot;opacity&quot;: 1.0}, {&quot;point&quot;: [4.23606797749979, -1.2360679774997898, -1.618033988749895], &quot;size&quot;: 5.0, &quot;color&quot;: &quot;#0000ff&quot;, &quot;opacity&quot;: 1.0}, {&quot;point&quot;: [3.618033988749895, -2.23606797749979, -2.0], &quot;size&quot;: 5.0, &quot;color&quot;: &quot;#0000ff&quot;, &quot;opacity&quot;: 1.0}, {&quot;point&quot;: [0.6180339887498949, 0.6180339887498949, -4.618033988749895], &quot;size&quot;: 5.0, &quot;color&quot;: &quot;#0000ff&quot;, &quot;opacity&quot;: 1.0}, {&quot;point&quot;: [0.6180339887498949, -0.6180339887498949, -4.618033988749895], &quot;size&quot;: 5.0, &quot;color&quot;: &quot;#0000ff&quot;, &quot;opacity&quot;: 1.0}, {&quot;point&quot;: [1.2360679774997898, 1.618033988749895, -4.23606797749979], &quot;size&quot;: 5.0, &quot;color&quot;: &quot;#0000ff&quot;, &quot;opacity&quot;: 1.0}, {&quot;point&quot;: [1.2360679774997898, -1.618033988749895, -4.23606797749979], &quot;size&quot;: 5.0, &quot;color&quot;: &quot;#0000ff&quot;, &quot;opacity&quot;: 1.0}, {&quot;point&quot;: [2.23606797749979, 2.0, -3.618033988749895], &quot;size&quot;: 5.0, &quot;color&quot;: &quot;#0000ff&quot;, &quot;opacity&quot;: 1.0}, {&quot;point&quot;: [3.8541019662496847, 0.6180339887498949, -2.618033988749895], &quot;size&quot;: 5.0, &quot;color&quot;: &quot;#0000ff&quot;, &quot;opacity&quot;: 1.0}, {&quot;point&quot;: [3.23606797749979, 1.618033988749895, -3.0], &quot;size&quot;: 5.0, &quot;color&quot;: &quot;#0000ff&quot;, &quot;opacity&quot;: 1.0}, {&quot;point&quot;: [2.23606797749979, -2.0, -3.618033988749895], &quot;size&quot;: 5.0, &quot;color&quot;: &quot;#0000ff&quot;, &quot;opacity&quot;: 1.0}, {&quot;point&quot;: [3.8541019662496847, -0.6180339887498949, -2.618033988749895], &quot;size&quot;: 5.0, &quot;color&quot;: &quot;#0000ff&quot;, &quot;opacity&quot;: 1.0}, {&quot;point&quot;: [3.23606797749979, -1.618033988749895, -3.0], &quot;size&quot;: 5.0, &quot;color&quot;: &quot;#0000ff&quot;, &quot;opacity&quot;: 1.0}, {&quot;point&quot;: [-1.618033988749895, -3.0, -3.23606797749979], &quot;size&quot;: 5.0, &quot;color&quot;: &quot;#0000ff&quot;, &quot;opacity&quot;: 1.0}, {&quot;point&quot;: [-2.0, -3.618033988749895, -2.23606797749979], &quot;size&quot;: 5.0, &quot;color&quot;: &quot;#0000ff&quot;, &quot;opacity&quot;: 1.0}, {&quot;point&quot;: [-3.0, -3.23606797749979, -1.618033988749895], &quot;size&quot;: 5.0, &quot;color&quot;: &quot;#0000ff&quot;, &quot;opacity&quot;: 1.0}, {&quot;point&quot;: [-4.23606797749979, -1.2360679774997898, -1.618033988749895], &quot;size&quot;: 5.0, &quot;color&quot;: &quot;#0000ff&quot;, &quot;opacity&quot;: 1.0}, {&quot;point&quot;: [-3.618033988749895, -2.23606797749979, -2.0], &quot;size&quot;: 5.0, &quot;color&quot;: &quot;#0000ff&quot;, &quot;opacity&quot;: 1.0}, {&quot;point&quot;: [-1.2360679774997898, 1.618033988749895, -4.23606797749979], &quot;size&quot;: 5.0, &quot;color&quot;: &quot;#0000ff&quot;, &quot;opacity&quot;: 1.0}, {&quot;point&quot;: [-1.2360679774997898, -1.618033988749895, -4.23606797749979], &quot;size&quot;: 5.0, &quot;color&quot;: &quot;#0000ff&quot;, &quot;opacity&quot;: 1.0}, {&quot;point&quot;: [-2.23606797749979, 2.0, -3.618033988749895], &quot;size&quot;: 5.0, &quot;color&quot;: &quot;#0000ff&quot;, &quot;opacity&quot;: 1.0}, {&quot;point&quot;: [-3.8541019662496847, 0.6180339887498949, -2.618033988749895], &quot;size&quot;: 5.0, &quot;color&quot;: &quot;#0000ff&quot;, &quot;opacity&quot;: 1.0}, {&quot;point&quot;: [-3.23606797749979, 1.618033988749895, -3.0], &quot;size&quot;: 5.0, &quot;color&quot;: &quot;#0000ff&quot;, &quot;opacity&quot;: 1.0}, {&quot;point&quot;: [-0.6180339887498949, 0.6180339887498949, -4.618033988749895], &quot;size&quot;: 5.0, &quot;color&quot;: &quot;#0000ff&quot;, &quot;opacity&quot;: 1.0}, {&quot;point&quot;: [-0.6180339887498949, -0.6180339887498949, -4.618033988749895], &quot;size&quot;: 5.0, &quot;color&quot;: &quot;#0000ff&quot;, &quot;opacity&quot;: 1.0}, {&quot;point&quot;: [-2.23606797749979, -2.0, -3.618033988749895], &quot;size&quot;: 5.0, &quot;color&quot;: &quot;#0000ff&quot;, &quot;opacity&quot;: 1.0}, {&quot;point&quot;: [-3.8541019662496847, -0.6180339887498949, -2.618033988749895], &quot;size&quot;: 5.0, &quot;color&quot;: &quot;#0000ff&quot;, &quot;opacity&quot;: 1.0}, {&quot;point&quot;: [-3.23606797749979, -1.618033988749895, -3.0], &quot;size&quot;: 5.0, &quot;color&quot;: &quot;#0000ff&quot;, &quot;opacity&quot;: 1.0}];\n",
       "    for ( var i=0 ; i < points.length ; i++ ) addPoint( points[i] );\n",
       "\n",
       "    function addPoint( json ) {\n",
       "\n",
       "        var geometry = new THREE.Geometry();\n",
       "        var v = json.point;\n",
       "        geometry.vertices.push( new THREE.Vector3( a[0]*v[0], a[1]*v[1], a[2]*v[2] ) );\n",
       "\n",
       "        var canvas = document.createElement( 'canvas' );\n",
       "        canvas.width = 128;\n",
       "        canvas.height = 128;\n",
       "\n",
       "        var context = canvas.getContext( '2d' );\n",
       "        context.arc( 64, 64, 64, 0, 2 * Math.PI );\n",
       "        context.fillStyle = json.color;\n",
       "        context.fill();\n",
       "\n",
       "        var texture = new THREE.Texture( canvas );\n",
       "        texture.needsUpdate = true;\n",
       "\n",
       "        var transparent = json.opacity < 1 ? true : false;\n",
       "        var size = camera.isOrthographicCamera ? json.size : json.size/100;\n",
       "        var material = new THREE.PointsMaterial( { size: size, map: texture,\n",
       "                                                   transparent: transparent, opacity: json.opacity,\n",
       "                                                   alphaTest: .1 } );\n",
       "\n",
       "        var c = new THREE.Vector3();\n",
       "        geometry.computeBoundingBox();\n",
       "        geometry.boundingBox.getCenter( c );\n",
       "        geometry.translate( -c.x, -c.y, -c.z );\n",
       "\n",
       "        var mesh = new THREE.Points( geometry, material );\n",
       "        mesh.position.set( c.x, c.y, c.z );\n",
       "        mesh.userData = json;\n",
       "        scene.add( mesh );\n",
       "\n",
       "    }\n",
       "\n",
       "    var lines = [{&quot;points&quot;: [[0.6180339887498949, 2.618033988749895, 3.8541019662496847], [-0.6180339887498949, 2.618033988749895, 3.8541019662496847]], &quot;color&quot;: &quot;#0000ff&quot;, &quot;opacity&quot;: 1.0, &quot;linewidth&quot;: 1.0}, {&quot;points&quot;: [[0.6180339887498949, 2.618033988749895, 3.8541019662496847], [1.618033988749895, 3.0, 3.23606797749979]], &quot;color&quot;: &quot;#0000ff&quot;, &quot;opacity&quot;: 1.0, &quot;linewidth&quot;: 1.0}, {&quot;points&quot;: [[0.6180339887498949, 2.618033988749895, 3.8541019662496847], [1.2360679774997898, 1.618033988749895, 4.23606797749979]], &quot;color&quot;: &quot;#0000ff&quot;, &quot;opacity&quot;: 1.0, &quot;linewidth&quot;: 1.0}, {&quot;points&quot;: [[-0.6180339887498949, 2.618033988749895, 3.8541019662496847], [-1.618033988749895, 3.0, 3.23606797749979]], &quot;color&quot;: &quot;#0000ff&quot;, &quot;opacity&quot;: 1.0, &quot;linewidth&quot;: 1.0}, {&quot;points&quot;: [[-0.6180339887498949, 2.618033988749895, 3.8541019662496847], [-1.2360679774997898, 1.618033988749895, 4.23606797749979]], &quot;color&quot;: &quot;#0000ff&quot;, &quot;opacity&quot;: 1.0, &quot;linewidth&quot;: 1.0}, {&quot;points&quot;: [[0.6180339887498949, 4.618033988749895, 0.6180339887498949], [-0.6180339887498949, 4.618033988749895, 0.6180339887498949]], &quot;color&quot;: &quot;#0000ff&quot;, &quot;opacity&quot;: 1.0, &quot;linewidth&quot;: 1.0}, {&quot;points&quot;: [[0.6180339887498949, 4.618033988749895, 0.6180339887498949], [0.6180339887498949, 4.618033988749895, -0.6180339887498949]], &quot;color&quot;: &quot;#0000ff&quot;, &quot;opacity&quot;: 1.0, &quot;linewidth&quot;: 1.0}, {&quot;points&quot;: [[0.6180339887498949, 4.618033988749895, 0.6180339887498949], [1.618033988749895, 4.23606797749979, 1.2360679774997898]], &quot;color&quot;: &quot;#0000ff&quot;, &quot;opacity&quot;: 1.0, &quot;linewidth&quot;: 1.0}, {&quot;points&quot;: [[-0.6180339887498949, 4.618033988749895, 0.6180339887498949], [-0.6180339887498949, 4.618033988749895, -0.6180339887498949]], &quot;color&quot;: &quot;#0000ff&quot;, &quot;opacity&quot;: 1.0, &quot;linewidth&quot;: 1.0}, {&quot;points&quot;: [[-0.6180339887498949, 4.618033988749895, 0.6180339887498949], [-1.618033988749895, 4.23606797749979, 1.2360679774997898]], &quot;color&quot;: &quot;#0000ff&quot;, &quot;opacity&quot;: 1.0, &quot;linewidth&quot;: 1.0}, {&quot;points&quot;: [[0.6180339887498949, -2.618033988749895, 3.8541019662496847], [-0.6180339887498949, -2.618033988749895, 3.8541019662496847]], &quot;color&quot;: &quot;#0000ff&quot;, &quot;opacity&quot;: 1.0, &quot;linewidth&quot;: 1.0}, {&quot;points&quot;: [[0.6180339887498949, -2.618033988749895, 3.8541019662496847], [1.618033988749895, -3.0, 3.23606797749979]], &quot;color&quot;: &quot;#0000ff&quot;, &quot;opacity&quot;: 1.0, &quot;linewidth&quot;: 1.0}, {&quot;points&quot;: [[0.6180339887498949, -2.618033988749895, 3.8541019662496847], [1.2360679774997898, -1.618033988749895, 4.23606797749979]], &quot;color&quot;: &quot;#0000ff&quot;, &quot;opacity&quot;: 1.0, &quot;linewidth&quot;: 1.0}, {&quot;points&quot;: [[-0.6180339887498949, -2.618033988749895, 3.8541019662496847], [-1.618033988749895, -3.0, 3.23606797749979]], &quot;color&quot;: &quot;#0000ff&quot;, &quot;opacity&quot;: 1.0, &quot;linewidth&quot;: 1.0}, {&quot;points&quot;: [[-0.6180339887498949, -2.618033988749895, 3.8541019662496847], [-1.2360679774997898, -1.618033988749895, 4.23606797749979]], &quot;color&quot;: &quot;#0000ff&quot;, &quot;opacity&quot;: 1.0, &quot;linewidth&quot;: 1.0}, {&quot;points&quot;: [[0.6180339887498949, -4.618033988749895, 0.6180339887498949], [-0.6180339887498949, -4.618033988749895, 0.6180339887498949]], &quot;color&quot;: &quot;#0000ff&quot;, &quot;opacity&quot;: 1.0, &quot;linewidth&quot;: 1.0}, {&quot;points&quot;: [[0.6180339887498949, -4.618033988749895, 0.6180339887498949], [0.6180339887498949, -4.618033988749895, -0.6180339887498949]], &quot;color&quot;: &quot;#0000ff&quot;, &quot;opacity&quot;: 1.0, &quot;linewidth&quot;: 1.0}, {&quot;points&quot;: [[0.6180339887498949, -4.618033988749895, 0.6180339887498949], [1.618033988749895, -4.23606797749979, 1.2360679774997898]], &quot;color&quot;: &quot;#0000ff&quot;, &quot;opacity&quot;: 1.0, &quot;linewidth&quot;: 1.0}, {&quot;points&quot;: [[-0.6180339887498949, -4.618033988749895, 0.6180339887498949], [-0.6180339887498949, -4.618033988749895, -0.6180339887498949]], &quot;color&quot;: &quot;#0000ff&quot;, &quot;opacity&quot;: 1.0, &quot;linewidth&quot;: 1.0}, {&quot;points&quot;: [[-0.6180339887498949, -4.618033988749895, 0.6180339887498949], [-1.618033988749895, -4.23606797749979, 1.2360679774997898]], &quot;color&quot;: &quot;#0000ff&quot;, &quot;opacity&quot;: 1.0, &quot;linewidth&quot;: 1.0}, {&quot;points&quot;: [[0.6180339887498949, 2.618033988749895, -3.8541019662496847], [-0.6180339887498949, 2.618033988749895, -3.8541019662496847]], &quot;color&quot;: &quot;#0000ff&quot;, &quot;opacity&quot;: 1.0, &quot;linewidth&quot;: 1.0}, {&quot;points&quot;: [[0.6180339887498949, 2.618033988749895, -3.8541019662496847], [1.618033988749895, 3.0, -3.23606797749979]], &quot;color&quot;: &quot;#0000ff&quot;, &quot;opacity&quot;: 1.0, &quot;linewidth&quot;: 1.0}, {&quot;points&quot;: [[0.6180339887498949, 2.618033988749895, -3.8541019662496847], [1.2360679774997898, 1.618033988749895, -4.23606797749979]], &quot;color&quot;: &quot;#0000ff&quot;, &quot;opacity&quot;: 1.0, &quot;linewidth&quot;: 1.0}, {&quot;points&quot;: [[-0.6180339887498949, 2.618033988749895, -3.8541019662496847], [-1.618033988749895, 3.0, -3.23606797749979]], &quot;color&quot;: &quot;#0000ff&quot;, &quot;opacity&quot;: 1.0, &quot;linewidth&quot;: 1.0}, {&quot;points&quot;: [[-0.6180339887498949, 2.618033988749895, -3.8541019662496847], [-1.2360679774997898, 1.618033988749895, -4.23606797749979]], &quot;color&quot;: &quot;#0000ff&quot;, &quot;opacity&quot;: 1.0, &quot;linewidth&quot;: 1.0}, {&quot;points&quot;: [[0.6180339887498949, 4.618033988749895, -0.6180339887498949], [-0.6180339887498949, 4.618033988749895, -0.6180339887498949]], &quot;color&quot;: &quot;#0000ff&quot;, &quot;opacity&quot;: 1.0, &quot;linewidth&quot;: 1.0}, {&quot;points&quot;: [[0.6180339887498949, 4.618033988749895, -0.6180339887498949], [1.618033988749895, 4.23606797749979, -1.2360679774997898]], &quot;color&quot;: &quot;#0000ff&quot;, &quot;opacity&quot;: 1.0, &quot;linewidth&quot;: 1.0}, {&quot;points&quot;: [[-0.6180339887498949, 4.618033988749895, -0.6180339887498949], [-1.618033988749895, 4.23606797749979, -1.2360679774997898]], &quot;color&quot;: &quot;#0000ff&quot;, &quot;opacity&quot;: 1.0, &quot;linewidth&quot;: 1.0}, {&quot;points&quot;: [[0.6180339887498949, -2.618033988749895, -3.8541019662496847], [-0.6180339887498949, -2.618033988749895, -3.8541019662496847]], &quot;color&quot;: &quot;#0000ff&quot;, &quot;opacity&quot;: 1.0, &quot;linewidth&quot;: 1.0}, {&quot;points&quot;: [[0.6180339887498949, -2.618033988749895, -3.8541019662496847], [1.618033988749895, -3.0, -3.23606797749979]], &quot;color&quot;: &quot;#0000ff&quot;, &quot;opacity&quot;: 1.0, &quot;linewidth&quot;: 1.0}, {&quot;points&quot;: [[0.6180339887498949, -2.618033988749895, -3.8541019662496847], [1.2360679774997898, -1.618033988749895, -4.23606797749979]], &quot;color&quot;: &quot;#0000ff&quot;, &quot;opacity&quot;: 1.0, &quot;linewidth&quot;: 1.0}, {&quot;points&quot;: [[-0.6180339887498949, -2.618033988749895, -3.8541019662496847], [-1.618033988749895, -3.0, -3.23606797749979]], &quot;color&quot;: &quot;#0000ff&quot;, &quot;opacity&quot;: 1.0, &quot;linewidth&quot;: 1.0}, {&quot;points&quot;: [[-0.6180339887498949, -2.618033988749895, -3.8541019662496847], [-1.2360679774997898, -1.618033988749895, -4.23606797749979]], &quot;color&quot;: &quot;#0000ff&quot;, &quot;opacity&quot;: 1.0, &quot;linewidth&quot;: 1.0}, {&quot;points&quot;: [[0.6180339887498949, -4.618033988749895, -0.6180339887498949], [-0.6180339887498949, -4.618033988749895, -0.6180339887498949]], &quot;color&quot;: &quot;#0000ff&quot;, &quot;opacity&quot;: 1.0, &quot;linewidth&quot;: 1.0}, {&quot;points&quot;: [[0.6180339887498949, -4.618033988749895, -0.6180339887498949], [1.618033988749895, -4.23606797749979, -1.2360679774997898]], &quot;color&quot;: &quot;#0000ff&quot;, &quot;opacity&quot;: 1.0, &quot;linewidth&quot;: 1.0}, {&quot;points&quot;: [[-0.6180339887498949, -4.618033988749895, -0.6180339887498949], [-1.618033988749895, -4.23606797749979, -1.2360679774997898]], &quot;color&quot;: &quot;#0000ff&quot;, &quot;opacity&quot;: 1.0, &quot;linewidth&quot;: 1.0}, {&quot;points&quot;: [[1.618033988749895, 4.23606797749979, 1.2360679774997898], [2.618033988749895, 3.8541019662496847, 0.6180339887498949]], &quot;color&quot;: &quot;#0000ff&quot;, &quot;opacity&quot;: 1.0, &quot;linewidth&quot;: 1.0}, {&quot;points&quot;: [[1.618033988749895, 4.23606797749979, 1.2360679774997898], [2.0, 3.618033988749895, 2.23606797749979]], &quot;color&quot;: &quot;#0000ff&quot;, &quot;opacity&quot;: 1.0, &quot;linewidth&quot;: 1.0}, {&quot;points&quot;: [[1.618033988749895, -4.23606797749979, 1.2360679774997898], [2.618033988749895, -3.8541019662496847, 0.6180339887498949]], &quot;color&quot;: &quot;#0000ff&quot;, &quot;opacity&quot;: 1.0, &quot;linewidth&quot;: 1.0}, {&quot;points&quot;: [[1.618033988749895, -4.23606797749979, 1.2360679774997898], [2.0, -3.618033988749895, 2.23606797749979]], &quot;color&quot;: &quot;#0000ff&quot;, &quot;opacity&quot;: 1.0, &quot;linewidth&quot;: 1.0}, {&quot;points&quot;: [[-1.618033988749895, 4.23606797749979, 1.2360679774997898], [-2.618033988749895, 3.8541019662496847, 0.6180339887498949]], &quot;color&quot;: &quot;#0000ff&quot;, &quot;opacity&quot;: 1.0, &quot;linewidth&quot;: 1.0}, {&quot;points&quot;: [[-1.618033988749895, 4.23606797749979, 1.2360679774997898], [-2.0, 3.618033988749895, 2.23606797749979]], &quot;color&quot;: &quot;#0000ff&quot;, &quot;opacity&quot;: 1.0, &quot;linewidth&quot;: 1.0}, {&quot;points&quot;: [[-1.618033988749895, -4.23606797749979, 1.2360679774997898], [-2.618033988749895, -3.8541019662496847, 0.6180339887498949]], &quot;color&quot;: &quot;#0000ff&quot;, &quot;opacity&quot;: 1.0, &quot;linewidth&quot;: 1.0}, {&quot;points&quot;: [[-1.618033988749895, -4.23606797749979, 1.2360679774997898], [-2.0, -3.618033988749895, 2.23606797749979]], &quot;color&quot;: &quot;#0000ff&quot;, &quot;opacity&quot;: 1.0, &quot;linewidth&quot;: 1.0}, {&quot;points&quot;: [[1.618033988749895, 4.23606797749979, -1.2360679774997898], [2.618033988749895, 3.8541019662496847, -0.6180339887498949]], &quot;color&quot;: &quot;#0000ff&quot;, &quot;opacity&quot;: 1.0, &quot;linewidth&quot;: 1.0}, {&quot;points&quot;: [[1.618033988749895, 4.23606797749979, -1.2360679774997898], [2.0, 3.618033988749895, -2.23606797749979]], &quot;color&quot;: &quot;#0000ff&quot;, &quot;opacity&quot;: 1.0, &quot;linewidth&quot;: 1.0}, {&quot;points&quot;: [[1.618033988749895, -4.23606797749979, -1.2360679774997898], [2.618033988749895, -3.8541019662496847, -0.6180339887498949]], &quot;color&quot;: &quot;#0000ff&quot;, &quot;opacity&quot;: 1.0, &quot;linewidth&quot;: 1.0}, {&quot;points&quot;: [[1.618033988749895, -4.23606797749979, -1.2360679774997898], [2.0, -3.618033988749895, -2.23606797749979]], &quot;color&quot;: &quot;#0000ff&quot;, &quot;opacity&quot;: 1.0, &quot;linewidth&quot;: 1.0}, {&quot;points&quot;: [[-1.618033988749895, 4.23606797749979, -1.2360679774997898], [-2.618033988749895, 3.8541019662496847, -0.6180339887498949]], &quot;color&quot;: &quot;#0000ff&quot;, &quot;opacity&quot;: 1.0, &quot;linewidth&quot;: 1.0}, {&quot;points&quot;: [[-1.618033988749895, 4.23606797749979, -1.2360679774997898], [-2.0, 3.618033988749895, -2.23606797749979]], &quot;color&quot;: &quot;#0000ff&quot;, &quot;opacity&quot;: 1.0, &quot;linewidth&quot;: 1.0}, {&quot;points&quot;: [[-1.618033988749895, -4.23606797749979, -1.2360679774997898], [-2.618033988749895, -3.8541019662496847, -0.6180339887498949]], &quot;color&quot;: &quot;#0000ff&quot;, &quot;opacity&quot;: 1.0, &quot;linewidth&quot;: 1.0}, {&quot;points&quot;: [[-1.618033988749895, -4.23606797749979, -1.2360679774997898], [-2.0, -3.618033988749895, -2.23606797749979]], &quot;color&quot;: &quot;#0000ff&quot;, &quot;opacity&quot;: 1.0, &quot;linewidth&quot;: 1.0}, {&quot;points&quot;: [[2.618033988749895, 3.8541019662496847, 0.6180339887498949], [2.618033988749895, 3.8541019662496847, -0.6180339887498949]], &quot;color&quot;: &quot;#0000ff&quot;, &quot;opacity&quot;: 1.0, &quot;linewidth&quot;: 1.0}, {&quot;points&quot;: [[2.618033988749895, 3.8541019662496847, 0.6180339887498949], [3.0, 3.23606797749979, 1.618033988749895]], &quot;color&quot;: &quot;#0000ff&quot;, &quot;opacity&quot;: 1.0, &quot;linewidth&quot;: 1.0}, {&quot;points&quot;: [[2.618033988749895, 3.8541019662496847, -0.6180339887498949], [3.0, 3.23606797749979, -1.618033988749895]], &quot;color&quot;: &quot;#0000ff&quot;, &quot;opacity&quot;: 1.0, &quot;linewidth&quot;: 1.0}, {&quot;points&quot;: [[4.618033988749895, 0.6180339887498949, 0.6180339887498949], [4.618033988749895, 0.6180339887498949, -0.6180339887498949]], &quot;color&quot;: &quot;#0000ff&quot;, &quot;opacity&quot;: 1.0, &quot;linewidth&quot;: 1.0}, {&quot;points&quot;: [[4.618033988749895, 0.6180339887498949, 0.6180339887498949], [4.618033988749895, -0.6180339887498949, 0.6180339887498949]], &quot;color&quot;: &quot;#0000ff&quot;, &quot;opacity&quot;: 1.0, &quot;linewidth&quot;: 1.0}, {&quot;points&quot;: [[4.618033988749895, 0.6180339887498949, 0.6180339887498949], [4.23606797749979, 1.2360679774997898, 1.618033988749895]], &quot;color&quot;: &quot;#0000ff&quot;, &quot;opacity&quot;: 1.0, &quot;linewidth&quot;: 1.0}, {&quot;points&quot;: [[4.618033988749895, 0.6180339887498949, -0.6180339887498949], [4.618033988749895, -0.6180339887498949, -0.6180339887498949]], &quot;color&quot;: &quot;#0000ff&quot;, &quot;opacity&quot;: 1.0, &quot;linewidth&quot;: 1.0}, {&quot;points&quot;: [[4.618033988749895, 0.6180339887498949, -0.6180339887498949], [4.23606797749979, 1.2360679774997898, -1.618033988749895]], &quot;color&quot;: &quot;#0000ff&quot;, &quot;opacity&quot;: 1.0, &quot;linewidth&quot;: 1.0}, {&quot;points&quot;: [[-2.618033988749895, 3.8541019662496847, 0.6180339887498949], [-2.618033988749895, 3.8541019662496847, -0.6180339887498949]], &quot;color&quot;: &quot;#0000ff&quot;, &quot;opacity&quot;: 1.0, &quot;linewidth&quot;: 1.0}, {&quot;points&quot;: [[-2.618033988749895, 3.8541019662496847, 0.6180339887498949], [-3.0, 3.23606797749979, 1.618033988749895]], &quot;color&quot;: &quot;#0000ff&quot;, &quot;opacity&quot;: 1.0, &quot;linewidth&quot;: 1.0}, {&quot;points&quot;: [[-2.618033988749895, 3.8541019662496847, -0.6180339887498949], [-3.0, 3.23606797749979, -1.618033988749895]], &quot;color&quot;: &quot;#0000ff&quot;, &quot;opacity&quot;: 1.0, &quot;linewidth&quot;: 1.0}, {&quot;points&quot;: [[-4.618033988749895, 0.6180339887498949, 0.6180339887498949], [-4.618033988749895, 0.6180339887498949, -0.6180339887498949]], &quot;color&quot;: &quot;#0000ff&quot;, &quot;opacity&quot;: 1.0, &quot;linewidth&quot;: 1.0}, {&quot;points&quot;: [[-4.618033988749895, 0.6180339887498949, 0.6180339887498949], [-4.618033988749895, -0.6180339887498949, 0.6180339887498949]], &quot;color&quot;: &quot;#0000ff&quot;, &quot;opacity&quot;: 1.0, &quot;linewidth&quot;: 1.0}, {&quot;points&quot;: [[-4.618033988749895, 0.6180339887498949, 0.6180339887498949], [-4.23606797749979, 1.2360679774997898, 1.618033988749895]], &quot;color&quot;: &quot;#0000ff&quot;, &quot;opacity&quot;: 1.0, &quot;linewidth&quot;: 1.0}, {&quot;points&quot;: [[-4.618033988749895, 0.6180339887498949, -0.6180339887498949], [-4.618033988749895, -0.6180339887498949, -0.6180339887498949]], &quot;color&quot;: &quot;#0000ff&quot;, &quot;opacity&quot;: 1.0, &quot;linewidth&quot;: 1.0}, {&quot;points&quot;: [[-4.618033988749895, 0.6180339887498949, -0.6180339887498949], [-4.23606797749979, 1.2360679774997898, -1.618033988749895]], &quot;color&quot;: &quot;#0000ff&quot;, &quot;opacity&quot;: 1.0, &quot;linewidth&quot;: 1.0}, {&quot;points&quot;: [[2.618033988749895, -3.8541019662496847, 0.6180339887498949], [2.618033988749895, -3.8541019662496847, -0.6180339887498949]], &quot;color&quot;: &quot;#0000ff&quot;, &quot;opacity&quot;: 1.0, &quot;linewidth&quot;: 1.0}, {&quot;points&quot;: [[2.618033988749895, -3.8541019662496847, 0.6180339887498949], [3.0, -3.23606797749979, 1.618033988749895]], &quot;color&quot;: &quot;#0000ff&quot;, &quot;opacity&quot;: 1.0, &quot;linewidth&quot;: 1.0}, {&quot;points&quot;: [[2.618033988749895, -3.8541019662496847, -0.6180339887498949], [3.0, -3.23606797749979, -1.618033988749895]], &quot;color&quot;: &quot;#0000ff&quot;, &quot;opacity&quot;: 1.0, &quot;linewidth&quot;: 1.0}, {&quot;points&quot;: [[4.618033988749895, -0.6180339887498949, 0.6180339887498949], [4.618033988749895, -0.6180339887498949, -0.6180339887498949]], &quot;color&quot;: &quot;#0000ff&quot;, &quot;opacity&quot;: 1.0, &quot;linewidth&quot;: 1.0}, {&quot;points&quot;: [[4.618033988749895, -0.6180339887498949, 0.6180339887498949], [4.23606797749979, -1.2360679774997898, 1.618033988749895]], &quot;color&quot;: &quot;#0000ff&quot;, &quot;opacity&quot;: 1.0, &quot;linewidth&quot;: 1.0}, {&quot;points&quot;: [[4.618033988749895, -0.6180339887498949, -0.6180339887498949], [4.23606797749979, -1.2360679774997898, -1.618033988749895]], &quot;color&quot;: &quot;#0000ff&quot;, &quot;opacity&quot;: 1.0, &quot;linewidth&quot;: 1.0}, {&quot;points&quot;: [[-2.618033988749895, -3.8541019662496847, 0.6180339887498949], [-2.618033988749895, -3.8541019662496847, -0.6180339887498949]], &quot;color&quot;: &quot;#0000ff&quot;, &quot;opacity&quot;: 1.0, &quot;linewidth&quot;: 1.0}, {&quot;points&quot;: [[-2.618033988749895, -3.8541019662496847, 0.6180339887498949], [-3.0, -3.23606797749979, 1.618033988749895]], &quot;color&quot;: &quot;#0000ff&quot;, &quot;opacity&quot;: 1.0, &quot;linewidth&quot;: 1.0}, {&quot;points&quot;: [[-2.618033988749895, -3.8541019662496847, -0.6180339887498949], [-3.0, -3.23606797749979, -1.618033988749895]], &quot;color&quot;: &quot;#0000ff&quot;, &quot;opacity&quot;: 1.0, &quot;linewidth&quot;: 1.0}, {&quot;points&quot;: [[-4.618033988749895, -0.6180339887498949, 0.6180339887498949], [-4.618033988749895, -0.6180339887498949, -0.6180339887498949]], &quot;color&quot;: &quot;#0000ff&quot;, &quot;opacity&quot;: 1.0, &quot;linewidth&quot;: 1.0}, {&quot;points&quot;: [[-4.618033988749895, -0.6180339887498949, 0.6180339887498949], [-4.23606797749979, -1.2360679774997898, 1.618033988749895]], &quot;color&quot;: &quot;#0000ff&quot;, &quot;opacity&quot;: 1.0, &quot;linewidth&quot;: 1.0}, {&quot;points&quot;: [[-4.618033988749895, -0.6180339887498949, -0.6180339887498949], [-4.23606797749979, -1.2360679774997898, -1.618033988749895]], &quot;color&quot;: &quot;#0000ff&quot;, &quot;opacity&quot;: 1.0, &quot;linewidth&quot;: 1.0}, {&quot;points&quot;: [[1.618033988749895, 3.0, 3.23606797749979], [2.0, 3.618033988749895, 2.23606797749979]], &quot;color&quot;: &quot;#0000ff&quot;, &quot;opacity&quot;: 1.0, &quot;linewidth&quot;: 1.0}, {&quot;points&quot;: [[1.618033988749895, 3.0, 3.23606797749979], [2.23606797749979, 2.0, 3.618033988749895]], &quot;color&quot;: &quot;#0000ff&quot;, &quot;opacity&quot;: 1.0, &quot;linewidth&quot;: 1.0}, {&quot;points&quot;: [[2.0, 3.618033988749895, 2.23606797749979], [3.0, 3.23606797749979, 1.618033988749895]], &quot;color&quot;: &quot;#0000ff&quot;, &quot;opacity&quot;: 1.0, &quot;linewidth&quot;: 1.0}, {&quot;points&quot;: [[3.0, 3.23606797749979, 1.618033988749895], [3.618033988749895, 2.23606797749979, 2.0]], &quot;color&quot;: &quot;#0000ff&quot;, &quot;opacity&quot;: 1.0, &quot;linewidth&quot;: 1.0}, {&quot;points&quot;: [[4.23606797749979, 1.2360679774997898, 1.618033988749895], [3.618033988749895, 2.23606797749979, 2.0]], &quot;color&quot;: &quot;#0000ff&quot;, &quot;opacity&quot;: 1.0, &quot;linewidth&quot;: 1.0}, {&quot;points&quot;: [[4.23606797749979, 1.2360679774997898, 1.618033988749895], [3.8541019662496847, 0.6180339887498949, 2.618033988749895]], &quot;color&quot;: &quot;#0000ff&quot;, &quot;opacity&quot;: 1.0, &quot;linewidth&quot;: 1.0}, {&quot;points&quot;: [[3.618033988749895, 2.23606797749979, 2.0], [3.23606797749979, 1.618033988749895, 3.0]], &quot;color&quot;: &quot;#0000ff&quot;, &quot;opacity&quot;: 1.0, &quot;linewidth&quot;: 1.0}, {&quot;points&quot;: [[-1.618033988749895, 3.0, 3.23606797749979], [-2.0, 3.618033988749895, 2.23606797749979]], &quot;color&quot;: &quot;#0000ff&quot;, &quot;opacity&quot;: 1.0, &quot;linewidth&quot;: 1.0}, {&quot;points&quot;: [[-1.618033988749895, 3.0, 3.23606797749979], [-2.23606797749979, 2.0, 3.618033988749895]], &quot;color&quot;: &quot;#0000ff&quot;, &quot;opacity&quot;: 1.0, &quot;linewidth&quot;: 1.0}, {&quot;points&quot;: [[-2.0, 3.618033988749895, 2.23606797749979], [-3.0, 3.23606797749979, 1.618033988749895]], &quot;color&quot;: &quot;#0000ff&quot;, &quot;opacity&quot;: 1.0, &quot;linewidth&quot;: 1.0}, {&quot;points&quot;: [[-3.0, 3.23606797749979, 1.618033988749895], [-3.618033988749895, 2.23606797749979, 2.0]], &quot;color&quot;: &quot;#0000ff&quot;, &quot;opacity&quot;: 1.0, &quot;linewidth&quot;: 1.0}, {&quot;points&quot;: [[-4.23606797749979, 1.2360679774997898, 1.618033988749895], [-3.618033988749895, 2.23606797749979, 2.0]], &quot;color&quot;: &quot;#0000ff&quot;, &quot;opacity&quot;: 1.0, &quot;linewidth&quot;: 1.0}, {&quot;points&quot;: [[-4.23606797749979, 1.2360679774997898, 1.618033988749895], [-3.8541019662496847, 0.6180339887498949, 2.618033988749895]], &quot;color&quot;: &quot;#0000ff&quot;, &quot;opacity&quot;: 1.0, &quot;linewidth&quot;: 1.0}, {&quot;points&quot;: [[-3.618033988749895, 2.23606797749979, 2.0], [-3.23606797749979, 1.618033988749895, 3.0]], &quot;color&quot;: &quot;#0000ff&quot;, &quot;opacity&quot;: 1.0, &quot;linewidth&quot;: 1.0}, {&quot;points&quot;: [[1.618033988749895, 3.0, -3.23606797749979], [2.0, 3.618033988749895, -2.23606797749979]], &quot;color&quot;: &quot;#0000ff&quot;, &quot;opacity&quot;: 1.0, &quot;linewidth&quot;: 1.0}, {&quot;points&quot;: [[1.618033988749895, 3.0, -3.23606797749979], [2.23606797749979, 2.0, -3.618033988749895]], &quot;color&quot;: &quot;#0000ff&quot;, &quot;opacity&quot;: 1.0, &quot;linewidth&quot;: 1.0}, {&quot;points&quot;: [[2.0, 3.618033988749895, -2.23606797749979], [3.0, 3.23606797749979, -1.618033988749895]], &quot;color&quot;: &quot;#0000ff&quot;, &quot;opacity&quot;: 1.0, &quot;linewidth&quot;: 1.0}, {&quot;points&quot;: [[3.0, 3.23606797749979, -1.618033988749895], [3.618033988749895, 2.23606797749979, -2.0]], &quot;color&quot;: &quot;#0000ff&quot;, &quot;opacity&quot;: 1.0, &quot;linewidth&quot;: 1.0}, {&quot;points&quot;: [[4.23606797749979, 1.2360679774997898, -1.618033988749895], [3.618033988749895, 2.23606797749979, -2.0]], &quot;color&quot;: &quot;#0000ff&quot;, &quot;opacity&quot;: 1.0, &quot;linewidth&quot;: 1.0}, {&quot;points&quot;: [[4.23606797749979, 1.2360679774997898, -1.618033988749895], [3.8541019662496847, 0.6180339887498949, -2.618033988749895]], &quot;color&quot;: &quot;#0000ff&quot;, &quot;opacity&quot;: 1.0, &quot;linewidth&quot;: 1.0}, {&quot;points&quot;: [[3.618033988749895, 2.23606797749979, -2.0], [3.23606797749979, 1.618033988749895, -3.0]], &quot;color&quot;: &quot;#0000ff&quot;, &quot;opacity&quot;: 1.0, &quot;linewidth&quot;: 1.0}, {&quot;points&quot;: [[-1.618033988749895, 3.0, -3.23606797749979], [-2.0, 3.618033988749895, -2.23606797749979]], &quot;color&quot;: &quot;#0000ff&quot;, &quot;opacity&quot;: 1.0, &quot;linewidth&quot;: 1.0}, {&quot;points&quot;: [[-1.618033988749895, 3.0, -3.23606797749979], [-2.23606797749979, 2.0, -3.618033988749895]], &quot;color&quot;: &quot;#0000ff&quot;, &quot;opacity&quot;: 1.0, &quot;linewidth&quot;: 1.0}, {&quot;points&quot;: [[-2.0, 3.618033988749895, -2.23606797749979], [-3.0, 3.23606797749979, -1.618033988749895]], &quot;color&quot;: &quot;#0000ff&quot;, &quot;opacity&quot;: 1.0, &quot;linewidth&quot;: 1.0}, {&quot;points&quot;: [[-3.0, 3.23606797749979, -1.618033988749895], [-3.618033988749895, 2.23606797749979, -2.0]], &quot;color&quot;: &quot;#0000ff&quot;, &quot;opacity&quot;: 1.0, &quot;linewidth&quot;: 1.0}, {&quot;points&quot;: [[-4.23606797749979, 1.2360679774997898, -1.618033988749895], [-3.618033988749895, 2.23606797749979, -2.0]], &quot;color&quot;: &quot;#0000ff&quot;, &quot;opacity&quot;: 1.0, &quot;linewidth&quot;: 1.0}, {&quot;points&quot;: [[-4.23606797749979, 1.2360679774997898, -1.618033988749895], [-3.8541019662496847, 0.6180339887498949, -2.618033988749895]], &quot;color&quot;: &quot;#0000ff&quot;, &quot;opacity&quot;: 1.0, &quot;linewidth&quot;: 1.0}, {&quot;points&quot;: [[-3.618033988749895, 2.23606797749979, -2.0], [-3.23606797749979, 1.618033988749895, -3.0]], &quot;color&quot;: &quot;#0000ff&quot;, &quot;opacity&quot;: 1.0, &quot;linewidth&quot;: 1.0}, {&quot;points&quot;: [[1.618033988749895, -3.0, 3.23606797749979], [2.0, -3.618033988749895, 2.23606797749979]], &quot;color&quot;: &quot;#0000ff&quot;, &quot;opacity&quot;: 1.0, &quot;linewidth&quot;: 1.0}, {&quot;points&quot;: [[1.618033988749895, -3.0, 3.23606797749979], [2.23606797749979, -2.0, 3.618033988749895]], &quot;color&quot;: &quot;#0000ff&quot;, &quot;opacity&quot;: 1.0, &quot;linewidth&quot;: 1.0}, {&quot;points&quot;: [[2.0, -3.618033988749895, 2.23606797749979], [3.0, -3.23606797749979, 1.618033988749895]], &quot;color&quot;: &quot;#0000ff&quot;, &quot;opacity&quot;: 1.0, &quot;linewidth&quot;: 1.0}, {&quot;points&quot;: [[3.0, -3.23606797749979, 1.618033988749895], [3.618033988749895, -2.23606797749979, 2.0]], &quot;color&quot;: &quot;#0000ff&quot;, &quot;opacity&quot;: 1.0, &quot;linewidth&quot;: 1.0}, {&quot;points&quot;: [[4.23606797749979, -1.2360679774997898, 1.618033988749895], [3.618033988749895, -2.23606797749979, 2.0]], &quot;color&quot;: &quot;#0000ff&quot;, &quot;opacity&quot;: 1.0, &quot;linewidth&quot;: 1.0}, {&quot;points&quot;: [[4.23606797749979, -1.2360679774997898, 1.618033988749895], [3.8541019662496847, -0.6180339887498949, 2.618033988749895]], &quot;color&quot;: &quot;#0000ff&quot;, &quot;opacity&quot;: 1.0, &quot;linewidth&quot;: 1.0}, {&quot;points&quot;: [[3.618033988749895, -2.23606797749979, 2.0], [3.23606797749979, -1.618033988749895, 3.0]], &quot;color&quot;: &quot;#0000ff&quot;, &quot;opacity&quot;: 1.0, &quot;linewidth&quot;: 1.0}, {&quot;points&quot;: [[0.6180339887498949, 0.6180339887498949, 4.618033988749895], [0.6180339887498949, -0.6180339887498949, 4.618033988749895]], &quot;color&quot;: &quot;#0000ff&quot;, &quot;opacity&quot;: 1.0, &quot;linewidth&quot;: 1.0}, {&quot;points&quot;: [[0.6180339887498949, 0.6180339887498949, 4.618033988749895], [1.2360679774997898, 1.618033988749895, 4.23606797749979]], &quot;color&quot;: &quot;#0000ff&quot;, &quot;opacity&quot;: 1.0, &quot;linewidth&quot;: 1.0}, {&quot;points&quot;: [[0.6180339887498949, 0.6180339887498949, 4.618033988749895], [-0.6180339887498949, 0.6180339887498949, 4.618033988749895]], &quot;color&quot;: &quot;#0000ff&quot;, &quot;opacity&quot;: 1.0, &quot;linewidth&quot;: 1.0}, {&quot;points&quot;: [[0.6180339887498949, -0.6180339887498949, 4.618033988749895], [1.2360679774997898, -1.618033988749895, 4.23606797749979]], &quot;color&quot;: &quot;#0000ff&quot;, &quot;opacity&quot;: 1.0, &quot;linewidth&quot;: 1.0}, {&quot;points&quot;: [[0.6180339887498949, -0.6180339887498949, 4.618033988749895], [-0.6180339887498949, -0.6180339887498949, 4.618033988749895]], &quot;color&quot;: &quot;#0000ff&quot;, &quot;opacity&quot;: 1.0, &quot;linewidth&quot;: 1.0}, {&quot;points&quot;: [[1.2360679774997898, 1.618033988749895, 4.23606797749979], [2.23606797749979, 2.0, 3.618033988749895]], &quot;color&quot;: &quot;#0000ff&quot;, &quot;opacity&quot;: 1.0, &quot;linewidth&quot;: 1.0}, {&quot;points&quot;: [[1.2360679774997898, -1.618033988749895, 4.23606797749979], [2.23606797749979, -2.0, 3.618033988749895]], &quot;color&quot;: &quot;#0000ff&quot;, &quot;opacity&quot;: 1.0, &quot;linewidth&quot;: 1.0}, {&quot;points&quot;: [[2.23606797749979, 2.0, 3.618033988749895], [3.23606797749979, 1.618033988749895, 3.0]], &quot;color&quot;: &quot;#0000ff&quot;, &quot;opacity&quot;: 1.0, &quot;linewidth&quot;: 1.0}, {&quot;points&quot;: [[3.8541019662496847, 0.6180339887498949, 2.618033988749895], [3.23606797749979, 1.618033988749895, 3.0]], &quot;color&quot;: &quot;#0000ff&quot;, &quot;opacity&quot;: 1.0, &quot;linewidth&quot;: 1.0}, {&quot;points&quot;: [[3.8541019662496847, 0.6180339887498949, 2.618033988749895], [3.8541019662496847, -0.6180339887498949, 2.618033988749895]], &quot;color&quot;: &quot;#0000ff&quot;, &quot;opacity&quot;: 1.0, &quot;linewidth&quot;: 1.0}, {&quot;points&quot;: [[2.23606797749979, -2.0, 3.618033988749895], [3.23606797749979, -1.618033988749895, 3.0]], &quot;color&quot;: &quot;#0000ff&quot;, &quot;opacity&quot;: 1.0, &quot;linewidth&quot;: 1.0}, {&quot;points&quot;: [[3.8541019662496847, -0.6180339887498949, 2.618033988749895], [3.23606797749979, -1.618033988749895, 3.0]], &quot;color&quot;: &quot;#0000ff&quot;, &quot;opacity&quot;: 1.0, &quot;linewidth&quot;: 1.0}, {&quot;points&quot;: [[-1.618033988749895, -3.0, 3.23606797749979], [-2.0, -3.618033988749895, 2.23606797749979]], &quot;color&quot;: &quot;#0000ff&quot;, &quot;opacity&quot;: 1.0, &quot;linewidth&quot;: 1.0}, {&quot;points&quot;: [[-1.618033988749895, -3.0, 3.23606797749979], [-2.23606797749979, -2.0, 3.618033988749895]], &quot;color&quot;: &quot;#0000ff&quot;, &quot;opacity&quot;: 1.0, &quot;linewidth&quot;: 1.0}, {&quot;points&quot;: [[-2.0, -3.618033988749895, 2.23606797749979], [-3.0, -3.23606797749979, 1.618033988749895]], &quot;color&quot;: &quot;#0000ff&quot;, &quot;opacity&quot;: 1.0, &quot;linewidth&quot;: 1.0}, {&quot;points&quot;: [[-3.0, -3.23606797749979, 1.618033988749895], [-3.618033988749895, -2.23606797749979, 2.0]], &quot;color&quot;: &quot;#0000ff&quot;, &quot;opacity&quot;: 1.0, &quot;linewidth&quot;: 1.0}, {&quot;points&quot;: [[-4.23606797749979, -1.2360679774997898, 1.618033988749895], [-3.618033988749895, -2.23606797749979, 2.0]], &quot;color&quot;: &quot;#0000ff&quot;, &quot;opacity&quot;: 1.0, &quot;linewidth&quot;: 1.0}, {&quot;points&quot;: [[-4.23606797749979, -1.2360679774997898, 1.618033988749895], [-3.8541019662496847, -0.6180339887498949, 2.618033988749895]], &quot;color&quot;: &quot;#0000ff&quot;, &quot;opacity&quot;: 1.0, &quot;linewidth&quot;: 1.0}, {&quot;points&quot;: [[-3.618033988749895, -2.23606797749979, 2.0], [-3.23606797749979, -1.618033988749895, 3.0]], &quot;color&quot;: &quot;#0000ff&quot;, &quot;opacity&quot;: 1.0, &quot;linewidth&quot;: 1.0}, {&quot;points&quot;: [[-1.2360679774997898, 1.618033988749895, 4.23606797749979], [-2.23606797749979, 2.0, 3.618033988749895]], &quot;color&quot;: &quot;#0000ff&quot;, &quot;opacity&quot;: 1.0, &quot;linewidth&quot;: 1.0}, {&quot;points&quot;: [[-1.2360679774997898, 1.618033988749895, 4.23606797749979], [-0.6180339887498949, 0.6180339887498949, 4.618033988749895]], &quot;color&quot;: &quot;#0000ff&quot;, &quot;opacity&quot;: 1.0, &quot;linewidth&quot;: 1.0}, {&quot;points&quot;: [[-1.2360679774997898, -1.618033988749895, 4.23606797749979], [-0.6180339887498949, -0.6180339887498949, 4.618033988749895]], &quot;color&quot;: &quot;#0000ff&quot;, &quot;opacity&quot;: 1.0, &quot;linewidth&quot;: 1.0}, {&quot;points&quot;: [[-1.2360679774997898, -1.618033988749895, 4.23606797749979], [-2.23606797749979, -2.0, 3.618033988749895]], &quot;color&quot;: &quot;#0000ff&quot;, &quot;opacity&quot;: 1.0, &quot;linewidth&quot;: 1.0}, {&quot;points&quot;: [[-2.23606797749979, 2.0, 3.618033988749895], [-3.23606797749979, 1.618033988749895, 3.0]], &quot;color&quot;: &quot;#0000ff&quot;, &quot;opacity&quot;: 1.0, &quot;linewidth&quot;: 1.0}, {&quot;points&quot;: [[-3.8541019662496847, 0.6180339887498949, 2.618033988749895], [-3.23606797749979, 1.618033988749895, 3.0]], &quot;color&quot;: &quot;#0000ff&quot;, &quot;opacity&quot;: 1.0, &quot;linewidth&quot;: 1.0}, {&quot;points&quot;: [[-3.8541019662496847, 0.6180339887498949, 2.618033988749895], [-3.8541019662496847, -0.6180339887498949, 2.618033988749895]], &quot;color&quot;: &quot;#0000ff&quot;, &quot;opacity&quot;: 1.0, &quot;linewidth&quot;: 1.0}, {&quot;points&quot;: [[-0.6180339887498949, 0.6180339887498949, 4.618033988749895], [-0.6180339887498949, -0.6180339887498949, 4.618033988749895]], &quot;color&quot;: &quot;#0000ff&quot;, &quot;opacity&quot;: 1.0, &quot;linewidth&quot;: 1.0}, {&quot;points&quot;: [[-2.23606797749979, -2.0, 3.618033988749895], [-3.23606797749979, -1.618033988749895, 3.0]], &quot;color&quot;: &quot;#0000ff&quot;, &quot;opacity&quot;: 1.0, &quot;linewidth&quot;: 1.0}, {&quot;points&quot;: [[-3.8541019662496847, -0.6180339887498949, 2.618033988749895], [-3.23606797749979, -1.618033988749895, 3.0]], &quot;color&quot;: &quot;#0000ff&quot;, &quot;opacity&quot;: 1.0, &quot;linewidth&quot;: 1.0}, {&quot;points&quot;: [[1.618033988749895, -3.0, -3.23606797749979], [2.0, -3.618033988749895, -2.23606797749979]], &quot;color&quot;: &quot;#0000ff&quot;, &quot;opacity&quot;: 1.0, &quot;linewidth&quot;: 1.0}, {&quot;points&quot;: [[1.618033988749895, -3.0, -3.23606797749979], [2.23606797749979, -2.0, -3.618033988749895]], &quot;color&quot;: &quot;#0000ff&quot;, &quot;opacity&quot;: 1.0, &quot;linewidth&quot;: 1.0}, {&quot;points&quot;: [[2.0, -3.618033988749895, -2.23606797749979], [3.0, -3.23606797749979, -1.618033988749895]], &quot;color&quot;: &quot;#0000ff&quot;, &quot;opacity&quot;: 1.0, &quot;linewidth&quot;: 1.0}, {&quot;points&quot;: [[3.0, -3.23606797749979, -1.618033988749895], [3.618033988749895, -2.23606797749979, -2.0]], &quot;color&quot;: &quot;#0000ff&quot;, &quot;opacity&quot;: 1.0, &quot;linewidth&quot;: 1.0}, {&quot;points&quot;: [[4.23606797749979, -1.2360679774997898, -1.618033988749895], [3.618033988749895, -2.23606797749979, -2.0]], &quot;color&quot;: &quot;#0000ff&quot;, &quot;opacity&quot;: 1.0, &quot;linewidth&quot;: 1.0}, {&quot;points&quot;: [[4.23606797749979, -1.2360679774997898, -1.618033988749895], [3.8541019662496847, -0.6180339887498949, -2.618033988749895]], &quot;color&quot;: &quot;#0000ff&quot;, &quot;opacity&quot;: 1.0, &quot;linewidth&quot;: 1.0}, {&quot;points&quot;: [[3.618033988749895, -2.23606797749979, -2.0], [3.23606797749979, -1.618033988749895, -3.0]], &quot;color&quot;: &quot;#0000ff&quot;, &quot;opacity&quot;: 1.0, &quot;linewidth&quot;: 1.0}, {&quot;points&quot;: [[0.6180339887498949, 0.6180339887498949, -4.618033988749895], [0.6180339887498949, -0.6180339887498949, -4.618033988749895]], &quot;color&quot;: &quot;#0000ff&quot;, &quot;opacity&quot;: 1.0, &quot;linewidth&quot;: 1.0}, {&quot;points&quot;: [[0.6180339887498949, 0.6180339887498949, -4.618033988749895], [1.2360679774997898, 1.618033988749895, -4.23606797749979]], &quot;color&quot;: &quot;#0000ff&quot;, &quot;opacity&quot;: 1.0, &quot;linewidth&quot;: 1.0}, {&quot;points&quot;: [[0.6180339887498949, 0.6180339887498949, -4.618033988749895], [-0.6180339887498949, 0.6180339887498949, -4.618033988749895]], &quot;color&quot;: &quot;#0000ff&quot;, &quot;opacity&quot;: 1.0, &quot;linewidth&quot;: 1.0}, {&quot;points&quot;: [[0.6180339887498949, -0.6180339887498949, -4.618033988749895], [1.2360679774997898, -1.618033988749895, -4.23606797749979]], &quot;color&quot;: &quot;#0000ff&quot;, &quot;opacity&quot;: 1.0, &quot;linewidth&quot;: 1.0}, {&quot;points&quot;: [[0.6180339887498949, -0.6180339887498949, -4.618033988749895], [-0.6180339887498949, -0.6180339887498949, -4.618033988749895]], &quot;color&quot;: &quot;#0000ff&quot;, &quot;opacity&quot;: 1.0, &quot;linewidth&quot;: 1.0}, {&quot;points&quot;: [[1.2360679774997898, 1.618033988749895, -4.23606797749979], [2.23606797749979, 2.0, -3.618033988749895]], &quot;color&quot;: &quot;#0000ff&quot;, &quot;opacity&quot;: 1.0, &quot;linewidth&quot;: 1.0}, {&quot;points&quot;: [[1.2360679774997898, -1.618033988749895, -4.23606797749979], [2.23606797749979, -2.0, -3.618033988749895]], &quot;color&quot;: &quot;#0000ff&quot;, &quot;opacity&quot;: 1.0, &quot;linewidth&quot;: 1.0}, {&quot;points&quot;: [[2.23606797749979, 2.0, -3.618033988749895], [3.23606797749979, 1.618033988749895, -3.0]], &quot;color&quot;: &quot;#0000ff&quot;, &quot;opacity&quot;: 1.0, &quot;linewidth&quot;: 1.0}, {&quot;points&quot;: [[3.8541019662496847, 0.6180339887498949, -2.618033988749895], [3.23606797749979, 1.618033988749895, -3.0]], &quot;color&quot;: &quot;#0000ff&quot;, &quot;opacity&quot;: 1.0, &quot;linewidth&quot;: 1.0}, {&quot;points&quot;: [[3.8541019662496847, 0.6180339887498949, -2.618033988749895], [3.8541019662496847, -0.6180339887498949, -2.618033988749895]], &quot;color&quot;: &quot;#0000ff&quot;, &quot;opacity&quot;: 1.0, &quot;linewidth&quot;: 1.0}, {&quot;points&quot;: [[2.23606797749979, -2.0, -3.618033988749895], [3.23606797749979, -1.618033988749895, -3.0]], &quot;color&quot;: &quot;#0000ff&quot;, &quot;opacity&quot;: 1.0, &quot;linewidth&quot;: 1.0}, {&quot;points&quot;: [[3.8541019662496847, -0.6180339887498949, -2.618033988749895], [3.23606797749979, -1.618033988749895, -3.0]], &quot;color&quot;: &quot;#0000ff&quot;, &quot;opacity&quot;: 1.0, &quot;linewidth&quot;: 1.0}, {&quot;points&quot;: [[-1.618033988749895, -3.0, -3.23606797749979], [-2.0, -3.618033988749895, -2.23606797749979]], &quot;color&quot;: &quot;#0000ff&quot;, &quot;opacity&quot;: 1.0, &quot;linewidth&quot;: 1.0}, {&quot;points&quot;: [[-1.618033988749895, -3.0, -3.23606797749979], [-2.23606797749979, -2.0, -3.618033988749895]], &quot;color&quot;: &quot;#0000ff&quot;, &quot;opacity&quot;: 1.0, &quot;linewidth&quot;: 1.0}, {&quot;points&quot;: [[-2.0, -3.618033988749895, -2.23606797749979], [-3.0, -3.23606797749979, -1.618033988749895]], &quot;color&quot;: &quot;#0000ff&quot;, &quot;opacity&quot;: 1.0, &quot;linewidth&quot;: 1.0}, {&quot;points&quot;: [[-3.0, -3.23606797749979, -1.618033988749895], [-3.618033988749895, -2.23606797749979, -2.0]], &quot;color&quot;: &quot;#0000ff&quot;, &quot;opacity&quot;: 1.0, &quot;linewidth&quot;: 1.0}, {&quot;points&quot;: [[-4.23606797749979, -1.2360679774997898, -1.618033988749895], [-3.618033988749895, -2.23606797749979, -2.0]], &quot;color&quot;: &quot;#0000ff&quot;, &quot;opacity&quot;: 1.0, &quot;linewidth&quot;: 1.0}, {&quot;points&quot;: [[-4.23606797749979, -1.2360679774997898, -1.618033988749895], [-3.8541019662496847, -0.6180339887498949, -2.618033988749895]], &quot;color&quot;: &quot;#0000ff&quot;, &quot;opacity&quot;: 1.0, &quot;linewidth&quot;: 1.0}, {&quot;points&quot;: [[-3.618033988749895, -2.23606797749979, -2.0], [-3.23606797749979, -1.618033988749895, -3.0]], &quot;color&quot;: &quot;#0000ff&quot;, &quot;opacity&quot;: 1.0, &quot;linewidth&quot;: 1.0}, {&quot;points&quot;: [[-1.2360679774997898, 1.618033988749895, -4.23606797749979], [-2.23606797749979, 2.0, -3.618033988749895]], &quot;color&quot;: &quot;#0000ff&quot;, &quot;opacity&quot;: 1.0, &quot;linewidth&quot;: 1.0}, {&quot;points&quot;: [[-1.2360679774997898, 1.618033988749895, -4.23606797749979], [-0.6180339887498949, 0.6180339887498949, -4.618033988749895]], &quot;color&quot;: &quot;#0000ff&quot;, &quot;opacity&quot;: 1.0, &quot;linewidth&quot;: 1.0}, {&quot;points&quot;: [[-1.2360679774997898, -1.618033988749895, -4.23606797749979], [-0.6180339887498949, -0.6180339887498949, -4.618033988749895]], &quot;color&quot;: &quot;#0000ff&quot;, &quot;opacity&quot;: 1.0, &quot;linewidth&quot;: 1.0}, {&quot;points&quot;: [[-1.2360679774997898, -1.618033988749895, -4.23606797749979], [-2.23606797749979, -2.0, -3.618033988749895]], &quot;color&quot;: &quot;#0000ff&quot;, &quot;opacity&quot;: 1.0, &quot;linewidth&quot;: 1.0}, {&quot;points&quot;: [[-2.23606797749979, 2.0, -3.618033988749895], [-3.23606797749979, 1.618033988749895, -3.0]], &quot;color&quot;: &quot;#0000ff&quot;, &quot;opacity&quot;: 1.0, &quot;linewidth&quot;: 1.0}, {&quot;points&quot;: [[-3.8541019662496847, 0.6180339887498949, -2.618033988749895], [-3.23606797749979, 1.618033988749895, -3.0]], &quot;color&quot;: &quot;#0000ff&quot;, &quot;opacity&quot;: 1.0, &quot;linewidth&quot;: 1.0}, {&quot;points&quot;: [[-3.8541019662496847, 0.6180339887498949, -2.618033988749895], [-3.8541019662496847, -0.6180339887498949, -2.618033988749895]], &quot;color&quot;: &quot;#0000ff&quot;, &quot;opacity&quot;: 1.0, &quot;linewidth&quot;: 1.0}, {&quot;points&quot;: [[-0.6180339887498949, 0.6180339887498949, -4.618033988749895], [-0.6180339887498949, -0.6180339887498949, -4.618033988749895]], &quot;color&quot;: &quot;#0000ff&quot;, &quot;opacity&quot;: 1.0, &quot;linewidth&quot;: 1.0}, {&quot;points&quot;: [[-2.23606797749979, -2.0, -3.618033988749895], [-3.23606797749979, -1.618033988749895, -3.0]], &quot;color&quot;: &quot;#0000ff&quot;, &quot;opacity&quot;: 1.0, &quot;linewidth&quot;: 1.0}, {&quot;points&quot;: [[-3.8541019662496847, -0.6180339887498949, -2.618033988749895], [-3.23606797749979, -1.618033988749895, -3.0]], &quot;color&quot;: &quot;#0000ff&quot;, &quot;opacity&quot;: 1.0, &quot;linewidth&quot;: 1.0}];\n",
       "    for ( var i=0 ; i < lines.length ; i++ ) addLine( lines[i] );\n",
       "\n",
       "    function addLine( json ) {\n",
       "\n",
       "        var geometry = new THREE.Geometry();\n",
       "        for ( var i=0 ; i < json.points.length ; i++ ) {\n",
       "            var v = json.points[i];\n",
       "            geometry.vertices.push( new THREE.Vector3( a[0]*v[0], a[1]*v[1], a[2]*v[2] ) );\n",
       "        }\n",
       "\n",
       "        var c = new THREE.Vector3();\n",
       "        geometry.computeBoundingBox();\n",
       "        geometry.boundingBox.getCenter( c );\n",
       "        geometry.translate( -c.x, -c.y, -c.z );\n",
       "\n",
       "        var transparent = json.opacity < 1 ? true : false;\n",
       "        var materialOptions = { color: json.color, linewidth: json.linewidth,\n",
       "                                transparent: transparent, opacity: json.opacity };\n",
       "\n",
       "        var mesh;\n",
       "        if ( json.linewidth > 1 && window.createFatLineStrip ) {\n",
       "            mesh = createFatLineStrip( geometry, materialOptions );\n",
       "        } else {\n",
       "            var material = new THREE.LineBasicMaterial( materialOptions );\n",
       "            mesh = new THREE.Line( geometry, material );\n",
       "        }\n",
       "\n",
       "        mesh.position.set( c.x, c.y, c.z );\n",
       "        mesh.userData = json;\n",
       "        scene.add( mesh );\n",
       "\n",
       "    }\n",
       "\n",
       "    var surfaces = [{&quot;vertices&quot;: [{&quot;x&quot;: 0.6180339887498949, &quot;y&quot;: 2.618033988749895, &quot;z&quot;: 3.8541019662496847}, {&quot;x&quot;: -0.6180339887498949, &quot;y&quot;: 2.618033988749895, &quot;z&quot;: 3.8541019662496847}, {&quot;x&quot;: 0.6180339887498949, &quot;y&quot;: 4.618033988749895, &quot;z&quot;: 0.6180339887498949}, {&quot;x&quot;: -0.6180339887498949, &quot;y&quot;: 4.618033988749895, &quot;z&quot;: 0.6180339887498949}, {&quot;x&quot;: 0.6180339887498949, &quot;y&quot;: -2.618033988749895, &quot;z&quot;: 3.8541019662496847}, {&quot;x&quot;: -0.6180339887498949, &quot;y&quot;: -2.618033988749895, &quot;z&quot;: 3.8541019662496847}, {&quot;x&quot;: 0.6180339887498949, &quot;y&quot;: -4.618033988749895, &quot;z&quot;: 0.6180339887498949}, {&quot;x&quot;: -0.6180339887498949, &quot;y&quot;: -4.618033988749895, &quot;z&quot;: 0.6180339887498949}, {&quot;x&quot;: 0.6180339887498949, &quot;y&quot;: 2.618033988749895, &quot;z&quot;: -3.8541019662496847}, {&quot;x&quot;: -0.6180339887498949, &quot;y&quot;: 2.618033988749895, &quot;z&quot;: -3.8541019662496847}, {&quot;x&quot;: 0.6180339887498949, &quot;y&quot;: 4.618033988749895, &quot;z&quot;: -0.6180339887498949}, {&quot;x&quot;: -0.6180339887498949, &quot;y&quot;: 4.618033988749895, &quot;z&quot;: -0.6180339887498949}, {&quot;x&quot;: 0.6180339887498949, &quot;y&quot;: -2.618033988749895, &quot;z&quot;: -3.8541019662496847}, {&quot;x&quot;: -0.6180339887498949, &quot;y&quot;: -2.618033988749895, &quot;z&quot;: -3.8541019662496847}, {&quot;x&quot;: 0.6180339887498949, &quot;y&quot;: -4.618033988749895, &quot;z&quot;: -0.6180339887498949}, {&quot;x&quot;: -0.6180339887498949, &quot;y&quot;: -4.618033988749895, &quot;z&quot;: -0.6180339887498949}, {&quot;x&quot;: 1.618033988749895, &quot;y&quot;: 4.23606797749979, &quot;z&quot;: 1.2360679774997898}, {&quot;x&quot;: 1.618033988749895, &quot;y&quot;: -4.23606797749979, &quot;z&quot;: 1.2360679774997898}, {&quot;x&quot;: -1.618033988749895, &quot;y&quot;: 4.23606797749979, &quot;z&quot;: 1.2360679774997898}, {&quot;x&quot;: -1.618033988749895, &quot;y&quot;: -4.23606797749979, &quot;z&quot;: 1.2360679774997898}, {&quot;x&quot;: 1.618033988749895, &quot;y&quot;: 4.23606797749979, &quot;z&quot;: -1.2360679774997898}, {&quot;x&quot;: 1.618033988749895, &quot;y&quot;: -4.23606797749979, &quot;z&quot;: -1.2360679774997898}, {&quot;x&quot;: -1.618033988749895, &quot;y&quot;: 4.23606797749979, &quot;z&quot;: -1.2360679774997898}, {&quot;x&quot;: -1.618033988749895, &quot;y&quot;: -4.23606797749979, &quot;z&quot;: -1.2360679774997898}, {&quot;x&quot;: 2.618033988749895, &quot;y&quot;: 3.8541019662496847, &quot;z&quot;: 0.6180339887498949}, {&quot;x&quot;: 2.618033988749895, &quot;y&quot;: 3.8541019662496847, &quot;z&quot;: -0.6180339887498949}, {&quot;x&quot;: 4.618033988749895, &quot;y&quot;: 0.6180339887498949, &quot;z&quot;: 0.6180339887498949}, {&quot;x&quot;: 4.618033988749895, &quot;y&quot;: 0.6180339887498949, &quot;z&quot;: -0.6180339887498949}, {&quot;x&quot;: -2.618033988749895, &quot;y&quot;: 3.8541019662496847, &quot;z&quot;: 0.6180339887498949}, {&quot;x&quot;: -2.618033988749895, &quot;y&quot;: 3.8541019662496847, &quot;z&quot;: -0.6180339887498949}, {&quot;x&quot;: -4.618033988749895, &quot;y&quot;: 0.6180339887498949, &quot;z&quot;: 0.6180339887498949}, {&quot;x&quot;: -4.618033988749895, &quot;y&quot;: 0.6180339887498949, &quot;z&quot;: -0.6180339887498949}, {&quot;x&quot;: 2.618033988749895, &quot;y&quot;: -3.8541019662496847, &quot;z&quot;: 0.6180339887498949}, {&quot;x&quot;: 2.618033988749895, &quot;y&quot;: -3.8541019662496847, &quot;z&quot;: -0.6180339887498949}, {&quot;x&quot;: 4.618033988749895, &quot;y&quot;: -0.6180339887498949, &quot;z&quot;: 0.6180339887498949}, {&quot;x&quot;: 4.618033988749895, &quot;y&quot;: -0.6180339887498949, &quot;z&quot;: -0.6180339887498949}, {&quot;x&quot;: -2.618033988749895, &quot;y&quot;: -3.8541019662496847, &quot;z&quot;: 0.6180339887498949}, {&quot;x&quot;: -2.618033988749895, &quot;y&quot;: -3.8541019662496847, &quot;z&quot;: -0.6180339887498949}, {&quot;x&quot;: -4.618033988749895, &quot;y&quot;: -0.6180339887498949, &quot;z&quot;: 0.6180339887498949}, {&quot;x&quot;: -4.618033988749895, &quot;y&quot;: -0.6180339887498949, &quot;z&quot;: -0.6180339887498949}, {&quot;x&quot;: 1.618033988749895, &quot;y&quot;: 3.0, &quot;z&quot;: 3.23606797749979}, {&quot;x&quot;: 2.0, &quot;y&quot;: 3.618033988749895, &quot;z&quot;: 2.23606797749979}, {&quot;x&quot;: 3.0, &quot;y&quot;: 3.23606797749979, &quot;z&quot;: 1.618033988749895}, {&quot;x&quot;: 4.23606797749979, &quot;y&quot;: 1.2360679774997898, &quot;z&quot;: 1.618033988749895}, {&quot;x&quot;: 3.618033988749895, &quot;y&quot;: 2.23606797749979, &quot;z&quot;: 2.0}, {&quot;x&quot;: -1.618033988749895, &quot;y&quot;: 3.0, &quot;z&quot;: 3.23606797749979}, {&quot;x&quot;: -2.0, &quot;y&quot;: 3.618033988749895, &quot;z&quot;: 2.23606797749979}, {&quot;x&quot;: -3.0, &quot;y&quot;: 3.23606797749979, &quot;z&quot;: 1.618033988749895}, {&quot;x&quot;: -4.23606797749979, &quot;y&quot;: 1.2360679774997898, &quot;z&quot;: 1.618033988749895}, {&quot;x&quot;: -3.618033988749895, &quot;y&quot;: 2.23606797749979, &quot;z&quot;: 2.0}, {&quot;x&quot;: 1.618033988749895, &quot;y&quot;: 3.0, &quot;z&quot;: -3.23606797749979}, {&quot;x&quot;: 2.0, &quot;y&quot;: 3.618033988749895, &quot;z&quot;: -2.23606797749979}, {&quot;x&quot;: 3.0, &quot;y&quot;: 3.23606797749979, &quot;z&quot;: -1.618033988749895}, {&quot;x&quot;: 4.23606797749979, &quot;y&quot;: 1.2360679774997898, &quot;z&quot;: -1.618033988749895}, {&quot;x&quot;: 3.618033988749895, &quot;y&quot;: 2.23606797749979, &quot;z&quot;: -2.0}, {&quot;x&quot;: -1.618033988749895, &quot;y&quot;: 3.0, &quot;z&quot;: -3.23606797749979}, {&quot;x&quot;: -2.0, &quot;y&quot;: 3.618033988749895, &quot;z&quot;: -2.23606797749979}, {&quot;x&quot;: -3.0, &quot;y&quot;: 3.23606797749979, &quot;z&quot;: -1.618033988749895}, {&quot;x&quot;: -4.23606797749979, &quot;y&quot;: 1.2360679774997898, &quot;z&quot;: -1.618033988749895}, {&quot;x&quot;: -3.618033988749895, &quot;y&quot;: 2.23606797749979, &quot;z&quot;: -2.0}, {&quot;x&quot;: 1.618033988749895, &quot;y&quot;: -3.0, &quot;z&quot;: 3.23606797749979}, {&quot;x&quot;: 2.0, &quot;y&quot;: -3.618033988749895, &quot;z&quot;: 2.23606797749979}, {&quot;x&quot;: 3.0, &quot;y&quot;: -3.23606797749979, &quot;z&quot;: 1.618033988749895}, {&quot;x&quot;: 4.23606797749979, &quot;y&quot;: -1.2360679774997898, &quot;z&quot;: 1.618033988749895}, {&quot;x&quot;: 3.618033988749895, &quot;y&quot;: -2.23606797749979, &quot;z&quot;: 2.0}, {&quot;x&quot;: 0.6180339887498949, &quot;y&quot;: 0.6180339887498949, &quot;z&quot;: 4.618033988749895}, {&quot;x&quot;: 0.6180339887498949, &quot;y&quot;: -0.6180339887498949, &quot;z&quot;: 4.618033988749895}, {&quot;x&quot;: 1.2360679774997898, &quot;y&quot;: 1.618033988749895, &quot;z&quot;: 4.23606797749979}, {&quot;x&quot;: 1.2360679774997898, &quot;y&quot;: -1.618033988749895, &quot;z&quot;: 4.23606797749979}, {&quot;x&quot;: 2.23606797749979, &quot;y&quot;: 2.0, &quot;z&quot;: 3.618033988749895}, {&quot;x&quot;: 3.8541019662496847, &quot;y&quot;: 0.6180339887498949, &quot;z&quot;: 2.618033988749895}, {&quot;x&quot;: 3.23606797749979, &quot;y&quot;: 1.618033988749895, &quot;z&quot;: 3.0}, {&quot;x&quot;: 2.23606797749979, &quot;y&quot;: -2.0, &quot;z&quot;: 3.618033988749895}, {&quot;x&quot;: 3.8541019662496847, &quot;y&quot;: -0.6180339887498949, &quot;z&quot;: 2.618033988749895}, {&quot;x&quot;: 3.23606797749979, &quot;y&quot;: -1.618033988749895, &quot;z&quot;: 3.0}, {&quot;x&quot;: -1.618033988749895, &quot;y&quot;: -3.0, &quot;z&quot;: 3.23606797749979}, {&quot;x&quot;: -2.0, &quot;y&quot;: -3.618033988749895, &quot;z&quot;: 2.23606797749979}, {&quot;x&quot;: -3.0, &quot;y&quot;: -3.23606797749979, &quot;z&quot;: 1.618033988749895}, {&quot;x&quot;: -4.23606797749979, &quot;y&quot;: -1.2360679774997898, &quot;z&quot;: 1.618033988749895}, {&quot;x&quot;: -3.618033988749895, &quot;y&quot;: -2.23606797749979, &quot;z&quot;: 2.0}, {&quot;x&quot;: -1.2360679774997898, &quot;y&quot;: 1.618033988749895, &quot;z&quot;: 4.23606797749979}, {&quot;x&quot;: -1.2360679774997898, &quot;y&quot;: -1.618033988749895, &quot;z&quot;: 4.23606797749979}, {&quot;x&quot;: -2.23606797749979, &quot;y&quot;: 2.0, &quot;z&quot;: 3.618033988749895}, {&quot;x&quot;: -3.8541019662496847, &quot;y&quot;: 0.6180339887498949, &quot;z&quot;: 2.618033988749895}, {&quot;x&quot;: -3.23606797749979, &quot;y&quot;: 1.618033988749895, &quot;z&quot;: 3.0}, {&quot;x&quot;: -0.6180339887498949, &quot;y&quot;: 0.6180339887498949, &quot;z&quot;: 4.618033988749895}, {&quot;x&quot;: -0.6180339887498949, &quot;y&quot;: -0.6180339887498949, &quot;z&quot;: 4.618033988749895}, {&quot;x&quot;: -2.23606797749979, &quot;y&quot;: -2.0, &quot;z&quot;: 3.618033988749895}, {&quot;x&quot;: -3.8541019662496847, &quot;y&quot;: -0.6180339887498949, &quot;z&quot;: 2.618033988749895}, {&quot;x&quot;: -3.23606797749979, &quot;y&quot;: -1.618033988749895, &quot;z&quot;: 3.0}, {&quot;x&quot;: 1.618033988749895, &quot;y&quot;: -3.0, &quot;z&quot;: -3.23606797749979}, {&quot;x&quot;: 2.0, &quot;y&quot;: -3.618033988749895, &quot;z&quot;: -2.23606797749979}, {&quot;x&quot;: 3.0, &quot;y&quot;: -3.23606797749979, &quot;z&quot;: -1.618033988749895}, {&quot;x&quot;: 4.23606797749979, &quot;y&quot;: -1.2360679774997898, &quot;z&quot;: -1.618033988749895}, {&quot;x&quot;: 3.618033988749895, &quot;y&quot;: -2.23606797749979, &quot;z&quot;: -2.0}, {&quot;x&quot;: 0.6180339887498949, &quot;y&quot;: 0.6180339887498949, &quot;z&quot;: -4.618033988749895}, {&quot;x&quot;: 0.6180339887498949, &quot;y&quot;: -0.6180339887498949, &quot;z&quot;: -4.618033988749895}, {&quot;x&quot;: 1.2360679774997898, &quot;y&quot;: 1.618033988749895, &quot;z&quot;: -4.23606797749979}, {&quot;x&quot;: 1.2360679774997898, &quot;y&quot;: -1.618033988749895, &quot;z&quot;: -4.23606797749979}, {&quot;x&quot;: 2.23606797749979, &quot;y&quot;: 2.0, &quot;z&quot;: -3.618033988749895}, {&quot;x&quot;: 3.8541019662496847, &quot;y&quot;: 0.6180339887498949, &quot;z&quot;: -2.618033988749895}, {&quot;x&quot;: 3.23606797749979, &quot;y&quot;: 1.618033988749895, &quot;z&quot;: -3.0}, {&quot;x&quot;: 2.23606797749979, &quot;y&quot;: -2.0, &quot;z&quot;: -3.618033988749895}, {&quot;x&quot;: 3.8541019662496847, &quot;y&quot;: -0.6180339887498949, &quot;z&quot;: -2.618033988749895}, {&quot;x&quot;: 3.23606797749979, &quot;y&quot;: -1.618033988749895, &quot;z&quot;: -3.0}, {&quot;x&quot;: -1.618033988749895, &quot;y&quot;: -3.0, &quot;z&quot;: -3.23606797749979}, {&quot;x&quot;: -2.0, &quot;y&quot;: -3.618033988749895, &quot;z&quot;: -2.23606797749979}, {&quot;x&quot;: -3.0, &quot;y&quot;: -3.23606797749979, &quot;z&quot;: -1.618033988749895}, {&quot;x&quot;: -4.23606797749979, &quot;y&quot;: -1.2360679774997898, &quot;z&quot;: -1.618033988749895}, {&quot;x&quot;: -3.618033988749895, &quot;y&quot;: -2.23606797749979, &quot;z&quot;: -2.0}, {&quot;x&quot;: -1.2360679774997898, &quot;y&quot;: 1.618033988749895, &quot;z&quot;: -4.23606797749979}, {&quot;x&quot;: -1.2360679774997898, &quot;y&quot;: -1.618033988749895, &quot;z&quot;: -4.23606797749979}, {&quot;x&quot;: -2.23606797749979, &quot;y&quot;: 2.0, &quot;z&quot;: -3.618033988749895}, {&quot;x&quot;: -3.8541019662496847, &quot;y&quot;: 0.6180339887498949, &quot;z&quot;: -2.618033988749895}, {&quot;x&quot;: -3.23606797749979, &quot;y&quot;: 1.618033988749895, &quot;z&quot;: -3.0}, {&quot;x&quot;: -0.6180339887498949, &quot;y&quot;: 0.6180339887498949, &quot;z&quot;: -4.618033988749895}, {&quot;x&quot;: -0.6180339887498949, &quot;y&quot;: -0.6180339887498949, &quot;z&quot;: -4.618033988749895}, {&quot;x&quot;: -2.23606797749979, &quot;y&quot;: -2.0, &quot;z&quot;: -3.618033988749895}, {&quot;x&quot;: -3.8541019662496847, &quot;y&quot;: -0.6180339887498949, &quot;z&quot;: -2.618033988749895}, {&quot;x&quot;: -3.23606797749979, &quot;y&quot;: -1.618033988749895, &quot;z&quot;: -3.0}], &quot;faces&quot;: [[86, 66, 65, 85], [115, 95, 96, 116], [85, 65, 67, 0, 1, 80], [110, 9, 8, 97, 95, 115], [81, 5, 4, 68, 66, 86], [116, 96, 98, 12, 13, 111], [69, 40, 0, 67], [97, 8, 50, 99], [68, 4, 60, 72], [102, 90, 12, 98], [80, 1, 45, 82], [112, 55, 9, 110], [87, 75, 5, 81], [111, 13, 105, 117], [11, 3, 2, 10], [14, 6, 7, 15], [25, 20, 10, 2, 16, 24], [32, 17, 6, 14, 21, 33], [28, 18, 3, 11, 22, 29], [37, 23, 15, 7, 19, 36], [45, 1, 0, 40, 41, 16, 2, 3, 18, 46], [76, 19, 7, 6, 17, 61, 60, 4, 5, 75], [56, 22, 11, 10, 20, 51, 50, 8, 9, 55], [105, 13, 12, 90, 91, 21, 14, 15, 23, 106], [42, 24, 16, 41], [61, 17, 32, 62], [46, 18, 28, 47], [77, 36, 19, 76], [51, 20, 25, 52], [92, 33, 21, 91], [57, 29, 22, 56], [106, 23, 37, 107], [35, 27, 26, 34], [38, 30, 31, 39], [73, 63, 34, 26, 43, 70], [83, 48, 30, 38, 78, 88], [100, 53, 27, 35, 93, 103], [118, 108, 39, 31, 58, 113], [54, 52, 25, 24, 42, 44, 43, 26, 27, 53], [58, 31, 30, 48, 49, 47, 28, 29, 57, 59], [93, 35, 34, 63, 64, 62, 32, 33, 92, 94], [109, 107, 37, 36, 77, 79, 78, 38, 39, 108], [71, 44, 42, 41, 40, 69], [70, 43, 44, 71], [82, 45, 46, 47, 49, 84], [84, 49, 48, 83], [99, 50, 51, 52, 54, 101], [101, 54, 53, 100], [114, 59, 57, 56, 55, 112], [113, 58, 59, 114], [72, 60, 61, 62, 64, 74], [74, 64, 63, 73], [73, 70, 71, 69, 67, 65, 66, 68, 72, 74], [89, 79, 77, 76, 75, 87], [88, 78, 79, 89], [89, 87, 81, 86, 85, 80, 82, 84, 83, 88], [104, 94, 92, 91, 90, 102], [103, 93, 94, 104], [104, 102, 98, 96, 95, 97, 99, 101, 100, 103], [117, 105, 106, 107, 109, 119], [119, 109, 108, 118], [118, 113, 114, 112, 110, 115, 116, 111, 117, 119]], &quot;color&quot;: &quot;#008000&quot;, &quot;opacity&quot;: 1.0}];\n",
       "    for ( var i=0 ; i < surfaces.length ; i++ ) addSurface( surfaces[i] );\n",
       "\n",
       "    function addSurface( json ) {\n",
       "\n",
       "        var useFaceColors = 'faceColors' in json ? true : false;\n",
       "\n",
       "        var geometry = new THREE.Geometry();\n",
       "        for ( var i=0 ; i < json.vertices.length ; i++ ) {\n",
       "            var v = json.vertices[i];\n",
       "            geometry.vertices.push( new THREE.Vector3( a[0]*v.x, a[1]*v.y, a[2]*v.z ) );\n",
       "        }\n",
       "        for ( var i=0 ; i < json.faces.length ; i++ ) {\n",
       "            var f = json.faces[i];\n",
       "            for ( var j=0 ; j < f.length - 2 ; j++ ) {\n",
       "                var face = new THREE.Face3( f[0], f[j+1], f[j+2] );\n",
       "                if ( useFaceColors ) face.color.set( json.faceColors[i] );\n",
       "                geometry.faces.push( face );\n",
       "            }\n",
       "        }\n",
       "        geometry.computeVertexNormals();\n",
       "\n",
       "        var side = json.singleSide ? THREE.FrontSide : THREE.DoubleSide;\n",
       "        var transparent = json.opacity < 1 ? true : false;\n",
       "        var depthWrite = 'depthWrite' in json ? json.depthWrite : !transparent;\n",
       "        var flatShading = json.useFlatShading ? json.useFlatShading : false;\n",
       "\n",
       "        var material = new THREE.MeshPhongMaterial( { side: side,\n",
       "                                     color: useFaceColors ? 'white' : json.color,\n",
       "                                     vertexColors: useFaceColors ? THREE.FaceColors : THREE.NoColors,\n",
       "                                     transparent: transparent, opacity: json.opacity,\n",
       "                                     shininess: 20, flatShading: flatShading,\n",
       "                                     depthWrite: depthWrite } );\n",
       "\n",
       "        var c = new THREE.Vector3();\n",
       "        geometry.computeBoundingBox();\n",
       "        geometry.boundingBox.getCenter( c );\n",
       "        geometry.translate( -c.x, -c.y, -c.z );\n",
       "\n",
       "        var mesh = new THREE.Mesh( geometry, material );\n",
       "        mesh.position.set( c.x, c.y, c.z );\n",
       "        if ( transparent && json.renderOrder ) mesh.renderOrder = json.renderOrder;\n",
       "        mesh.userData = json;\n",
       "        scene.add( mesh );\n",
       "\n",
       "        if ( json.showMeshGrid ) addSurfaceMeshGrid( json );\n",
       "\n",
       "    }\n",
       "\n",
       "    function addSurfaceMeshGrid( json ) {\n",
       "\n",
       "        var geometry = new THREE.Geometry();\n",
       "\n",
       "        for ( var i=0 ; i < json.faces.length ; i++ ) {\n",
       "            var f = json.faces[i];\n",
       "            for ( var j=0 ; j < f.length ; j++ ) {\n",
       "                var k = j === f.length-1 ? 0 : j+1;\n",
       "                var v1 = json.vertices[f[j]];\n",
       "                var v2 = json.vertices[f[k]];\n",
       "                // vertices in opposite directions on neighboring faces\n",
       "                var nudge = f[j] < f[k] ? .0005*zRange : -.0005*zRange;\n",
       "                geometry.vertices.push( new THREE.Vector3( a[0]*v1.x, a[1]*v1.y, a[2]*(v1.z+nudge) ) );\n",
       "                geometry.vertices.push( new THREE.Vector3( a[0]*v2.x, a[1]*v2.y, a[2]*(v2.z+nudge) ) );\n",
       "            }\n",
       "        }\n",
       "\n",
       "        var c = new THREE.Vector3();\n",
       "        geometry.computeBoundingBox();\n",
       "        geometry.boundingBox.getCenter( c );\n",
       "        geometry.translate( -c.x, -c.y, -c.z );\n",
       "\n",
       "        var gridColor = options.theme === 'dark' ? 'white' : 'black';\n",
       "        var linewidth = json.linewidth || 1;\n",
       "        var materialOptions = { color: gridColor, linewidth: linewidth };\n",
       "\n",
       "        var mesh;\n",
       "        if ( linewidth > 1 && window.createFatLineSegments ) {\n",
       "            mesh = createFatLineSegments( geometry, materialOptions );\n",
       "        } else {\n",
       "            var material = new THREE.LineBasicMaterial( materialOptions );\n",
       "            mesh = new THREE.LineSegments( geometry, material );\n",
       "        }\n",
       "\n",
       "        mesh.position.set( c.x, c.y, c.z );\n",
       "        mesh.userData = json;\n",
       "        scene.add( mesh );\n",
       "\n",
       "    }\n",
       "\n",
       "    function render() {\n",
       "\n",
       "        if ( window.updateAnimation ) animate = updateAnimation();\n",
       "        if ( animate ) requestAnimationFrame( render );\n",
       "\n",
       "        renderer.render( scene, camera );\n",
       "\n",
       "    }\n",
       "\n",
       "    render();\n",
       "    controls.update();\n",
       "    if ( !animate ) render();\n",
       "\n",
       "\n",
       "    // menu functions\n",
       "\n",
       "    function toggleMenu() {\n",
       "\n",
       "        var m = document.getElementById( 'menu-content' );\n",
       "        if ( m.style.display === 'block' ) m.style.display = 'none'\n",
       "        else m.style.display = 'block';\n",
       "\n",
       "    }\n",
       "\n",
       "\n",
       "    function saveAsPNG() {\n",
       "\n",
       "        var a = document.body.appendChild( document.createElement( 'a' ) );\n",
       "        a.href = renderer.domElement.toDataURL( 'image/png' );\n",
       "        a.download = 'screenshot';\n",
       "        a.click();\n",
       "\n",
       "    }\n",
       "\n",
       "    function saveAsHTML() {\n",
       "\n",
       "        toggleMenu(); // otherwise visible in output\n",
       "        event.stopPropagation();\n",
       "\n",
       "        var blob = new Blob( [ '<!DOCTYPE html>\\n' + document.documentElement.outerHTML ] );\n",
       "        var a = document.body.appendChild( document.createElement( 'a' ) );\n",
       "        a.href = window.URL.createObjectURL( blob );\n",
       "        a.download = suggestFilename();\n",
       "        a.click();\n",
       "\n",
       "        function suggestFilename() {\n",
       "            if ( !document.title ) {\n",
       "                return 'graphic.html';\n",
       "            } else if ( /\\.html?$/i.test( document.title ) ) {\n",
       "                return document.title; // already ends in .htm or .html\n",
       "            } else {\n",
       "                return document.title + '.html';\n",
       "            }\n",
       "        }\n",
       "\n",
       "    }\n",
       "\n",
       "    function getViewpoint() {\n",
       "\n",
       "        function roundTo( x, n ) { return +x.toFixed(n); }\n",
       "\n",
       "        var v = camera.quaternion.inverse();\n",
       "        var r = Math.sqrt( v.x*v.x + v.y*v.y + v.z*v.z );\n",
       "        var axis = [ roundTo( v.x / r, 4 ), roundTo( v.y / r, 4 ), roundTo( v.z / r, 4 ) ];\n",
       "        var angle = roundTo( 2 * Math.atan2( r, v.w ) * 180 / Math.PI, 2 );\n",
       "\n",
       "        var textArea = document.createElement( 'textarea' );\n",
       "        textArea.textContent = JSON.stringify( axis ) + ',' + angle;\n",
       "        textArea.style.csstext = 'position: absolute; top: -100%';\n",
       "        document.body.append( textArea );\n",
       "        textArea.select();\n",
       "        document.execCommand( 'copy' );\n",
       "\n",
       "        var m = document.getElementById( 'menu-message' );\n",
       "        m.innerHTML = 'Viewpoint copied to clipboard';\n",
       "        m.style.display = 'block';\n",
       "        setTimeout( function() { m.style.display = 'none'; }, 2000 );\n",
       "\n",
       "    }\n",
       "\n",
       "    function getCamera() {\n",
       "\n",
       "        function roundTo( x, n ) { return +x.toFixed(n); }\n",
       "\n",
       "        var pos = camera.position;\n",
       "        var pos_r = [ roundTo( pos.x, 4 ), roundTo( pos.y, 4 ), roundTo( pos.z, 4 ) ];\n",
       "   //     var up = camera.up; // up is always (0,0,1)\n",
       "        var textArea = document.createElement('textarea');\n",
       "        var cam_position = JSON.stringify(pos_r);\n",
       "        textArea.textContent = ',camera_position=' + cam_position;\n",
       "        textArea.style.csstext = 'position: absolute; top: -100%';\n",
       "        document.body.append( textArea );\n",
       "        textArea.select();\n",
       "        document.execCommand( 'copy' );\n",
       "\n",
       "        var m = document.getElementById( 'menu-message' );\n",
       "        m.innerHTML = 'Camera position '+ cam_position+' copied to clipboard';\n",
       "        m.style.display = 'block';\n",
       "        setTimeout( function() { m.style.display = 'none'; }, 2000 );\n",
       "\n",
       "    }\n",
       "                                       \n",
       "</script>\n",
       "\n",
       "<div id=&quot;menu-container&quot; onclick=&quot;toggleMenu()&quot;>&#x24d8;\n",
       "<div id=&quot;menu-message&quot;></div>\n",
       "<div id=&quot;menu-content&quot;>\n",
       "<div onclick=&quot;saveAsPNG()&quot;>Save as PNG</div>\n",
       "<div onclick=&quot;saveAsHTML()&quot;>Save as HTML</div>\n",
       "<div onclick=&quot;getCamera()&quot;>Get camera</div>\n",
       "<div onclick=&quot;getViewpoint()&quot;>Get viewpoint</div>\n",
       "<div>Close Menu</div>\n",
       "</div></div>\n",
       "\n",
       "\n",
       "</body>\n",
       "</html>\n",
       "\"\n",
       "        width=\"100%\"\n",
       "        height=\"400\"\n",
       "        style=\"border: 0;\">\n",
       "</iframe>\n"
      ],
      "text/plain": [
       "Graphics3d Object"
      ]
     },
     "execution_count": 22,
     "metadata": {},
     "output_type": "execute_result"
    }
   ],
   "source": [
    "polytopes.truncated_icosidodecahedron().plot(viewer=\"threejs\")"
   ]
  },
  {
   "cell_type": "markdown",
   "metadata": {},
   "source": [
    "### Programming and plotting"
   ]
  },
  {
   "cell_type": "code",
   "execution_count": 23,
   "metadata": {},
   "outputs": [
    {
     "data": {
      "image/png": "[encoded data removed]",
      "text/plain": [
       "Graphics object consisting of 2 graphics primitives"
      ]
     },
     "metadata": {},
     "output_type": "display_data"
    }
   ],
   "source": [
    "n, l, x, y = 10000, 1, 0, 0\n",
    "p = [[0, 0]]\n",
    "for k in range(n):\n",
    "    theta = (2 * pi * random()).n(digits=5)\n",
    "    x, y = x + l * cos(theta), y + l * sin(theta)\n",
    "    p.append([x, y])\n",
    "g = line(p, thickness=.4) + line([p[n], [0, 0]], color='red', thickness=2)\n",
    "g.show(aspect_ratio=1)"
   ]
  },
  {
   "cell_type": "markdown",
   "metadata": {},
   "source": [
    "### Interactive plots"
   ]
  },
  {
   "cell_type": "code",
   "execution_count": 48,
   "metadata": {},
   "outputs": [
    {
     "name": "stderr",
     "output_type": "stream",
     "text": [
      "<>:18: DeprecationWarning: invalid escape sequence \\;\n",
      "<>:19: DeprecationWarning: invalid escape sequence \\;\n",
      "<>:18: DeprecationWarning: invalid escape sequence \\;\n",
      "<>:19: DeprecationWarning: invalid escape sequence \\;\n",
      "<>:18: DeprecationWarning: invalid escape sequence \\;\n",
      "<>:19: DeprecationWarning: invalid escape sequence \\;\n",
      "<ipython-input-48-d49174d649b0>:18: DeprecationWarning: invalid escape sequence \\;\n",
      "  html('$f(x)\\;=\\;%s$'%latex(f))\n",
      "<ipython-input-48-d49174d649b0>:19: DeprecationWarning: invalid escape sequence \\;\n",
      "  html('$P_{%s}(x)\\;=\\;%s+R_{%s}(x)$'%(degree,latex(ft),degree))\n"
     ]
    },
    {
     "data": {
      "application/vnd.jupyter.widget-view+json": {
       "model_id": "45535e44340543adbc4d2367630cbf75",
       "version_major": 2,
       "version_minor": 0
      },
      "text/plain": [
       "Interactive function <function g at 0x7fb4b73b4950> with 5 widgets\n",
       "  f: EvalText(value='x*sin(1/x)', descripti…"
      ]
     },
     "metadata": {},
     "output_type": "display_data"
    }
   ],
   "source": [
    "var('x')\n",
    "var('c')\n",
    "@interact\n",
    "def g(f=x*sin(1/x),\n",
    "      c=slider(-1, 1, .01, default=-.5),\n",
    "      n=(1..30),\n",
    "      xinterval=range_slider(-1, 1, .1, default=(-8,8), label=\"x-interval\"),\n",
    "      yinterval=range_slider(-1, 1, .1, default=(-3,3), label=\"y-interval\")):\n",
    "    x0 = c\n",
    "    degree = n\n",
    "    xmin,xmax = xinterval\n",
    "    ymin,ymax = yinterval\n",
    "    p   = plot(f, xmin, xmax, thickness=4)\n",
    "    dot = point((x0,f(x=x0)),pointsize=80,rgbcolor=(1,0,0))\n",
    "    ft = f.taylor(x,x0,degree)\n",
    "    pt = plot(ft, xmin, xmax, color='red', thickness=2, fill=f)\n",
    "    show(dot + p + pt, ymin=ymin, ymax=ymax, xmin=xmin, xmax=xmax)\n",
    "    html('$f(x)\\;=\\;%s$'%latex(f))\n",
    "    html('$P_{%s}(x)\\;=\\;%s+R_{%s}(x)$'%(degree,latex(ft),degree))"
   ]
  },
  {
   "cell_type": "code",
   "execution_count": 52,
   "metadata": {},
   "outputs": [],
   "source": [
    "## Copia de Interactive plots"
   ]
  },
  {
   "cell_type": "code",
   "execution_count": 51,
   "metadata": {},
   "outputs": [
    {
     "name": "stderr",
     "output_type": "stream",
     "text": [
      "<>:19: DeprecationWarning: invalid escape sequence \\;\n",
      "<>:20: DeprecationWarning: invalid escape sequence \\;\n",
      "<>:19: DeprecationWarning: invalid escape sequence \\;\n",
      "<>:20: DeprecationWarning: invalid escape sequence \\;\n",
      "<>:19: DeprecationWarning: invalid escape sequence \\;\n",
      "<>:20: DeprecationWarning: invalid escape sequence \\;\n",
      "<ipython-input-51-9b60a856ec3c>:19: DeprecationWarning: invalid escape sequence \\;\n",
      "  html('$f(x)\\;=\\;%s$'%latex(f))\n",
      "<ipython-input-51-9b60a856ec3c>:20: DeprecationWarning: invalid escape sequence \\;\n",
      "  html('$P_{%s}(x)\\;=\\;%s+R_{%s}(x)$'%(degree,latex(ft),degree))\n"
     ]
    },
    {
     "data": {
      "application/vnd.jupyter.widget-view+json": {
       "model_id": "926132b0c505487d852ff54dbfbdda41",
       "version_major": 2,
       "version_minor": 0
      },
      "text/plain": [
       "Interactive function <function h at 0x7fb4b72710e0> with 5 widgets\n",
       "  f: EvalText(value='x^3 + a*x + b', descri…"
      ]
     },
     "metadata": {},
     "output_type": "display_data"
    }
   ],
   "source": [
    "var('x')\n",
    "@interact\n",
    "def h(f=x^3 + a*x + b,\n",
    "      a=slider(-1, 1, 0.01, default=-0.62),\n",
    "      b=slider(-1, 1, 0.01, default=0.8),\n",
    "      xinterval=range_slider(-1, 1, 0.01, default=(-80,80), label=\"x-interval\"),\n",
    "      yinterval=range_slider(-1, 1, 0.01, default=(-30,30), label=\"y-interval\")):\n",
    "    x0 = a\n",
    "    degree = b\n",
    "    xmin,xmax = xinterval\n",
    "    ymin,ymax = yinterval\n",
    "    p   = plot(f, xmin, xmax, thickness=4)\n",
    "    dot = point((x0,f(x=x0)),pointsize=80,rgbcolor=(1,0,0))\n",
    "    ft = f.taylor(x,x0,degree)\n",
    "    pt = plot(ft, xmin, xmax, color='red', thickness=2, fill=f)\n",
    "    show(dot + p + pt, ymin=ymin, ymax=ymax, xmin=xmin, xmax=xmax)\n",
    "    pt = plot(f)\n",
    "    show(pt)\n",
    "    html('$f(x)\\;=\\;%s$'%latex(f))\n",
    "    html('$P_{%s}(x)\\;=\\;%s+R_{%s}(x)$'%(degree,latex(ft),degree))"
   ]
  },
  {
   "cell_type": "markdown",
   "metadata": {},
   "source": [
    "### Graph Theory\n",
    "\n",
    "Coloring graphs:"
   ]
  },
  {
   "cell_type": "code",
   "execution_count": 25,
   "metadata": {},
   "outputs": [
    {
     "data": {
      "image/png": "[encoded data removed]",
      "text/plain": [
       "Graphics object consisting of 26 graphics primitives"
      ]
     },
     "execution_count": 25,
     "metadata": {},
     "output_type": "execute_result"
    }
   ],
   "source": [
    "g = graphs.PetersenGraph(); g\n",
    "g.plot(partition=g.coloring())"
   ]
  },
  {
   "cell_type": "markdown",
   "metadata": {},
   "source": [
    "### Combinatorics\n",
    "\n",
    "Fast counting:"
   ]
  },
  {
   "cell_type": "code",
   "execution_count": 26,
   "metadata": {},
   "outputs": [
    {
     "data": {
      "text/html": [
       "<html>\\[\\newcommand{\\Bold}[1]{\\mathbf{#1}}27493510569775696512677516320986352688173429315980054758203125984302147328114964173055050741660736621590157844774296248940493063070200461792764493033510116079342457190155718943509725312466108452006369558934464248716828789832182345009262853831404597021307130674510624419227311238999702284408609370935531629697851569569892196108480158600569421098519\\]</html>"
      ],
      "text/latex": [
       "$$\\newcommand{\\Bold}[1]{\\mathbf{#1}}27493510569775696512677516320986352688173429315980054758203125984302147328114964173055050741660736621590157844774296248940493063070200461792764493033510116079342457190155718943509725312466108452006369558934464248716828789832182345009262853831404597021307130674510624419227311238999702284408609370935531629697851569569892196108480158600569421098519$$"
      ],
      "text/plain": [
       "27493510569775696512677516320986352688173429315980054758203125984302147328114964173055050741660736621590157844774296248940493063070200461792764493033510116079342457190155718943509725312466108452006369558934464248716828789832182345009262853831404597021307130674510624419227311238999702284408609370935531629697851569569892196108480158600569421098519"
      ]
     },
     "execution_count": 26,
     "metadata": {},
     "output_type": "execute_result"
    }
   ],
   "source": [
    "Partitions(100000).cardinality()"
   ]
  },
  {
   "cell_type": "markdown",
   "metadata": {},
   "source": [
    "Playing poker:"
   ]
  },
  {
   "cell_type": "code",
   "execution_count": 27,
   "metadata": {},
   "outputs": [
    {
     "data": {
      "text/html": [
       "<html>\\[\\newcommand{\\Bold}[1]{\\mathbf{#1}}\\left\\{\\left(\\verb|Queen|, \\verb|Clubs|\\right), \\left(\\verb|Jack|, \\verb|Hearts|\\right), \\left(3, \\verb|Clubs|\\right), \\left(8, \\verb|Spades|\\right), \\left(10, \\verb|Diamonds|\\right)\\right\\}\\]</html>"
      ],
      "text/latex": [
       "$$\\newcommand{\\Bold}[1]{\\mathbf{#1}}\\left\\{\\left(\\verb|Queen|, \\verb|Clubs|\\right), \\left(\\verb|Jack|, \\verb|Hearts|\\right), \\left(3, \\verb|Clubs|\\right), \\left(8, \\verb|Spades|\\right), \\left(10, \\verb|Diamonds|\\right)\\right\\}$$"
      ],
      "text/plain": [
       "{('Queen', 'Clubs'), ('Jack', 'Hearts'), (3, 'Clubs'), (8, 'Spades'), (10, 'Diamonds')}"
      ]
     },
     "execution_count": 27,
     "metadata": {},
     "output_type": "execute_result"
    }
   ],
   "source": [
    "Suits   = Set([\"Hearts\", \"Diamonds\", \"Spades\", \"Clubs\"])\n",
    "Values  = Set([2, 3, 4, 5, 6, 7, 8, 9, 10, \"Jack\", \"Queen\", \"King\", \"Ace\"])\n",
    "Cards   = cartesian_product([Values, Suits])\n",
    "Hands   = Subsets(Cards, 5)\n",
    "Hands.random_element()"
   ]
  },
  {
   "cell_type": "code",
   "execution_count": 28,
   "metadata": {},
   "outputs": [
    {
     "data": {
      "text/html": [
       "<html>\\[\\newcommand{\\Bold}[1]{\\mathbf{#1}}2598960\\]</html>"
      ],
      "text/latex": [
       "$$\\newcommand{\\Bold}[1]{\\mathbf{#1}}2598960$$"
      ],
      "text/plain": [
       "2598960"
      ]
     },
     "execution_count": 28,
     "metadata": {},
     "output_type": "execute_result"
    }
   ],
   "source": [
    "Hands.cardinality()"
   ]
  },
  {
   "cell_type": "markdown",
   "metadata": {},
   "source": [
    "### Algebraic Combinatorics\n",
    "\n",
    "Drawing an affine root systems:"
   ]
  },
  {
   "cell_type": "code",
   "execution_count": 29,
   "metadata": {},
   "outputs": [
    {
     "data": {
      "text/html": [
       "\n",
       "<iframe srcdoc=\"<!DOCTYPE html>\n",
       "<html>\n",
       "<head>\n",
       "<title></title>\n",
       "<meta charset=&quot;utf-8&quot;>\n",
       "<meta name=viewport content=&quot;width=device-width, user-scalable=no, minimum-scale=1.0, maximum-scale=1.0&quot;>\n",
       "<style>\n",
       "\n",
       "    body { margin: 0px; overflow: hidden; }\n",
       "\n",
       "    #menu-container { position: absolute; bottom: 30px; right: 40px; cursor: default; }\n",
       "\n",
       "    #menu-message { position: absolute; bottom: 0px; right: 0px; white-space: nowrap;\n",
       "                    display: none; background-color: #F5F5F5; padding: 10px; }\n",
       "\n",
       "    #menu-content { position: absolute; bottom: 0px; right: 0px;\n",
       "                    display: none; background-color: #F5F5F5; border-bottom: 1px solid black;\n",
       "                    border-right: 1px solid black; border-left: 1px solid black; }\n",
       "\n",
       "    #menu-content div { border-top: 1px solid black; padding: 10px; white-space: nowrap; }\n",
       "\n",
       "    #menu-content div:hover { background-color: #FEFEFE; }\n",
       "\n",
       "    .dark-theme #menu-container { color: white; }\n",
       "\n",
       "    .dark-theme #menu-message { background-color: #181818; }\n",
       "\n",
       "    .dark-theme #menu-content { background-color: #181818; border-color: white; }\n",
       "\n",
       "    .dark-theme #menu-content div { border-color: white; }\n",
       "\n",
       "    .dark-theme #menu-content div:hover { background-color: #303030; }\n",
       "\n",
       "</style>\n",
       "\n",
       "</head>\n",
       "\n",
       "<body>\n",
       "\n",
       "<script src=&quot;/nbextensions/threejs-sage/r122/three.min.js&quot;></script>\n",
       "<script>\n",
       "  if ( !window.THREE ) document.write(' \\\n",
       "<script src=&quot;https://cdn.jsdelivr.net/gh/sagemath/threejs-sage@r122/build/three.min.js&quot;><\\/script> \\\n",
       "            ');\n",
       "</script>\n",
       "        <script>// fat_lines.js\n",
       "\n",
       "var _fatLines = [];\n",
       "\n",
       "function _createFatLine( lineStrip, geometry, materialOptions ) {\n",
       "\n",
       "    var vertexCount = geometry.vertices.length;\n",
       "    var positions = [];\n",
       "    for ( var i=0 ; i < vertexCount ; i++ ) {\n",
       "        var v = geometry.vertices[i];\n",
       "        positions.push( v.x, v.y, v.z );\n",
       "        // For a line strip, duplicate all but the first and last vertices.\n",
       "        if ( lineStrip && i > 0 && i < vertexCount - 1 ) {\n",
       "            positions.push( v.x, v.y, v.z );\n",
       "        }\n",
       "    }\n",
       "\n",
       "    geometry = new THREE.LineSegmentsGeometry();\n",
       "    geometry.setPositions( positions );\n",
       "\n",
       "    var material = new THREE.LineMaterial( materialOptions );\n",
       "    material.resolution = new THREE.Vector2( window.innerWidth, window.innerHeight );\n",
       "\n",
       "    var line = new THREE.LineSegments2( geometry, material );\n",
       "    line.computeLineDistances();\n",
       "    line.scale.set( 1, 1, 1 );\n",
       "\n",
       "    _fatLines.push( line );\n",
       "\n",
       "    return line;\n",
       "\n",
       "}\n",
       "\n",
       "function createFatLineStrip( geometry, materialOptions ) {\n",
       "    return _createFatLine( true, geometry, materialOptions );\n",
       "}\n",
       "\n",
       "function createFatLineSegments( geometry, materialOptions ) {\n",
       "    return _createFatLine( false, geometry, materialOptions );\n",
       "}\n",
       "\n",
       "function rescaleFatLines() {\n",
       "    var res = new THREE.Vector2( window.innerWidth, window.innerHeight );\n",
       "    var n = _fatLines.length;\n",
       "    for ( var i=0 ; i < n ; i++ ) {\n",
       "        _fatLines[i].material.resolution = res;\n",
       "    }\n",
       "}\n",
       "</script>\n",
       "<script>\n",
       "\n",
       "    var options = {&quot;animate&quot;: false, &quot;animationControls&quot;: true, &quot;aspectRatio&quot;: [1.0, 1.0, 2.0], &quot;autoPlay&quot;: true, &quot;axes&quot;: false, &quot;axesLabels&quot;: false, &quot;axesLabelsStyle&quot;: null, &quot;decimals&quot;: 2, &quot;delay&quot;: 20, &quot;frame&quot;: false, &quot;loop&quot;: true, &quot;projection&quot;: &quot;perspective&quot;, &quot;theme&quot;: &quot;light&quot;, &quot;viewpoint&quot;: false};\n",
       "    var animate = options.animate;\n",
       "\n",
       "    if ( options.theme === 'dark' )\n",
       "        document.body.className = 'dark-theme';\n",
       "\n",
       "    var scene = new THREE.Scene();\n",
       "\n",
       "    var renderer = new THREE.WebGLRenderer( { antialias: true, preserveDrawingBuffer: true } );\n",
       "    renderer.setPixelRatio( window.devicePixelRatio );\n",
       "    renderer.setSize( window.innerWidth, window.innerHeight );\n",
       "    renderer.setClearColor( options.theme === 'dark' ? 0 : 0xffffff, 1 );\n",
       "    document.body.appendChild( renderer.domElement );\n",
       "\n",
       "    var b = [{&quot;x&quot;:-3.0, &quot;y&quot;:-3.0, &quot;z&quot;:-0.07941833584043519}, {&quot;x&quot;:3.1500000000000004, &quot;y&quot;:3.1500000000000004, &quot;z&quot;:2.1}]; // bounds\n",
       "\n",
       "    if ( b[0].x === b[1].x ) {\n",
       "        b[0].x -= 1;\n",
       "        b[1].x += 1;\n",
       "    }\n",
       "    if ( b[0].y === b[1].y ) {\n",
       "        b[0].y -= 1;\n",
       "        b[1].y += 1;\n",
       "    }\n",
       "    if ( b[0].z === b[1].z ) {\n",
       "        b[0].z -= 1;\n",
       "        b[1].z += 1;\n",
       "    }\n",
       "\n",
       "    var rRange = Math.sqrt( Math.pow( b[1].x - b[0].x, 2 )\n",
       "                            + Math.pow( b[1].y - b[0].y, 2 ) );\n",
       "    var xRange = b[1].x - b[0].x;\n",
       "    var yRange = b[1].y - b[0].y;\n",
       "    var zRange = b[1].z - b[0].z;\n",
       "\n",
       "    var ar = options.aspectRatio;\n",
       "    var a = [ ar[0], ar[1], ar[2] ]; // aspect multipliers\n",
       "    var autoAspect = 2.5;\n",
       "    if ( zRange > autoAspect * rRange && a[2] === 1 ) a[2] = autoAspect * rRange / zRange;\n",
       "\n",
       "    // Distance from (xMid,yMid,zMid) to any corner of the bounding box, after applying aspectRatio\n",
       "    var midToCorner = Math.sqrt( a[0]*a[0]*xRange*xRange + a[1]*a[1]*yRange*yRange + a[2]*a[2]*zRange*zRange ) / 2;\n",
       "\n",
       "    var xMid = ( b[0].x + b[1].x ) / 2;\n",
       "    var yMid = ( b[0].y + b[1].y ) / 2;\n",
       "    var zMid = ( b[0].z + b[1].z ) / 2;\n",
       "\n",
       "    var box = new THREE.Geometry();\n",
       "    box.vertices.push( new THREE.Vector3( a[0]*b[0].x, a[1]*b[0].y, a[2]*b[0].z ) );\n",
       "    box.vertices.push( new THREE.Vector3( a[0]*b[1].x, a[1]*b[1].y, a[2]*b[1].z ) );\n",
       "    var boxMesh = new THREE.Line( box );\n",
       "    var boxColor = options.theme === 'dark' ? 'white' : 'black';\n",
       "    if ( options.frame ) scene.add( new THREE.BoxHelper( boxMesh, boxColor ) );\n",
       "\n",
       "    if ( options.axesLabels ) {\n",
       "\n",
       "        var d = options.decimals; // decimals\n",
       "        var offsetRatio = 0.1;\n",
       "        var al = options.axesLabels;\n",
       "        var als = options.axesLabelsStyle || [{}, {}, {}];\n",
       "\n",
       "        var offset = offsetRatio * a[1]*( b[1].y - b[0].y );\n",
       "        var xm = xMid.toFixed(d);\n",
       "        if ( /^-0.?0*$/.test(xm) ) xm = xm.substr(1);\n",
       "        addLabel( al[0] + '=' + xm, a[0]*xMid, a[1]*b[1].y+offset, a[2]*b[0].z, als[0] );\n",
       "        addLabel( ( b[0].x ).toFixed(d), a[0]*b[0].x, a[1]*b[1].y+offset, a[2]*b[0].z, als[0] );\n",
       "        addLabel( ( b[1].x ).toFixed(d), a[0]*b[1].x, a[1]*b[1].y+offset, a[2]*b[0].z, als[0] );\n",
       "\n",
       "        var offset = offsetRatio * a[0]*( b[1].x - b[0].x );\n",
       "        var ym = yMid.toFixed(d);\n",
       "        if ( /^-0.?0*$/.test(ym) ) ym = ym.substr(1);\n",
       "        addLabel( al[1] + '=' + ym, a[0]*b[1].x+offset, a[1]*yMid, a[2]*b[0].z, als[1] );\n",
       "        addLabel( ( b[0].y ).toFixed(d), a[0]*b[1].x+offset, a[1]*b[0].y, a[2]*b[0].z, als[1] );\n",
       "        addLabel( ( b[1].y ).toFixed(d), a[0]*b[1].x+offset, a[1]*b[1].y, a[2]*b[0].z, als[1] );\n",
       "\n",
       "        var offset = offsetRatio * a[1]*( b[1].y - b[0].y );\n",
       "        var zm = zMid.toFixed(d);\n",
       "        if ( /^-0.?0*$/.test(zm) ) zm = zm.substr(1);\n",
       "        addLabel( al[2] + '=' + zm, a[0]*b[1].x, a[1]*b[0].y-offset, a[2]*zMid, als[2] );\n",
       "        addLabel( ( b[0].z ).toFixed(d), a[0]*b[1].x, a[1]*b[0].y-offset, a[2]*b[0].z, als[2] );\n",
       "        addLabel( ( b[1].z ).toFixed(d), a[0]*b[1].x, a[1]*b[0].y-offset, a[2]*b[1].z, als[2] );\n",
       "\n",
       "    }\n",
       "\n",
       "    function addLabel( text, x, y, z, style ) {\n",
       "\n",
       "        var color = style.color || 'black';\n",
       "        var fontSize = style.fontSize || 14;\n",
       "        var fontFamily = style.fontFamily || 'monospace';\n",
       "        var fontStyle = style.fontStyle || 'normal';\n",
       "        var fontWeight = style.fontWeight || 'normal';\n",
       "        var opacity = style.opacity || 1;\n",
       "\n",
       "        if ( options.theme === 'dark' )\n",
       "            if ( color === 'black' || color === '#000000' )\n",
       "                color = 'white';\n",
       "\n",
       "        if ( Array.isArray( fontStyle ) ) {\n",
       "            fontFamily = fontFamily.map( function( f ) {\n",
       "                // Need to put quotes around fonts that have whitespace in their names.\n",
       "                return /\\s/.test( f ) ? '&quot;' + f + '&quot;' : f;\n",
       "            }).join(', ');\n",
       "        }\n",
       "\n",
       "        var canvas = document.createElement( 'canvas' );\n",
       "        var context = canvas.getContext( '2d' );\n",
       "        var pixelRatio = Math.round( window.devicePixelRatio );\n",
       "\n",
       "        // For example: italic bold 20px &quot;Times New Roman&quot;, Georgia, serif\n",
       "        var font = [fontStyle, fontWeight, fontSize + 'px', fontFamily].join(' ');\n",
       "\n",
       "        context.font = font;\n",
       "        var width = context.measureText( text ).width;\n",
       "        var height = fontSize;\n",
       "\n",
       "        // The dimensions of the canvas's underlying image data need to be powers\n",
       "        // of two in order for the resulting texture to support mipmapping.\n",
       "        canvas.width = THREE.MathUtils.ceilPowerOfTwo( width * pixelRatio );\n",
       "        canvas.height = THREE.MathUtils.ceilPowerOfTwo( height * pixelRatio );\n",
       "\n",
       "        // Re-compute the unscaled dimensions after the power of two conversion.\n",
       "        width = canvas.width / pixelRatio;\n",
       "        height = canvas.height / pixelRatio;\n",
       "\n",
       "        canvas.style.width = width + 'px';\n",
       "        canvas.style.height = height + 'px';\n",
       "\n",
       "        context.scale( pixelRatio, pixelRatio );\n",
       "        context.fillStyle = color;\n",
       "        context.font = font; // Must be set again after measureText.\n",
       "        context.textAlign = 'center';\n",
       "        context.textBaseline = 'middle';\n",
       "        context.fillText( text, width/2, height/2 );\n",
       "\n",
       "        var texture = new THREE.Texture( canvas );\n",
       "        texture.needsUpdate = true;\n",
       "\n",
       "        var materialOptions = { map: texture, sizeAttenuation: false, depthWrite: false };\n",
       "        if ( opacity < 1 ) {\n",
       "            // Setting opacity=1 would cause the texture's alpha component to be\n",
       "            // discarded, giving the text a black background instead of the\n",
       "            // background being transparent.\n",
       "            materialOptions.opacity = opacity;\n",
       "        }\n",
       "        var sprite = new THREE.Sprite( new THREE.SpriteMaterial( materialOptions ) );\n",
       "        sprite.position.set( x, y, z );\n",
       "\n",
       "        // Scaling factor, chosen somewhat arbitrarily so that the size of the text\n",
       "        // is consistent with previously generated plots.\n",
       "        var scale = 1/625;\n",
       "        if ( options.projection === 'orthographic' ) {\n",
       "            scale = midToCorner/256; // Needs to scale along with the plot itself.\n",
       "        }\n",
       "        sprite.scale.set( scale * width, scale * height, 1 );\n",
       "\n",
       "        scene.add( sprite );\n",
       "\n",
       "        return sprite;\n",
       "\n",
       "    }\n",
       "\n",
       "    if ( options.axes ) scene.add( new THREE.AxesHelper( Math.min( a[0]*b[1].x, a[1]*b[1].y, a[2]*b[1].z ) ) );\n",
       "\n",
       "    var camera = createCamera();\n",
       "    camera.up.set( 0, 0, 1 );\n",
       "    camera.position.set( a[0]*xMid, a[1]*yMid, a[2]*zMid );\n",
       "\n",
       "    var offset = new THREE.Vector3( a[0]*xRange, a[1]*yRange, a[2]*zRange );\n",
       "\n",
       "    if ( options.viewpoint ) {\n",
       "\n",
       "        var aa = options.viewpoint;\n",
       "        var axis = new THREE.Vector3( aa[0][0], aa[0][1], aa[0][2] ).normalize();\n",
       "        var angle = aa[1] * Math.PI / 180;\n",
       "        var q = new THREE.Quaternion().setFromAxisAngle( axis, angle ).inverse();\n",
       "\n",
       "        offset.set( 0, 0, offset.length() );\n",
       "        offset.applyQuaternion( q );\n",
       "\n",
       "    }\n",
       "\n",
       "    camera.position.add( offset );\n",
       "\n",
       "    function createCamera() {\n",
       "\n",
       "        var aspect = window.innerWidth / window.innerHeight;\n",
       "\n",
       "        // Scale the near and far clipping planes along with the overall plot size.\n",
       "        var nearClip = 0.01 * midToCorner;\n",
       "        var farClip = 100 * midToCorner;\n",
       "\n",
       "        if ( options.projection === 'orthographic' ) {\n",
       "            var camera = new THREE.OrthographicCamera( -1, 1, 1, -1, -farClip, farClip );\n",
       "            updateCameraAspect( camera, aspect );\n",
       "            return camera;\n",
       "        }\n",
       "\n",
       "        return new THREE.PerspectiveCamera( 45, aspect, nearClip, farClip );\n",
       "\n",
       "    }\n",
       "\n",
       "    function updateCameraAspect( camera, aspect ) {\n",
       "\n",
       "        if ( camera.isPerspectiveCamera ) {\n",
       "            camera.aspect = aspect;\n",
       "        } else if ( camera.isOrthographicCamera ) {\n",
       "            // Fit the camera frustum to the bounding box's diagonal so that the entire plot fits\n",
       "            // within at the default zoom level and camera position.\n",
       "            if ( aspect > 1 ) { // Wide window\n",
       "                camera.top = midToCorner;\n",
       "                camera.right = midToCorner * aspect;\n",
       "            } else { // Tall or square window\n",
       "                camera.top = midToCorner / aspect;\n",
       "                camera.right = midToCorner;\n",
       "            }\n",
       "            camera.bottom = -camera.top;\n",
       "            camera.left = -camera.right;\n",
       "        }\n",
       "\n",
       "        camera.updateProjectionMatrix();\n",
       "\n",
       "    }\n",
       "\n",
       "    var lights = [{&quot;x&quot;:-5, &quot;y&quot;:3, &quot;z&quot;:0, &quot;color&quot;:&quot;#7f7f7f&quot;, &quot;parent&quot;:&quot;camera&quot;}];\n",
       "    for ( var i=0 ; i < lights.length ; i++ ) {\n",
       "        var light = new THREE.DirectionalLight( lights[i].color, 1 );\n",
       "        light.position.set( a[0]*lights[i].x, a[1]*lights[i].y, a[2]*lights[i].z );\n",
       "        if ( lights[i].parent === 'camera' ) {\n",
       "            light.target.position.set( a[0]*xMid, a[1]*yMid, a[2]*zMid );\n",
       "            scene.add( light.target );\n",
       "            camera.add( light );\n",
       "        } else scene.add( light );\n",
       "    }\n",
       "    scene.add( camera );\n",
       "\n",
       "    var ambient = {&quot;color&quot;:&quot;#7f7f7f&quot;};\n",
       "    scene.add( new THREE.AmbientLight( ambient.color, 1 ) );\n",
       "\n",
       "    var controls = new THREE.OrbitControls( camera, renderer.domElement );\n",
       "    controls.target.set( a[0]*xMid, a[1]*yMid, a[2]*zMid );\n",
       "    controls.addEventListener( 'change', function() { if ( !animate ) render(); } );\n",
       "\n",
       "    window.addEventListener( 'resize', function() {\n",
       "\n",
       "        renderer.setSize( window.innerWidth, window.innerHeight );\n",
       "        updateCameraAspect( camera, window.innerWidth / window.innerHeight );\n",
       "        if ( window.rescaleFatLines ) rescaleFatLines();\n",
       "        if ( !animate ) render();\n",
       "\n",
       "    } );\n",
       "\n",
       "    var texts = [{&quot;color&quot;: &quot;#000000&quot;, &quot;fontSize&quot;: 14.0, &quot;fontFamily&quot;: [&quot;monospace&quot;], &quot;fontStyle&quot;: &quot;normal&quot;, &quot;fontWeight&quot;: &quot;normal&quot;, &quot;opacity&quot;: 1.0, &quot;text&quot;: &quot;alpha[0]&quot;, &quot;x&quot;: -1.5750000000000002, &quot;y&quot;: -2.727977232924694, &quot;z&quot;: 0.0}, {&quot;color&quot;: &quot;#000000&quot;, &quot;fontSize&quot;: 14.0, &quot;fontFamily&quot;: [&quot;monospace&quot;], &quot;fontStyle&quot;: &quot;normal&quot;, &quot;fontWeight&quot;: &quot;normal&quot;, &quot;opacity&quot;: 1.0, &quot;text&quot;: &quot;alpha[1]&quot;, &quot;x&quot;: -1.5750000000000002, &quot;y&quot;: 0.9093257443082312, &quot;z&quot;: 0.0}, {&quot;color&quot;: &quot;#000000&quot;, &quot;fontSize&quot;: 14.0, &quot;fontFamily&quot;: [&quot;monospace&quot;], &quot;fontStyle&quot;: &quot;normal&quot;, &quot;fontWeight&quot;: &quot;normal&quot;, &quot;opacity&quot;: 1.0, &quot;text&quot;: &quot;alpha[2]&quot;, &quot;x&quot;: 3.1500000000000004, &quot;y&quot;: 0.0, &quot;z&quot;: 0.0}, {&quot;color&quot;: &quot;#000000&quot;, &quot;fontSize&quot;: 14.0, &quot;fontFamily&quot;: [&quot;monospace&quot;], &quot;fontStyle&quot;: &quot;normal&quot;, &quot;fontWeight&quot;: &quot;normal&quot;, &quot;opacity&quot;: 1.0, &quot;text&quot;: &quot;Lambda[0]&quot;, &quot;x&quot;: 0.0, &quot;y&quot;: 0.0, &quot;z&quot;: 1.05}, {&quot;color&quot;: &quot;#000000&quot;, &quot;fontSize&quot;: 14.0, &quot;fontFamily&quot;: [&quot;monospace&quot;], &quot;fontStyle&quot;: &quot;normal&quot;, &quot;fontWeight&quot;: &quot;normal&quot;, &quot;opacity&quot;: 1.0, &quot;text&quot;: &quot;Lambda[1]&quot;, &quot;x&quot;: 0.0, &quot;y&quot;: 1.8186514886164624, &quot;z&quot;: 1.05}, {&quot;color&quot;: &quot;#000000&quot;, &quot;fontSize&quot;: 14.0, &quot;fontFamily&quot;: [&quot;monospace&quot;], &quot;fontStyle&quot;: &quot;normal&quot;, &quot;fontWeight&quot;: &quot;normal&quot;, &quot;opacity&quot;: 1.0, &quot;text&quot;: &quot;Lambda[2]&quot;, &quot;x&quot;: 1.5750000000000002, &quot;y&quot;: 2.727977232924694, &quot;z&quot;: 2.1}, {&quot;color&quot;: &quot;#000000&quot;, &quot;fontSize&quot;: 14.0, &quot;fontFamily&quot;: [&quot;monospace&quot;], &quot;fontStyle&quot;: &quot;normal&quot;, &quot;fontWeight&quot;: &quot;normal&quot;, &quot;opacity&quot;: 1.0, &quot;text&quot;: &quot;Halphacheck[0]&quot;, &quot;x&quot;: -2.305965621840243, &quot;y&quot;: 3.1500000000000004, &quot;z&quot;: 1.05}, {&quot;color&quot;: &quot;#000000&quot;, &quot;fontSize&quot;: 14.0, &quot;fontFamily&quot;: [&quot;monospace&quot;], &quot;fontStyle&quot;: &quot;normal&quot;, &quot;fontWeight&quot;: &quot;normal&quot;, &quot;opacity&quot;: 1.0, &quot;text&quot;: &quot;Halphacheck[1]&quot;, &quot;x&quot;: 1.818655207280081, &quot;y&quot;: 3.1500000000000004, &quot;z&quot;: 1.05}, {&quot;color&quot;: &quot;#000000&quot;, &quot;fontSize&quot;: 14.0, &quot;fontFamily&quot;: [&quot;monospace&quot;], &quot;fontStyle&quot;: &quot;normal&quot;, &quot;fontWeight&quot;: &quot;normal&quot;, &quot;opacity&quot;: 1.0, &quot;text&quot;: &quot;Halphacheck[2]&quot;, &quot;x&quot;: 0.0, &quot;y&quot;: 3.1500000000000004, &quot;z&quot;: 1.05}];\n",
       "    for ( var i=0 ; i < texts.length ; i++ ) addText( texts[i] );\n",
       "\n",
       "    function addText( json ) {\n",
       "        var sprite = addLabel( json.text, a[0]*json.x, a[1]*json.y, a[2]*json.z, json );\n",
       "        sprite.userData = json;\n",
       "    }\n",
       "\n",
       "    var points = [];\n",
       "    for ( var i=0 ; i < points.length ; i++ ) addPoint( points[i] );\n",
       "\n",
       "    function addPoint( json ) {\n",
       "\n",
       "        var geometry = new THREE.Geometry();\n",
       "        var v = json.point;\n",
       "        geometry.vertices.push( new THREE.Vector3( a[0]*v[0], a[1]*v[1], a[2]*v[2] ) );\n",
       "\n",
       "        var canvas = document.createElement( 'canvas' );\n",
       "        canvas.width = 128;\n",
       "        canvas.height = 128;\n",
       "\n",
       "        var context = canvas.getContext( '2d' );\n",
       "        context.arc( 64, 64, 64, 0, 2 * Math.PI );\n",
       "        context.fillStyle = json.color;\n",
       "        context.fill();\n",
       "\n",
       "        var texture = new THREE.Texture( canvas );\n",
       "        texture.needsUpdate = true;\n",
       "\n",
       "        var transparent = json.opacity < 1 ? true : false;\n",
       "        var size = camera.isOrthographicCamera ? json.size : json.size/100;\n",
       "        var material = new THREE.PointsMaterial( { size: size, map: texture,\n",
       "                                                   transparent: transparent, opacity: json.opacity,\n",
       "                                                   alphaTest: .1 } );\n",
       "\n",
       "        var c = new THREE.Vector3();\n",
       "        geometry.computeBoundingBox();\n",
       "        geometry.boundingBox.getCenter( c );\n",
       "        geometry.translate( -c.x, -c.y, -c.z );\n",
       "\n",
       "        var mesh = new THREE.Points( geometry, material );\n",
       "        mesh.position.set( c.x, c.y, c.z );\n",
       "        mesh.userData = json;\n",
       "        scene.add( mesh );\n",
       "\n",
       "    }\n",
       "\n",
       "    var lines = [{&quot;points&quot;: [[3.0, 0.0, 1.0], [-2.1961577350859454, 3.0, 1.0]], &quot;color&quot;: &quot;#000000&quot;, &quot;opacity&quot;: 1.0, &quot;linewidth&quot;: 1.0}, {&quot;points&quot;: [[1.7320525783619818, 3.0, 1.0], [-1.7320525783619818, -3.0, 1.0]], &quot;color&quot;: &quot;#0000ff&quot;, &quot;opacity&quot;: 1.0, &quot;linewidth&quot;: 1.0}, {&quot;points&quot;: [[0.0, 3.0, 1.0], [0.0, -3.0, 1.0]], &quot;color&quot;: &quot;#ff0000&quot;, &quot;opacity&quot;: 1.0, &quot;linewidth&quot;: 1.0}, {&quot;points&quot;: [[0.75, 1.2990367775831875, 1.0], [0.0, 1.7320490367775832, 1.0]], &quot;color&quot;: &quot;#000000&quot;, &quot;opacity&quot;: 1.0, &quot;linewidth&quot;: 2.0}, {&quot;points&quot;: [[0.75, 1.2990367775831875, 1.0], [0.0, 0.0, 1.0]], &quot;color&quot;: &quot;#0000ff&quot;, &quot;opacity&quot;: 1.0, &quot;linewidth&quot;: 1.0}, {&quot;points&quot;: [[0.0, 1.7320490367775832, 1.0], [0.0, 0.0, 1.0]], &quot;color&quot;: &quot;#ff0000&quot;, &quot;opacity&quot;: 1.0, &quot;linewidth&quot;: 1.0}, {&quot;points&quot;: [[1.5, 2.598073555166375, 1.0], [0.75, 1.2990367775831875, 1.0]], &quot;color&quot;: &quot;#0000ff&quot;, &quot;opacity&quot;: 1.0, &quot;linewidth&quot;: 1.0}, {&quot;points&quot;: [[1.5, 2.598073555166375, 1.0], [0.0, 1.7320490367775832, 1.0]], &quot;color&quot;: &quot;#ff0000&quot;, &quot;opacity&quot;: 1.0, &quot;linewidth&quot;: 1.0}, {&quot;points&quot;: [[1.5, 0.8660245183887916, 1.0], [0.75, 1.2990367775831875, 1.0]], &quot;color&quot;: &quot;#000000&quot;, &quot;opacity&quot;: 1.0, &quot;linewidth&quot;: 2.0}, {&quot;points&quot;: [[1.5, 0.8660245183887916, 1.0], [0.0, 0.0, 1.0]], &quot;color&quot;: &quot;#ff0000&quot;, &quot;opacity&quot;: 1.0, &quot;linewidth&quot;: 1.0}, {&quot;points&quot;: [[0.0, 1.7320490367775832, 1.0], [-0.75, 1.2990367775831875, 1.0]], &quot;color&quot;: &quot;#000000&quot;, &quot;opacity&quot;: 1.0, &quot;linewidth&quot;: 2.0}, {&quot;points&quot;: [[0.0, 0.0, 1.0], [-0.75, 1.2990367775831875, 1.0]], &quot;color&quot;: &quot;#0000ff&quot;, &quot;opacity&quot;: 1.0, &quot;linewidth&quot;: 1.0}, {&quot;points&quot;: [[0.0, 2.598073555166375, 1.0], [0.0, 1.7320490367775832, 1.0]], &quot;color&quot;: &quot;#000000&quot;, &quot;opacity&quot;: 1.0, &quot;linewidth&quot;: 2.0}, {&quot;points&quot;: [[1.5, 2.598073555166375, 1.0], [0.0, 2.598073555166375, 1.0]], &quot;color&quot;: &quot;#0000ff&quot;, &quot;opacity&quot;: 1.0, &quot;linewidth&quot;: 1.0}, {&quot;points&quot;: [[1.5, 2.598073555166375, 1.0], [1.5, 0.8660245183887916, 1.0]], &quot;color&quot;: &quot;#ff0000&quot;, &quot;opacity&quot;: 1.0, &quot;linewidth&quot;: 1.0}, {&quot;points&quot;: [[1.5, 0.8660245183887916, 1.0], [1.5, 0.0, 1.0]], &quot;color&quot;: &quot;#000000&quot;, &quot;opacity&quot;: 1.0, &quot;linewidth&quot;: 2.0}, {&quot;points&quot;: [[1.5, 0.0, 1.0], [0.0, 0.0, 1.0]], &quot;color&quot;: &quot;#0000ff&quot;, &quot;opacity&quot;: 1.0, &quot;linewidth&quot;: 1.0}, {&quot;points&quot;: [[-0.75, 1.2990367775831875, 1.0], [-1.5, 2.598073555166375, 1.0]], &quot;color&quot;: &quot;#0000ff&quot;, &quot;opacity&quot;: 1.0, &quot;linewidth&quot;: 1.0}, {&quot;points&quot;: [[0.0, 1.7320490367775832, 1.0], [-1.5, 2.598073555166375, 1.0]], &quot;color&quot;: &quot;#ff0000&quot;, &quot;opacity&quot;: 1.0, &quot;linewidth&quot;: 1.0}, {&quot;points&quot;: [[-0.75, 1.2990367775831875, 1.0], [-1.5, 0.8660245183887916, 1.0]], &quot;color&quot;: &quot;#000000&quot;, &quot;opacity&quot;: 1.0, &quot;linewidth&quot;: 2.0}, {&quot;points&quot;: [[0.0, 0.0, 1.0], [-1.5, 0.8660245183887916, 1.0]], &quot;color&quot;: &quot;#ff0000&quot;, &quot;opacity&quot;: 1.0, &quot;linewidth&quot;: 1.0}, {&quot;points&quot;: [[0.0, 2.598073555166375, 1.0], [-1.5, 2.598073555166375, 1.0]], &quot;color&quot;: &quot;#0000ff&quot;, &quot;opacity&quot;: 1.0, &quot;linewidth&quot;: 1.0}, {&quot;points&quot;: [[0.0, 3.0, 1.0], [0.0, 2.598073555166375, 1.0]], &quot;color&quot;: &quot;#000000&quot;, &quot;opacity&quot;: 1.0, &quot;linewidth&quot;: 2.0}, {&quot;points&quot;: [[1.5, 2.598073555166375, 1.0], [0.8038422649140546, 3.0, 1.0]], &quot;color&quot;: &quot;#ff0000&quot;, &quot;opacity&quot;: 1.0, &quot;linewidth&quot;: 1.0}, {&quot;points&quot;: [[2.25, 1.2990367775831875, 1.0], [1.5, 0.8660245183887916, 1.0]], &quot;color&quot;: &quot;#000000&quot;, &quot;opacity&quot;: 1.0, &quot;linewidth&quot;: 2.0}, {&quot;points&quot;: [[2.25, 1.2990367775831875, 1.0], [1.5, 2.598073555166375, 1.0]], &quot;color&quot;: &quot;#0000ff&quot;, &quot;opacity&quot;: 1.0, &quot;linewidth&quot;: 1.0}, {&quot;points&quot;: [[3.0, 0.0, 1.0], [1.5, 0.0, 1.0]], &quot;color&quot;: &quot;#0000ff&quot;, &quot;opacity&quot;: 1.0, &quot;linewidth&quot;: 1.0}, {&quot;points&quot;: [[3.0, 0.0, 1.0], [1.5, 0.8660245183887916, 1.0]], &quot;color&quot;: &quot;#ff0000&quot;, &quot;opacity&quot;: 1.0, &quot;linewidth&quot;: 1.0}, {&quot;points&quot;: [[1.5, 0.0, 1.0], [1.5, -0.8660245183887916, 1.0]], &quot;color&quot;: &quot;#000000&quot;, &quot;opacity&quot;: 1.0, &quot;linewidth&quot;: 2.0}, {&quot;points&quot;: [[1.5, -0.8660245183887916, 1.0], [0.0, 0.0, 1.0]], &quot;color&quot;: &quot;#ff0000&quot;, &quot;opacity&quot;: 1.0, &quot;linewidth&quot;: 1.0}, {&quot;points&quot;: [[-1.5, 2.598073555166375, 1.0], [-1.5, 0.8660245183887916, 1.0]], &quot;color&quot;: &quot;#ff0000&quot;, &quot;opacity&quot;: 1.0, &quot;linewidth&quot;: 1.0}, {&quot;points&quot;: [[-1.5, 0.8660245183887916, 1.0], [-1.5, 0.0, 1.0]], &quot;color&quot;: &quot;#000000&quot;, &quot;opacity&quot;: 1.0, &quot;linewidth&quot;: 2.0}, {&quot;points&quot;: [[0.0, 0.0, 1.0], [-1.5, 0.0, 1.0]], &quot;color&quot;: &quot;#0000ff&quot;, &quot;opacity&quot;: 1.0, &quot;linewidth&quot;: 1.0}, {&quot;points&quot;: [[-0.8038422649140546, 3.0, 1.0], [-1.5, 2.598073555166375, 1.0]], &quot;color&quot;: &quot;#ff0000&quot;, &quot;opacity&quot;: 1.0, &quot;linewidth&quot;: 1.0}, {&quot;points&quot;: [[1.5, 2.598073555166375, 1.0], [1.2679474216380182, 3.0, 1.0]], &quot;color&quot;: &quot;#0000ff&quot;, &quot;opacity&quot;: 1.0, &quot;linewidth&quot;: 1.0}, {&quot;points&quot;: [[3.0, 0.0, 1.0], [2.25, 1.2990367775831875, 1.0]], &quot;color&quot;: &quot;#0000ff&quot;, &quot;opacity&quot;: 1.0, &quot;linewidth&quot;: 1.0}, {&quot;points&quot;: [[3.0, 1.7320490367775832, 1.0], [2.25, 1.2990367775831875, 1.0]], &quot;color&quot;: &quot;#000000&quot;, &quot;opacity&quot;: 1.0, &quot;linewidth&quot;: 2.0}, {&quot;points&quot;: [[3.0, 1.7320490367775832, 1.0], [1.5, 2.598073555166375, 1.0]], &quot;color&quot;: &quot;#ff0000&quot;, &quot;opacity&quot;: 1.0, &quot;linewidth&quot;: 1.0}, {&quot;points&quot;: [[3.0, 0.0, 1.0], [1.5, -0.8660245183887916, 1.0]], &quot;color&quot;: &quot;#ff0000&quot;, &quot;opacity&quot;: 1.0, &quot;linewidth&quot;: 1.0}, {&quot;points&quot;: [[1.5, -0.8660245183887916, 1.0], [0.75, -1.2990367775831875, 1.0]], &quot;color&quot;: &quot;#000000&quot;, &quot;opacity&quot;: 1.0, &quot;linewidth&quot;: 2.0}, {&quot;points&quot;: [[0.75, -1.2990367775831875, 1.0], [0.0, 0.0, 1.0]], &quot;color&quot;: &quot;#0000ff&quot;, &quot;opacity&quot;: 1.0, &quot;linewidth&quot;: 1.0}, {&quot;points&quot;: [[-1.5, 0.8660245183887916, 1.0], [-2.25, 1.2990367775831875, 1.0]], &quot;color&quot;: &quot;#000000&quot;, &quot;opacity&quot;: 1.0, &quot;linewidth&quot;: 2.0}, {&quot;points&quot;: [[-1.5, 2.598073555166375, 1.0], [-2.25, 1.2990367775831875, 1.0]], &quot;color&quot;: &quot;#0000ff&quot;, &quot;opacity&quot;: 1.0, &quot;linewidth&quot;: 1.0}, {&quot;points&quot;: [[-1.5, 0.0, 1.0], [-3.0, 0.0, 1.0]], &quot;color&quot;: &quot;#0000ff&quot;, &quot;opacity&quot;: 1.0, &quot;linewidth&quot;: 1.0}, {&quot;points&quot;: [[-1.5, 0.8660245183887916, 1.0], [-3.0, 0.0, 1.0]], &quot;color&quot;: &quot;#ff0000&quot;, &quot;opacity&quot;: 1.0, &quot;linewidth&quot;: 1.0}, {&quot;points&quot;: [[-1.5, 0.0, 1.0], [-1.5, -0.8660245183887916, 1.0]], &quot;color&quot;: &quot;#000000&quot;, &quot;opacity&quot;: 1.0, &quot;linewidth&quot;: 2.0}, {&quot;points&quot;: [[0.0, 0.0, 1.0], [-1.5, -0.8660245183887916, 1.0]], &quot;color&quot;: &quot;#ff0000&quot;, &quot;opacity&quot;: 1.0, &quot;linewidth&quot;: 1.0}, {&quot;points&quot;: [[-1.2679474216380182, 3.0, 1.0], [-1.5, 2.598073555166375, 1.0]], &quot;color&quot;: &quot;#0000ff&quot;, &quot;opacity&quot;: 1.0, &quot;linewidth&quot;: 1.0}, {&quot;points&quot;: [[1.5, 3.0, 1.0], [1.5, 2.598073555166375, 1.0]], &quot;color&quot;: &quot;#ff0000&quot;, &quot;opacity&quot;: 1.0, &quot;linewidth&quot;: 1.0}, {&quot;points&quot;: [[3.0, 1.7320490367775832, 1.0], [3.0, 0.0, 1.0]], &quot;color&quot;: &quot;#ff0000&quot;, &quot;opacity&quot;: 1.0, &quot;linewidth&quot;: 1.0}, {&quot;points&quot;: [[3.0, 2.598073555166375, 1.0], [3.0, 1.7320490367775832, 1.0]], &quot;color&quot;: &quot;#000000&quot;, &quot;opacity&quot;: 1.0, &quot;linewidth&quot;: 2.0}, {&quot;points&quot;: [[3.0, 2.598073555166375, 1.0], [1.5, 2.598073555166375, 1.0]], &quot;color&quot;: &quot;#0000ff&quot;, &quot;opacity&quot;: 1.0, &quot;linewidth&quot;: 1.0}, {&quot;points&quot;: [[2.25, -1.2990367775831875, 1.0], [1.5, -0.8660245183887916, 1.0]], &quot;color&quot;: &quot;#000000&quot;, &quot;opacity&quot;: 1.0, &quot;linewidth&quot;: 2.0}, {&quot;points&quot;: [[3.0, 0.0, 1.0], [2.25, -1.2990367775831875, 1.0]], &quot;color&quot;: &quot;#0000ff&quot;, &quot;opacity&quot;: 1.0, &quot;linewidth&quot;: 1.0}, {&quot;points&quot;: [[1.5, -2.598073555166375, 1.0], [0.75, -1.2990367775831875, 1.0]], &quot;color&quot;: &quot;#0000ff&quot;, &quot;opacity&quot;: 1.0, &quot;linewidth&quot;: 1.0}, {&quot;points&quot;: [[1.5, -0.8660245183887916, 1.0], [1.5, -2.598073555166375, 1.0]], &quot;color&quot;: &quot;#ff0000&quot;, &quot;opacity&quot;: 1.0, &quot;linewidth&quot;: 1.0}, {&quot;points&quot;: [[0.75, -1.2990367775831875, 1.0], [0.0, -1.7320490367775832, 1.0]], &quot;color&quot;: &quot;#000000&quot;, &quot;opacity&quot;: 1.0, &quot;linewidth&quot;: 2.0}, {&quot;points&quot;: [[0.0, 0.0, 1.0], [0.0, -1.7320490367775832, 1.0]], &quot;color&quot;: &quot;#ff0000&quot;, &quot;opacity&quot;: 1.0, &quot;linewidth&quot;: 1.0}, {&quot;points&quot;: [[-2.25, 1.2990367775831875, 1.0], [-3.0, 0.0, 1.0]], &quot;color&quot;: &quot;#0000ff&quot;, &quot;opacity&quot;: 1.0, &quot;linewidth&quot;: 1.0}, {&quot;points&quot;: [[-2.25, 1.2990367775831875, 1.0], [-3.0, 1.7320490367775832, 1.0]], &quot;color&quot;: &quot;#000000&quot;, &quot;opacity&quot;: 1.0, &quot;linewidth&quot;: 2.0}, {&quot;points&quot;: [[-1.5, 2.598073555166375, 1.0], [-3.0, 1.7320490367775832, 1.0]], &quot;color&quot;: &quot;#ff0000&quot;, &quot;opacity&quot;: 1.0, &quot;linewidth&quot;: 1.0}, {&quot;points&quot;: [[-1.5, -0.8660245183887916, 1.0], [-3.0, 0.0, 1.0]], &quot;color&quot;: &quot;#ff0000&quot;, &quot;opacity&quot;: 1.0, &quot;linewidth&quot;: 1.0}, {&quot;points&quot;: [[-0.75, -1.2990367775831875, 1.0], [-1.5, -0.8660245183887916, 1.0]], &quot;color&quot;: &quot;#000000&quot;, &quot;opacity&quot;: 1.0, &quot;linewidth&quot;: 2.0}, {&quot;points&quot;: [[0.0, 0.0, 1.0], [-0.75, -1.2990367775831875, 1.0]], &quot;color&quot;: &quot;#0000ff&quot;, &quot;opacity&quot;: 1.0, &quot;linewidth&quot;: 1.0}, {&quot;points&quot;: [[-1.5, 3.0, 1.0], [-1.5, 2.598073555166375, 1.0]], &quot;color&quot;: &quot;#ff0000&quot;, &quot;opacity&quot;: 1.0, &quot;linewidth&quot;: 1.0}, {&quot;points&quot;: [[1.7320525783619818, 3.0, 1.0], [1.5, 2.598073555166375, 1.0]], &quot;color&quot;: &quot;#0000ff&quot;, &quot;opacity&quot;: 1.0, &quot;linewidth&quot;: 1.0}, {&quot;points&quot;: [[3.0, 3.0, 1.0], [3.0, 2.598073555166375, 1.0]], &quot;color&quot;: &quot;#000000&quot;, &quot;opacity&quot;: 1.0, &quot;linewidth&quot;: 2.0}, {&quot;points&quot;: [[2.1961577350859454, 3.0, 1.0], [1.5, 2.598073555166375, 1.0]], &quot;color&quot;: &quot;#ff0000&quot;, &quot;opacity&quot;: 1.0, &quot;linewidth&quot;: 1.0}, {&quot;points&quot;: [[2.25, -1.2990367775831875, 1.0], [1.5, -2.598073555166375, 1.0]], &quot;color&quot;: &quot;#0000ff&quot;, &quot;opacity&quot;: 1.0, &quot;linewidth&quot;: 1.0}, {&quot;points&quot;: [[3.0, -1.7320490367775832, 1.0], [2.25, -1.2990367775831875, 1.0]], &quot;color&quot;: &quot;#000000&quot;, &quot;opacity&quot;: 1.0, &quot;linewidth&quot;: 2.0}, {&quot;points&quot;: [[3.0, 0.0, 1.0], [3.0, -1.7320490367775832, 1.0]], &quot;color&quot;: &quot;#ff0000&quot;, &quot;opacity&quot;: 1.0, &quot;linewidth&quot;: 1.0}, {&quot;points&quot;: [[1.5, -2.598073555166375, 1.0], [0.0, -1.7320490367775832, 1.0]], &quot;color&quot;: &quot;#ff0000&quot;, &quot;opacity&quot;: 1.0, &quot;linewidth&quot;: 1.0}, {&quot;points&quot;: [[-3.0, 1.7320490367775832, 1.0], [-3.0, 0.0, 1.0]], &quot;color&quot;: &quot;#ff0000&quot;, &quot;opacity&quot;: 1.0, &quot;linewidth&quot;: 1.0}, {&quot;points&quot;: [[-3.0, 2.598073555166375, 1.0], [-3.0, 1.7320490367775832, 1.0]], &quot;color&quot;: &quot;#000000&quot;, &quot;opacity&quot;: 1.0, &quot;linewidth&quot;: 2.0}, {&quot;points&quot;: [[-1.5, 2.598073555166375, 1.0], [-3.0, 2.598073555166375, 1.0]], &quot;color&quot;: &quot;#0000ff&quot;, &quot;opacity&quot;: 1.0, &quot;linewidth&quot;: 1.0}, {&quot;points&quot;: [[-1.5, -0.8660245183887916, 1.0], [-2.25, -1.2990367775831875, 1.0]], &quot;color&quot;: &quot;#000000&quot;, &quot;opacity&quot;: 1.0, &quot;linewidth&quot;: 2.0}, {&quot;points&quot;: [[-2.25, -1.2990367775831875, 1.0], [-3.0, 0.0, 1.0]], &quot;color&quot;: &quot;#0000ff&quot;, &quot;opacity&quot;: 1.0, &quot;linewidth&quot;: 1.0}, {&quot;points&quot;: [[-0.75, -1.2990367775831875, 1.0], [-1.5, -2.598073555166375, 1.0]], &quot;color&quot;: &quot;#0000ff&quot;, &quot;opacity&quot;: 1.0, &quot;linewidth&quot;: 1.0}, {&quot;points&quot;: [[-1.5, -0.8660245183887916, 1.0], [-1.5, -2.598073555166375, 1.0]], &quot;color&quot;: &quot;#ff0000&quot;, &quot;opacity&quot;: 1.0, &quot;linewidth&quot;: 1.0}, {&quot;points&quot;: [[0.0, -1.7320490367775832, 1.0], [-0.75, -1.2990367775831875, 1.0]], &quot;color&quot;: &quot;#000000&quot;, &quot;opacity&quot;: 1.0, &quot;linewidth&quot;: 2.0}, {&quot;points&quot;: [[-1.5, 2.598073555166375, 1.0], [-1.7320525783619818, 3.0, 1.0]], &quot;color&quot;: &quot;#0000ff&quot;, &quot;opacity&quot;: 1.0, &quot;linewidth&quot;: 1.0}, {&quot;points&quot;: [[3.0, -1.7320490367775832, 1.0], [1.5, -2.598073555166375, 1.0]], &quot;color&quot;: &quot;#ff0000&quot;, &quot;opacity&quot;: 1.0, &quot;linewidth&quot;: 1.0}, {&quot;points&quot;: [[0.0, -1.7320490367775832, 1.0], [0.0, -2.598073555166375, 1.0]], &quot;color&quot;: &quot;#000000&quot;, &quot;opacity&quot;: 1.0, &quot;linewidth&quot;: 2.0}, {&quot;points&quot;: [[1.5, -2.598073555166375, 1.0], [0.0, -2.598073555166375, 1.0]], &quot;color&quot;: &quot;#0000ff&quot;, &quot;opacity&quot;: 1.0, &quot;linewidth&quot;: 1.0}, {&quot;points&quot;: [[-3.0, 3.0, 1.0], [-3.0, 2.598073555166375, 1.0]], &quot;color&quot;: &quot;#000000&quot;, &quot;opacity&quot;: 1.0, &quot;linewidth&quot;: 2.0}, {&quot;points&quot;: [[-1.5, 2.598073555166375, 1.0], [-2.1961577350859454, 3.0, 1.0]], &quot;color&quot;: &quot;#ff0000&quot;, &quot;opacity&quot;: 1.0, &quot;linewidth&quot;: 1.0}, {&quot;points&quot;: [[-1.5, -2.598073555166375, 1.0], [-2.25, -1.2990367775831875, 1.0]], &quot;color&quot;: &quot;#0000ff&quot;, &quot;opacity&quot;: 1.0, &quot;linewidth&quot;: 1.0}, {&quot;points&quot;: [[-2.25, -1.2990367775831875, 1.0], [-3.0, -1.7320490367775832, 1.0]], &quot;color&quot;: &quot;#000000&quot;, &quot;opacity&quot;: 1.0, &quot;linewidth&quot;: 2.0}, {&quot;points&quot;: [[-3.0, 0.0, 1.0], [-3.0, -1.7320490367775832, 1.0]], &quot;color&quot;: &quot;#ff0000&quot;, &quot;opacity&quot;: 1.0, &quot;linewidth&quot;: 1.0}, {&quot;points&quot;: [[0.0, -1.7320490367775832, 1.0], [-1.5, -2.598073555166375, 1.0]], &quot;color&quot;: &quot;#ff0000&quot;, &quot;opacity&quot;: 1.0, &quot;linewidth&quot;: 1.0}, {&quot;points&quot;: [[3.0, -1.7320490367775832, 1.0], [3.0, -2.598073555166375, 1.0]], &quot;color&quot;: &quot;#000000&quot;, &quot;opacity&quot;: 1.0, &quot;linewidth&quot;: 2.0}, {&quot;points&quot;: [[3.0, -2.598073555166375, 1.0], [1.5, -2.598073555166375, 1.0]], &quot;color&quot;: &quot;#0000ff&quot;, &quot;opacity&quot;: 1.0, &quot;linewidth&quot;: 1.0}, {&quot;points&quot;: [[0.0, -2.598073555166375, 1.0], [-1.5, -2.598073555166375, 1.0]], &quot;color&quot;: &quot;#0000ff&quot;, &quot;opacity&quot;: 1.0, &quot;linewidth&quot;: 1.0}, {&quot;points&quot;: [[0.0, -2.598073555166375, 1.0], [0.0, -3.0, 1.0]], &quot;color&quot;: &quot;#000000&quot;, &quot;opacity&quot;: 1.0, &quot;linewidth&quot;: 2.0}, {&quot;points&quot;: [[1.5, -2.598073555166375, 1.0], [0.8038422649140546, -3.0, 1.0]], &quot;color&quot;: &quot;#ff0000&quot;, &quot;opacity&quot;: 1.0, &quot;linewidth&quot;: 1.0}, {&quot;points&quot;: [[-1.5, -2.598073555166375, 1.0], [-3.0, -1.7320490367775832, 1.0]], &quot;color&quot;: &quot;#ff0000&quot;, &quot;opacity&quot;: 1.0, &quot;linewidth&quot;: 1.0}, {&quot;points&quot;: [[3.0, -2.598073555166375, 1.0], [3.0, -3.0, 1.0]], &quot;color&quot;: &quot;#000000&quot;, &quot;opacity&quot;: 1.0, &quot;linewidth&quot;: 2.0}, {&quot;points&quot;: [[2.1961577350859454, -3.0, 1.0], [1.5, -2.598073555166375, 1.0]], &quot;color&quot;: &quot;#ff0000&quot;, &quot;opacity&quot;: 1.0, &quot;linewidth&quot;: 1.0}, {&quot;points&quot;: [[-0.8038422649140546, -3.0, 1.0], [-1.5, -2.598073555166375, 1.0]], &quot;color&quot;: &quot;#ff0000&quot;, &quot;opacity&quot;: 1.0, &quot;linewidth&quot;: 1.0}, {&quot;points&quot;: [[1.5, -2.598073555166375, 1.0], [1.2679474216380182, -3.0, 1.0]], &quot;color&quot;: &quot;#0000ff&quot;, &quot;opacity&quot;: 1.0, &quot;linewidth&quot;: 1.0}, {&quot;points&quot;: [[-3.0, -1.7320490367775832, 1.0], [-3.0, -2.598073555166375, 1.0]], &quot;color&quot;: &quot;#000000&quot;, &quot;opacity&quot;: 1.0, &quot;linewidth&quot;: 2.0}, {&quot;points&quot;: [[-1.5, -2.598073555166375, 1.0], [-3.0, -2.598073555166375, 1.0]], &quot;color&quot;: &quot;#0000ff&quot;, &quot;opacity&quot;: 1.0, &quot;linewidth&quot;: 1.0}, {&quot;points&quot;: [[1.7320525783619818, -3.0, 1.0], [1.5, -2.598073555166375, 1.0]], &quot;color&quot;: &quot;#0000ff&quot;, &quot;opacity&quot;: 1.0, &quot;linewidth&quot;: 1.0}, {&quot;points&quot;: [[-1.2679474216380182, -3.0, 1.0], [-1.5, -2.598073555166375, 1.0]], &quot;color&quot;: &quot;#0000ff&quot;, &quot;opacity&quot;: 1.0, &quot;linewidth&quot;: 1.0}, {&quot;points&quot;: [[1.5, -2.598073555166375, 1.0], [1.5, -3.0, 1.0]], &quot;color&quot;: &quot;#ff0000&quot;, &quot;opacity&quot;: 1.0, &quot;linewidth&quot;: 1.0}, {&quot;points&quot;: [[-3.0, -2.598073555166375, 1.0], [-3.0, -3.0, 1.0]], &quot;color&quot;: &quot;#000000&quot;, &quot;opacity&quot;: 1.0, &quot;linewidth&quot;: 2.0}, {&quot;points&quot;: [[-1.5, -2.598073555166375, 1.0], [-2.1961577350859454, -3.0, 1.0]], &quot;color&quot;: &quot;#ff0000&quot;, &quot;opacity&quot;: 1.0, &quot;linewidth&quot;: 1.0}, {&quot;points&quot;: [[-1.5, -2.598073555166375, 1.0], [-1.5, -3.0, 1.0]], &quot;color&quot;: &quot;#ff0000&quot;, &quot;opacity&quot;: 1.0, &quot;linewidth&quot;: 1.0}, {&quot;points&quot;: [[-1.5, -2.598073555166375, 1.0], [-1.7320525783619818, -3.0, 1.0]], &quot;color&quot;: &quot;#0000ff&quot;, &quot;opacity&quot;: 1.0, &quot;linewidth&quot;: 1.0}];\n",
       "    for ( var i=0 ; i < lines.length ; i++ ) addLine( lines[i] );\n",
       "\n",
       "    function addLine( json ) {\n",
       "\n",
       "        var geometry = new THREE.Geometry();\n",
       "        for ( var i=0 ; i < json.points.length ; i++ ) {\n",
       "            var v = json.points[i];\n",
       "            geometry.vertices.push( new THREE.Vector3( a[0]*v[0], a[1]*v[1], a[2]*v[2] ) );\n",
       "        }\n",
       "\n",
       "        var c = new THREE.Vector3();\n",
       "        geometry.computeBoundingBox();\n",
       "        geometry.boundingBox.getCenter( c );\n",
       "        geometry.translate( -c.x, -c.y, -c.z );\n",
       "\n",
       "        var transparent = json.opacity < 1 ? true : false;\n",
       "        var materialOptions = { color: json.color, linewidth: json.linewidth,\n",
       "                                transparent: transparent, opacity: json.opacity };\n",
       "\n",
       "        var mesh;\n",
       "        if ( json.linewidth > 1 && window.createFatLineStrip ) {\n",
       "            mesh = createFatLineStrip( geometry, materialOptions );\n",
       "        } else {\n",
       "            var material = new THREE.LineBasicMaterial( materialOptions );\n",
       "            mesh = new THREE.Line( geometry, material );\n",
       "        }\n",
       "\n",
       "        mesh.position.set( c.x, c.y, c.z );\n",
       "        mesh.userData = json;\n",
       "        scene.add( mesh );\n",
       "\n",
       "    }\n",
       "\n",
       "    var surfaces = [{&quot;vertices&quot;: [{&quot;x&quot;: -1.4099999309901947, &quot;y&quot;: -2.4421890223280256, &quot;z&quot;: 1.7267505782548986e-16}, {&quot;x&quot;: -1.3984102575795494, &quot;y&quot;: -2.448880330232453, &quot;z&quot;: 0.014862902434004406}, {&quot;x&quot;: -1.4186601894550173, &quot;y&quot;: -2.4371890146602664, &quot;z&quot;: 0.017320503648705618}, {&quot;x&quot;: -1.3941768604390823, &quot;y&quot;: -2.4513244857099115, &quot;z&quot;: -0.008134724773017113}, {&quot;x&quot;: -1.4118104089938652, &quot;y&quot;: -2.441143741296584, &quot;z&quot;: -0.019890438832854518}, {&quot;x&quot;: -1.4269419384834594, &quot;y&quot;: -2.4324075397409133, &quot;z&quot;: -0.004158242476837528}, {&quot;x&quot;: 0.011589673410645394, &quot;y&quot;: -0.006691307904427218, &quot;z&quot;: 0.014862902434004233}, {&quot;x&quot;: -0.008660258464822618, &quot;y&quot;: 0.005000007667759066, &quot;z&quot;: 0.017320503648705445}, {&quot;x&quot;: 0.015823070551112393, &quot;y&quot;: -0.00913546338188592, &quot;z&quot;: -0.008134724773017287}, {&quot;x&quot;: -0.001810478003670405, &quot;y&quot;: 0.0010452810314416578, &quot;z&quot;: -0.01989043883285469}, {&quot;x&quot;: -0.016942007493264757, &quot;y&quot;: 0.009781482587112412, &quot;z&quot;: -0.004158242476837701}, {&quot;x&quot;: 0.0, &quot;y&quot;: 0.0, &quot;z&quot;: 0.0}], &quot;faces&quot;: [[0, 1, 2], [0, 3, 1], [0, 4, 3], [0, 5, 4], [0, 2, 5], [2, 1, 6, 7], [1, 3, 8, 6], [3, 4, 9, 8], [4, 5, 10, 9], [5, 2, 7, 10], [7, 6, 11], [6, 8, 11], [8, 9, 11], [9, 10, 11], [10, 7, 11]], &quot;color&quot;: &quot;#000000&quot;, &quot;opacity&quot;: 1.0}, {&quot;vertices&quot;: [{&quot;x&quot;: -1.4999999999999998, &quot;y&quot;: -2.5980735551663745, &quot;z&quot;: 1.8369687901781604e-16}, {&quot;x&quot;: -1.3752309107582585, &quot;y&quot;: -2.4622629460413075, &quot;z&quot;: 0.044588707302012864}, {&quot;x&quot;: -1.4359807063846626, &quot;y&quot;: -2.4271889993247484, &quot;z&quot;: 0.05196151094611651}, {&quot;x&quot;: -1.3625307193368577, &quot;y&quot;: -2.469595412473683, &quot;z&quot;: -0.024404174319051685}, {&quot;x&quot;: -1.415431365001206, &quot;y&quot;: -2.4390531792337007, &quot;z&quot;: -0.059671316498563894}, {&quot;x&quot;: -1.460825953469989, &quot;y&quot;: -2.412844574566688, &quot;z&quot;: -0.012474727430512929}, {&quot;x&quot;: -1.4099999309901947, &quot;y&quot;: -2.4421890223280256, &quot;z&quot;: 1.7267505782548986e-16}], &quot;faces&quot;: [[0, 1, 2], [0, 3, 1], [0, 4, 3], [0, 5, 4], [0, 2, 5], [2, 1, 6], [1, 3, 6], [3, 4, 6], [4, 5, 6], [5, 2, 6]], &quot;color&quot;: &quot;#000000&quot;, &quot;opacity&quot;: 1.0}, {&quot;vertices&quot;: [{&quot;x&quot;: -1.344115387476002, &quot;y&quot;: 0.776024587398579, &quot;z&quot;: 9.503567557275128e-17}, {&quot;x&quot;: -1.3366839478817056, &quot;y&quot;: 0.7888962315088213, &quot;z&quot;: 0.013382618706949567}, {&quot;x&quot;: -1.3354551378651403, &quot;y&quot;: 0.7910245950663303, &quot;z&quot;: -0.009999992332245737}, {&quot;x&quot;: -1.3481827548322467, &quot;y&quot;: 0.7689796932820498, &quot;z&quot;: 0.018270905551620868}, {&quot;x&quot;: -1.3540605983411893, &quot;y&quot;: 0.7587989592771777, &quot;z&quot;: -0.0020905780708085878}, {&quot;x&quot;: -1.3461944984597276, &quot;y&quot;: 0.7724234578585162, &quot;z&quot;: -0.01956295385551563}, {&quot;x&quot;: 0.007431439594296265, &quot;y&quot;: 0.012871644110242164, &quot;z&quot;: 0.013382618706949472}, {&quot;x&quot;: 0.008660249610861622, &quot;y&quot;: 0.015000007667751225, &quot;z&quot;: -0.009999992332245832}, {&quot;x&quot;: -0.004067367356244802, &quot;y&quot;: -0.007044894116529169, &quot;z&quot;: 0.018270905551620774}, {&quot;x&quot;: -0.009945210865187355, &quot;y&quot;: -0.017225628121401354, &quot;z&quot;: -0.0020905780708086828}, {&quot;x&quot;: -0.0020791109837257323, &quot;y&quot;: -0.0036011295400628683, &quot;z&quot;: -0.019562953855515725}, {&quot;x&quot;: 0.0, &quot;y&quot;: 0.0, &quot;z&quot;: 0.0}], &quot;faces&quot;: [[0, 1, 2], [0, 3, 1], [0, 4, 3], [0, 5, 4], [0, 2, 5], [2, 1, 6, 7], [1, 3, 8, 6], [3, 4, 9, 8], [4, 5, 10, 9], [5, 2, 7, 10], [7, 6, 11], [6, 8, 11], [8, 9, 11], [9, 10, 11], [10, 7, 11]], &quot;color&quot;: &quot;#0000ff&quot;, &quot;opacity&quot;: 1.0}, {&quot;vertices&quot;: [{&quot;x&quot;: -1.4999999999999998, &quot;y&quot;: 0.8660245183887916, &quot;z&quot;: 1.0605749676507746e-16}, {&quot;x&quot;: -1.321821068693113, &quot;y&quot;: 0.8146395197293055, &quot;z&quot;: 0.0401478561208485}, {&quot;x&quot;: -1.318134638643417, &quot;y&quot;: 0.8210246104018327, &quot;z&quot;: -0.029999976996737402}, {&quot;x&quot;: -1.3563174895447363, &quot;y&quot;: 0.7548899050489916, &quot;z&quot;: 0.05481271665486241}, {&quot;x&quot;: -1.3739510200715639, &quot;y&quot;: 0.724347703034375, &quot;z&quot;: -0.006271734212425948}, {&quot;x&quot;: -1.350352720427179, &quot;y&quot;: 0.7652211987783905, &quot;z&quot;: -0.058688861566547075}, {&quot;x&quot;: -1.344115387476002, &quot;y&quot;: 0.776024587398579, &quot;z&quot;: 9.503567557275128e-17}], &quot;faces&quot;: [[0, 1, 2], [0, 3, 1], [0, 4, 3], [0, 5, 4], [0, 2, 5], [2, 1, 6], [1, 3, 6], [3, 4, 6], [4, 5, 6], [5, 2, 6]], &quot;color&quot;: &quot;#0000ff&quot;, &quot;opacity&quot;: 1.0}, {&quot;vertices&quot;: [{&quot;x&quot;: 2.82, &quot;y&quot;: 0.0, &quot;z&quot;: 1.726751986797768e-16}, {&quot;x&quot;: 2.82, &quot;y&quot;: 0.006180339887498949, &quot;z&quot;: -0.0190211303259029}, {&quot;x&quot;: 2.82, &quot;y&quot;: 0.02, &quot;z&quot;: 1.726751986797768e-16}, {&quot;x&quot;: 2.82, &quot;y&quot;: -0.016180339887498948, &quot;z&quot;: -0.011755705045849291}, {&quot;x&quot;: 2.82, &quot;y&quot;: -0.01618033988749895, &quot;z&quot;: 0.011755705045849635}, {&quot;x&quot;: 2.82, &quot;y&quot;: 0.006180339887498945, &quot;z&quot;: 0.019021130325903246}, {&quot;x&quot;: 1.1647083184890924e-18, &quot;y&quot;: 0.006180339887498949, &quot;z&quot;: -0.019021130325903073}, {&quot;x&quot;: 0.0, &quot;y&quot;: 0.02, &quot;z&quot;: 0.0}, {&quot;x&quot;: 7.198293278059968e-19, &quot;y&quot;: -0.016180339887498948, &quot;z&quot;: -0.011755705045849465}, {&quot;x&quot;: -7.198293278059966e-19, &quot;y&quot;: -0.01618033988749895, &quot;z&quot;: 0.011755705045849461}, {&quot;x&quot;: -1.1647083184890924e-18, &quot;y&quot;: 0.006180339887498945, &quot;z&quot;: 0.019021130325903073}, {&quot;x&quot;: 0.0, &quot;y&quot;: 0.0, &quot;z&quot;: 0.0}], &quot;faces&quot;: [[0, 1, 2], [0, 3, 1], [0, 4, 3], [0, 5, 4], [0, 2, 5], [2, 1, 6, 7], [1, 3, 8, 6], [3, 4, 9, 8], [4, 5, 10, 9], [5, 2, 7, 10], [7, 6, 11], [6, 8, 11], [8, 9, 11], [9, 10, 11], [10, 7, 11]], &quot;color&quot;: &quot;#ff0000&quot;, &quot;opacity&quot;: 1.0}, {&quot;vertices&quot;: [{&quot;x&quot;: 3.0, &quot;y&quot;: 0.0, &quot;z&quot;: 1.8369701987210297e-16}, {&quot;x&quot;: 2.82, &quot;y&quot;: 0.018541019662496848, &quot;z&quot;: -0.05706339097770904}, {&quot;x&quot;: 2.82, &quot;y&quot;: 0.06, &quot;z&quot;: 1.726751986797768e-16}, {&quot;x&quot;: 2.82, &quot;y&quot;: -0.04854101966249684, &quot;z&quot;: -0.03526711513754822}, {&quot;x&quot;: 2.82, &quot;y&quot;: -0.048541019662496854, &quot;z&quot;: 0.03526711513754855}, {&quot;x&quot;: 2.82, &quot;y&quot;: 0.018541019662496834, &quot;z&quot;: 0.05706339097770939}, {&quot;x&quot;: 2.82, &quot;y&quot;: 0.0, &quot;z&quot;: 1.726751986797768e-16}], &quot;faces&quot;: [[0, 1, 2], [0, 3, 1], [0, 4, 3], [0, 5, 4], [0, 2, 5], [2, 1, 6], [1, 3, 6], [3, 4, 6], [4, 5, 6], [5, 2, 6]], &quot;color&quot;: &quot;#ff0000&quot;, &quot;opacity&quot;: 1.0}, {&quot;vertices&quot;: [{&quot;x&quot;: 0.0, &quot;y&quot;: 0.0, &quot;z&quot;: 0.8200000000000001}, {&quot;x&quot;: 0.019021130325903073, &quot;y&quot;: 0.006180339887498949, &quot;z&quot;: 0.8200000000000001}, {&quot;x&quot;: 0.0, &quot;y&quot;: 0.02, &quot;z&quot;: 0.8200000000000001}, {&quot;x&quot;: 0.011755705045849465, &quot;y&quot;: -0.016180339887498948, &quot;z&quot;: 0.8200000000000001}, {&quot;x&quot;: -0.011755705045849461, &quot;y&quot;: -0.01618033988749895, &quot;z&quot;: 0.8200000000000001}, {&quot;x&quot;: -0.019021130325903073, &quot;y&quot;: 0.006180339887498945, &quot;z&quot;: 0.8200000000000001}, {&quot;x&quot;: 0.019021130325903073, &quot;y&quot;: 0.006180339887498949, &quot;z&quot;: 0.0}, {&quot;x&quot;: 0.0, &quot;y&quot;: 0.02, &quot;z&quot;: 0.0}, {&quot;x&quot;: 0.011755705045849465, &quot;y&quot;: -0.016180339887498948, &quot;z&quot;: 0.0}, {&quot;x&quot;: -0.011755705045849461, &quot;y&quot;: -0.01618033988749895, &quot;z&quot;: 0.0}, {&quot;x&quot;: -0.019021130325903073, &quot;y&quot;: 0.006180339887498945, &quot;z&quot;: 0.0}, {&quot;x&quot;: 0.0, &quot;y&quot;: 0.0, &quot;z&quot;: 0.0}], &quot;faces&quot;: [[0, 1, 2], [0, 3, 1], [0, 4, 3], [0, 5, 4], [0, 2, 5], [2, 1, 6, 7], [1, 3, 8, 6], [3, 4, 9, 8], [4, 5, 10, 9], [5, 2, 7, 10], [7, 6, 11], [6, 8, 11], [8, 9, 11], [9, 10, 11], [10, 7, 11]], &quot;color&quot;: &quot;#000000&quot;, &quot;opacity&quot;: 1.0}, {&quot;vertices&quot;: [{&quot;x&quot;: 0.0, &quot;y&quot;: 0.0, &quot;z&quot;: 1.0}, {&quot;x&quot;: 0.05706339097770921, &quot;y&quot;: 0.018541019662496848, &quot;z&quot;: 0.8200000000000001}, {&quot;x&quot;: 0.0, &quot;y&quot;: 0.06, &quot;z&quot;: 0.8200000000000001}, {&quot;x&quot;: 0.03526711513754839, &quot;y&quot;: -0.04854101966249684, &quot;z&quot;: 0.8200000000000001}, {&quot;x&quot;: -0.03526711513754838, &quot;y&quot;: -0.048541019662496854, &quot;z&quot;: 0.8200000000000001}, {&quot;x&quot;: -0.05706339097770922, &quot;y&quot;: 0.018541019662496834, &quot;z&quot;: 0.8200000000000001}, {&quot;x&quot;: 0.0, &quot;y&quot;: 0.0, &quot;z&quot;: 0.8200000000000001}], &quot;faces&quot;: [[0, 1, 2], [0, 3, 1], [0, 4, 3], [0, 5, 4], [0, 2, 5], [2, 1, 6], [1, 3, 6], [3, 4, 6], [4, 5, 6], [5, 2, 6]], &quot;color&quot;: &quot;#000000&quot;, &quot;opacity&quot;: 1.0}, {&quot;vertices&quot;: [{&quot;x&quot;: 0.0, &quot;y&quot;: 1.576164503939234, &quot;z&quot;: 0.9099999309901952}, {&quot;x&quot;: 0.019021130325903073, &quot;y&quot;: 1.5792546762524504, &quot;z&quot;: 0.9046476010116119}, {&quot;x&quot;: 0.0, &quot;y&quot;: 1.5861645116069902, &quot;z&quot;: 0.8926794273414898}, {&quot;x&quot;: 0.011755705045849465, &quot;y&quot;: 1.5680743277921396, &quot;z&quot;: 0.9240125127931311}, {&quot;x&quot;: -0.011755705045849461, &quot;y&quot;: 1.5680743277921396, &quot;z&quot;: 0.9240125127931311}, {&quot;x&quot;: -0.019021130325903073, &quot;y&quot;: 1.5792546762524504, &quot;z&quot;: 0.9046476010116119}, {&quot;x&quot;: 0.019021130325903073, &quot;y&quot;: 0.0030901723132164276, &quot;z&quot;: -0.005352329978583268}, {&quot;x&quot;: 0.0, &quot;y&quot;: 0.01000000766775613, &quot;z&quot;: -0.017320503648705445}, {&quot;x&quot;: 0.011755705045849465, &quot;y&quot;: -0.008090176147094492, &quot;z&quot;: 0.014012581802935988}, {&quot;x&quot;: -0.011755705045849461, &quot;y&quot;: -0.008090176147094494, &quot;z&quot;: 0.014012581802935992}, {&quot;x&quot;: -0.019021130325903073, &quot;y&quot;: 0.0030901723132164254, &quot;z&quot;: -0.005352329978583264}, {&quot;x&quot;: 0.0, &quot;y&quot;: 0.0, &quot;z&quot;: 0.0}], &quot;faces&quot;: [[0, 1, 2], [0, 3, 1], [0, 4, 3], [0, 5, 4], [0, 2, 5], [2, 1, 6, 7], [1, 3, 8, 6], [3, 4, 9, 8], [4, 5, 10, 9], [5, 2, 7, 10], [7, 6, 11], [6, 8, 11], [8, 9, 11], [9, 10, 11], [10, 7, 11]], &quot;color&quot;: &quot;#0000ff&quot;, &quot;opacity&quot;: 1.0}, {&quot;vertices&quot;: [{&quot;x&quot;: 0.0, &quot;y&quot;: 1.732049036777583, &quot;z&quot;: 1.0000000000000004}, {&quot;x&quot;: 0.05706339097770921, &quot;y&quot;: 1.5854350208788832, &quot;z&quot;: 0.8939429410544454}, {&quot;x&quot;: 0.0, &quot;y&quot;: 1.6061645269425024, &quot;z&quot;: 0.8580384200440788}, {&quot;x&quot;: 0.03526711513754839, &quot;y&quot;: 1.5518939754979506, &quot;z&quot;: 0.9520376763990032}, {&quot;x&quot;: -0.03526711513754838, &quot;y&quot;: 1.5518939754979506, &quot;z&quot;: 0.9520376763990032}, {&quot;x&quot;: -0.05706339097770922, &quot;y&quot;: 1.5854350208788832, &quot;z&quot;: 0.8939429410544454}, {&quot;x&quot;: 0.0, &quot;y&quot;: 1.576164503939234, &quot;z&quot;: 0.9099999309901952}], &quot;faces&quot;: [[0, 1, 2], [0, 3, 1], [0, 4, 3], [0, 5, 4], [0, 2, 5], [2, 1, 6], [1, 3, 6], [3, 4, 6], [4, 5, 6], [5, 2, 6]], &quot;color&quot;: &quot;#0000ff&quot;, &quot;opacity&quot;: 1.0}, {&quot;vertices&quot;: [{&quot;x&quot;: 1.4251154337575573, &quot;y&quot;: 2.4683698143366453, &quot;z&quot;: 1.9001539116767432}, {&quot;x&quot;: 1.4408273399655989, &quot;y&quot;: 2.468818415778321, &quot;z&quot;: 1.8877872322494986}, {&quot;x&quot;: 1.4212590249126287, &quot;y&quot;: 2.481690325111366, &quot;z&quot;: 1.8857423849178843}, {&quot;x&quot;: 1.438682334667106, &quot;y&quot;: 2.4553265545002825, &quot;z&quot;: 1.9069224102215907}, {&quot;x&quot;: 1.4177883334336188, &quot;y&quot;: 2.459860034992001, &quot;z&quot;: 1.9167037532575077}, {&quot;x&quot;: 1.4070201358088341, &quot;y&quot;: 2.4761537413012564, &quot;z&quot;: 1.9036137777372344}, {&quot;x&quot;: 0.015711906208041478, &quot;y&quot;: 0.000448601441675623, &quot;z&quot;: -0.012366679427244578}, {&quot;x&quot;: -0.003856408844928674, &quot;y&quot;: 0.013320510774720736, &quot;z&quot;: -0.014411526758858848}, {&quot;x&quot;: 0.013566900909548783, &quot;y&quot;: -0.013043259836362996, &quot;z&quot;: 0.006768498544847615}, {&quot;x&quot;: -0.0073271003239384624, &quot;y&quot;: -0.008509779344644348, &quot;z&quot;: 0.01654984158076461}, {&quot;x&quot;: -0.018095297948723117, &quot;y&quot;: 0.007783926964610983, &quot;z&quot;: 0.003459866060491204}, {&quot;x&quot;: 0.0, &quot;y&quot;: 0.0, &quot;z&quot;: 0.0}], &quot;faces&quot;: [[0, 1, 2], [0, 3, 1], [0, 4, 3], [0, 5, 4], [0, 2, 5], [2, 1, 6, 7], [1, 3, 8, 6], [3, 4, 9, 8], [4, 5, 10, 9], [5, 2, 7, 10], [7, 6, 11], [6, 8, 11], [8, 9, 11], [9, 10, 11], [10, 7, 11]], &quot;color&quot;: &quot;#ff0000&quot;, &quot;opacity&quot;: 1.0}, {&quot;vertices&quot;: [{&quot;x&quot;: 1.4999999999999998, &quot;y&quot;: 2.598073555166375, &quot;z&quot;: 1.9999999999999998}, {&quot;x&quot;: 1.4722511523816817, &quot;y&quot;: 2.469715618661672, &quot;z&quot;: 1.8630538733950095}, {&quot;x&quot;: 1.4135462072227714, &quot;y&quot;: 2.5083313466608073, &quot;z&quot;: 1.8569193314001666}, {&quot;x&quot;: 1.4658161364862037, &quot;y&quot;: 2.4292400348275565, &quot;z&quot;: 1.920459407311286}, {&quot;x&quot;: 1.403134132785742, &quot;y&quot;: 2.4428404763027123, &quot;z&quot;: 1.949803436419037}, {&quot;x&quot;: 1.370829539911388, &quot;y&quot;: 2.4917215952304783, &quot;z&quot;: 1.9105335098582168}, {&quot;x&quot;: 1.4251154337575573, &quot;y&quot;: 2.4683698143366453, &quot;z&quot;: 1.9001539116767432}], &quot;faces&quot;: [[0, 1, 2], [0, 3, 1], [0, 4, 3], [0, 5, 4], [0, 2, 5], [2, 1, 6], [1, 3, 6], [3, 4, 6], [4, 5, 6], [5, 2, 6]], &quot;color&quot;: &quot;#ff0000&quot;, &quot;opacity&quot;: 1.0}, {&quot;vertices&quot;: [{&quot;x&quot;: 1.7320525783619818, &quot;y&quot;: 3.0, &quot;z&quot;: 1.0}, {&quot;x&quot;: 0.0, &quot;y&quot;: 3.0, &quot;z&quot;: 1.0}, {&quot;x&quot;: 0.0, &quot;y&quot;: 0.0, &quot;z&quot;: 1.0}], &quot;faces&quot;: [[1, 0, 2]], &quot;color&quot;: &quot;#d3d3d3&quot;, &quot;opacity&quot;: 0.3}];\n",
       "    for ( var i=0 ; i < surfaces.length ; i++ ) addSurface( surfaces[i] );\n",
       "\n",
       "    function addSurface( json ) {\n",
       "\n",
       "        var useFaceColors = 'faceColors' in json ? true : false;\n",
       "\n",
       "        var geometry = new THREE.Geometry();\n",
       "        for ( var i=0 ; i < json.vertices.length ; i++ ) {\n",
       "            var v = json.vertices[i];\n",
       "            geometry.vertices.push( new THREE.Vector3( a[0]*v.x, a[1]*v.y, a[2]*v.z ) );\n",
       "        }\n",
       "        for ( var i=0 ; i < json.faces.length ; i++ ) {\n",
       "            var f = json.faces[i];\n",
       "            for ( var j=0 ; j < f.length - 2 ; j++ ) {\n",
       "                var face = new THREE.Face3( f[0], f[j+1], f[j+2] );\n",
       "                if ( useFaceColors ) face.color.set( json.faceColors[i] );\n",
       "                geometry.faces.push( face );\n",
       "            }\n",
       "        }\n",
       "        geometry.computeVertexNormals();\n",
       "\n",
       "        var side = json.singleSide ? THREE.FrontSide : THREE.DoubleSide;\n",
       "        var transparent = json.opacity < 1 ? true : false;\n",
       "        var depthWrite = 'depthWrite' in json ? json.depthWrite : !transparent;\n",
       "        var flatShading = json.useFlatShading ? json.useFlatShading : false;\n",
       "\n",
       "        var material = new THREE.MeshPhongMaterial( { side: side,\n",
       "                                     color: useFaceColors ? 'white' : json.color,\n",
       "                                     vertexColors: useFaceColors ? THREE.FaceColors : THREE.NoColors,\n",
       "                                     transparent: transparent, opacity: json.opacity,\n",
       "                                     shininess: 20, flatShading: flatShading,\n",
       "                                     depthWrite: depthWrite } );\n",
       "\n",
       "        var c = new THREE.Vector3();\n",
       "        geometry.computeBoundingBox();\n",
       "        geometry.boundingBox.getCenter( c );\n",
       "        geometry.translate( -c.x, -c.y, -c.z );\n",
       "\n",
       "        var mesh = new THREE.Mesh( geometry, material );\n",
       "        mesh.position.set( c.x, c.y, c.z );\n",
       "        if ( transparent && json.renderOrder ) mesh.renderOrder = json.renderOrder;\n",
       "        mesh.userData = json;\n",
       "        scene.add( mesh );\n",
       "\n",
       "        if ( json.showMeshGrid ) addSurfaceMeshGrid( json );\n",
       "\n",
       "    }\n",
       "\n",
       "    function addSurfaceMeshGrid( json ) {\n",
       "\n",
       "        var geometry = new THREE.Geometry();\n",
       "\n",
       "        for ( var i=0 ; i < json.faces.length ; i++ ) {\n",
       "            var f = json.faces[i];\n",
       "            for ( var j=0 ; j < f.length ; j++ ) {\n",
       "                var k = j === f.length-1 ? 0 : j+1;\n",
       "                var v1 = json.vertices[f[j]];\n",
       "                var v2 = json.vertices[f[k]];\n",
       "                // vertices in opposite directions on neighboring faces\n",
       "                var nudge = f[j] < f[k] ? .0005*zRange : -.0005*zRange;\n",
       "                geometry.vertices.push( new THREE.Vector3( a[0]*v1.x, a[1]*v1.y, a[2]*(v1.z+nudge) ) );\n",
       "                geometry.vertices.push( new THREE.Vector3( a[0]*v2.x, a[1]*v2.y, a[2]*(v2.z+nudge) ) );\n",
       "            }\n",
       "        }\n",
       "\n",
       "        var c = new THREE.Vector3();\n",
       "        geometry.computeBoundingBox();\n",
       "        geometry.boundingBox.getCenter( c );\n",
       "        geometry.translate( -c.x, -c.y, -c.z );\n",
       "\n",
       "        var gridColor = options.theme === 'dark' ? 'white' : 'black';\n",
       "        var linewidth = json.linewidth || 1;\n",
       "        var materialOptions = { color: gridColor, linewidth: linewidth };\n",
       "\n",
       "        var mesh;\n",
       "        if ( linewidth > 1 && window.createFatLineSegments ) {\n",
       "            mesh = createFatLineSegments( geometry, materialOptions );\n",
       "        } else {\n",
       "            var material = new THREE.LineBasicMaterial( materialOptions );\n",
       "            mesh = new THREE.LineSegments( geometry, material );\n",
       "        }\n",
       "\n",
       "        mesh.position.set( c.x, c.y, c.z );\n",
       "        mesh.userData = json;\n",
       "        scene.add( mesh );\n",
       "\n",
       "    }\n",
       "\n",
       "    function render() {\n",
       "\n",
       "        if ( window.updateAnimation ) animate = updateAnimation();\n",
       "        if ( animate ) requestAnimationFrame( render );\n",
       "\n",
       "        renderer.render( scene, camera );\n",
       "\n",
       "    }\n",
       "\n",
       "    render();\n",
       "    controls.update();\n",
       "    if ( !animate ) render();\n",
       "\n",
       "\n",
       "    // menu functions\n",
       "\n",
       "    function toggleMenu() {\n",
       "\n",
       "        var m = document.getElementById( 'menu-content' );\n",
       "        if ( m.style.display === 'block' ) m.style.display = 'none'\n",
       "        else m.style.display = 'block';\n",
       "\n",
       "    }\n",
       "\n",
       "\n",
       "    function saveAsPNG() {\n",
       "\n",
       "        var a = document.body.appendChild( document.createElement( 'a' ) );\n",
       "        a.href = renderer.domElement.toDataURL( 'image/png' );\n",
       "        a.download = 'screenshot';\n",
       "        a.click();\n",
       "\n",
       "    }\n",
       "\n",
       "    function saveAsHTML() {\n",
       "\n",
       "        toggleMenu(); // otherwise visible in output\n",
       "        event.stopPropagation();\n",
       "\n",
       "        var blob = new Blob( [ '<!DOCTYPE html>\\n' + document.documentElement.outerHTML ] );\n",
       "        var a = document.body.appendChild( document.createElement( 'a' ) );\n",
       "        a.href = window.URL.createObjectURL( blob );\n",
       "        a.download = suggestFilename();\n",
       "        a.click();\n",
       "\n",
       "        function suggestFilename() {\n",
       "            if ( !document.title ) {\n",
       "                return 'graphic.html';\n",
       "            } else if ( /\\.html?$/i.test( document.title ) ) {\n",
       "                return document.title; // already ends in .htm or .html\n",
       "            } else {\n",
       "                return document.title + '.html';\n",
       "            }\n",
       "        }\n",
       "\n",
       "    }\n",
       "\n",
       "    function getViewpoint() {\n",
       "\n",
       "        function roundTo( x, n ) { return +x.toFixed(n); }\n",
       "\n",
       "        var v = camera.quaternion.inverse();\n",
       "        var r = Math.sqrt( v.x*v.x + v.y*v.y + v.z*v.z );\n",
       "        var axis = [ roundTo( v.x / r, 4 ), roundTo( v.y / r, 4 ), roundTo( v.z / r, 4 ) ];\n",
       "        var angle = roundTo( 2 * Math.atan2( r, v.w ) * 180 / Math.PI, 2 );\n",
       "\n",
       "        var textArea = document.createElement( 'textarea' );\n",
       "        textArea.textContent = JSON.stringify( axis ) + ',' + angle;\n",
       "        textArea.style.csstext = 'position: absolute; top: -100%';\n",
       "        document.body.append( textArea );\n",
       "        textArea.select();\n",
       "        document.execCommand( 'copy' );\n",
       "\n",
       "        var m = document.getElementById( 'menu-message' );\n",
       "        m.innerHTML = 'Viewpoint copied to clipboard';\n",
       "        m.style.display = 'block';\n",
       "        setTimeout( function() { m.style.display = 'none'; }, 2000 );\n",
       "\n",
       "    }\n",
       "\n",
       "    function getCamera() {\n",
       "\n",
       "        function roundTo( x, n ) { return +x.toFixed(n); }\n",
       "\n",
       "        var pos = camera.position;\n",
       "        var pos_r = [ roundTo( pos.x, 4 ), roundTo( pos.y, 4 ), roundTo( pos.z, 4 ) ];\n",
       "   //     var up = camera.up; // up is always (0,0,1)\n",
       "        var textArea = document.createElement('textarea');\n",
       "        var cam_position = JSON.stringify(pos_r);\n",
       "        textArea.textContent = ',camera_position=' + cam_position;\n",
       "        textArea.style.csstext = 'position: absolute; top: -100%';\n",
       "        document.body.append( textArea );\n",
       "        textArea.select();\n",
       "        document.execCommand( 'copy' );\n",
       "\n",
       "        var m = document.getElementById( 'menu-message' );\n",
       "        m.innerHTML = 'Camera position '+ cam_position+' copied to clipboard';\n",
       "        m.style.display = 'block';\n",
       "        setTimeout( function() { m.style.display = 'none'; }, 2000 );\n",
       "\n",
       "    }\n",
       "                                       \n",
       "</script>\n",
       "\n",
       "<div id=&quot;menu-container&quot; onclick=&quot;toggleMenu()&quot;>&#x24d8;\n",
       "<div id=&quot;menu-message&quot;></div>\n",
       "<div id=&quot;menu-content&quot;>\n",
       "<div onclick=&quot;saveAsPNG()&quot;>Save as PNG</div>\n",
       "<div onclick=&quot;saveAsHTML()&quot;>Save as HTML</div>\n",
       "<div onclick=&quot;getCamera()&quot;>Get camera</div>\n",
       "<div onclick=&quot;getViewpoint()&quot;>Get viewpoint</div>\n",
       "<div>Close Menu</div>\n",
       "</div></div>\n",
       "\n",
       "\n",
       "</body>\n",
       "</html>\n",
       "\"\n",
       "        width=\"100%\"\n",
       "        height=\"400\"\n",
       "        style=\"border: 0;\">\n",
       "</iframe>\n"
      ],
      "text/plain": [
       "Graphics3d Object"
      ]
     },
     "metadata": {},
     "output_type": "display_data"
    }
   ],
   "source": [
    "L = RootSystem([\"G\", 2, 1]).ambient_space()\n",
    "p = L.plot(affine=False, level=1)\n",
    "p.show(aspect_ratio=[1, 1, 2], frame=False)"
   ]
  },
  {
   "cell_type": "markdown",
   "metadata": {},
   "source": [
    "### Number Theory"
   ]
  },
  {
   "cell_type": "code",
   "execution_count": 30,
   "metadata": {},
   "outputs": [
    {
     "data": {
      "image/png": "[encoded data removed]",
      "text/plain": [
       "Graphics object consisting of 2 graphics primitives"
      ]
     },
     "execution_count": 30,
     "metadata": {},
     "output_type": "execute_result"
    }
   ],
   "source": [
    "E = EllipticCurve('389a')\n",
    "plot(E, thickness=3)"
   ]
  },
  {
   "cell_type": "markdown",
   "metadata": {},
   "source": [
    "### Games\n",
    "\n",
    "Sudoku solver:"
   ]
  },
  {
   "cell_type": "code",
   "execution_count": null,
   "metadata": {},
   "outputs": [],
   "source": [
    "S = Sudoku('5...8..49...5...3..673....115..........2.8..........187....415..3...2...49..5...3'); S"
   ]
  },
  {
   "cell_type": "code",
   "execution_count": null,
   "metadata": {},
   "outputs": [],
   "source": [
    "list(S.solve())"
   ]
  },
  {
   "cell_type": "markdown",
   "metadata": {},
   "source": [
    "## Help system\n",
    "\n",
    "We review the three main ways to get help in Sage:\n",
    "\n",
    "- navigating through the documentation  \n",
    "- tab-completion,  \n",
    "- contextual help.  "
   ]
  },
  {
   "cell_type": "markdown",
   "metadata": {},
   "source": [
    "### Navigating through the documentation\n",
    "\n",
    "The Help menu gives access to the HTML documentation for Sage\n",
    "(and other pieces of software). This includes the Sage tutorial,\n",
    "the Sage thematic tutorials, and the Sage reference manual.\n",
    "This documentation is also available online from Sage’s web site\n",
    "[https://www.sagemath.org](https://www.sagemath.org) ."
   ]
  },
  {
   "cell_type": "markdown",
   "metadata": {},
   "source": [
    "### Completion and contextual documentation\n",
    "\n",
    "Start typing something and press the Tab key. The interface tries to\n",
    "complete it with a command name. If there is more than one completion, then\n",
    "they are all presented to you. Remember that Sage is case sensitive, i.e. it\n",
    "differentiates upper case from lower case. Hence the Tab completion of\n",
    "klein won’t show you the KleinFourGroup command that builds the group\n",
    "$ \\ZZ/2 \\times \\ZZ/2 $ as a permutation group. Try pressing the Tab\n",
    "key in the following cells:\n",
    "\n",
    "skip"
   ]
  },
  {
   "cell_type": "code",
   "execution_count": null,
   "metadata": {},
   "outputs": [],
   "source": [
    "klein"
   ]
  },
  {
   "cell_type": "code",
   "execution_count": null,
   "metadata": {},
   "outputs": [],
   "source": [
    "Klein"
   ]
  },
  {
   "cell_type": "markdown",
   "metadata": {},
   "source": [
    "To see documentation and examples for a command, type a question mark\n",
    "? at the end of the command name and evaluate the cell:\n",
    "\n",
    "skip"
   ]
  },
  {
   "cell_type": "code",
   "execution_count": null,
   "metadata": {},
   "outputs": [],
   "source": [
    "KleinFourGroup?"
   ]
  },
  {
   "cell_type": "code",
   "execution_count": null,
   "metadata": {},
   "outputs": [],
   "source": []
  },
  {
   "cell_type": "markdown",
   "metadata": {},
   "source": [
    "#### Exercise A\n",
    "\n",
    "What is the largest prime factor of $ 600851475143 $?\n",
    "\n",
    "skip"
   ]
  },
  {
   "cell_type": "code",
   "execution_count": null,
   "metadata": {},
   "outputs": [],
   "source": [
    "factor?"
   ]
  },
  {
   "cell_type": "code",
   "execution_count": null,
   "metadata": {},
   "outputs": [],
   "source": []
  },
  {
   "cell_type": "markdown",
   "metadata": {},
   "source": [
    "### Digression: assignments and methods\n",
    "\n",
    "In the above manipulations we did not store any data for\n",
    "later use. This can be done in Sage with the = symbol as in:"
   ]
  },
  {
   "cell_type": "code",
   "execution_count": null,
   "metadata": {},
   "outputs": [],
   "source": [
    "a = 3\n",
    "b = 2\n",
    "a + b"
   ]
  },
  {
   "cell_type": "markdown",
   "metadata": {},
   "source": [
    "This can be understood as Sage evaluating the expression to the right\n",
    "of the = sign and creating the appropriate object, and then\n",
    "associating that object with a label, given by the left-hand side (see\n",
    "the foreword of [Tutorial: Objects and Classes in Python and Sage](http://doc.sagemath.org/html/en/thematic_tutorials/tutorial-objects-and-classes.html#tutorial-objects-and-classes) for\n",
    "details). Multiple assignments can be done at once:"
   ]
  },
  {
   "cell_type": "code",
   "execution_count": null,
   "metadata": {},
   "outputs": [],
   "source": [
    "a, b = 2, 3\n",
    "a"
   ]
  },
  {
   "cell_type": "code",
   "execution_count": null,
   "metadata": {},
   "outputs": [],
   "source": [
    "b"
   ]
  },
  {
   "cell_type": "markdown",
   "metadata": {},
   "source": [
    "This allows us to swap the values of two variables directly:"
   ]
  },
  {
   "cell_type": "code",
   "execution_count": null,
   "metadata": {},
   "outputs": [],
   "source": [
    "a, b = 2, 3\n",
    "a, b = b, a\n",
    "a, b"
   ]
  },
  {
   "cell_type": "markdown",
   "metadata": {},
   "source": [
    "We can also assign a common value to several variables simultaneously:"
   ]
  },
  {
   "cell_type": "code",
   "execution_count": null,
   "metadata": {},
   "outputs": [],
   "source": [
    "c = d = 1\n",
    "c, d"
   ]
  },
  {
   "cell_type": "code",
   "execution_count": null,
   "metadata": {},
   "outputs": [],
   "source": [
    "d = 2\n",
    "c, d"
   ]
  },
  {
   "cell_type": "markdown",
   "metadata": {},
   "source": [
    "Note that when we use the word *variable* in the computer-science sense we\n",
    "mean “a label attached to some data stored by Sage”. Once an object is\n",
    "created, some *methods* apply to it. This means *functions* but instead of\n",
    "writing **f(my_object)** you write **my_object.f()**:"
   ]
  },
  {
   "cell_type": "code",
   "execution_count": null,
   "metadata": {},
   "outputs": [],
   "source": [
    "p = 17\n",
    "p.is_prime()"
   ]
  },
  {
   "cell_type": "markdown",
   "metadata": {},
   "source": [
    "See [Tutorial: Objects and Classes in Python and Sage](http://doc.sagemath.org/html/en/thematic_tutorials/tutorial-objects-and-classes.html#tutorial-objects-and-classes) for details."
   ]
  },
  {
   "cell_type": "markdown",
   "metadata": {},
   "source": [
    "### Method discovery with tab-completion\n",
    "\n",
    "\n",
    "<a id='index-2'></a>"
   ]
  },
  {
   "cell_type": "markdown",
   "metadata": {},
   "source": [
    "### Todo\n",
    "\n",
    "Replace the examples below by less specialized ones\n",
    "\n",
    "To know all methods of an object you can once more use tab-completion.\n",
    "Write the name of the object followed by a dot and then press Tab:\n",
    "\n",
    "skip"
   ]
  },
  {
   "cell_type": "code",
   "execution_count": null,
   "metadata": {},
   "outputs": [],
   "source": [
    "a."
   ]
  },
  {
   "cell_type": "markdown",
   "metadata": {},
   "source": [
    "#### Exercise B\n",
    "\n",
    "Create the permutation 51324 and assign it to the variable p.\n",
    "\n",
    "skip"
   ]
  },
  {
   "cell_type": "code",
   "execution_count": null,
   "metadata": {},
   "outputs": [],
   "source": [
    "Permutation?"
   ]
  },
  {
   "cell_type": "code",
   "execution_count": null,
   "metadata": {},
   "outputs": [],
   "source": []
  },
  {
   "cell_type": "markdown",
   "metadata": {},
   "source": [
    "What is the inverse of p?\n",
    "\n",
    "skip"
   ]
  },
  {
   "cell_type": "code",
   "execution_count": null,
   "metadata": {},
   "outputs": [],
   "source": [
    "p.inv"
   ]
  },
  {
   "cell_type": "code",
   "execution_count": null,
   "metadata": {},
   "outputs": [],
   "source": []
  },
  {
   "cell_type": "markdown",
   "metadata": {},
   "source": [
    "Does p have the pattern 123? What about 1234? And 312? (even if you don’t\n",
    "know what a pattern is, you should be able to find a command that does this).\n",
    "\n",
    "skip"
   ]
  },
  {
   "cell_type": "code",
   "execution_count": null,
   "metadata": {},
   "outputs": [],
   "source": [
    "p.pat"
   ]
  },
  {
   "cell_type": "code",
   "execution_count": null,
   "metadata": {},
   "outputs": [],
   "source": []
  },
  {
   "cell_type": "markdown",
   "metadata": {},
   "source": [
    "## Exercises"
   ]
  },
  {
   "cell_type": "markdown",
   "metadata": {},
   "source": [
    "### Linear algebra"
   ]
  },
  {
   "cell_type": "markdown",
   "metadata": {},
   "source": [
    "#### Exercise C\n",
    "\n",
    "Use the matrix() command to create the following matrix.\n",
    "\n",
    "$$\n",
    "M = \\left(\\begin{array}{rrrr}\n",
    "10 & 4 & 1 & 1 \\\\\n",
    "4 & 6 & 5 & 1 \\\\\n",
    "1 & 5 & 6 & 4 \\\\\n",
    "1 & 1 & 4 & 10\n",
    "\\end{array}\\right)\n",
    "$$\n",
    "\n",
    "skip"
   ]
  },
  {
   "cell_type": "code",
   "execution_count": null,
   "metadata": {},
   "outputs": [],
   "source": [
    "matrix?"
   ]
  },
  {
   "cell_type": "code",
   "execution_count": null,
   "metadata": {},
   "outputs": [],
   "source": []
  },
  {
   "cell_type": "markdown",
   "metadata": {},
   "source": [
    "Then, using methods of the matrix,\n",
    "\n",
    "1. Compute the determinant of the matrix.  \n",
    "1. Compute the echelon form of the matrix.  \n",
    "1. Compute the eigenvalues of the matrix.  \n",
    "1. Compute the kernel of the matrix.  \n",
    "1. Compute the LLL decomposition of the matrix (and lookup the\n",
    "   documentation for what LLL is if needed!)  "
   ]
  },
  {
   "cell_type": "code",
   "execution_count": null,
   "metadata": {},
   "outputs": [],
   "source": []
  },
  {
   "cell_type": "code",
   "execution_count": null,
   "metadata": {},
   "outputs": [],
   "source": []
  },
  {
   "cell_type": "markdown",
   "metadata": {},
   "source": [
    "Now that you know how to access the different methods of matrices,\n",
    "\n",
    "1. Create the vector $ v = (1, -1, -1, 1) $.  \n",
    "1. Compute the two products: $ M \\cdot v $ and $ v \\cdot M $. What mathematically\n",
    "   borderline operation is Sage doing implicitly?  \n",
    "\n",
    "\n",
    "skip"
   ]
  },
  {
   "cell_type": "code",
   "execution_count": null,
   "metadata": {},
   "outputs": [],
   "source": [
    "vector?"
   ]
  },
  {
   "cell_type": "code",
   "execution_count": null,
   "metadata": {},
   "outputs": [],
   "source": []
  },
  {
   "cell_type": "markdown",
   "metadata": {},
   "source": [
    "Vectors in Sage can be used as row vectors or column vectors.\n",
    "A method such as eigenspaces might not\n",
    "return what you expect, so it is best to specify eigenspaces_left or\n",
    "eigenspaces_right instead. Same thing for kernel (left_kernel or\n",
    "right_kernel), and so on."
   ]
  },
  {
   "cell_type": "markdown",
   "metadata": {},
   "source": [
    "### Plotting\n",
    "\n",
    "The plot() command allows you to draw plots of functions. Recall\n",
    "that you can access the documentation by pressing the Tab key\n",
    "after writing plot? in a cell:\n",
    "\n",
    "skip"
   ]
  },
  {
   "cell_type": "code",
   "execution_count": null,
   "metadata": {},
   "outputs": [],
   "source": [
    "plot?"
   ]
  },
  {
   "cell_type": "code",
   "execution_count": null,
   "metadata": {},
   "outputs": [],
   "source": []
  },
  {
   "cell_type": "markdown",
   "metadata": {},
   "source": [
    "Here is a simple example:"
   ]
  },
  {
   "cell_type": "code",
   "execution_count": null,
   "metadata": {},
   "outputs": [],
   "source": [
    "var('x')   # make sure x is a symbolic variable"
   ]
  },
  {
   "cell_type": "code",
   "execution_count": null,
   "metadata": {},
   "outputs": [],
   "source": [
    "plot(sin(x^2), (x, 0, 10))"
   ]
  },
  {
   "cell_type": "markdown",
   "metadata": {},
   "source": [
    "Here is a more complicated plot. Try to change every single input to the plot\n",
    "command in some way, evaluating to see what happens:"
   ]
  },
  {
   "cell_type": "code",
   "execution_count": null,
   "metadata": {},
   "outputs": [],
   "source": [
    "P = plot(sin(x^2), (x, -2, 2), rgbcolor=(0.8, 0, 0.2), thickness=3, linestyle='--', fill='axis')\n",
    "show(P, gridlines=True)"
   ]
  },
  {
   "cell_type": "markdown",
   "metadata": {},
   "source": [
    "Above we used the show() command to show a plot after it was created. You can\n",
    "also use P.show instead:"
   ]
  },
  {
   "cell_type": "code",
   "execution_count": null,
   "metadata": {},
   "outputs": [],
   "source": [
    "P.show(gridlines=True)"
   ]
  },
  {
   "cell_type": "markdown",
   "metadata": {},
   "source": [
    "Try putting the cursor right after P.show( and pressing Tab to get a list of\n",
    "the options for how you can change the values of the given inputs.\n",
    "\n",
    "skip"
   ]
  },
  {
   "cell_type": "code",
   "execution_count": null,
   "metadata": {},
   "outputs": [],
   "source": [
    "P.show("
   ]
  },
  {
   "cell_type": "markdown",
   "metadata": {},
   "source": [
    "Plotting multiple functions at once is as easy as adding the plots together:"
   ]
  },
  {
   "cell_type": "code",
   "execution_count": null,
   "metadata": {},
   "outputs": [],
   "source": [
    "P1 = plot(sin(x), (x, 0, 2*pi))\n",
    "P2 = plot(cos(x), (x, 0, 2*pi), rgbcolor='red')\n",
    "P1 + P2"
   ]
  },
  {
   "cell_type": "markdown",
   "metadata": {},
   "source": [
    "### Symbolic Expressions\n",
    "\n",
    "Here is an example of a symbolic function:"
   ]
  },
  {
   "cell_type": "code",
   "execution_count": null,
   "metadata": {},
   "outputs": [],
   "source": [
    "f(x) = x^4 - 8*x^2 - 3*x + 2\n",
    "f(x)"
   ]
  },
  {
   "cell_type": "code",
   "execution_count": null,
   "metadata": {},
   "outputs": [],
   "source": [
    "f(-3)"
   ]
  },
  {
   "cell_type": "markdown",
   "metadata": {},
   "source": [
    "This is an example of a function in the *mathematical* variable $ x $. When Sage\n",
    "starts, it defines the symbol $ x $ to be a mathematical variable. If you want\n",
    "to use other symbols for variables, you must define them first:"
   ]
  },
  {
   "cell_type": "code",
   "execution_count": null,
   "metadata": {},
   "outputs": [],
   "source": [
    "x^2"
   ]
  },
  {
   "cell_type": "code",
   "execution_count": null,
   "metadata": {},
   "outputs": [],
   "source": [
    "u + v"
   ]
  },
  {
   "cell_type": "code",
   "execution_count": null,
   "metadata": {},
   "outputs": [],
   "source": [
    "var('u v')"
   ]
  },
  {
   "cell_type": "code",
   "execution_count": null,
   "metadata": {},
   "outputs": [],
   "source": [
    "u + v"
   ]
  },
  {
   "cell_type": "markdown",
   "metadata": {},
   "source": [
    "Still, it is possible to define symbolic functions without first\n",
    "defining their variables:"
   ]
  },
  {
   "cell_type": "code",
   "execution_count": null,
   "metadata": {},
   "outputs": [],
   "source": [
    "f(w) = w^2\n",
    "f(3)"
   ]
  },
  {
   "cell_type": "markdown",
   "metadata": {},
   "source": [
    "In this case those variables are defined implicitly:"
   ]
  },
  {
   "cell_type": "code",
   "execution_count": null,
   "metadata": {},
   "outputs": [],
   "source": [
    "w"
   ]
  },
  {
   "cell_type": "markdown",
   "metadata": {},
   "source": [
    "#### Exercise D\n",
    "\n",
    "Define the symbolic function $ f(x) = x \\sin(x^2) $. Plot $ f $ on the\n",
    "domain $ [-3, 3] $ and color it red. Use the find_root() method to\n",
    "numerically approximate the root of $ f $ on the interval $ [1, 2] $:"
   ]
  },
  {
   "cell_type": "code",
   "execution_count": null,
   "metadata": {},
   "outputs": [],
   "source": []
  },
  {
   "cell_type": "markdown",
   "metadata": {},
   "source": [
    "Compute the tangent line to $ f $ at $ x = 1 $:"
   ]
  },
  {
   "cell_type": "code",
   "execution_count": null,
   "metadata": {},
   "outputs": [],
   "source": []
  },
  {
   "cell_type": "markdown",
   "metadata": {},
   "source": [
    "Plot $ f $ and the tangent line to $ f $ at $ x = 1 $ in one image:"
   ]
  },
  {
   "cell_type": "code",
   "execution_count": null,
   "metadata": {},
   "outputs": [],
   "source": []
  },
  {
   "cell_type": "markdown",
   "metadata": {},
   "source": [
    "#### Exercise E (Advanced)\n",
    "\n",
    "\n",
    "    Solve the following equation for :$ y $\n",
    "\n",
    "$$\n",
    "y = 1 + x y^2\n",
    "$$\n",
    "\n",
    "There are two solutions, take the one for which $ \\lim_{x\\to0} y(x) = 1 $.\n",
    "(Don’t forget to create the variables $ x $ and $ y $!)."
   ]
  },
  {
   "cell_type": "code",
   "execution_count": null,
   "metadata": {},
   "outputs": [],
   "source": []
  },
  {
   "cell_type": "markdown",
   "metadata": {},
   "source": [
    "Expand $ y $ as a truncated Taylor series around $ 0 $ containing\n",
    "$ n = 10 $ terms."
   ]
  },
  {
   "cell_type": "code",
   "execution_count": null,
   "metadata": {},
   "outputs": [],
   "source": []
  },
  {
   "cell_type": "markdown",
   "metadata": {},
   "source": [
    "Do you recognize the coefficients of the Taylor series expansion? You might\n",
    "want to use the [On-Line Encyclopedia of Integer Sequences](#On-Line-Encyclopedia-of-Integer-Sequences), or better yet, Sage’s class OEIS which\n",
    "queries the encyclopedia:\n",
    "\n",
    "skip"
   ]
  },
  {
   "cell_type": "code",
   "execution_count": null,
   "metadata": {},
   "outputs": [],
   "source": [
    "oeis?"
   ]
  },
  {
   "cell_type": "code",
   "execution_count": null,
   "metadata": {},
   "outputs": [],
   "source": []
  },
  {
   "cell_type": "markdown",
   "metadata": {},
   "source": [
    "Congratulations for completing your first Sage tutorial!"
   ]
  },
  {
   "cell_type": "markdown",
   "metadata": {},
   "source": [
    "## Exploring further"
   ]
  },
  {
   "cell_type": "markdown",
   "metadata": {},
   "source": [
    "### Accessing Sage\n",
    "\n",
    "- The [Sage cell service](sagecell.sagemath.org) lets you evaluate\n",
    "  individual Sage commands.  \n",
    "- In general, Sage computations can be embedded in any web page using\n",
    "  [Thebelab](https://sage-package.readthedocs.io/en/latest/sage_package/thebe.html)\n",
    "  or the [Sage-cell server](https://sagecell.sagemath.org/).  \n",
    "- [Binder](https://mybinder.org) is a service that lets you run\n",
    "Jupyter online on top of an arbitrary software stack. Sessions are\n",
    "free, anonymous, and temporary. You can use one of the existing\n",
    "repositories, or create your own.  \n",
    "\n",
    "<a id='index-3'></a>"
   ]
  },
  {
   "cell_type": "markdown",
   "metadata": {},
   "source": [
    "### Todo\n",
    "\n",
    "add links about both  \n",
    "- [Cocalc](https://cocalc.com) (Collaborative Calculation in the Cloud) is an online\n",
    "  service that gives access to a wealth of computational systems,\n",
    "  including Sage, with extra goodies for teaching. It’s free for basic\n",
    "  usage.  \n",
    "- [JupyterHub](https://jupyter.org/hub) lets you (or your\n",
    "  institution or …) deploy a multi-user Jupyter service.  \n",
    "- The [Sage Debian Live](https://sagedebianlive.metelu.net/) USB key\n",
    "  let’s you run Linux with Sage and many other goodies on your\n",
    "  computer without having to install them.  \n",
    "- Sage can be\n",
    "  [installed on most major operating systems](https://doc.sagemath.org/html/en/installation/)\n",
    "  (Linux, macOS, Windows), through usual package managers or installers,\n",
    "  or by compiling from source.  "
   ]
  },
  {
   "cell_type": "markdown",
   "metadata": {},
   "source": [
    "### Ways to use Sage\n",
    "\n",
    "There are many ways beyond the Jupyter Notebook to use Sage:\n",
    "interactive command line, program scripts, …\n",
    "See the [Sage tutorial](https://doc.sagemath.org/html/en/tutorial/introduction.html#ways-to-use-sage).\n",
    "\n",
    "Sage used to have its own legacy notebook system, which has been\n",
    "phased out in favor of Jupyter. If you have old notebooks, here is\n",
    "[how to migrate them](https://doc.sagemath.org/html/en/prep/Logging-On.html#the-export-screen-and-jupyter-notebook)."
   ]
  },
  {
   "cell_type": "markdown",
   "metadata": {},
   "source": [
    "### Resources\n",
    "\n",
    "- Sage’s web page: [https://www.sagemath.org](https://www.sagemath.org)  \n",
    "- Ask Sage: [https://ask.sagemath.org](https://ask.sagemath.org)  \n",
    "- Bug Tracker: [https://trac.sagemath.org](https://trac.sagemath.org)  \n",
    "- The open book [Computational Mathematics with Sage](http://sagebook.gforge.inria.fr/english.html)\n",
    "  (originally written in [French](http://sagebook.gforge.inria.fr/); also translated in [German](http://www.loria.fr/~zimmerma/sagebook/CalculDeutsch.pdf/))  \n",
    "- :ref:`Sage's main tutorial <tutorial>`_  \n",
    "- [Sage’s official thematic tutorials](https://doc.sagemath.org/html/en/thematic_tutorials/index.html)  \n",
    "- [More Sage tutorials](https://more-sagemath-tutorials.readthedocs.io/)  \n",
    "- [Sage’s quick reference cards](https://wiki.sagemath.org/quickref)  "
   ]
  }
 ],
 "metadata": {
  "kernelspec": {
   "display_name": "SageMath 9.4",
   "language": "sage",
   "name": "sagemath"
  },
  "language_info": {
   "codemirror_mode": {
    "name": "ipython",
    "version": 3
   },
   "file_extension": ".py",
   "mimetype": "text/x-python",
   "name": "python",
   "nbconvert_exporter": "python",
   "pygments_lexer": "ipython3",
   "version": "3.7.12"
  }
 },
 "nbformat": 4,
 "nbformat_minor": 4
}
